{
 "cells": [
  {
   "cell_type": "code",
   "execution_count": 46,
   "metadata": {},
   "outputs": [],
   "source": [
    "import numpy as np\n",
    "from pandas import DataFrame\n",
    "import matplotlib.pyplot as plt\n",
    "from math import *"
   ]
  },
  {
   "cell_type": "markdown",
   "metadata": {},
   "source": [
    "# Pendulum Experiment\n",
    "\n",
    "\n",
    "\n",
    "\n",
    "\n"
   ]
  },
  {
   "cell_type": "code",
   "execution_count": 189,
   "metadata": {},
   "outputs": [],
   "source": [
    "string = \"21.9\t22.1\t22.2 25.4\t25.32\t25.7 28.6\t28.64\t28.68 31.11\t31.15\t31.07 33.47\t33.42\t33.49 35.92\t35.84\t35.89\".replace(\" \", \",\").replace(\"\\t\", \",\")"
   ]
  },
  {
   "cell_type": "code",
   "execution_count": 190,
   "metadata": {},
   "outputs": [],
   "source": [
    "data = np.array([float(sub) for sub in string.split(',')])\n",
    "data = data.reshape((6, 3))"
   ]
  },
  {
   "cell_type": "code",
   "execution_count": 191,
   "metadata": {},
   "outputs": [],
   "source": [
    "results = np.zeros((3, 6))\n",
    "for i in range(3):\n",
    "    results[i] += np.take(data, i, axis=1)\n",
    "results= results.T"
   ]
  },
  {
   "cell_type": "code",
   "execution_count": 192,
   "metadata": {},
   "outputs": [
    {
     "data": {
      "text/plain": [
       "array([[21.9 , 22.1 , 22.2 ],\n",
       "       [25.4 , 25.32, 25.7 ],\n",
       "       [28.6 , 28.64, 28.68],\n",
       "       [31.11, 31.15, 31.07],\n",
       "       [33.47, 33.42, 33.49],\n",
       "       [35.92, 35.84, 35.89]])"
      ]
     },
     "execution_count": 192,
     "metadata": {},
     "output_type": "execute_result"
    }
   ],
   "source": [
    "results"
   ]
  },
  {
   "cell_type": "code",
   "execution_count": 193,
   "metadata": {},
   "outputs": [],
   "source": [
    "averages = np.zeros(6)\n",
    "for i in range(6):\n",
    "    averages[i] = np.average(np.take(results, i, 0))"
   ]
  },
  {
   "cell_type": "code",
   "execution_count": 194,
   "metadata": {},
   "outputs": [
    {
     "name": "stdout",
     "output_type": "stream",
     "text": [
      "Averages\n",
      "22.06667\n",
      "25.47333\n",
      "28.64\n",
      "31.11\n",
      "33.46\n",
      "35.88333\n",
      "\n",
      "Period\n",
      "1.10333\n",
      "1.27367\n",
      "1.432\n",
      "1.5555\n",
      "1.673\n",
      "1.79417\n",
      "\n",
      "Period squared\n",
      "1.21734\n",
      "1.62223\n",
      "2.05062\n",
      "2.41958\n",
      "2.79893\n",
      "3.21903\n"
     ]
    },
    {
     "data": {
      "text/plain": [
       "(None, None, None, None, None, None)"
      ]
     },
     "execution_count": 194,
     "metadata": {},
     "output_type": "execute_result"
    }
   ],
   "source": [
    "print(\"Averages\")\n",
    "tuple(print(round(num, 5)) for num in averages)\n",
    "print(\"\\nPeriod\")\n",
    "tuple(print(round(num/20, 5)) for num in averages)\n",
    "print(\"\\nPeriod squared\")\n",
    "tuple(print(round((num/20)**2, 5)) for num in averages)\n"
   ]
  },
  {
   "cell_type": "code",
   "execution_count": 294,
   "metadata": {},
   "outputs": [],
   "source": [
    "frame = DataFrame(results, columns=(\"t1\",\"t2\",\"t3\"))\n",
    "lengths = [30, 40, 50, 60, 70, 80]\n",
    "\n",
    "vecf = np.vectorize(lambda t : round(t, 2))\n",
    "frame[\"Average\"] = vecf(averages)\n",
    "frame[\"Period\"] = vecf(averages/20)\n",
    "frame[\"Lengths\"] = lengths\n",
    "frame[\"Period Squared\"] = vecf((averages/20) ** 2)"
   ]
  },
  {
   "cell_type": "code",
   "execution_count": 295,
   "metadata": {},
   "outputs": [
    {
     "data": {
      "text/html": [
       "<div>\n",
       "<style scoped>\n",
       "    .dataframe tbody tr th:only-of-type {\n",
       "        vertical-align: middle;\n",
       "    }\n",
       "\n",
       "    .dataframe tbody tr th {\n",
       "        vertical-align: top;\n",
       "    }\n",
       "\n",
       "    .dataframe thead th {\n",
       "        text-align: right;\n",
       "    }\n",
       "</style>\n",
       "<table border=\"1\" class=\"dataframe\">\n",
       "  <thead>\n",
       "    <tr style=\"text-align: right;\">\n",
       "      <th></th>\n",
       "      <th>t1</th>\n",
       "      <th>t2</th>\n",
       "      <th>t3</th>\n",
       "      <th>Average</th>\n",
       "      <th>Period</th>\n",
       "      <th>Lengths</th>\n",
       "      <th>Period Squared</th>\n",
       "    </tr>\n",
       "  </thead>\n",
       "  <tbody>\n",
       "    <tr>\n",
       "      <th>0</th>\n",
       "      <td>21.90</td>\n",
       "      <td>22.10</td>\n",
       "      <td>22.20</td>\n",
       "      <td>22.07</td>\n",
       "      <td>1.10</td>\n",
       "      <td>30</td>\n",
       "      <td>1.22</td>\n",
       "    </tr>\n",
       "    <tr>\n",
       "      <th>1</th>\n",
       "      <td>25.40</td>\n",
       "      <td>25.32</td>\n",
       "      <td>25.70</td>\n",
       "      <td>25.47</td>\n",
       "      <td>1.27</td>\n",
       "      <td>40</td>\n",
       "      <td>1.62</td>\n",
       "    </tr>\n",
       "    <tr>\n",
       "      <th>2</th>\n",
       "      <td>28.60</td>\n",
       "      <td>28.64</td>\n",
       "      <td>28.68</td>\n",
       "      <td>28.64</td>\n",
       "      <td>1.43</td>\n",
       "      <td>50</td>\n",
       "      <td>2.05</td>\n",
       "    </tr>\n",
       "    <tr>\n",
       "      <th>3</th>\n",
       "      <td>31.11</td>\n",
       "      <td>31.15</td>\n",
       "      <td>31.07</td>\n",
       "      <td>31.11</td>\n",
       "      <td>1.56</td>\n",
       "      <td>60</td>\n",
       "      <td>2.42</td>\n",
       "    </tr>\n",
       "    <tr>\n",
       "      <th>4</th>\n",
       "      <td>33.47</td>\n",
       "      <td>33.42</td>\n",
       "      <td>33.49</td>\n",
       "      <td>33.46</td>\n",
       "      <td>1.67</td>\n",
       "      <td>70</td>\n",
       "      <td>2.80</td>\n",
       "    </tr>\n",
       "    <tr>\n",
       "      <th>5</th>\n",
       "      <td>35.92</td>\n",
       "      <td>35.84</td>\n",
       "      <td>35.89</td>\n",
       "      <td>35.88</td>\n",
       "      <td>1.79</td>\n",
       "      <td>80</td>\n",
       "      <td>3.22</td>\n",
       "    </tr>\n",
       "  </tbody>\n",
       "</table>\n",
       "</div>"
      ],
      "text/plain": [
       "      t1     t2     t3  Average  Period  Lengths  Period Squared\n",
       "0  21.90  22.10  22.20    22.07    1.10       30            1.22\n",
       "1  25.40  25.32  25.70    25.47    1.27       40            1.62\n",
       "2  28.60  28.64  28.68    28.64    1.43       50            2.05\n",
       "3  31.11  31.15  31.07    31.11    1.56       60            2.42\n",
       "4  33.47  33.42  33.49    33.46    1.67       70            2.80\n",
       "5  35.92  35.84  35.89    35.88    1.79       80            3.22"
      ]
     },
     "execution_count": 295,
     "metadata": {},
     "output_type": "execute_result"
    }
   ],
   "source": [
    "frame"
   ]
  },
  {
   "cell_type": "code",
   "execution_count": 297,
   "metadata": {},
   "outputs": [
    {
     "data": {
      "text/plain": [
       "[<matplotlib.lines.Line2D at 0x26c017b7278>]"
      ]
     },
     "execution_count": 297,
     "metadata": {},
     "output_type": "execute_result"
    },
    {
     "data": {
      "image/png": "[encoded data removed]",
      "text/plain": [
       "<Figure size 432x288 with 1 Axes>"
      ]
     },
     "metadata": {
      "needs_background": "light"
     },
     "output_type": "display_data"
    }
   ],
   "source": [
    "plt.plot(frame[\"Lengths\"], frame[\"Period Squared\"])"
   ]
  },
  {
   "cell_type": "code",
   "execution_count": 314,
   "metadata": {},
   "outputs": [
    {
     "data": {
      "text/plain": [
       "array([0.03974286, 0.03580952])"
      ]
     },
     "execution_count": 314,
     "metadata": {},
     "output_type": "execute_result"
    }
   ],
   "source": [
    "slope = np.polyfit(frame[\"Lengths\"], frame[\"Period Squared\"], 1)\n",
    "slope"
   ]
  },
  {
   "cell_type": "code",
   "execution_count": 311,
   "metadata": {},
   "outputs": [
    {
     "data": {
      "text/plain": [
       "LinearRegression(copy_X=True, fit_intercept=True, n_jobs=None,\n",
       "         normalize=False)"
      ]
     },
     "execution_count": 311,
     "metadata": {},
     "output_type": "execute_result"
    }
   ],
   "source": [
    "from sklearn.linear_model import LinearRegression\n",
    "model = LinearRegression()\n",
    "\n",
    "model.fit(frame[\"Lengths\"].values.reshape(-1, 1), frame[\"Period Squared\"].values.reshape(-1, 1))"
   ]
  },
  {
   "cell_type": "code",
   "execution_count": 313,
   "metadata": {},
   "outputs": [
    {
     "data": {
      "text/plain": [
       "array([[0.03974286]])"
      ]
     },
     "execution_count": 313,
     "metadata": {},
     "output_type": "execute_result"
    }
   ],
   "source": [
    "model.coef_"
   ]
  },
  {
   "cell_type": "markdown",
   "metadata": {},
   "source": [
    "# Lenses Experiment \n",
    "\n",
    "\n",
    "\n",
    "\n",
    "\n"
   ]
  },
  {
   "cell_type": "code",
   "execution_count": 220,
   "metadata": {},
   "outputs": [
    {
     "name": "stdout",
     "output_type": "stream",
     "text": [
      "[0.15 0.2  0.25 0.3  0.35] [0.255 0.195 0.165 0.151 0.142]\n"
     ]
    }
   ],
   "source": [
    "s = np.array((15,20,25,30,35)) * 10 ** -2\n",
    "sp = np.array((25.5,19.5,16.5,15.1,14.2)) * 10 ** -2\n",
    "print(s, sp)"
   ]
  },
  {
   "cell_type": "code",
   "execution_count": 223,
   "metadata": {},
   "outputs": [
    {
     "name": "stdout",
     "output_type": "stream",
     "text": [
      "6.66667\n",
      "5.0\n",
      "4.0\n",
      "3.33333\n",
      "2.85714\n"
     ]
    }
   ],
   "source": [
    "for num in s:\n",
    "    print(round(1/num, 5))"
   ]
  },
  {
   "cell_type": "code",
   "execution_count": 224,
   "metadata": {},
   "outputs": [
    {
     "name": "stdout",
     "output_type": "stream",
     "text": [
      "3.92157\n",
      "5.12821\n",
      "6.06061\n",
      "6.62252\n",
      "7.04225\n"
     ]
    }
   ],
   "source": [
    "for num in sp:\n",
    "    print(round(1/num, 5))"
   ]
  },
  {
   "cell_type": "code",
   "execution_count": 225,
   "metadata": {},
   "outputs": [
    {
     "name": "stdout",
     "output_type": "stream",
     "text": [
      "10.58824\n",
      "10.12821\n",
      "10.06061\n",
      "9.95585\n",
      "9.8994\n"
     ]
    }
   ],
   "source": [
    "for num in 1/sp+1/s:\n",
    "    print(round(num, 5))"
   ]
  },
  {
   "cell_type": "code",
   "execution_count": 227,
   "metadata": {},
   "outputs": [
    {
     "name": "stdout",
     "output_type": "stream",
     "text": [
      "0.09444\n",
      "0.09873\n",
      "0.0994\n",
      "0.10044\n",
      "0.10102\n"
     ]
    }
   ],
   "source": [
    "for num in 1/sp+1/s:\n",
    "    print(round(1/num, 5))"
   ]
  },
  {
   "cell_type": "code",
   "execution_count": 202,
   "metadata": {},
   "outputs": [],
   "source": [
    "f = 1/(1/sp+1/s)"
   ]
  },
  {
   "cell_type": "code",
   "execution_count": 203,
   "metadata": {},
   "outputs": [
    {
     "data": {
      "text/plain": [
       "array([ 9.44444444,  9.87341772,  9.93975904, 10.0443459 , 10.10162602])"
      ]
     },
     "execution_count": 203,
     "metadata": {},
     "output_type": "execute_result"
    }
   ],
   "source": [
    "f"
   ]
  },
  {
   "cell_type": "code",
   "execution_count": 204,
   "metadata": {},
   "outputs": [],
   "source": [
    "fav = np.average(f)*10**-2"
   ]
  },
  {
   "cell_type": "code",
   "execution_count": 205,
   "metadata": {},
   "outputs": [
    {
     "data": {
      "text/plain": [
       "0.09880718623274522"
      ]
     },
     "execution_count": 205,
     "metadata": {},
     "output_type": "execute_result"
    }
   ],
   "source": [
    "fav"
   ]
  },
  {
   "cell_type": "code",
   "execution_count": 186,
   "metadata": {},
   "outputs": [
    {
     "data": {
      "text/plain": [
       "10.120721357700143"
      ]
     },
     "execution_count": 186,
     "metadata": {},
     "output_type": "execute_result"
    }
   ],
   "source": [
    "1/(fav)"
   ]
  },
  {
   "cell_type": "code",
   "execution_count": 209,
   "metadata": {},
   "outputs": [],
   "source": [
    "s = s * 10 ** -2\n",
    "sp = sp * 10 ** -2"
   ]
  },
  {
   "cell_type": "code",
   "execution_count": 219,
   "metadata": {},
   "outputs": [
    {
     "name": "stdout",
     "output_type": "stream",
     "text": [
      "6.66667\n",
      "5.0\n",
      "4.0\n",
      "3.33333\n",
      "2.85714\n"
     ]
    }
   ],
   "source": [
    "for i in s:\n",
    "    print(round(1/i, 5))"
   ]
  },
  {
   "cell_type": "code",
   "execution_count": 228,
   "metadata": {},
   "outputs": [
    {
     "data": {
      "text/plain": [
       "[<matplotlib.lines.Line2D at 0x26c7025bef0>]"
      ]
     },
     "execution_count": 228,
     "metadata": {},
     "output_type": "execute_result"
    },
    {
     "data": {
      "image/png": "[encoded data removed]",
      "text/plain": [
       "<Figure size 432x288 with 1 Axes>"
      ]
     },
     "metadata": {
      "needs_background": "light"
     },
     "output_type": "display_data"
    }
   ],
   "source": [
    "plt.plot(1/s, 1/sp)"
   ]
  },
  {
   "cell_type": "code",
   "execution_count": 229,
   "metadata": {},
   "outputs": [
    {
     "data": {
      "text/plain": [
       "<matplotlib.collections.PathCollection at 0x26c702c35c0>"
      ]
     },
     "execution_count": 229,
     "metadata": {},
     "output_type": "execute_result"
    },
    {
     "data": {
      "image/png": "[encoded data removed]",
      "text/plain": [
       "<Figure size 432x288 with 1 Axes>"
      ]
     },
     "metadata": {
      "needs_background": "light"
     },
     "output_type": "display_data"
    }
   ],
   "source": [
    "plt.scatter(1/s, 1/sp)"
   ]
  },
  {
   "cell_type": "markdown",
   "metadata": {},
   "source": [
    "# Meter bridge"
   ]
  },
  {
   "cell_type": "code",
   "execution_count": 3,
   "metadata": {},
   "outputs": [],
   "source": [
    "L1 = np.array([85.7,63.66,50,40.65,35.35])\n",
    "L2 = np.array([14.3,36.34,50,59.35,64.65])\n",
    "Rb = np.array([0.2,0.6,1,1.4,1.8])\n",
    "D = 0.7 * 10 ** -3"
   ]
  },
  {
   "cell_type": "code",
   "execution_count": 6,
   "metadata": {},
   "outputs": [],
   "source": [
    "Rx = L1/L2 * Rb"
   ]
  },
  {
   "cell_type": "code",
   "execution_count": 8,
   "metadata": {},
   "outputs": [
    {
     "name": "stdout",
     "output_type": "stream",
     "text": [
      "1.1986\n",
      "1.05107\n",
      "1.0\n",
      "0.95889\n",
      "0.98422\n"
     ]
    },
    {
     "data": {
      "text/plain": [
       "[None, None, None, None, None]"
      ]
     },
     "execution_count": 8,
     "metadata": {},
     "output_type": "execute_result"
    }
   ],
   "source": [
    "[print(round(x, 5)) for x in Rx]"
   ]
  },
  {
   "cell_type": "code",
   "execution_count": 14,
   "metadata": {},
   "outputs": [],
   "source": [
    "rx = np.average(Rx)"
   ]
  },
  {
   "cell_type": "code",
   "execution_count": 16,
   "metadata": {},
   "outputs": [
    {
     "data": {
      "text/plain": [
       "1.0385570573642182"
      ]
     },
     "execution_count": 16,
     "metadata": {},
     "output_type": "execute_result"
    }
   ],
   "source": [
    "rx"
   ]
  },
  {
   "cell_type": "code",
   "execution_count": 26,
   "metadata": {},
   "outputs": [],
   "source": [
    "Area = rx * (D/2) ** 2 / 1.13"
   ]
  },
  {
   "cell_type": "code",
   "execution_count": 27,
   "metadata": {},
   "outputs": [
    {
     "data": {
      "text/plain": [
       "1.12586938e-07"
      ]
     },
     "execution_count": 27,
     "metadata": {},
     "output_type": "execute_result"
    }
   ],
   "source": [
    "round(Area, 15)"
   ]
  },
  {
   "cell_type": "code",
   "execution_count": 28,
   "metadata": {},
   "outputs": [
    {
     "data": {
      "text/plain": [
       "1.12586938e-07"
      ]
     },
     "execution_count": 28,
     "metadata": {},
     "output_type": "execute_result"
    }
   ],
   "source": [
    "1.12586938e-07"
   ]
  },
  {
   "cell_type": "markdown",
   "metadata": {},
   "source": [
    "# Rydberg constant"
   ]
  },
  {
   "cell_type": "code",
   "execution_count": 34,
   "metadata": {},
   "outputs": [],
   "source": [
    "n = np.array([3, 4, 5])\n",
    "d = np.array([4.4, 3.2, 2.9]) * 10 ** -2\n",
    "L = 0.1\n",
    "a = 1.62 * 10 ** -6"
   ]
  },
  {
   "cell_type": "code",
   "execution_count": 38,
   "metadata": {},
   "outputs": [
    {
     "name": "stdout",
     "output_type": "stream",
     "text": [
      "0.11111\n",
      "0.0625\n",
      "0.04\n"
     ]
    }
   ],
   "source": [
    "for i in 1/(n*n):\n",
    "    print(round(i, 5))"
   ]
  },
  {
   "cell_type": "code",
   "execution_count": 44,
   "metadata": {},
   "outputs": [
    {
     "name": "stdout",
     "output_type": "stream",
     "text": [
      "0.44\n",
      "0.32\n",
      "0.29\n"
     ]
    }
   ],
   "source": [
    "for i in d/L:\n",
    "    print(i)"
   ]
  },
  {
   "cell_type": "code",
   "execution_count": 63,
   "metadata": {},
   "outputs": [
    {
     "name": "stdout",
     "output_type": "stream",
     "text": [
      "23.74949\n",
      "17.74467\n",
      "16.17216\n"
     ]
    }
   ],
   "source": [
    "for i in d/L:\n",
    "    print(round(degrees(atan(i)), 5))"
   ]
  },
  {
   "cell_type": "code",
   "execution_count": 56,
   "metadata": {},
   "outputs": [],
   "source": [
    "arr = []\n",
    "for i in d/L:\n",
    "    arr.append(atan(i) * 57.2958)\n",
    "β = np.array(arr)"
   ]
  },
  {
   "cell_type": "code",
   "execution_count": 64,
   "metadata": {},
   "outputs": [],
   "source": [
    "λ = a * np.array([sin(radians(b)) for b in β])"
   ]
  },
  {
   "cell_type": "code",
   "execution_count": 69,
   "metadata": {},
   "outputs": [
    {
     "name": "stdout",
     "output_type": "stream",
     "text": [
      "6.524e-07\n",
      "4.937e-07\n",
      "4.512e-07\n"
     ]
    },
    {
     "data": {
      "text/plain": [
       "[None, None, None]"
      ]
     },
     "execution_count": 69,
     "metadata": {},
     "output_type": "execute_result"
    }
   ],
   "source": [
    "[print(round(l, 10)) for l in λ]"
   ]
  },
  {
   "cell_type": "code",
   "execution_count": 74,
   "metadata": {},
   "outputs": [
    {
     "name": "stdout",
     "output_type": "stream",
     "text": [
      "1532715.564938\n",
      "2025370.402253\n",
      "2216264.084703\n"
     ]
    },
    {
     "data": {
      "text/plain": [
       "[None, None, None]"
      ]
     },
     "execution_count": 74,
     "metadata": {},
     "output_type": "execute_result"
    }
   ],
   "source": [
    "[print(round(l, 6)) for l in 1/λ]"
   ]
  },
  {
   "cell_type": "code",
   "execution_count": 77,
   "metadata": {},
   "outputs": [],
   "source": [
    "Rh = 1/λ * (4*n**2/(n**2-4))"
   ]
  },
  {
   "cell_type": "code",
   "execution_count": 81,
   "metadata": {},
   "outputs": [
    {
     "name": "stdout",
     "output_type": "stream",
     "text": [
      "11035552.06755\n",
      "10801975.47868\n",
      "10553638.49859\n"
     ]
    },
    {
     "data": {
      "text/plain": [
       "[None, None, None]"
      ]
     },
     "execution_count": 81,
     "metadata": {},
     "output_type": "execute_result"
    }
   ],
   "source": [
    "[print(round(rh, 5)) for rh in Rh]"
   ]
  },
  {
   "cell_type": "code",
   "execution_count": 82,
   "metadata": {},
   "outputs": [
    {
     "data": {
      "text/plain": [
       "10797055.348273503"
      ]
     },
     "execution_count": 82,
     "metadata": {},
     "output_type": "execute_result"
    }
   ],
   "source": [
    "np.average(Rh)"
   ]
  },
  {
   "cell_type": "code",
   "execution_count": null,
   "metadata": {},
   "outputs": [],
   "source": [
    "10797055.348273503\n"
   ]
  }
 ],
 "metadata": {
  "kernelspec": {
   "display_name": "Python 3",
   "language": "python",
   "name": "python3"
  },
  "language_info": {
   "codemirror_mode": {
    "name": "ipython",
    "version": 3
   },
   "file_extension": ".py",
   "mimetype": "text/x-python",
   "name": "python",
   "nbconvert_exporter": "python",
   "pygments_lexer": "ipython3",
   "version": "3.6.0"
  }
 },
 "nbformat": 4,
 "nbformat_minor": 4
}
