{
 "cells": [
  {
   "cell_type": "code",
   "execution_count": 24,
   "metadata": {},
   "outputs": [],
   "source": [
    "# * Use at your own risk *\n",
    "# Configure the parameters and create info.text with the formatting specified below\n",
    "# The code is unreliable sometimes (selenium doesnt click things, so re-running it is sometimes needed)\n",
    "\n",
    "from selenium import webdriver\n",
    "from selenium.webdriver.common.keys import Keys\n",
    "from selenium.webdriver.chrome.options import Options\n",
    "import chromedriver_autoinstaller\n",
    "from time import sleep\n",
    "import requests\n",
    "import re\n",
    "\n",
    "# Params\n",
    "wait = {\"implicit\": 5, \"forStreamFetch\": 5, \"forDownloadLink\": 25, \"betweenDownloads\": 10 * 60}\n",
    "monthsBack = 5 # Specify how many months in the past do you want the recording to capture (mm-monthsBack/yr to mm/yr)\n",
    "with open(\"info.txt\", encoding=\"utf-8\") as file:\n",
    "    courseName, studentID, password = file.read().split(\"\\n\") # info.txt should have the following format: [studentID]\\n[password]\\n[courseName]\n",
    "    # courseName is the name of the course as it appears in my courses page\n",
    "    "
   ]
  },
  {
   "cell_type": "code",
   "execution_count": 21,
   "metadata": {},
   "outputs": [
   ],
   "source": [
    "# Initialize driver and get page\n",
    "chromedriver_autoinstaller.install()\n",
    "options = Options()\n",
    "options.add_argument(\"--use-fake-ui-for-media-stream\")\n",
    "driver = webdriver.Chrome(chrome_options=options)\n",
    "driver.get(\"https://lms.ksu.edu.sa/\")\n",
    "driver.maximize_window()\n",
    "driver.maximize_window()\n",
    "\n",
    "# Options\n",
    "driver.implicitly_wait(wait[\"implicit\"])"
   ]
  },
  {
   "cell_type": "code",
   "execution_count": 22,
   "metadata": {},
   "outputs": [],
   "source": [
    "# Login\n",
    "\n",
    "driver.find_element_by_id(\"user_id\").send_keys(studentID)\n",
    "driver.find_element_by_id(\"password\").send_keys(password)\n",
    "driver.find_element_by_id(\"entry-login\").click()"
   ]
  },
  {
   "cell_type": "code",
   "execution_count": 25,
   "metadata": {},
   "outputs": [],
   "source": [
    "# Enter Course Page\n",
    "\n",
    "course215 = driver.find_element_by_link_text(courseName)\n",
    "link = course215.get_property(\"href\")\n",
    "driver.execute_script(f'window.open(\"{link}\",\"_blank\");')\n",
    "driver.switch_to.window(driver.window_handles[1])"
   ]
  },
  {
   "cell_type": "code",
   "execution_count": 26,
   "metadata": {},
   "outputs": [],
   "source": [
    "# Clicks recordings\n",
    "driver.switch_to.frame(driver.find_element_by_id(\"collabUltraLtiFrame\"))\n",
    "driver.find_element_by_id(\"side-menu-toggle\").click()\n",
    "driver.find_element_by_xpath('//*[@id=\"side-menu\"]/div/nav/ul/li[3]/a/span').click()\n"
   ]
  },
  {
   "cell_type": "code",
   "execution_count": 27,
   "metadata": {},
   "outputs": [],
   "source": [
    "# Clicks recordings in range\n",
    "driver.find_element_by_xpath('//*[@id=\"filter-toggle-145\"]/span[1]/span').click()\n",
    "driver.find_element_by_xpath('//*[@id=\"select-range-filter-145\"]/span').click()\n"
   ]
  },
  {
   "cell_type": "code",
   "execution_count": 28,
   "metadata": {},
   "outputs": [],
   "source": [
    "# Navigate to calendar\n",
    "driver.find_element_by_xpath('//*[@id=\"startDate-145\"]').click()"
   ]
  },
  {
   "cell_type": "code",
   "execution_count": 29,
   "metadata": {},
   "outputs": [],
   "source": [
    "# Click month back monthsBack times\n",
    "for _ in range(monthsBack):\n",
    "    driver.find_element_by_xpath('/html/body/div[4]/div[1]/table/thead/tr[2]/th[1]').click()\n",
    "# Click random day in month\n",
    "driver.find_element_by_xpath('/html/body/div[4]/div[1]/table/tbody/tr[2]/td[1]').click()"
   ]
  },
  {
   "cell_type": "code",
   "execution_count": 30,
   "metadata": {},
   "outputs": [],
   "source": [
    "# Helper functions\n",
    "def returnToLinks():\n",
    "    driver.close()\n",
    "    driver.switch_to.window(driver.window_handles[1])\n",
    "    driver.switch_to.frame(driver.find_element_by_id(\"collabUltraLtiFrame\"))\n",
    "\n",
    "def writeLog():\n",
    "    global recordingsLog\n",
    "    with open(\"recordings.log\", \"w\") as log:\n",
    "        log.write(\"\\n\".join(recordingsLog))\n",
    "    \n",
    "recordingsLog = []\n",
    "def downloadVids():\n",
    "    recordings = '//*[@id=\"body-content\"]/div[2]/table/tbody/tr[{}]' # .format(2) is the first recording in the currently shown table, .format(1) is column names\n",
    "    global recordingsLog\n",
    "    videoXpath = '//*[@id=\"playback-video-playback-video_html5_api\"]'\n",
    "    i = 2\n",
    "    cur = driver.find_elements_by_xpath(recordings.format(i)) # Empty list on finish\n",
    "    while cur:\n",
    "        cur = cur[0]\n",
    "\n",
    "        # Compute name\n",
    "        recordingsLog.append(cur.text)\n",
    "\n",
    "        # CODE MIGHT BE WRONG I DIDNT TEST IT \n",
    "        name = re.sub('[^\\w\\-_\\. ]', '_', recordingsLog[-1]) + \".mp4\"\n",
    "\n",
    "        # Click recording button then click popup\n",
    "        element = cur.find_element_by_tag_name(\"td\")\n",
    "        element.find_element_by_tag_name(\"button\").click()\n",
    "        sleep(wait[\"forStreamFetch\"])\n",
    "        element.find_elements_by_tag_name(\"button\")[1].click()\n",
    "\n",
    "        # Switch window\n",
    "        driver.switch_to.window(driver.window_handles[2])\n",
    "\n",
    "        # Get url and download it\n",
    "        sleep(wait[\"forDownloadLink\"])\n",
    "        url = driver.find_element_by_xpath('//*[@id=\"playback-video-playback-video_html5_api\"]')\n",
    "        url = url.get_attribute(\"src\")\n",
    "        r = requests.get(url, allow_redirects=True)\n",
    "        with open(name, 'wb') as file:\n",
    "            file.write(r.content)\n",
    "\n",
    "        # Close and switch window and frame back\n",
    "        returnToLinks()\n",
    "\n",
    "        i += 1\n",
    "        cur = driver.find_elements_by_xpath(recordings.format(i))\n",
    "        \n",
    "        writeLog()\n",
    "        sleep(wait[\"betweenDownloads\"])"
   ]
  },
  {
   "cell_type": "code",
   "execution_count": null,
   "metadata": {},
   "outputs": [],
   "source": [
    "# MANUALLY NAVIGATE TO PAGE YOU WANT TO DOWNLOAD THEN RUN THIS CELL\n",
    "downloadVids()"
   ]
  },
  {
   "cell_type": "code",
   "execution_count": 34,
   "metadata": {},
   "outputs": [],
   "source": [
    "# Do not run this cell unless needed\n",
    "returnToLinks()"
   ]
  },
  {
   "cell_type": "code",
   "execution_count": 144,
   "metadata": {},
   "outputs": [],
   "source": [
    "# rightArrow = '//*[@id=\"main-content\"]/footer/ol/li[4]/button/bb-svg-icon'\n",
    "# pages = driver.find_element_by_xpath('//*[@id=\"main-content\"]/footer/ol')\n",
    "# pages.find_elements_by_tag_name(\"button\")[1].click()\n",
    "# # //*[@id=\"main-content\"]/footer/ol/li[2]\n",
    "# # //*[@id=\"main-content\"]/footer/ol/li[3]\n",
    "# # //*[@id=\"main-content\"]/footer/ol/li[4]\n",
    "# # Something somethign click next page"
   ]
  },
  {
   "cell_type": "code",
   "execution_count": null,
   "metadata": {},
   "outputs": [],
   "source": [
    "# TODO: right arrow after finishing"
   ]
  }
 ],
 "metadata": {
  "kernelspec": {
   "display_name": "Python 3",
   "language": "python",
   "name": "python3"
  },
  "language_info": {
   "codemirror_mode": {
    "name": "ipython",
    "version": 3
   },
   "file_extension": ".py",
   "mimetype": "text/x-python",
   "name": "python",
   "nbconvert_exporter": "python",
   "pygments_lexer": "ipython3",
   "version": "3.6.0"
  }
 },
 "nbformat": 4,
 "nbformat_minor": 4
}
