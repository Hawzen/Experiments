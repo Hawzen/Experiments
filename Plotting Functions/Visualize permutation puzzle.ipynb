{
 "cells": [
  {
   "cell_type": "code",
   "execution_count": 198,
   "metadata": {},
   "outputs": [],
   "source": [
    "%matplotlib widget\n",
    "from itertools import permutations, combinations\n",
    "import matplotlib.pyplot as plt\n",
    "from mpl_toolkits.mplot3d import Axes3D\n",
    "from itertools import count\n",
    "import numpy\n",
    "import pandas as pd\n",
    "\n",
    "with open(\"sampleNames.txt\") as file:\n",
    "    lines = file.read()\n",
    "    lines = lines.split('\\n')"
   ]
  },
  {
   "cell_type": "code",
   "execution_count": 199,
   "metadata": {},
   "outputs": [],
   "source": [
    "def countVowels(*words):\n",
    "    vowels = ['a', 'o', 'u', 'i', 'e', 'A', 'O', 'U', 'I', 'E']\n",
    "    summation = 0\n",
    "    for word in words:\n",
    "        for letter in word:\n",
    "            if letter in vowels:\n",
    "                summation+=1\n",
    "                if letter.isupper():\n",
    "                    vowels.pop(vowels.index(letter.lower()))\n",
    "                else:\n",
    "                    vowels.pop(vowels.index(letter.upper()))\n",
    "                vowels.pop(vowels.index(letter))\n",
    "\n",
    "    return summation"
   ]
  },
  {
   "cell_type": "code",
   "execution_count": 204,
   "metadata": {},
   "outputs": [],
   "source": [
    "lines = lines[0:5]\n",
    "\n",
    "counting = count()\n",
    "namevalue = {name : next(counting) for name in lines} #Mapping each name in lines to an int\n",
    "\n",
    "p = 3 #How many persons to compare\n",
    "names = list(permutations(lines, p))\n",
    "plist = []\n",
    "for i in range(p):\n",
    "    plist.append( tuple(nametuple[i] for nametuple in names) )"
   ]
  },
  {
   "cell_type": "code",
   "execution_count": 205,
   "metadata": {},
   "outputs": [
    {
     "data": {
      "application/vnd.jupyter.widget-view+json": {
       "model_id": "df9947183b4b4b57b7c745d417398983",
       "version_major": 2,
       "version_minor": 0
      },
      "text/plain": [
       "Canvas(toolbar=Toolbar(toolitems=[('Home', 'Reset original view', 'home', 'home'), ('Back', 'Back to previous …"
      ]
     },
     "metadata": {},
     "output_type": "display_data"
    },
    {
     "data": {
      "text/plain": [
       "([<matplotlib.axis.XTick at 0x28f2da5a358>,\n",
       "  <matplotlib.axis.XTick at 0x28f2da4de80>,\n",
       "  <matplotlib.axis.XTick at 0x28f2dad4ba8>,\n",
       "  <matplotlib.axis.XTick at 0x28f2dacb4e0>,\n",
       "  <matplotlib.axis.XTick at 0x28f2dab1b70>,\n",
       "  <matplotlib.axis.XTick at 0x28f2dad4048>,\n",
       "  <matplotlib.axis.XTick at 0x28f2dadd278>,\n",
       "  <matplotlib.axis.XTick at 0x28f2dadd748>,\n",
       "  <matplotlib.axis.XTick at 0x28f2daddc18>,\n",
       "  <matplotlib.axis.XTick at 0x28f2dae7160>,\n",
       "  <matplotlib.axis.XTick at 0x28f2dae75f8>,\n",
       "  <matplotlib.axis.XTick at 0x28f2dae7ac8>,\n",
       "  <matplotlib.axis.XTick at 0x28f2dae7e80>,\n",
       "  <matplotlib.axis.XTick at 0x28f2dae7748>,\n",
       "  <matplotlib.axis.XTick at 0x28f2dad4d68>,\n",
       "  <matplotlib.axis.XTick at 0x28f2daef128>,\n",
       "  <matplotlib.axis.XTick at 0x28f2daef748>,\n",
       "  <matplotlib.axis.XTick at 0x28f2daefc18>,\n",
       "  <matplotlib.axis.XTick at 0x28f2daf8160>,\n",
       "  <matplotlib.axis.XTick at 0x28f2daf85f8>,\n",
       "  <matplotlib.axis.XTick at 0x28f2daf8ac8>,\n",
       "  <matplotlib.axis.XTick at 0x28f2daf8e80>,\n",
       "  <matplotlib.axis.XTick at 0x28f2daf8f60>,\n",
       "  <matplotlib.axis.XTick at 0x28f2daef6a0>,\n",
       "  <matplotlib.axis.XTick at 0x28f2daefcf8>,\n",
       "  <matplotlib.axis.XTick at 0x28f2daff748>,\n",
       "  <matplotlib.axis.XTick at 0x28f2daffc18>,\n",
       "  <matplotlib.axis.XTick at 0x28f2db09160>,\n",
       "  <matplotlib.axis.XTick at 0x28f2db095f8>,\n",
       "  <matplotlib.axis.XTick at 0x28f2db09ac8>,\n",
       "  <matplotlib.axis.XTick at 0x28f2db09e80>,\n",
       "  <matplotlib.axis.XTick at 0x28f2db104a8>,\n",
       "  <matplotlib.axis.XTick at 0x28f2db09550>,\n",
       "  <matplotlib.axis.XTick at 0x28f2daff358>,\n",
       "  <matplotlib.axis.XTick at 0x28f2db10748>,\n",
       "  <matplotlib.axis.XTick at 0x28f2db10ba8>,\n",
       "  <matplotlib.axis.XTick at 0x28f2db1a128>,\n",
       "  <matplotlib.axis.XTick at 0x28f2db1a588>,\n",
       "  <matplotlib.axis.XTick at 0x28f2db1aa58>,\n",
       "  <matplotlib.axis.XTick at 0x28f2db1af28>,\n",
       "  <matplotlib.axis.XTick at 0x28f2db23438>,\n",
       "  <matplotlib.axis.XTick at 0x28f2db1aa20>,\n",
       "  <matplotlib.axis.XTick at 0x28f2dae76a0>,\n",
       "  <matplotlib.axis.XTick at 0x28f2daffa90>,\n",
       "  <matplotlib.axis.XTick at 0x28f2db232b0>,\n",
       "  <matplotlib.axis.XTick at 0x28f2db2c128>,\n",
       "  <matplotlib.axis.XTick at 0x28f2db2c588>,\n",
       "  <matplotlib.axis.XTick at 0x28f2db2ca58>,\n",
       "  <matplotlib.axis.XTick at 0x28f2db2cf28>,\n",
       "  <matplotlib.axis.XTick at 0x28f2db35438>,\n",
       "  <matplotlib.axis.XTick at 0x28f2db35908>,\n",
       "  <matplotlib.axis.XTick at 0x28f2db2ce80>,\n",
       "  <matplotlib.axis.XTick at 0x28f2db23940>,\n",
       "  <matplotlib.axis.XTick at 0x28f2db358d0>,\n",
       "  <matplotlib.axis.XTick at 0x28f2db3e128>,\n",
       "  <matplotlib.axis.XTick at 0x28f2db3e588>,\n",
       "  <matplotlib.axis.XTick at 0x28f2db3ea58>,\n",
       "  <matplotlib.axis.XTick at 0x28f2db3ef28>,\n",
       "  <matplotlib.axis.XTick at 0x28f2db46438>,\n",
       "  <matplotlib.axis.XTick at 0x28f2db46908>],\n",
       " <a list of 60 Text yticklabel objects>)"
      ]
     },
     "execution_count": 205,
     "metadata": {},
     "output_type": "execute_result"
    }
   ],
   "source": [
    "fig, ax =  plt.subplots(subplot_kw={'projection' : '3d'})\n",
    "pindices = []\n",
    "for i in range(p): #Getting the plist in terms of mapped values from dict\n",
    "    pindices.append(tuple(namevalue[name] for name in plist[i]))\n",
    "    \n",
    "funcResult = [countVowels(name1, name2) for name1, name2 in zip(plist[0], plist[1])]\n",
    "ax.plot_trisurf(pindices[0], pindices[1], funcResult)\n",
    "plt.xticks(pindices[0], plist[0])\n",
    "plt.yticks(pindices[1], plist[1])\n"
   ]
  }
 ],
 "metadata": {
  "kernelspec": {
   "display_name": "Python 3",
   "language": "python",
   "name": "python3"
  },
  "language_info": {
   "codemirror_mode": {
    "name": "ipython",
    "version": 3
   },
   "file_extension": ".py",
   "mimetype": "text/x-python",
   "name": "python",
   "nbconvert_exporter": "python",
   "pygments_lexer": "ipython3",
   "version": "3.6.0"
  }
 },
 "nbformat": 4,
 "nbformat_minor": 4
}
