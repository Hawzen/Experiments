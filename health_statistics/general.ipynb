{
 "cells": [
  {
   "cell_type": "code",
   "execution_count": 784,
   "metadata": {},
   "outputs": [],
   "source": [
    "from glob import glob\n",
    "import pandas as pd\n",
    "import numpy as np\n",
    "import matplotlib.pyplot as plt\n",
    "pd.set_option(\"max_rows\", 2000)"
   ]
  },
  {
   "cell_type": "code",
   "execution_count": 785,
   "metadata": {},
   "outputs": [],
   "source": [
    "# Get all stats\n",
    "paths = glob(\"data/*\")\n",
    "dataPaths = {}\n",
    "for path in paths:\n",
    "    start = path.replace(\".\", \"\", 2).find(\".\") + 3\n",
    "    end = path.find(\"2020\") - 1\n",
    "    dataPaths.update({path[start:end]: path})"
   ]
  },
  {
   "cell_type": "code",
   "execution_count": 825,
   "metadata": {},
   "outputs": [],
   "source": [
    "# Read but skip first row of each csv\n",
    "dataframes = {}\n",
    "for name in dataPaths:\n",
    "    dataframes.update({name:pd.read_csv(dataPaths[name], skiprows=[0], index_col=False)})\n",
    "\n",
    "# Helper Functions\n",
    "def convertToDate(series):\n",
    "    return pd.to_datetime(series, format='%Y-%m-%d %H:%M:%S')\n",
    "\n",
    "# Init functions\n",
    "def initDaysum(remvOutlier=True, start=None, end=None):\n",
    "    daysum = dataframes[\"activity.day_summary\"]\n",
    "    for datecol in [\"update_time\", \"create_time\"]:\n",
    "        daysum[datecol] = convertToDate(daysum[datecol])\n",
    "    \n",
    "    daysum.index =  daysum[\"create_time\"]\n",
    "    daysum = daysum.sort_index()\n",
    "    \n",
    "    if remvOutlier:\n",
    "        # Slice off weird outlier\n",
    "        before = (daysum.index < \"2019-01-28 21:12:40.484\")\n",
    "        after = (daysum.index > \"2019-01-28 21:12:41.745\")\n",
    "        daysum = daysum.loc[before | after]\n",
    "    \n",
    "    if start and end:\n",
    "        daysum = daysum.loc[start:end]\n",
    "        \n",
    "    return daysum\n",
    "\n",
    "def initSleep(start=None, end=None):\n",
    "    columns = [\"com.samsung.health.sleep.start_time\", \n",
    "               \"com.samsung.health.sleep.end_time\", \n",
    "               \"com.samsung.health.sleep.create_time\",\n",
    "               \"com.samsung.health.sleep.update_time\",\n",
    "               \"com.samsung.health.sleep.time_offset\"]\n",
    "    sleep = dataframes[\"sleep\"][columns]\n",
    "    sleep.columns = [\"start_time\", \"end_time\", \"create_time\", \"update_time\", \"time_offset\"]\n",
    "    \n",
    "    sleep.index = sleep[\"start_time\"]\n",
    "    sleep.sort_index(inplace=True)\n",
    "    \n",
    "    for datecol in [\"start_time\", \"end_time\", \"create_time\", \"update_time\"]:\n",
    "        sleep[datecol] = convertToDate(sleep[datecol])\n",
    "    \n",
    "    if start and end:\n",
    "        sleep = sleep.loc[start:end]\n",
    "        \n",
    "    return sleep"
   ]
  }
 ],
 "metadata": {
  "kernelspec": {
   "display_name": "Python 3",
   "language": "python",
   "name": "python3"
  },
  "language_info": {
   "codemirror_mode": {
    "name": "ipython",
    "version": 3
   },
   "file_extension": ".py",
   "mimetype": "text/x-python",
   "name": "python",
   "nbconvert_exporter": "python",
   "pygments_lexer": "ipython3",
   "version": "3.6.0"
  }
 },
 "nbformat": 4,
 "nbformat_minor": 4
}
