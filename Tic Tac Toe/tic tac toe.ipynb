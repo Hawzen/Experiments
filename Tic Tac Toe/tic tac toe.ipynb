{
 "cells": [
  {
   "cell_type": "code",
   "execution_count": 1,
   "metadata": {},
   "outputs": [],
   "source": [
    "from IPython.display import clear_output\n",
    "import numpy as np\n",
    "\n",
    "def display_board(board):\n",
    "    clear_output()\n",
    "    s = (\"\\t{}\\t｜\",\"\\t{}\\t\\n\\t\" + \"_\" * 35 + \"\\n\")\n",
    "    chars = []\n",
    "    for i, char in enumerate(board.reshape(9, 1)):\n",
    "        if (i+1) % 3 == 0 and i != 8:\n",
    "            chars.append( s[1].format(char[0]) )\n",
    "        else:\n",
    "            chars.append( s[0].format(char[0]) )\n",
    "    chars = \"\".join(chars)\n",
    "    print(chars[:-1])\n",
    "          \n",
    "def checkWin(player: str, pos: tuple, board) -> bool:\n",
    "    \"\"\"Given last move's position, this function\n",
    "    checks if a player won and returns a bool\"\"\"\n",
    "    if all(board[pos[0], :] == player) or all(board[:, pos[1]] == player)\\\n",
    "        or all(board.diagonal() == player) or all(np.fliplr(board).diagonal() == player):\n",
    "        return True\n",
    "    return False\n",
    "\n",
    "def passTurn(player: str, board) -> bool:\n",
    "    print(\"Player {} Makes his move..\".format(player))\n",
    "    try:\n",
    "        pos = (int(input(\"Choose which row:\\t\"))-1 , int(input(\"Choose which Col.:\\t\"))-1)\n",
    "\n",
    "        if all(-1<el<3 for el in pos) and not board[pos[0], pos[1]]:\n",
    "            board[pos[0], pos[1]] = player            \n",
    "            display_board(board)\n",
    "            return checkWin(player, pos, board)\n",
    "    except ValueError:\n",
    "        pass\n",
    "    \n",
    "    print(\"Move rejected, moving to next player.\")\n",
    "    return False\n",
    "    \n",
    "def play():\n",
    "    def start():\n",
    "        board = np.array([['']*3, ['']*3, ['']*3])\n",
    "        display_board(board)\n",
    "        player = \"O\"\n",
    "        while True:\n",
    "            player = \"X\" if player == \"O\" else \"O\"\n",
    "            if passTurn(player, board):\n",
    "                print(f\"Player {player} won.\")\n",
    "                break\n",
    "            elif all(all(el) for el in board):\n",
    "                print(board)\n",
    "                print(\"Its a tie.\")\n",
    "                break\n",
    "        if input(\"Do you want to play again? (yes or no)\")[0] == \"y\":\n",
    "            start()\n",
    "    start()"
   ]
  },
  {
   "cell_type": "code",
   "execution_count": 2,
   "metadata": {},
   "outputs": [
    {
     "name": "stdout",
     "output_type": "stream",
     "text": [
      "\tX\t｜\tX\t｜\t\t\n",
      "\t___________________________________\n",
      "\tO\t｜\tX\t｜\tX\t\n",
      "\t___________________________________\n",
      "\tO\t｜\tO\t｜\tO\t\n",
      "Player O won.\n"
     ]
    },
    {
     "name": "stdin",
     "output_type": "stream",
     "text": [
      "Do you want to play again? (yes or no) No\n"
     ]
    }
   ],
   "source": [
    "play()"
   ]
  },
  {
   "cell_type": "code",
   "execution_count": null,
   "metadata": {},
   "outputs": [],
   "source": []
  }
 ],
 "metadata": {
  "kernelspec": {
   "display_name": "Python 3",
   "language": "python",
   "name": "python3"
  },
  "language_info": {
   "codemirror_mode": {
    "name": "ipython",
    "version": 3
   },
   "file_extension": ".py",
   "mimetype": "text/x-python",
   "name": "python",
   "nbconvert_exporter": "python",
   "pygments_lexer": "ipython3",
   "version": "3.6.0"
  }
 },
 "nbformat": 4,
 "nbformat_minor": 4
}
