{
 "cells": [
  {
   "cell_type": "code",
   "execution_count": 1,
   "metadata": {},
   "outputs": [],
   "source": [
    "from glob import glob\n",
    "import os\n",
    "\n",
    "import comtypes.client"
   ]
  },
  {
   "cell_type": "code",
   "execution_count": 55,
   "metadata": {},
   "outputs": [
    {
     "name": "stdout",
     "output_type": "stream",
     "text": [
      "C:\\Users\\mohnd\\Downloads\\pdfs\\TPM_01.pdf\n",
      "C:\\Users\\mohnd\\Downloads\\pdfs\\TPM_02.pdf\n",
      "C:\\Users\\mohnd\\Downloads\\pdfs\\TPM_03.pdf\n",
      "C:\\Users\\mohnd\\Downloads\\pdfs\\TPM_04.pdf\n",
      "C:\\Users\\mohnd\\Downloads\\pdfs\\TPM_05.pdf\n",
      "C:\\Users\\mohnd\\Downloads\\pdfs\\TPM_06.pdf\n",
      "C:\\Users\\mohnd\\Downloads\\pdfs\\TPM_07.pdf\n",
      "C:\\Users\\mohnd\\Downloads\\pdfs\\TPM_08.pdf\n",
      "C:\\Users\\mohnd\\Downloads\\pdfs\\TPM_09.pdf\n",
      "C:\\Users\\mohnd\\Downloads\\pdfs\\TPM_10.pdf\n",
      "C:\\Users\\mohnd\\Downloads\\pdfs\\TPM_11.pdf\n",
      "C:\\Users\\mohnd\\Downloads\\pdfs\\TPM_12.pdf\n",
      "C:\\Users\\mohnd\\Downloads\\pdfs\\TPM_13.pdf\n"
     ]
    }
   ],
   "source": [
    "files = glob(\"*.pptx\")\n",
    "try:\n",
    "    os.mkdir(\"pdfs\")\n",
    "except:\n",
    "    pass\n",
    "for file in files:\n",
    "    file = os.path.join(os.getcwd(), file)\n",
    "    powerpoint = comtypes.client.CreateObject(\"Powerpoint.Application\")\n",
    "    powerpoint.Visible = 1\n",
    "    slides = powerpoint.Presentations.Open(file)\n",
    "    file_name = file[file.rfind(\"\\\\\")+2:file.rfind(\".\")]\n",
    "    output_file_path = os.path.join(os.getcwd(), \"pdfs\", file_name + \".pdf\")\n",
    "    print(output_file_path)\n",
    "    slides.SaveAs(output_file_path, 32)\n",
    "    slides.Close()\n"
   ]
  },
  {
   "cell_type": "code",
   "execution_count": 61,
   "metadata": {},
   "outputs": [],
   "source": [
    "from PyPDF2 import PdfFileMerger\n",
    "\n",
    "pdfs_path = \"pdfs/\"\n",
    "pdfs = glob(pdfs_path + \"*.pdf\")\n",
    "merger = PdfFileMerger()\n",
    "\n",
    "for pdf in pdfs:\n",
    "    merger.append(pdf)\n",
    "\n",
    "merger.write(\"result.pdf\")\n",
    "merger.close()\n"
   ]
  },
  {
   "cell_type": "code",
   "execution_count": null,
   "metadata": {},
   "outputs": [],
   "source": []
  }
 ],
 "metadata": {
  "kernelspec": {
   "display_name": "Python 3",
   "language": "python",
   "name": "python3"
  },
  "language_info": {
   "codemirror_mode": {
    "name": "ipython",
    "version": 3
   },
   "file_extension": ".py",
   "mimetype": "text/x-python",
   "name": "python",
   "nbconvert_exporter": "python",
   "pygments_lexer": "ipython3",
   "version": "3.8.5"
  }
 },
 "nbformat": 4,
 "nbformat_minor": 4
}
