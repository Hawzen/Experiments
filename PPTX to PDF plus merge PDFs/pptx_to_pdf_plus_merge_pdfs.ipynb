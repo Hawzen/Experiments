{
 "cells": [
  {
   "cell_type": "code",
   "execution_count": 1,
   "metadata": {},
   "outputs": [],
   "source": [
    "from glob import glob\n",
    "import os\n",
    "\n",
    "import sklearn\n",
    "import comtypes.client"
   ]
  },
  {
   "cell_type": "code",
   "execution_count": 8,
   "metadata": {},
   "outputs": [
    {
     "name": "stdout",
     "output_type": "stream",
     "text": [
      "d:\\Repositories\\Experiments\\PPTX to PDF plus merge PDFs\\pdfs\\ect-01.pdf\n",
      "d:\\Repositories\\Experiments\\PPTX to PDF plus merge PDFs\\pdfs\\ect-03.pdf\n",
      "d:\\Repositories\\Experiments\\PPTX to PDF plus merge PDFs\\pdfs\\ect-04.pdf\n",
      "d:\\Repositories\\Experiments\\PPTX to PDF plus merge PDFs\\pdfs\\ect-05.pdf\n",
      "d:\\Repositories\\Experiments\\PPTX to PDF plus merge PDFs\\pdfs\\ect-06.pdf\n",
      "d:\\Repositories\\Experiments\\PPTX to PDF plus merge PDFs\\pdfs\\ect-07.pdf\n",
      "d:\\Repositories\\Experiments\\PPTX to PDF plus merge PDFs\\pdfs\\ect-08.pdf\n",
      "d:\\Repositories\\Experiments\\PPTX to PDF plus merge PDFs\\pdfs\\ect-09.pdf\n",
      "d:\\Repositories\\Experiments\\PPTX to PDF plus merge PDFs\\pdfs\\ect-10.pdf\n",
      "d:\\Repositories\\Experiments\\PPTX to PDF plus merge PDFs\\pdfs\\ect-11.pdf\n",
      "d:\\Repositories\\Experiments\\PPTX to PDF plus merge PDFs\\pdfs\\ect-12.pdf\n",
      "d:\\Repositories\\Experiments\\PPTX to PDF plus merge PDFs\\pdfs\\ect-13.pdf\n",
      "d:\\Repositories\\Experiments\\PPTX to PDF plus merge PDFs\\pdfs\\ect-14.pdf\n",
      "d:\\Repositories\\Experiments\\PPTX to PDF plus merge PDFs\\pdfs\\ect-15.pdf\n",
      "d:\\Repositories\\Experiments\\PPTX to PDF plus merge PDFs\\pdfs\\ect-16.pdf\n",
      "d:\\Repositories\\Experiments\\PPTX to PDF plus merge PDFs\\pdfs\\ect-17.pdf\n",
      "d:\\Repositories\\Experiments\\PPTX to PDF plus merge PDFs\\pdfs\\ect-18.pdf\n",
      "d:\\Repositories\\Experiments\\PPTX to PDF plus merge PDFs\\pdfs\\ect-19.pdf\n",
      "d:\\Repositories\\Experiments\\PPTX to PDF plus merge PDFs\\pdfs\\ect-20.pdf\n"
     ]
    }
   ],
   "source": [
    "files = glob(\"*.pptx\")\n",
    "try:\n",
    "    os.mkdir(\"pdfs\")\n",
    "except:\n",
    "    pass\n",
    "for file in files:\n",
    "    file = os.path.join(os.getcwd(), file)\n",
    "    powerpoint = comtypes.client.CreateObject(\"Powerpoint.Application\")\n",
    "    powerpoint.Visible = 1\n",
    "    slides = powerpoint.Presentations.Open(file)\n",
    "    file_name = file[file.rfind(\"\\\\\")+2:file.rfind(\".\")]\n",
    "    output_file_path = os.path.join(os.getcwd(), \"pdfs\", file_name + \".pdf\")\n",
    "    print(output_file_path)\n",
    "    slides.SaveAs(output_file_path, 32)\n",
    "    slides.Close()\n"
   ]
  },
  {
   "cell_type": "code",
   "execution_count": 9,
   "metadata": {},
   "outputs": [],
   "source": [
    "from reportlab.pdfgen.canvas import Canvas\n",
    "from pdfrw import PdfReader\n",
    "from pdfrw.toreportlab import makerl\n",
    "from pdfrw.buildxobj import pagexobj\n",
    "\n",
    "pdfs_path = \"pdfs/\"\n",
    "pdfs = glob(pdfs_path + \"*.pdf\")\n",
    "pdfs = sorted(pdfs, key=lambda x: x[x.index(\"\\\\\")+2:x.index(\".\")])\n",
    "\n",
    "for path in pdfs:\n",
    "    input_file = path\n",
    "    name = path[path.index(\"\\\\\")+1:path.index(\".pdf\")]\n",
    "    output_file = path\n",
    "\n",
    "    # Get pages\n",
    "    reader = PdfReader(input_file)\n",
    "    pages = [pagexobj(p) for p in reader.pages]\n",
    "\n",
    "\n",
    "    # Compose new pdf\n",
    "    canvas = Canvas(output_file)\n",
    "\n",
    "    for page_num, page in enumerate(pages, start=1):\n",
    "\n",
    "        # Add page\n",
    "        canvas.setPageSize((page.BBox[2], page.BBox[3]))\n",
    "        canvas.doForm(makerl(canvas, page))\n",
    "\n",
    "        # Draw footer\n",
    "        x = 50\n",
    "        canvas.saveState()\n",
    "        canvas.setStrokeColorRGB(255, 0, 0, .6)\n",
    "        canvas.setLineWidth(0.5)\n",
    "        # canvas.line(66, 78, page.BBox[2] - 66, 78)\n",
    "        canvas.setFont('Times-Roman', 10)\n",
    "        canvas.drawString(10, 10, name)\n",
    "        canvas.restoreState()\n",
    "\n",
    "        canvas.showPage()\n",
    "\n",
    "    canvas.save()\n"
   ]
  },
  {
   "cell_type": "code",
   "execution_count": 12,
   "metadata": {},
   "outputs": [],
   "source": [
    "from PyPDF2 import PdfFileMerger\n",
    "\n",
    "merger = PdfFileMerger()\n",
    "\n",
    "for pdf in reversed(pdfs):\n",
    "    merger.append(pdf)\n",
    "\n",
    "merger.write(\"result.pdf\")\n",
    "merger.close()\n"
   ]
  },
  {
   "cell_type": "code",
   "execution_count": 7,
   "metadata": {},
   "outputs": [],
   "source": [
    "# For names starting with pdfs//NUM-NAME\n",
    "pdfs = sorted(pdfs, key=lambda x: x[x.index(\"\\\\\")+2:x.index(\".\")])\n",
    "merger = PdfFileMerger()\n",
    "\n",
    "for pdf in pdfs:\n",
    "    merger.append(pdf)\n",
    "\n",
    "merger.write(\"result.pdf\")\n",
    "merger.close()\n"
   ]
  },
  {
   "cell_type": "code",
   "execution_count": 31,
   "metadata": {},
   "outputs": [
    {
     "data": {
      "text/plain": [
       "['pdfs\\\\1.0-Intro to Parallel Computing.pdf',\n",
       " 'pdfs\\\\2.0-Understanding Parallel Computers V2.pdf',\n",
       " 'pdfs\\\\2.1-Tutorial No 1 (1).pdf',\n",
       " 'pdfs\\\\3.0-Parallel Computing Paradigms and Programming Models 2.pdf',\n",
       " 'pdfs\\\\3.1-TutorialNo 2 (1).pdf',\n",
       " 'pdfs\\\\4.0-Introduction to CUDA_Programming.pdf',\n",
       " 'pdfs\\\\4.1-Tutorial No 3 (1).pdf',\n",
       " 'pdfs\\\\5.0-Moving to Parallel With CUDA - Hello Program.pdf',\n",
       " 'pdfs\\\\6.0-Moving to Parallel - Sum Of Arrays.pdf',\n",
       " 'pdfs\\\\6.1-Tutorial No 4.docx (1).pdf',\n",
       " 'pdfs\\\\7.0-Moving to Parallel - Addition of 2 Matrices.pdf',\n",
       " 'pdfs\\\\7.1-Tutorial No 5.pdf',\n",
       " 'pdfs\\\\8.0-Moving to Parallel - Product of 2 Matrices(1).pdf',\n",
       " 'pdfs\\\\9.0-Querying The Device.pdf',\n",
       " 'pdfs\\\\9.1-Tutorial No 6.pdf',\n",
       " 'pdfs\\\\10.0-Parallel  Sorting.pdf',\n",
       " 'pdfs\\\\10.1-Tutorial No 7.pdf',\n",
       " 'pdfs\\\\10.2-bitonic_sort_board_and_summary.pdf',\n",
       " 'pdfs\\\\10.3-odd_even_sort.pdf',\n",
       " 'pdfs\\\\11.0-DynamicParallelism 3.pdf',\n",
       " 'pdfs\\\\11.1-Tutorial No 8(1).pdf',\n",
       " 'pdfs\\\\12.0-Reduction-New Document.pdf',\n",
       " 'pdfs\\\\13.0-Performance.pdf',\n",
       " 'pdfs\\\\Ex.1-gnnoni_parallel_final.pdf',\n",
       " 'pdfs\\\\Ex.2.0-fall_2021_midterm_2.pdf',\n",
       " 'pdfs\\\\Ex.2.1.0-solution_board.pdf',\n",
       " 'pdfs\\\\Ex.3-fall_2021_midterm_1.pdf',\n",
       " 'pdfs\\\\Qz.1-.pdf',\n",
       " 'pdfs\\\\Qz.2.pdf']"
      ]
     },
     "execution_count": 31,
     "metadata": {},
     "output_type": "execute_result"
    }
   ],
   "source": [
    "pdfs"
   ]
  },
  {
   "cell_type": "code",
   "execution_count": 32,
   "metadata": {},
   "outputs": [],
   "source": []
  },
  {
   "cell_type": "code",
   "execution_count": null,
   "metadata": {},
   "outputs": [],
   "source": []
  }
 ],
 "metadata": {
  "interpreter": {
   "hash": "c2deab0c0d56e72ca5db1d97fb88fe0c0ab6b5e910fcaec703ad36be267b2091"
  },
  "kernelspec": {
   "display_name": "Python 3.8.8 ('base')",
   "name": "python3"
  },
  "language_info": {
   "codemirror_mode": {
    "name": "ipython",
    "version": 3
   },
   "file_extension": ".py",
   "mimetype": "text/x-python",
   "name": "python",
   "nbconvert_exporter": "python",
   "pygments_lexer": "ipython3",
   "version": "3.8.8"
  }
 },
 "nbformat": 4,
 "nbformat_minor": 4
}
