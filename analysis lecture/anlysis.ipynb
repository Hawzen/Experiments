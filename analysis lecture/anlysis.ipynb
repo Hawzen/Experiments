{
 "cells": [
  {
   "cell_type": "markdown",
   "metadata": {},
   "source": [
    "# Intro\n",
    "#### This notebook gives a simple introduction into data analysis with python\n",
    "# Prerequisites\n",
    "#### Basic understanding of the Python language\n",
    "# Credits\n",
    "#### Code written by Abdulrahman Alshawi & Mohand Alrasheed\n",
    "#### Data provided by https://www.kaggle.com/chirag02/ford-gobike-2019feb-tripdata"
   ]
  },
  {
   "cell_type": "markdown",
   "metadata": {},
   "source": [
    "# Import Lib"
   ]
  },
  {
   "cell_type": "code",
   "execution_count": 54,
   "metadata": {},
   "outputs": [],
   "source": [
    "import pandas as pd\n",
    "import numpy as np\n",
    "import seaborn as sns\n",
    "\n",
    "# Config\n",
    "sns.mpl.rcParams['figure.dpi'] = 150\n",
    "sns.set_theme(style=\"whitegrid\", palette=\"pastel\")\n",
    "\n",
    "pd.set_option('display.max_rows', 500)"
   ]
  },
  {
   "cell_type": "markdown",
   "metadata": {},
   "source": [
    "# Step 1 - Data preperation"
   ]
  },
  {
   "cell_type": "markdown",
   "metadata": {},
   "source": [
    "#### In this step we load and briefly explore the data"
   ]
  },
  {
   "cell_type": "code",
   "execution_count": 55,
   "metadata": {},
   "outputs": [],
   "source": [
    "# Load data.csv into df variable name\n",
    "# You have to have data.csv in the same folder as this notebook\n",
    "df = pd.read_csv(\"data.csv\")"
   ]
  },
  {
   "cell_type": "code",
   "execution_count": 56,
   "metadata": {},
   "outputs": [
    {
     "name": "stdout",
     "output_type": "stream",
     "text": [
      "<class 'pandas.core.frame.DataFrame'>\n",
      "RangeIndex: 183412 entries, 0 to 183411\n",
      "Data columns (total 16 columns):\n",
      " #   Column                   Non-Null Count   Dtype  \n",
      "---  ------                   --------------   -----  \n",
      " 0   duration_sec             183412 non-null  int64  \n",
      " 1   start_time               183412 non-null  object \n",
      " 2   end_time                 183412 non-null  object \n",
      " 3   start_station_id         183215 non-null  float64\n",
      " 4   start_station_name       183215 non-null  object \n",
      " 5   start_station_latitude   183412 non-null  float64\n",
      " 6   start_station_longitude  183412 non-null  float64\n",
      " 7   end_station_id           183215 non-null  float64\n",
      " 8   end_station_name         183215 non-null  object \n",
      " 9   end_station_latitude     183412 non-null  float64\n",
      " 10  end_station_longitude    183412 non-null  float64\n",
      " 11  bike_id                  183412 non-null  int64  \n",
      " 12  user_type                183412 non-null  object \n",
      " 13  member_birth_year        175147 non-null  float64\n",
      " 14  member_gender            175147 non-null  object \n",
      " 15  bike_share_for_all_trip  183412 non-null  object \n",
      "dtypes: float64(7), int64(2), object(7)\n",
      "memory usage: 22.4+ MB\n"
     ]
    }
   ],
   "source": [
    "df.info()"
   ]
  },
  {
   "cell_type": "code",
   "execution_count": 57,
   "metadata": {},
   "outputs": [
    {
     "data": {
      "text/html": [
       "<div>\n",
       "<style scoped>\n",
       "    .dataframe tbody tr th:only-of-type {\n",
       "        vertical-align: middle;\n",
       "    }\n",
       "\n",
       "    .dataframe tbody tr th {\n",
       "        vertical-align: top;\n",
       "    }\n",
       "\n",
       "    .dataframe thead th {\n",
       "        text-align: right;\n",
       "    }\n",
       "</style>\n",
       "<table border=\"1\" class=\"dataframe\">\n",
       "  <thead>\n",
       "    <tr style=\"text-align: right;\">\n",
       "      <th></th>\n",
       "      <th>duration_sec</th>\n",
       "      <th>start_time</th>\n",
       "      <th>end_time</th>\n",
       "      <th>start_station_id</th>\n",
       "      <th>start_station_name</th>\n",
       "      <th>start_station_latitude</th>\n",
       "      <th>start_station_longitude</th>\n",
       "      <th>end_station_id</th>\n",
       "      <th>end_station_name</th>\n",
       "      <th>end_station_latitude</th>\n",
       "      <th>end_station_longitude</th>\n",
       "      <th>bike_id</th>\n",
       "      <th>user_type</th>\n",
       "      <th>member_birth_year</th>\n",
       "      <th>member_gender</th>\n",
       "      <th>bike_share_for_all_trip</th>\n",
       "    </tr>\n",
       "  </thead>\n",
       "  <tbody>\n",
       "    <tr>\n",
       "      <th>0</th>\n",
       "      <td>52185</td>\n",
       "      <td>2019-02-28 17:32:10.1450</td>\n",
       "      <td>2019-03-01 08:01:55.9750</td>\n",
       "      <td>21.0</td>\n",
       "      <td>Montgomery St BART Station (Market St at 2nd St)</td>\n",
       "      <td>37.789625</td>\n",
       "      <td>-122.400811</td>\n",
       "      <td>13.0</td>\n",
       "      <td>Commercial St at Montgomery St</td>\n",
       "      <td>37.794231</td>\n",
       "      <td>-122.402923</td>\n",
       "      <td>4902</td>\n",
       "      <td>Customer</td>\n",
       "      <td>1984.0</td>\n",
       "      <td>Male</td>\n",
       "      <td>No</td>\n",
       "    </tr>\n",
       "    <tr>\n",
       "      <th>1</th>\n",
       "      <td>42521</td>\n",
       "      <td>2019-02-28 18:53:21.7890</td>\n",
       "      <td>2019-03-01 06:42:03.0560</td>\n",
       "      <td>23.0</td>\n",
       "      <td>The Embarcadero at Steuart St</td>\n",
       "      <td>37.791464</td>\n",
       "      <td>-122.391034</td>\n",
       "      <td>81.0</td>\n",
       "      <td>Berry St at 4th St</td>\n",
       "      <td>37.775880</td>\n",
       "      <td>-122.393170</td>\n",
       "      <td>2535</td>\n",
       "      <td>Customer</td>\n",
       "      <td>NaN</td>\n",
       "      <td>NaN</td>\n",
       "      <td>No</td>\n",
       "    </tr>\n",
       "    <tr>\n",
       "      <th>2</th>\n",
       "      <td>61854</td>\n",
       "      <td>2019-02-28 12:13:13.2180</td>\n",
       "      <td>2019-03-01 05:24:08.1460</td>\n",
       "      <td>86.0</td>\n",
       "      <td>Market St at Dolores St</td>\n",
       "      <td>37.769305</td>\n",
       "      <td>-122.426826</td>\n",
       "      <td>3.0</td>\n",
       "      <td>Powell St BART Station (Market St at 4th St)</td>\n",
       "      <td>37.786375</td>\n",
       "      <td>-122.404904</td>\n",
       "      <td>5905</td>\n",
       "      <td>Customer</td>\n",
       "      <td>1972.0</td>\n",
       "      <td>Male</td>\n",
       "      <td>No</td>\n",
       "    </tr>\n",
       "    <tr>\n",
       "      <th>3</th>\n",
       "      <td>36490</td>\n",
       "      <td>2019-02-28 17:54:26.0100</td>\n",
       "      <td>2019-03-01 04:02:36.8420</td>\n",
       "      <td>375.0</td>\n",
       "      <td>Grove St at Masonic Ave</td>\n",
       "      <td>37.774836</td>\n",
       "      <td>-122.446546</td>\n",
       "      <td>70.0</td>\n",
       "      <td>Central Ave at Fell St</td>\n",
       "      <td>37.773311</td>\n",
       "      <td>-122.444293</td>\n",
       "      <td>6638</td>\n",
       "      <td>Subscriber</td>\n",
       "      <td>1989.0</td>\n",
       "      <td>Other</td>\n",
       "      <td>No</td>\n",
       "    </tr>\n",
       "    <tr>\n",
       "      <th>4</th>\n",
       "      <td>1585</td>\n",
       "      <td>2019-02-28 23:54:18.5490</td>\n",
       "      <td>2019-03-01 00:20:44.0740</td>\n",
       "      <td>7.0</td>\n",
       "      <td>Frank H Ogawa Plaza</td>\n",
       "      <td>37.804562</td>\n",
       "      <td>-122.271738</td>\n",
       "      <td>222.0</td>\n",
       "      <td>10th Ave at E 15th St</td>\n",
       "      <td>37.792714</td>\n",
       "      <td>-122.248780</td>\n",
       "      <td>4898</td>\n",
       "      <td>Subscriber</td>\n",
       "      <td>1974.0</td>\n",
       "      <td>Male</td>\n",
       "      <td>Yes</td>\n",
       "    </tr>\n",
       "    <tr>\n",
       "      <th>5</th>\n",
       "      <td>1793</td>\n",
       "      <td>2019-02-28 23:49:58.6320</td>\n",
       "      <td>2019-03-01 00:19:51.7600</td>\n",
       "      <td>93.0</td>\n",
       "      <td>4th St at Mission Bay Blvd S</td>\n",
       "      <td>37.770407</td>\n",
       "      <td>-122.391198</td>\n",
       "      <td>323.0</td>\n",
       "      <td>Broadway at Kearny</td>\n",
       "      <td>37.798014</td>\n",
       "      <td>-122.405950</td>\n",
       "      <td>5200</td>\n",
       "      <td>Subscriber</td>\n",
       "      <td>1959.0</td>\n",
       "      <td>Male</td>\n",
       "      <td>No</td>\n",
       "    </tr>\n",
       "    <tr>\n",
       "      <th>6</th>\n",
       "      <td>1147</td>\n",
       "      <td>2019-02-28 23:55:35.1040</td>\n",
       "      <td>2019-03-01 00:14:42.5880</td>\n",
       "      <td>300.0</td>\n",
       "      <td>Palm St at Willow St</td>\n",
       "      <td>37.317298</td>\n",
       "      <td>-121.884995</td>\n",
       "      <td>312.0</td>\n",
       "      <td>San Jose Diridon Station</td>\n",
       "      <td>37.329732</td>\n",
       "      <td>-121.901782</td>\n",
       "      <td>3803</td>\n",
       "      <td>Subscriber</td>\n",
       "      <td>1983.0</td>\n",
       "      <td>Female</td>\n",
       "      <td>No</td>\n",
       "    </tr>\n",
       "    <tr>\n",
       "      <th>7</th>\n",
       "      <td>1615</td>\n",
       "      <td>2019-02-28 23:41:06.7660</td>\n",
       "      <td>2019-03-01 00:08:02.7560</td>\n",
       "      <td>10.0</td>\n",
       "      <td>Washington St at Kearny St</td>\n",
       "      <td>37.795393</td>\n",
       "      <td>-122.404770</td>\n",
       "      <td>127.0</td>\n",
       "      <td>Valencia St at 21st St</td>\n",
       "      <td>37.756708</td>\n",
       "      <td>-122.421025</td>\n",
       "      <td>6329</td>\n",
       "      <td>Subscriber</td>\n",
       "      <td>1989.0</td>\n",
       "      <td>Male</td>\n",
       "      <td>No</td>\n",
       "    </tr>\n",
       "    <tr>\n",
       "      <th>8</th>\n",
       "      <td>1570</td>\n",
       "      <td>2019-02-28 23:41:48.7900</td>\n",
       "      <td>2019-03-01 00:07:59.7150</td>\n",
       "      <td>10.0</td>\n",
       "      <td>Washington St at Kearny St</td>\n",
       "      <td>37.795393</td>\n",
       "      <td>-122.404770</td>\n",
       "      <td>127.0</td>\n",
       "      <td>Valencia St at 21st St</td>\n",
       "      <td>37.756708</td>\n",
       "      <td>-122.421025</td>\n",
       "      <td>6548</td>\n",
       "      <td>Subscriber</td>\n",
       "      <td>1988.0</td>\n",
       "      <td>Other</td>\n",
       "      <td>No</td>\n",
       "    </tr>\n",
       "    <tr>\n",
       "      <th>9</th>\n",
       "      <td>1049</td>\n",
       "      <td>2019-02-28 23:49:47.6990</td>\n",
       "      <td>2019-03-01 00:07:17.0250</td>\n",
       "      <td>19.0</td>\n",
       "      <td>Post St at Kearny St</td>\n",
       "      <td>37.788975</td>\n",
       "      <td>-122.403452</td>\n",
       "      <td>121.0</td>\n",
       "      <td>Mission Playground</td>\n",
       "      <td>37.759210</td>\n",
       "      <td>-122.421339</td>\n",
       "      <td>6488</td>\n",
       "      <td>Subscriber</td>\n",
       "      <td>1992.0</td>\n",
       "      <td>Male</td>\n",
       "      <td>No</td>\n",
       "    </tr>\n",
       "  </tbody>\n",
       "</table>\n",
       "</div>"
      ],
      "text/plain": [
       "   duration_sec                start_time                  end_time  \\\n",
       "0         52185  2019-02-28 17:32:10.1450  2019-03-01 08:01:55.9750   \n",
       "1         42521  2019-02-28 18:53:21.7890  2019-03-01 06:42:03.0560   \n",
       "2         61854  2019-02-28 12:13:13.2180  2019-03-01 05:24:08.1460   \n",
       "3         36490  2019-02-28 17:54:26.0100  2019-03-01 04:02:36.8420   \n",
       "4          1585  2019-02-28 23:54:18.5490  2019-03-01 00:20:44.0740   \n",
       "5          1793  2019-02-28 23:49:58.6320  2019-03-01 00:19:51.7600   \n",
       "6          1147  2019-02-28 23:55:35.1040  2019-03-01 00:14:42.5880   \n",
       "7          1615  2019-02-28 23:41:06.7660  2019-03-01 00:08:02.7560   \n",
       "8          1570  2019-02-28 23:41:48.7900  2019-03-01 00:07:59.7150   \n",
       "9          1049  2019-02-28 23:49:47.6990  2019-03-01 00:07:17.0250   \n",
       "\n",
       "   start_station_id                                start_station_name  \\\n",
       "0              21.0  Montgomery St BART Station (Market St at 2nd St)   \n",
       "1              23.0                     The Embarcadero at Steuart St   \n",
       "2              86.0                           Market St at Dolores St   \n",
       "3             375.0                           Grove St at Masonic Ave   \n",
       "4               7.0                               Frank H Ogawa Plaza   \n",
       "5              93.0                      4th St at Mission Bay Blvd S   \n",
       "6             300.0                              Palm St at Willow St   \n",
       "7              10.0                        Washington St at Kearny St   \n",
       "8              10.0                        Washington St at Kearny St   \n",
       "9              19.0                              Post St at Kearny St   \n",
       "\n",
       "   start_station_latitude  start_station_longitude  end_station_id  \\\n",
       "0               37.789625              -122.400811            13.0   \n",
       "1               37.791464              -122.391034            81.0   \n",
       "2               37.769305              -122.426826             3.0   \n",
       "3               37.774836              -122.446546            70.0   \n",
       "4               37.804562              -122.271738           222.0   \n",
       "5               37.770407              -122.391198           323.0   \n",
       "6               37.317298              -121.884995           312.0   \n",
       "7               37.795393              -122.404770           127.0   \n",
       "8               37.795393              -122.404770           127.0   \n",
       "9               37.788975              -122.403452           121.0   \n",
       "\n",
       "                               end_station_name  end_station_latitude  \\\n",
       "0                Commercial St at Montgomery St             37.794231   \n",
       "1                            Berry St at 4th St             37.775880   \n",
       "2  Powell St BART Station (Market St at 4th St)             37.786375   \n",
       "3                        Central Ave at Fell St             37.773311   \n",
       "4                         10th Ave at E 15th St             37.792714   \n",
       "5                            Broadway at Kearny             37.798014   \n",
       "6                      San Jose Diridon Station             37.329732   \n",
       "7                        Valencia St at 21st St             37.756708   \n",
       "8                        Valencia St at 21st St             37.756708   \n",
       "9                            Mission Playground             37.759210   \n",
       "\n",
       "   end_station_longitude  bike_id   user_type  member_birth_year  \\\n",
       "0            -122.402923     4902    Customer             1984.0   \n",
       "1            -122.393170     2535    Customer                NaN   \n",
       "2            -122.404904     5905    Customer             1972.0   \n",
       "3            -122.444293     6638  Subscriber             1989.0   \n",
       "4            -122.248780     4898  Subscriber             1974.0   \n",
       "5            -122.405950     5200  Subscriber             1959.0   \n",
       "6            -121.901782     3803  Subscriber             1983.0   \n",
       "7            -122.421025     6329  Subscriber             1989.0   \n",
       "8            -122.421025     6548  Subscriber             1988.0   \n",
       "9            -122.421339     6488  Subscriber             1992.0   \n",
       "\n",
       "  member_gender bike_share_for_all_trip  \n",
       "0          Male                      No  \n",
       "1           NaN                      No  \n",
       "2          Male                      No  \n",
       "3         Other                      No  \n",
       "4          Male                     Yes  \n",
       "5          Male                      No  \n",
       "6        Female                      No  \n",
       "7          Male                      No  \n",
       "8         Other                      No  \n",
       "9          Male                      No  "
      ]
     },
     "execution_count": 57,
     "metadata": {},
     "output_type": "execute_result"
    }
   ],
   "source": [
    "df.head(10)"
   ]
  },
  {
   "cell_type": "code",
   "execution_count": 58,
   "metadata": {},
   "outputs": [
    {
     "data": {
      "text/html": [
       "<div>\n",
       "<style scoped>\n",
       "    .dataframe tbody tr th:only-of-type {\n",
       "        vertical-align: middle;\n",
       "    }\n",
       "\n",
       "    .dataframe tbody tr th {\n",
       "        vertical-align: top;\n",
       "    }\n",
       "\n",
       "    .dataframe thead th {\n",
       "        text-align: right;\n",
       "    }\n",
       "</style>\n",
       "<table border=\"1\" class=\"dataframe\">\n",
       "  <thead>\n",
       "    <tr style=\"text-align: right;\">\n",
       "      <th></th>\n",
       "      <th>duration_sec</th>\n",
       "      <th>start_station_id</th>\n",
       "      <th>start_station_latitude</th>\n",
       "      <th>start_station_longitude</th>\n",
       "      <th>end_station_id</th>\n",
       "      <th>end_station_latitude</th>\n",
       "      <th>end_station_longitude</th>\n",
       "      <th>bike_id</th>\n",
       "      <th>member_birth_year</th>\n",
       "    </tr>\n",
       "  </thead>\n",
       "  <tbody>\n",
       "    <tr>\n",
       "      <th>count</th>\n",
       "      <td>183412.000000</td>\n",
       "      <td>183215.000000</td>\n",
       "      <td>183412.000000</td>\n",
       "      <td>183412.000000</td>\n",
       "      <td>183215.000000</td>\n",
       "      <td>183412.000000</td>\n",
       "      <td>183412.000000</td>\n",
       "      <td>183412.000000</td>\n",
       "      <td>175147.000000</td>\n",
       "    </tr>\n",
       "    <tr>\n",
       "      <th>mean</th>\n",
       "      <td>726.078435</td>\n",
       "      <td>138.590427</td>\n",
       "      <td>37.771223</td>\n",
       "      <td>-122.352664</td>\n",
       "      <td>136.249123</td>\n",
       "      <td>37.771427</td>\n",
       "      <td>-122.352250</td>\n",
       "      <td>4472.906375</td>\n",
       "      <td>1984.806437</td>\n",
       "    </tr>\n",
       "    <tr>\n",
       "      <th>std</th>\n",
       "      <td>1794.389780</td>\n",
       "      <td>111.778864</td>\n",
       "      <td>0.099581</td>\n",
       "      <td>0.117097</td>\n",
       "      <td>111.515131</td>\n",
       "      <td>0.099490</td>\n",
       "      <td>0.116673</td>\n",
       "      <td>1664.383394</td>\n",
       "      <td>10.116689</td>\n",
       "    </tr>\n",
       "    <tr>\n",
       "      <th>min</th>\n",
       "      <td>61.000000</td>\n",
       "      <td>3.000000</td>\n",
       "      <td>37.317298</td>\n",
       "      <td>-122.453704</td>\n",
       "      <td>3.000000</td>\n",
       "      <td>37.317298</td>\n",
       "      <td>-122.453704</td>\n",
       "      <td>11.000000</td>\n",
       "      <td>1878.000000</td>\n",
       "    </tr>\n",
       "    <tr>\n",
       "      <th>25%</th>\n",
       "      <td>325.000000</td>\n",
       "      <td>47.000000</td>\n",
       "      <td>37.770083</td>\n",
       "      <td>-122.412408</td>\n",
       "      <td>44.000000</td>\n",
       "      <td>37.770407</td>\n",
       "      <td>-122.411726</td>\n",
       "      <td>3777.000000</td>\n",
       "      <td>1980.000000</td>\n",
       "    </tr>\n",
       "    <tr>\n",
       "      <th>50%</th>\n",
       "      <td>514.000000</td>\n",
       "      <td>104.000000</td>\n",
       "      <td>37.780760</td>\n",
       "      <td>-122.398285</td>\n",
       "      <td>100.000000</td>\n",
       "      <td>37.781010</td>\n",
       "      <td>-122.398279</td>\n",
       "      <td>4958.000000</td>\n",
       "      <td>1987.000000</td>\n",
       "    </tr>\n",
       "    <tr>\n",
       "      <th>75%</th>\n",
       "      <td>796.000000</td>\n",
       "      <td>239.000000</td>\n",
       "      <td>37.797280</td>\n",
       "      <td>-122.286533</td>\n",
       "      <td>235.000000</td>\n",
       "      <td>37.797320</td>\n",
       "      <td>-122.288045</td>\n",
       "      <td>5502.000000</td>\n",
       "      <td>1992.000000</td>\n",
       "    </tr>\n",
       "    <tr>\n",
       "      <th>max</th>\n",
       "      <td>85444.000000</td>\n",
       "      <td>398.000000</td>\n",
       "      <td>37.880222</td>\n",
       "      <td>-121.874119</td>\n",
       "      <td>398.000000</td>\n",
       "      <td>37.880222</td>\n",
       "      <td>-121.874119</td>\n",
       "      <td>6645.000000</td>\n",
       "      <td>2001.000000</td>\n",
       "    </tr>\n",
       "  </tbody>\n",
       "</table>\n",
       "</div>"
      ],
      "text/plain": [
       "        duration_sec  start_station_id  start_station_latitude  \\\n",
       "count  183412.000000     183215.000000           183412.000000   \n",
       "mean      726.078435        138.590427               37.771223   \n",
       "std      1794.389780        111.778864                0.099581   \n",
       "min        61.000000          3.000000               37.317298   \n",
       "25%       325.000000         47.000000               37.770083   \n",
       "50%       514.000000        104.000000               37.780760   \n",
       "75%       796.000000        239.000000               37.797280   \n",
       "max     85444.000000        398.000000               37.880222   \n",
       "\n",
       "       start_station_longitude  end_station_id  end_station_latitude  \\\n",
       "count            183412.000000   183215.000000         183412.000000   \n",
       "mean               -122.352664      136.249123             37.771427   \n",
       "std                   0.117097      111.515131              0.099490   \n",
       "min                -122.453704        3.000000             37.317298   \n",
       "25%                -122.412408       44.000000             37.770407   \n",
       "50%                -122.398285      100.000000             37.781010   \n",
       "75%                -122.286533      235.000000             37.797320   \n",
       "max                -121.874119      398.000000             37.880222   \n",
       "\n",
       "       end_station_longitude        bike_id  member_birth_year  \n",
       "count          183412.000000  183412.000000      175147.000000  \n",
       "mean             -122.352250    4472.906375        1984.806437  \n",
       "std                 0.116673    1664.383394          10.116689  \n",
       "min              -122.453704      11.000000        1878.000000  \n",
       "25%              -122.411726    3777.000000        1980.000000  \n",
       "50%              -122.398279    4958.000000        1987.000000  \n",
       "75%              -122.288045    5502.000000        1992.000000  \n",
       "max              -121.874119    6645.000000        2001.000000  "
      ]
     },
     "execution_count": 58,
     "metadata": {},
     "output_type": "execute_result"
    }
   ],
   "source": [
    "df.describe()"
   ]
  },
  {
   "cell_type": "markdown",
   "metadata": {},
   "source": [
    "# Step 2 - Data cleaning"
   ]
  },
  {
   "cell_type": "markdown",
   "metadata": {},
   "source": [
    "#### In this step we filter out outlier data points and anamolies as well as anything else that'll hamper our ability to analyze the data"
   ]
  },
  {
   "cell_type": "markdown",
   "metadata": {},
   "source": [
    "### Investigate how many not available (NA) values are there"
   ]
  },
  {
   "cell_type": "code",
   "execution_count": 90,
   "metadata": {},
   "outputs": [
    {
     "data": {
      "text/plain": [
       "duration_sec                  0\n",
       "start_time                    0\n",
       "end_time                      0\n",
       "start_station_id            197\n",
       "start_station_name          197\n",
       "start_station_latitude        0\n",
       "start_station_longitude       0\n",
       "end_station_id              197\n",
       "end_station_name            197\n",
       "end_station_latitude          0\n",
       "end_station_longitude         0\n",
       "bike_id                       0\n",
       "user_type                     0\n",
       "member_birth_year          8265\n",
       "member_gender              8265\n",
       "bike_share_for_all_trip       0\n",
       "dtype: int64"
      ]
     },
     "execution_count": 90,
     "metadata": {},
     "output_type": "execute_result"
    }
   ],
   "source": [
    "df.isna().sum()"
   ]
  },
  {
   "cell_type": "markdown",
   "metadata": {},
   "source": [
    "### Add synthesized columns that make analysis easier"
   ]
  },
  {
   "cell_type": "code",
   "execution_count": 149,
   "metadata": {},
   "outputs": [
    {
     "data": {
      "text/plain": [
       "0         52185\n",
       "1         42521\n",
       "2         61854\n",
       "3         36490\n",
       "4          1585\n",
       "          ...  \n",
       "183407      480\n",
       "183408      313\n",
       "183409      141\n",
       "183410      139\n",
       "183411      271\n",
       "Name: duration_sec, Length: 183412, dtype: int64"
      ]
     },
     "execution_count": 149,
     "metadata": {},
     "output_type": "execute_result"
    }
   ],
   "source": [
    "df[\"duration_sec\"]"
   ]
  },
  {
   "cell_type": "code",
   "execution_count": 120,
   "metadata": {},
   "outputs": [],
   "source": [
    "df[\"duration_min\"] = df[\"duration_sec\"].apply(lambda time: time/60)\n",
    "df[\"duration_hour\"] = df[\"duration_sec\"].apply(lambda time: time/3600)"
   ]
  },
  {
   "cell_type": "code",
   "execution_count": 121,
   "metadata": {},
   "outputs": [
    {
     "data": {
      "text/html": [
       "<div>\n",
       "<style scoped>\n",
       "    .dataframe tbody tr th:only-of-type {\n",
       "        vertical-align: middle;\n",
       "    }\n",
       "\n",
       "    .dataframe tbody tr th {\n",
       "        vertical-align: top;\n",
       "    }\n",
       "\n",
       "    .dataframe thead th {\n",
       "        text-align: right;\n",
       "    }\n",
       "</style>\n",
       "<table border=\"1\" class=\"dataframe\">\n",
       "  <thead>\n",
       "    <tr style=\"text-align: right;\">\n",
       "      <th></th>\n",
       "      <th>duration_sec</th>\n",
       "      <th>start_time</th>\n",
       "      <th>end_time</th>\n",
       "      <th>start_station_id</th>\n",
       "      <th>start_station_name</th>\n",
       "      <th>start_station_latitude</th>\n",
       "      <th>start_station_longitude</th>\n",
       "      <th>end_station_id</th>\n",
       "      <th>end_station_name</th>\n",
       "      <th>end_station_latitude</th>\n",
       "      <th>end_station_longitude</th>\n",
       "      <th>bike_id</th>\n",
       "      <th>user_type</th>\n",
       "      <th>member_birth_year</th>\n",
       "      <th>member_gender</th>\n",
       "      <th>bike_share_for_all_trip</th>\n",
       "      <th>duration_min</th>\n",
       "      <th>duration_hour</th>\n",
       "    </tr>\n",
       "  </thead>\n",
       "  <tbody>\n",
       "    <tr>\n",
       "      <th>0</th>\n",
       "      <td>52185</td>\n",
       "      <td>2019-02-28 17:32:10.1450</td>\n",
       "      <td>2019-03-01 08:01:55.9750</td>\n",
       "      <td>21.0</td>\n",
       "      <td>Montgomery St BART Station (Market St at 2nd St)</td>\n",
       "      <td>37.789625</td>\n",
       "      <td>-122.400811</td>\n",
       "      <td>13.0</td>\n",
       "      <td>Commercial St at Montgomery St</td>\n",
       "      <td>37.794231</td>\n",
       "      <td>-122.402923</td>\n",
       "      <td>4902</td>\n",
       "      <td>Customer</td>\n",
       "      <td>1984.0</td>\n",
       "      <td>Male</td>\n",
       "      <td>No</td>\n",
       "      <td>869.750000</td>\n",
       "      <td>14.495833</td>\n",
       "    </tr>\n",
       "    <tr>\n",
       "      <th>2</th>\n",
       "      <td>61854</td>\n",
       "      <td>2019-02-28 12:13:13.2180</td>\n",
       "      <td>2019-03-01 05:24:08.1460</td>\n",
       "      <td>86.0</td>\n",
       "      <td>Market St at Dolores St</td>\n",
       "      <td>37.769305</td>\n",
       "      <td>-122.426826</td>\n",
       "      <td>3.0</td>\n",
       "      <td>Powell St BART Station (Market St at 4th St)</td>\n",
       "      <td>37.786375</td>\n",
       "      <td>-122.404904</td>\n",
       "      <td>5905</td>\n",
       "      <td>Customer</td>\n",
       "      <td>1972.0</td>\n",
       "      <td>Male</td>\n",
       "      <td>No</td>\n",
       "      <td>1030.900000</td>\n",
       "      <td>17.181667</td>\n",
       "    </tr>\n",
       "    <tr>\n",
       "      <th>3</th>\n",
       "      <td>36490</td>\n",
       "      <td>2019-02-28 17:54:26.0100</td>\n",
       "      <td>2019-03-01 04:02:36.8420</td>\n",
       "      <td>375.0</td>\n",
       "      <td>Grove St at Masonic Ave</td>\n",
       "      <td>37.774836</td>\n",
       "      <td>-122.446546</td>\n",
       "      <td>70.0</td>\n",
       "      <td>Central Ave at Fell St</td>\n",
       "      <td>37.773311</td>\n",
       "      <td>-122.444293</td>\n",
       "      <td>6638</td>\n",
       "      <td>Subscriber</td>\n",
       "      <td>1989.0</td>\n",
       "      <td>Other</td>\n",
       "      <td>No</td>\n",
       "      <td>608.166667</td>\n",
       "      <td>10.136111</td>\n",
       "    </tr>\n",
       "    <tr>\n",
       "      <th>4</th>\n",
       "      <td>1585</td>\n",
       "      <td>2019-02-28 23:54:18.5490</td>\n",
       "      <td>2019-03-01 00:20:44.0740</td>\n",
       "      <td>7.0</td>\n",
       "      <td>Frank H Ogawa Plaza</td>\n",
       "      <td>37.804562</td>\n",
       "      <td>-122.271738</td>\n",
       "      <td>222.0</td>\n",
       "      <td>10th Ave at E 15th St</td>\n",
       "      <td>37.792714</td>\n",
       "      <td>-122.248780</td>\n",
       "      <td>4898</td>\n",
       "      <td>Subscriber</td>\n",
       "      <td>1974.0</td>\n",
       "      <td>Male</td>\n",
       "      <td>Yes</td>\n",
       "      <td>26.416667</td>\n",
       "      <td>0.440278</td>\n",
       "    </tr>\n",
       "    <tr>\n",
       "      <th>5</th>\n",
       "      <td>1793</td>\n",
       "      <td>2019-02-28 23:49:58.6320</td>\n",
       "      <td>2019-03-01 00:19:51.7600</td>\n",
       "      <td>93.0</td>\n",
       "      <td>4th St at Mission Bay Blvd S</td>\n",
       "      <td>37.770407</td>\n",
       "      <td>-122.391198</td>\n",
       "      <td>323.0</td>\n",
       "      <td>Broadway at Kearny</td>\n",
       "      <td>37.798014</td>\n",
       "      <td>-122.405950</td>\n",
       "      <td>5200</td>\n",
       "      <td>Subscriber</td>\n",
       "      <td>1959.0</td>\n",
       "      <td>Male</td>\n",
       "      <td>No</td>\n",
       "      <td>29.883333</td>\n",
       "      <td>0.498056</td>\n",
       "    </tr>\n",
       "  </tbody>\n",
       "</table>\n",
       "</div>"
      ],
      "text/plain": [
       "   duration_sec                start_time                  end_time  \\\n",
       "0         52185  2019-02-28 17:32:10.1450  2019-03-01 08:01:55.9750   \n",
       "2         61854  2019-02-28 12:13:13.2180  2019-03-01 05:24:08.1460   \n",
       "3         36490  2019-02-28 17:54:26.0100  2019-03-01 04:02:36.8420   \n",
       "4          1585  2019-02-28 23:54:18.5490  2019-03-01 00:20:44.0740   \n",
       "5          1793  2019-02-28 23:49:58.6320  2019-03-01 00:19:51.7600   \n",
       "\n",
       "   start_station_id                                start_station_name  \\\n",
       "0              21.0  Montgomery St BART Station (Market St at 2nd St)   \n",
       "2              86.0                           Market St at Dolores St   \n",
       "3             375.0                           Grove St at Masonic Ave   \n",
       "4               7.0                               Frank H Ogawa Plaza   \n",
       "5              93.0                      4th St at Mission Bay Blvd S   \n",
       "\n",
       "   start_station_latitude  start_station_longitude  end_station_id  \\\n",
       "0               37.789625              -122.400811            13.0   \n",
       "2               37.769305              -122.426826             3.0   \n",
       "3               37.774836              -122.446546            70.0   \n",
       "4               37.804562              -122.271738           222.0   \n",
       "5               37.770407              -122.391198           323.0   \n",
       "\n",
       "                               end_station_name  end_station_latitude  \\\n",
       "0                Commercial St at Montgomery St             37.794231   \n",
       "2  Powell St BART Station (Market St at 4th St)             37.786375   \n",
       "3                        Central Ave at Fell St             37.773311   \n",
       "4                         10th Ave at E 15th St             37.792714   \n",
       "5                            Broadway at Kearny             37.798014   \n",
       "\n",
       "   end_station_longitude  bike_id   user_type  member_birth_year  \\\n",
       "0            -122.402923     4902    Customer             1984.0   \n",
       "2            -122.404904     5905    Customer             1972.0   \n",
       "3            -122.444293     6638  Subscriber             1989.0   \n",
       "4            -122.248780     4898  Subscriber             1974.0   \n",
       "5            -122.405950     5200  Subscriber             1959.0   \n",
       "\n",
       "  member_gender bike_share_for_all_trip  duration_min  duration_hour  \n",
       "0          Male                      No    869.750000      14.495833  \n",
       "2          Male                      No   1030.900000      17.181667  \n",
       "3         Other                      No    608.166667      10.136111  \n",
       "4          Male                     Yes     26.416667       0.440278  \n",
       "5          Male                      No     29.883333       0.498056  "
      ]
     },
     "execution_count": 121,
     "metadata": {},
     "output_type": "execute_result"
    }
   ],
   "source": [
    "df.head()"
   ]
  },
  {
   "cell_type": "markdown",
   "metadata": {},
   "source": [
    "#### Change data types of datetime from 'Object' to 'datetime64'"
   ]
  },
  {
   "cell_type": "code",
   "execution_count": 122,
   "metadata": {},
   "outputs": [
    {
     "name": "stdout",
     "output_type": "stream",
     "text": [
      "<class 'pandas.core.frame.DataFrame'>\n",
      "Int64Index: 174952 entries, 0 to 183411\n",
      "Data columns (total 18 columns):\n",
      " #   Column                   Non-Null Count   Dtype         \n",
      "---  ------                   --------------   -----         \n",
      " 0   duration_sec             174952 non-null  int64         \n",
      " 1   start_time               174952 non-null  datetime64[ns]\n",
      " 2   end_time                 174952 non-null  datetime64[ns]\n",
      " 3   start_station_id         174952 non-null  float64       \n",
      " 4   start_station_name       174952 non-null  object        \n",
      " 5   start_station_latitude   174952 non-null  float64       \n",
      " 6   start_station_longitude  174952 non-null  float64       \n",
      " 7   end_station_id           174952 non-null  float64       \n",
      " 8   end_station_name         174952 non-null  object        \n",
      " 9   end_station_latitude     174952 non-null  float64       \n",
      " 10  end_station_longitude    174952 non-null  float64       \n",
      " 11  bike_id                  174952 non-null  int64         \n",
      " 12  user_type                174952 non-null  object        \n",
      " 13  member_birth_year        174952 non-null  float64       \n",
      " 14  member_gender            174952 non-null  object        \n",
      " 15  bike_share_for_all_trip  174952 non-null  object        \n",
      " 16  duration_min             174952 non-null  float64       \n",
      " 17  duration_hour            174952 non-null  float64       \n",
      "dtypes: datetime64[ns](2), float64(9), int64(2), object(5)\n",
      "memory usage: 25.4+ MB\n"
     ]
    }
   ],
   "source": [
    "df[\"start_time\"] = df[\"start_time\"].astype(\"datetime64[ns]\")\n",
    "df[\"end_time\"] = df[\"end_time\"].astype(\"datetime64[ns]\")\n",
    "df.info()"
   ]
  },
  {
   "cell_type": "markdown",
   "metadata": {},
   "source": [
    "#### Examine at cleaned data"
   ]
  },
  {
   "cell_type": "code",
   "execution_count": 123,
   "metadata": {},
   "outputs": [
    {
     "data": {
      "text/html": [
       "<div>\n",
       "<style scoped>\n",
       "    .dataframe tbody tr th:only-of-type {\n",
       "        vertical-align: middle;\n",
       "    }\n",
       "\n",
       "    .dataframe tbody tr th {\n",
       "        vertical-align: top;\n",
       "    }\n",
       "\n",
       "    .dataframe thead th {\n",
       "        text-align: right;\n",
       "    }\n",
       "</style>\n",
       "<table border=\"1\" class=\"dataframe\">\n",
       "  <thead>\n",
       "    <tr style=\"text-align: right;\">\n",
       "      <th></th>\n",
       "      <th>duration_sec</th>\n",
       "      <th>start_time</th>\n",
       "      <th>end_time</th>\n",
       "      <th>start_station_id</th>\n",
       "      <th>start_station_name</th>\n",
       "      <th>start_station_latitude</th>\n",
       "      <th>start_station_longitude</th>\n",
       "      <th>end_station_id</th>\n",
       "      <th>end_station_name</th>\n",
       "      <th>end_station_latitude</th>\n",
       "      <th>end_station_longitude</th>\n",
       "      <th>bike_id</th>\n",
       "      <th>user_type</th>\n",
       "      <th>member_birth_year</th>\n",
       "      <th>member_gender</th>\n",
       "      <th>bike_share_for_all_trip</th>\n",
       "      <th>duration_min</th>\n",
       "      <th>duration_hour</th>\n",
       "    </tr>\n",
       "  </thead>\n",
       "  <tbody>\n",
       "    <tr>\n",
       "      <th>0</th>\n",
       "      <td>52185</td>\n",
       "      <td>2019-02-28 17:32:10.145</td>\n",
       "      <td>2019-03-01 08:01:55.975</td>\n",
       "      <td>21.0</td>\n",
       "      <td>Montgomery St BART Station (Market St at 2nd St)</td>\n",
       "      <td>37.789625</td>\n",
       "      <td>-122.400811</td>\n",
       "      <td>13.0</td>\n",
       "      <td>Commercial St at Montgomery St</td>\n",
       "      <td>37.794231</td>\n",
       "      <td>-122.402923</td>\n",
       "      <td>4902</td>\n",
       "      <td>Customer</td>\n",
       "      <td>1984.0</td>\n",
       "      <td>Male</td>\n",
       "      <td>No</td>\n",
       "      <td>869.750000</td>\n",
       "      <td>14.495833</td>\n",
       "    </tr>\n",
       "    <tr>\n",
       "      <th>2</th>\n",
       "      <td>61854</td>\n",
       "      <td>2019-02-28 12:13:13.218</td>\n",
       "      <td>2019-03-01 05:24:08.146</td>\n",
       "      <td>86.0</td>\n",
       "      <td>Market St at Dolores St</td>\n",
       "      <td>37.769305</td>\n",
       "      <td>-122.426826</td>\n",
       "      <td>3.0</td>\n",
       "      <td>Powell St BART Station (Market St at 4th St)</td>\n",
       "      <td>37.786375</td>\n",
       "      <td>-122.404904</td>\n",
       "      <td>5905</td>\n",
       "      <td>Customer</td>\n",
       "      <td>1972.0</td>\n",
       "      <td>Male</td>\n",
       "      <td>No</td>\n",
       "      <td>1030.900000</td>\n",
       "      <td>17.181667</td>\n",
       "    </tr>\n",
       "    <tr>\n",
       "      <th>3</th>\n",
       "      <td>36490</td>\n",
       "      <td>2019-02-28 17:54:26.010</td>\n",
       "      <td>2019-03-01 04:02:36.842</td>\n",
       "      <td>375.0</td>\n",
       "      <td>Grove St at Masonic Ave</td>\n",
       "      <td>37.774836</td>\n",
       "      <td>-122.446546</td>\n",
       "      <td>70.0</td>\n",
       "      <td>Central Ave at Fell St</td>\n",
       "      <td>37.773311</td>\n",
       "      <td>-122.444293</td>\n",
       "      <td>6638</td>\n",
       "      <td>Subscriber</td>\n",
       "      <td>1989.0</td>\n",
       "      <td>Other</td>\n",
       "      <td>No</td>\n",
       "      <td>608.166667</td>\n",
       "      <td>10.136111</td>\n",
       "    </tr>\n",
       "    <tr>\n",
       "      <th>4</th>\n",
       "      <td>1585</td>\n",
       "      <td>2019-02-28 23:54:18.549</td>\n",
       "      <td>2019-03-01 00:20:44.074</td>\n",
       "      <td>7.0</td>\n",
       "      <td>Frank H Ogawa Plaza</td>\n",
       "      <td>37.804562</td>\n",
       "      <td>-122.271738</td>\n",
       "      <td>222.0</td>\n",
       "      <td>10th Ave at E 15th St</td>\n",
       "      <td>37.792714</td>\n",
       "      <td>-122.248780</td>\n",
       "      <td>4898</td>\n",
       "      <td>Subscriber</td>\n",
       "      <td>1974.0</td>\n",
       "      <td>Male</td>\n",
       "      <td>Yes</td>\n",
       "      <td>26.416667</td>\n",
       "      <td>0.440278</td>\n",
       "    </tr>\n",
       "    <tr>\n",
       "      <th>5</th>\n",
       "      <td>1793</td>\n",
       "      <td>2019-02-28 23:49:58.632</td>\n",
       "      <td>2019-03-01 00:19:51.760</td>\n",
       "      <td>93.0</td>\n",
       "      <td>4th St at Mission Bay Blvd S</td>\n",
       "      <td>37.770407</td>\n",
       "      <td>-122.391198</td>\n",
       "      <td>323.0</td>\n",
       "      <td>Broadway at Kearny</td>\n",
       "      <td>37.798014</td>\n",
       "      <td>-122.405950</td>\n",
       "      <td>5200</td>\n",
       "      <td>Subscriber</td>\n",
       "      <td>1959.0</td>\n",
       "      <td>Male</td>\n",
       "      <td>No</td>\n",
       "      <td>29.883333</td>\n",
       "      <td>0.498056</td>\n",
       "    </tr>\n",
       "  </tbody>\n",
       "</table>\n",
       "</div>"
      ],
      "text/plain": [
       "   duration_sec              start_time                end_time  \\\n",
       "0         52185 2019-02-28 17:32:10.145 2019-03-01 08:01:55.975   \n",
       "2         61854 2019-02-28 12:13:13.218 2019-03-01 05:24:08.146   \n",
       "3         36490 2019-02-28 17:54:26.010 2019-03-01 04:02:36.842   \n",
       "4          1585 2019-02-28 23:54:18.549 2019-03-01 00:20:44.074   \n",
       "5          1793 2019-02-28 23:49:58.632 2019-03-01 00:19:51.760   \n",
       "\n",
       "   start_station_id                                start_station_name  \\\n",
       "0              21.0  Montgomery St BART Station (Market St at 2nd St)   \n",
       "2              86.0                           Market St at Dolores St   \n",
       "3             375.0                           Grove St at Masonic Ave   \n",
       "4               7.0                               Frank H Ogawa Plaza   \n",
       "5              93.0                      4th St at Mission Bay Blvd S   \n",
       "\n",
       "   start_station_latitude  start_station_longitude  end_station_id  \\\n",
       "0               37.789625              -122.400811            13.0   \n",
       "2               37.769305              -122.426826             3.0   \n",
       "3               37.774836              -122.446546            70.0   \n",
       "4               37.804562              -122.271738           222.0   \n",
       "5               37.770407              -122.391198           323.0   \n",
       "\n",
       "                               end_station_name  end_station_latitude  \\\n",
       "0                Commercial St at Montgomery St             37.794231   \n",
       "2  Powell St BART Station (Market St at 4th St)             37.786375   \n",
       "3                        Central Ave at Fell St             37.773311   \n",
       "4                         10th Ave at E 15th St             37.792714   \n",
       "5                            Broadway at Kearny             37.798014   \n",
       "\n",
       "   end_station_longitude  bike_id   user_type  member_birth_year  \\\n",
       "0            -122.402923     4902    Customer             1984.0   \n",
       "2            -122.404904     5905    Customer             1972.0   \n",
       "3            -122.444293     6638  Subscriber             1989.0   \n",
       "4            -122.248780     4898  Subscriber             1974.0   \n",
       "5            -122.405950     5200  Subscriber             1959.0   \n",
       "\n",
       "  member_gender bike_share_for_all_trip  duration_min  duration_hour  \n",
       "0          Male                      No    869.750000      14.495833  \n",
       "2          Male                      No   1030.900000      17.181667  \n",
       "3         Other                      No    608.166667      10.136111  \n",
       "4          Male                     Yes     26.416667       0.440278  \n",
       "5          Male                      No     29.883333       0.498056  "
      ]
     },
     "execution_count": 123,
     "metadata": {},
     "output_type": "execute_result"
    }
   ],
   "source": [
    "df.head()"
   ]
  },
  {
   "cell_type": "markdown",
   "metadata": {},
   "source": [
    "# Step 3 - Data Anlysis"
   ]
  },
  {
   "cell_type": "markdown",
   "metadata": {},
   "source": [
    "## Questions\n",
    "\n",
    "### 1- Which time\\day\\month do most people go on a ride\n",
    "### 2- Is most of our customers\\subscriber males or females\n",
    "### 3- How long does most females go on a ride and how long does most male go on a ride"
   ]
  },
  {
   "cell_type": "markdown",
   "metadata": {},
   "source": [
    "# Q1"
   ]
  },
  {
   "cell_type": "code",
   "execution_count": 124,
   "metadata": {},
   "outputs": [],
   "source": [
    "months = {1 : \"Jan\" , 2 : \"Feb\" , 3 : \"Mar\" , 4 : \"Apr\" , 5 : \"May\",\n",
    "          6 : \"Jun\" , 7 : \"Jul\" , 8 : \"Aug\" , 9 : \"Sep\" , 10 : \"Oct\",\n",
    "          11 : \"Nov\" , 12 : \"Dec\"}\n",
    "days = [\"Mon\" , \"Tue\" , \"Wed\" , \"Thur\" , \"Fri\" , \"Sat\" , \"Sun\"]"
   ]
  },
  {
   "cell_type": "code",
   "execution_count": 125,
   "metadata": {},
   "outputs": [
    {
     "data": {
      "text/html": [
       "<div>\n",
       "<style scoped>\n",
       "    .dataframe tbody tr th:only-of-type {\n",
       "        vertical-align: middle;\n",
       "    }\n",
       "\n",
       "    .dataframe tbody tr th {\n",
       "        vertical-align: top;\n",
       "    }\n",
       "\n",
       "    .dataframe thead th {\n",
       "        text-align: right;\n",
       "    }\n",
       "</style>\n",
       "<table border=\"1\" class=\"dataframe\">\n",
       "  <thead>\n",
       "    <tr style=\"text-align: right;\">\n",
       "      <th></th>\n",
       "      <th>duration_sec</th>\n",
       "      <th>start_time</th>\n",
       "      <th>end_time</th>\n",
       "      <th>start_station_id</th>\n",
       "      <th>start_station_name</th>\n",
       "      <th>start_station_latitude</th>\n",
       "      <th>start_station_longitude</th>\n",
       "      <th>end_station_id</th>\n",
       "      <th>end_station_name</th>\n",
       "      <th>end_station_latitude</th>\n",
       "      <th>...</th>\n",
       "      <th>bike_id</th>\n",
       "      <th>user_type</th>\n",
       "      <th>member_birth_year</th>\n",
       "      <th>member_gender</th>\n",
       "      <th>bike_share_for_all_trip</th>\n",
       "      <th>duration_min</th>\n",
       "      <th>duration_hour</th>\n",
       "      <th>time</th>\n",
       "      <th>month</th>\n",
       "      <th>day</th>\n",
       "    </tr>\n",
       "  </thead>\n",
       "  <tbody>\n",
       "    <tr>\n",
       "      <th>0</th>\n",
       "      <td>52185</td>\n",
       "      <td>2019-02-28 17:32:10.145</td>\n",
       "      <td>2019-03-01 08:01:55.975</td>\n",
       "      <td>21.0</td>\n",
       "      <td>Montgomery St BART Station (Market St at 2nd St)</td>\n",
       "      <td>37.789625</td>\n",
       "      <td>-122.400811</td>\n",
       "      <td>13.0</td>\n",
       "      <td>Commercial St at Montgomery St</td>\n",
       "      <td>37.794231</td>\n",
       "      <td>...</td>\n",
       "      <td>4902</td>\n",
       "      <td>Customer</td>\n",
       "      <td>1984.0</td>\n",
       "      <td>Male</td>\n",
       "      <td>No</td>\n",
       "      <td>869.750000</td>\n",
       "      <td>14.495833</td>\n",
       "      <td>17</td>\n",
       "      <td>Feb</td>\n",
       "      <td>Thur</td>\n",
       "    </tr>\n",
       "    <tr>\n",
       "      <th>2</th>\n",
       "      <td>61854</td>\n",
       "      <td>2019-02-28 12:13:13.218</td>\n",
       "      <td>2019-03-01 05:24:08.146</td>\n",
       "      <td>86.0</td>\n",
       "      <td>Market St at Dolores St</td>\n",
       "      <td>37.769305</td>\n",
       "      <td>-122.426826</td>\n",
       "      <td>3.0</td>\n",
       "      <td>Powell St BART Station (Market St at 4th St)</td>\n",
       "      <td>37.786375</td>\n",
       "      <td>...</td>\n",
       "      <td>5905</td>\n",
       "      <td>Customer</td>\n",
       "      <td>1972.0</td>\n",
       "      <td>Male</td>\n",
       "      <td>No</td>\n",
       "      <td>1030.900000</td>\n",
       "      <td>17.181667</td>\n",
       "      <td>12</td>\n",
       "      <td>Feb</td>\n",
       "      <td>Thur</td>\n",
       "    </tr>\n",
       "    <tr>\n",
       "      <th>3</th>\n",
       "      <td>36490</td>\n",
       "      <td>2019-02-28 17:54:26.010</td>\n",
       "      <td>2019-03-01 04:02:36.842</td>\n",
       "      <td>375.0</td>\n",
       "      <td>Grove St at Masonic Ave</td>\n",
       "      <td>37.774836</td>\n",
       "      <td>-122.446546</td>\n",
       "      <td>70.0</td>\n",
       "      <td>Central Ave at Fell St</td>\n",
       "      <td>37.773311</td>\n",
       "      <td>...</td>\n",
       "      <td>6638</td>\n",
       "      <td>Subscriber</td>\n",
       "      <td>1989.0</td>\n",
       "      <td>Other</td>\n",
       "      <td>No</td>\n",
       "      <td>608.166667</td>\n",
       "      <td>10.136111</td>\n",
       "      <td>17</td>\n",
       "      <td>Feb</td>\n",
       "      <td>Thur</td>\n",
       "    </tr>\n",
       "    <tr>\n",
       "      <th>4</th>\n",
       "      <td>1585</td>\n",
       "      <td>2019-02-28 23:54:18.549</td>\n",
       "      <td>2019-03-01 00:20:44.074</td>\n",
       "      <td>7.0</td>\n",
       "      <td>Frank H Ogawa Plaza</td>\n",
       "      <td>37.804562</td>\n",
       "      <td>-122.271738</td>\n",
       "      <td>222.0</td>\n",
       "      <td>10th Ave at E 15th St</td>\n",
       "      <td>37.792714</td>\n",
       "      <td>...</td>\n",
       "      <td>4898</td>\n",
       "      <td>Subscriber</td>\n",
       "      <td>1974.0</td>\n",
       "      <td>Male</td>\n",
       "      <td>Yes</td>\n",
       "      <td>26.416667</td>\n",
       "      <td>0.440278</td>\n",
       "      <td>23</td>\n",
       "      <td>Feb</td>\n",
       "      <td>Thur</td>\n",
       "    </tr>\n",
       "    <tr>\n",
       "      <th>5</th>\n",
       "      <td>1793</td>\n",
       "      <td>2019-02-28 23:49:58.632</td>\n",
       "      <td>2019-03-01 00:19:51.760</td>\n",
       "      <td>93.0</td>\n",
       "      <td>4th St at Mission Bay Blvd S</td>\n",
       "      <td>37.770407</td>\n",
       "      <td>-122.391198</td>\n",
       "      <td>323.0</td>\n",
       "      <td>Broadway at Kearny</td>\n",
       "      <td>37.798014</td>\n",
       "      <td>...</td>\n",
       "      <td>5200</td>\n",
       "      <td>Subscriber</td>\n",
       "      <td>1959.0</td>\n",
       "      <td>Male</td>\n",
       "      <td>No</td>\n",
       "      <td>29.883333</td>\n",
       "      <td>0.498056</td>\n",
       "      <td>23</td>\n",
       "      <td>Feb</td>\n",
       "      <td>Thur</td>\n",
       "    </tr>\n",
       "  </tbody>\n",
       "</table>\n",
       "<p>5 rows × 21 columns</p>\n",
       "</div>"
      ],
      "text/plain": [
       "   duration_sec              start_time                end_time  \\\n",
       "0         52185 2019-02-28 17:32:10.145 2019-03-01 08:01:55.975   \n",
       "2         61854 2019-02-28 12:13:13.218 2019-03-01 05:24:08.146   \n",
       "3         36490 2019-02-28 17:54:26.010 2019-03-01 04:02:36.842   \n",
       "4          1585 2019-02-28 23:54:18.549 2019-03-01 00:20:44.074   \n",
       "5          1793 2019-02-28 23:49:58.632 2019-03-01 00:19:51.760   \n",
       "\n",
       "   start_station_id                                start_station_name  \\\n",
       "0              21.0  Montgomery St BART Station (Market St at 2nd St)   \n",
       "2              86.0                           Market St at Dolores St   \n",
       "3             375.0                           Grove St at Masonic Ave   \n",
       "4               7.0                               Frank H Ogawa Plaza   \n",
       "5              93.0                      4th St at Mission Bay Blvd S   \n",
       "\n",
       "   start_station_latitude  start_station_longitude  end_station_id  \\\n",
       "0               37.789625              -122.400811            13.0   \n",
       "2               37.769305              -122.426826             3.0   \n",
       "3               37.774836              -122.446546            70.0   \n",
       "4               37.804562              -122.271738           222.0   \n",
       "5               37.770407              -122.391198           323.0   \n",
       "\n",
       "                               end_station_name  end_station_latitude  ...  \\\n",
       "0                Commercial St at Montgomery St             37.794231  ...   \n",
       "2  Powell St BART Station (Market St at 4th St)             37.786375  ...   \n",
       "3                        Central Ave at Fell St             37.773311  ...   \n",
       "4                         10th Ave at E 15th St             37.792714  ...   \n",
       "5                            Broadway at Kearny             37.798014  ...   \n",
       "\n",
       "   bike_id   user_type member_birth_year  member_gender  \\\n",
       "0     4902    Customer            1984.0           Male   \n",
       "2     5905    Customer            1972.0           Male   \n",
       "3     6638  Subscriber            1989.0          Other   \n",
       "4     4898  Subscriber            1974.0           Male   \n",
       "5     5200  Subscriber            1959.0           Male   \n",
       "\n",
       "  bike_share_for_all_trip duration_min  duration_hour  time  month   day  \n",
       "0                      No   869.750000      14.495833    17    Feb  Thur  \n",
       "2                      No  1030.900000      17.181667    12    Feb  Thur  \n",
       "3                      No   608.166667      10.136111    17    Feb  Thur  \n",
       "4                     Yes    26.416667       0.440278    23    Feb  Thur  \n",
       "5                      No    29.883333       0.498056    23    Feb  Thur  \n",
       "\n",
       "[5 rows x 21 columns]"
      ]
     },
     "execution_count": 125,
     "metadata": {},
     "output_type": "execute_result"
    }
   ],
   "source": [
    "df[\"time\"] = df[\"start_time\"].apply(lambda time : time.hour)\n",
    "df[\"month\"] =df[\"start_time\"].apply(lambda time : months[time.month])\n",
    "df[\"day\"] = df[\"start_time\"].apply(lambda time : days[time.weekday()])\n",
    "df.head()"
   ]
  },
  {
   "cell_type": "code",
   "execution_count": 131,
   "metadata": {},
   "outputs": [
    {
     "data": {
      "image/png": "[encoded data removed]",
      "text/plain": [
       "<Figure size 900x600 with 1 Axes>"
      ]
     },
     "metadata": {},
     "output_type": "display_data"
    }
   ],
   "source": [
    "sns.countplot(x=df[\"time\"]);"
   ]
  },
  {
   "cell_type": "code",
   "execution_count": 136,
   "metadata": {},
   "outputs": [
    {
     "data": {
      "image/png": "[encoded data removed]",
      "text/plain": [
       "<Figure size 900x600 with 1 Axes>"
      ]
     },
     "metadata": {},
     "output_type": "display_data"
    }
   ],
   "source": [
    "sns.countplot(x=df[\"day\"]);"
   ]
  },
  {
   "cell_type": "code",
   "execution_count": 134,
   "metadata": {},
   "outputs": [
    {
     "data": {
      "image/png": "[encoded data removed]",
      "text/plain": [
       "<Figure size 900x600 with 1 Axes>"
      ]
     },
     "metadata": {},
     "output_type": "display_data"
    }
   ],
   "source": [
    "# you tell them this indicates that there is somthing wrong with the data\n",
    "sns.countplot(x = df[\"month\"]);"
   ]
  },
  {
   "cell_type": "code",
   "execution_count": 135,
   "metadata": {},
   "outputs": [
    {
     "data": {
      "text/plain": [
       "array(['Feb'], dtype=object)"
      ]
     },
     "execution_count": 135,
     "metadata": {},
     "output_type": "execute_result"
    }
   ],
   "source": [
    "# this to explain whats wrong\n",
    "df[\"month\"].unique()"
   ]
  },
  {
   "cell_type": "code",
   "execution_count": 21,
   "metadata": {},
   "outputs": [
    {
     "name": "stdout",
     "output_type": "stream",
     "text": [
      "<class 'pandas.core.frame.DataFrame'>\n",
      "Int64Index: 174952 entries, 0 to 183411\n",
      "Data columns (total 20 columns):\n",
      " #   Column                   Non-Null Count   Dtype         \n",
      "---  ------                   --------------   -----         \n",
      " 0   duration_sec             174952 non-null  int64         \n",
      " 1   start_time               174952 non-null  datetime64[ns]\n",
      " 2   end_time                 174952 non-null  datetime64[ns]\n",
      " 3   start_station_id         174952 non-null  float64       \n",
      " 4   start_station_name       174952 non-null  object        \n",
      " 5   start_station_latitude   174952 non-null  float64       \n",
      " 6   start_station_longitude  174952 non-null  float64       \n",
      " 7   end_station_id           174952 non-null  float64       \n",
      " 8   end_station_name         174952 non-null  object        \n",
      " 9   end_station_latitude     174952 non-null  float64       \n",
      " 10  end_station_longitude    174952 non-null  float64       \n",
      " 11  bike_id                  174952 non-null  int64         \n",
      " 12  user_type                174952 non-null  object        \n",
      " 13  member_birth_year        174952 non-null  float64       \n",
      " 14  member_gender            174952 non-null  object        \n",
      " 15  bike_share_for_all_trip  174952 non-null  object        \n",
      " 16  duration_min             174952 non-null  float64       \n",
      " 17  duration_hour            174952 non-null  float64       \n",
      " 18  time                     174952 non-null  int64         \n",
      " 19  day                      174952 non-null  object        \n",
      "dtypes: datetime64[ns](2), float64(9), int64(3), object(6)\n",
      "memory usage: 33.0+ MB\n"
     ]
    }
   ],
   "source": [
    "df.drop(['month'], axis=1 , inplace=True)\n",
    "df.info()"
   ]
  },
  {
   "cell_type": "markdown",
   "metadata": {},
   "source": [
    "# Q2"
   ]
  },
  {
   "cell_type": "code",
   "execution_count": 22,
   "metadata": {},
   "outputs": [
    {
     "data": {
      "image/png": "[encoded data removed]",
      "text/plain": [
       "<Figure size 432x288 with 1 Axes>"
      ]
     },
     "metadata": {},
     "output_type": "display_data"
    }
   ],
   "source": [
    "sns.countplot(x = df[\"member_gender\"] , hue=df[\"user_type\"]);"
   ]
  },
  {
   "cell_type": "markdown",
   "metadata": {},
   "source": [
    "# Q3"
   ]
  },
  {
   "cell_type": "code",
   "execution_count": 23,
   "metadata": {},
   "outputs": [],
   "source": [
    "female_df = df[df[\"member_gender\"] == \"Female\"]\n",
    "male_df = df[df[\"member_gender\"] == \"Male\"]"
   ]
  },
  {
   "cell_type": "code",
   "execution_count": 24,
   "metadata": {},
   "outputs": [
    {
     "data": {
      "image/png": "[encoded data removed]",
      "text/plain": [
       "<Figure size 432x288 with 1 Axes>"
      ]
     },
     "metadata": {},
     "output_type": "display_data"
    }
   ],
   "source": [
    "# you tell em This indicates that hours is not good choice and there is an outlier\n",
    "sns.histplot(female_df[\"duration_hour\"]);"
   ]
  },
  {
   "cell_type": "code",
   "execution_count": 25,
   "metadata": {},
   "outputs": [
    {
     "data": {
      "image/png": "[encoded data removed]",
      "text/plain": [
       "<Figure size 432x288 with 1 Axes>"
      ]
     },
     "metadata": {},
     "output_type": "display_data"
    }
   ],
   "source": [
    "# you tell em This indicates that hours is not good choice and there is an outlier\n",
    "sns.histplot(male_df[\"duration_hour\"]);"
   ]
  },
  {
   "cell_type": "code",
   "execution_count": 26,
   "metadata": {},
   "outputs": [
    {
     "data": {
      "text/plain": [
       "0         14.495833\n",
       "2         17.181667\n",
       "4          0.440278\n",
       "5          0.498056\n",
       "7          0.448611\n",
       "            ...    \n",
       "183407     0.133333\n",
       "183408     0.086944\n",
       "183409     0.039167\n",
       "183410     0.038611\n",
       "183411     0.075278\n",
       "Name: duration_hour, Length: 130500, dtype: float64"
      ]
     },
     "execution_count": 26,
     "metadata": {},
     "output_type": "execute_result"
    }
   ],
   "source": [
    "# you tell em checking outlier\n",
    "male_df[\"duration_hour\"]"
   ]
  },
  {
   "cell_type": "code",
   "execution_count": 27,
   "metadata": {},
   "outputs": [
    {
     "data": {
      "image/png": "[encoded data removed]",
      "text/plain": [
       "<Figure size 432x288 with 1 Axes>"
      ]
     },
     "metadata": {},
     "output_type": "display_data"
    }
   ],
   "source": [
    "sns.histplot(female_df[\"duration_min\"]);"
   ]
  },
  {
   "cell_type": "code",
   "execution_count": 33,
   "metadata": {},
   "outputs": [
    {
     "data": {
      "text/plain": [
       "[(0.0, 80.0)]"
      ]
     },
     "execution_count": 33,
     "metadata": {},
     "output_type": "execute_result"
    },
    {
     "data": {
      "image/png": "[encoded data removed]",
      "text/plain": [
       "<Figure size 432x288 with 1 Axes>"
      ]
     },
     "metadata": {},
     "output_type": "display_data"
    }
   ],
   "source": [
    "# colud make it look like bell disturbutaion using log but i think that would be too much for them\n",
    "plot = sns.histplot(female_df[\"duration_min\"]);\n",
    "plot.set(xlim=(0, 80))"
   ]
  },
  {
   "cell_type": "code",
   "execution_count": 34,
   "metadata": {},
   "outputs": [
    {
     "data": {
      "text/plain": [
       "[(0.0, 80.0)]"
      ]
     },
     "execution_count": 34,
     "metadata": {},
     "output_type": "execute_result"
    },
    {
     "data": {
      "image/png": "[encoded data removed]",
      "text/plain": [
       "<Figure size 432x288 with 1 Axes>"
      ]
     },
     "metadata": {},
     "output_type": "display_data"
    }
   ],
   "source": [
    "# same here\n",
    "plot = sns.histplot(male_df[\"duration_min\"]);\n",
    "plot.set(xlim=(0, 80))"
   ]
  },
  {
   "cell_type": "markdown",
   "metadata": {},
   "source": [
    "# Audiance Question\n",
    "## Give us one more question to explore\n",
    "### Question : ???"
   ]
  },
  {
   "cell_type": "code",
   "execution_count": null,
   "metadata": {},
   "outputs": [],
   "source": []
  },
  {
   "cell_type": "markdown",
   "metadata": {},
   "source": [
    "# Thanks 😃"
   ]
  }
 ],
 "metadata": {
  "kernelspec": {
   "display_name": "Python 3",
   "language": "python",
   "name": "python3"
  },
  "language_info": {
   "codemirror_mode": {
    "name": "ipython",
    "version": 3
   },
   "file_extension": ".py",
   "mimetype": "text/x-python",
   "name": "python",
   "nbconvert_exporter": "python",
   "pygments_lexer": "ipython3",
   "version": "3.8.5"
  }
 },
 "nbformat": 4,
 "nbformat_minor": 5
}
