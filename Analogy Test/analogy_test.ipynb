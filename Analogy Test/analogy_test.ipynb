{
 "cells": [
  {
   "cell_type": "code",
   "execution_count": 2,
   "metadata": {},
   "outputs": [],
   "source": [
    "import json\n",
    "import pickle\n",
    "from os.path import join\n",
    "\n",
    "import numpy as np\n",
    "import torch\n",
    "import torch.nn as nn\n",
    "from torch.utils.data import TensorDataset, DataLoader\n",
    "import torch.optim as optim\n",
    "import nltk\n",
    "\n"
   ]
  },
  {
   "cell_type": "code",
   "execution_count": 3,
   "metadata": {},
   "outputs": [],
   "source": [
    "def get_embedding(glove_path: str) -> dict:\n",
    "    import bcolz\n",
    "\n",
    "    vectors = bcolz.open(f'{glove_path}/6B.50.dat')[:]\n",
    "\n",
    "    with open(f'{glove_path}/6B.50_words.pkl', 'rb') as file:\n",
    "        words = pickle.load(file)\n",
    "\n",
    "    with open(f'{glove_path}/6B.50_idx.pkl', 'rb') as file:\n",
    "        word2idx = pickle.load(file)\n",
    "    \n",
    "    vocab_size, vect_dim = len(words), len(vectors[0])\n",
    "    embed = np.zeros((vocab_size, vect_dim))\n",
    "    for word in words:\n",
    "        idx = word2idx[word]\n",
    "        embed[idx] = vectors[idx]\n",
    "    \n",
    "    return embed, word2idx\n"
   ]
  },
  {
   "cell_type": "code",
   "execution_count": 5,
   "metadata": {},
   "outputs": [],
   "source": [
    "embed, word2idx = get_embedding(\"GloVe\")\n",
    "idx2word = {idx:word for word, idx in word2idx.items()}"
   ]
  },
  {
   "cell_type": "code",
   "execution_count": 77,
   "metadata": {},
   "outputs": [],
   "source": [
    "res = embed[word2idx[\"king\"]]  + (embed[word2idx[\"woman\"]] - embed[word2idx[\"man\"]])"
   ]
  },
  {
   "cell_type": "code",
   "execution_count": 71,
   "metadata": {},
   "outputs": [],
   "source": [
    "from sklearn.neighbors import NearestNeighbors\n",
    "import numpy as np\n",
    "nbrs = NearestNeighbors(n_neighbors=100, algorithm='ball_tree').fit(embed)"
   ]
  },
  {
   "cell_type": "code",
   "execution_count": 78,
   "metadata": {},
   "outputs": [],
   "source": [
    "_, indices = nbrs.kneighbors(res.reshape(1, -1))"
   ]
  },
  {
   "cell_type": "code",
   "execution_count": 79,
   "metadata": {},
   "outputs": [
    {
     "name": "stdout",
     "output_type": "stream",
     "text": [
      "king\n",
      "queen\n",
      "prince\n",
      "elizabeth\n",
      "daughter\n",
      "widow\n",
      "throne\n",
      "monarch\n",
      "cousin\n",
      "eldest\n",
      "princess\n",
      "kingdom\n",
      "father\n",
      "grandson\n",
      "granddaughter\n",
      "elder\n",
      "grandfather\n",
      "uncle\n",
      "niece\n",
      "son\n",
      "family\n",
      "mother\n",
      "grandmother\n",
      "birth\n",
      "wife\n",
      "consort\n",
      "bride\n",
      "aunt\n",
      "sister\n",
      "lady\n",
      "marry\n",
      "wedding\n",
      "marriage\n",
      "name\n",
      "nephew\n",
      "brother\n",
      "margaret\n",
      "mary\n",
      "coronation\n",
      "granted\n",
      "marrying\n",
      "death\n",
      "daughters\n",
      "majesty\n",
      "ii\n",
      "mistress\n",
      "accompanied\n",
      "homage\n",
      "diana\n",
      "patron\n",
      "heir\n",
      "funeral\n",
      "caroline\n",
      "isabella\n",
      "sister-in-law\n",
      "deceased\n",
      "frederick\n",
      "exile\n",
      "blessing\n",
      "sons\n",
      "mentioned\n",
      "marries\n",
      "footsteps\n",
      "wishes\n",
      "visited\n",
      "father-in-law\n",
      "camilla\n",
      "brother-in-law\n",
      "iv\n",
      "married\n",
      "husband\n",
      "bohemia\n",
      "latter\n",
      "’s\n",
      "beloved\n",
      "viii\n",
      "chose\n",
      "birthplace\n",
      "crown\n",
      "occasion\n",
      "thereafter\n",
      "betrothed\n",
      "tribute\n",
      "grandparents\n",
      "son-in-law\n",
      "later\n",
      "succeeded\n",
      "descendant\n",
      "whom\n",
      "grace\n",
      "upon\n",
      "vii\n",
      "became\n",
      "duke\n",
      "anne\n",
      "arrival\n",
      "friend\n",
      "descendants\n",
      "illegitimate\n",
      "mentions\n"
     ]
    }
   ],
   "source": [
    "for indice in indices[0]:\n",
    "    print(idx2word[indice])"
   ]
  },
  {
   "cell_type": "code",
   "execution_count": null,
   "metadata": {},
   "outputs": [],
   "source": []
  }
 ],
 "metadata": {
  "kernelspec": {
   "display_name": "Python 3",
   "language": "python",
   "name": "python3"
  },
  "language_info": {
   "name": ""
  }
 },
 "nbformat": 4,
 "nbformat_minor": 4
}
