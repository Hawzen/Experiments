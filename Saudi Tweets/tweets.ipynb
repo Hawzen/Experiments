{
 "cells": [
  {
   "cell_type": "code",
   "execution_count": 1,
   "metadata": {},
   "outputs": [],
   "source": [
    "from os import system\n",
    "\n",
    "import numpy as np\n",
    "import pandas as pd"
   ]
  },
  {
   "cell_type": "code",
   "execution_count": 2,
   "metadata": {},
   "outputs": [],
   "source": [
    "url = \"https://ar.wikipedia.org/wiki/%D9%82%D8%A7%D8%A6%D9%85%D8%A9_%D9%85%D8%AD%D8%A7%D9%81%D8%B8%D8%A7%D8%AA_%D8%A7%D9%84%D8%B3%D8%B9%D9%88%D8%AF%D9%8A%D8%A9\"\n",
    "_, _, *locations_df_list = pd.read_html(url)\n",
    "locations_df_list = locations_df_list[:13]"
   ]
  },
  {
   "cell_type": "code",
   "execution_count": 3,
   "metadata": {},
   "outputs": [],
   "source": [
    "provinces = [\n",
    "    \"Riyadh\",\n",
    "    \"Makkah\",\n",
    "    \"Madinah\",\n",
    "    \"Buraydah\",\n",
    "    \"Dammam\",\n",
    "    \"Abha\",\n",
    "    \"Tabuk\",\n",
    "    \"Ha'al\",\n",
    "    \"Arar\",\n",
    "    \"Jazan\",\n",
    "    \"Najran\",\n",
    "    \"Alba'hah\",\n",
    "    \"Sakaka\"\n",
    "]\n",
    "\n",
    "geos = [\n",
    "    (24.721540, 46.705117),\n",
    "    (21.422719, 39.825616),\n",
    "    (24.468361, 39.610744),\n",
    "    (26.338439, 43.966748),\n",
    "    (26.412899, 50.071757),\n",
    "    (18.215544, 42.502229),\n",
    "    (28.394034, 36.570041),\n",
    "    (27.516989, 41.697790),\n",
    "    (30.977227, 41.024822),\n",
    "    (16.889081, 42.569220),\n",
    "    (20.011137, 41.465389),\n",
    "]"
   ]
  },
  {
   "cell_type": "code",
   "execution_count": null,
   "metadata": {},
   "outputs": [],
   "source": [
    "for province, geo in zip(provinces, geos):\n",
    "    system(f'twint -g=\"{geo[0]},{geo[1]},2km\" -o \"data/{province}.csv\" --csv --limit 50000')"
   ]
  },
  {
   "cell_type": "code",
   "execution_count": null,
   "metadata": {},
   "outputs": [],
   "source": []
  }
 ],
 "metadata": {
  "kernelspec": {
   "display_name": "Python 3",
   "language": "python",
   "name": "python3"
  },
  "language_info": {
   "codemirror_mode": {
    "name": "ipython",
    "version": 3
   },
   "file_extension": ".py",
   "mimetype": "text/x-python",
   "name": "python",
   "nbconvert_exporter": "python",
   "pygments_lexer": "ipython3",
   "version": "3.8.5"
  }
 },
 "nbformat": 4,
 "nbformat_minor": 4
}
