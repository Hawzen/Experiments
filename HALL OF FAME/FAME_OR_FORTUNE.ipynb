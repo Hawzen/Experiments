{
 "cells": [
  {
   "cell_type": "code",
   "execution_count": 1,
   "metadata": {},
   "outputs": [],
   "source": [
    "import pandas as pd\n",
    "import plotly.io as pio\n",
    "import plotly.express as px\n",
    "\n",
    "\n",
    "# Config\n",
    "pio.templates.default = \"plotly_dark\"\n",
    "\n",
    "pd.set_option(\"display.max_rows\", 500)\n",
    "pd.set_option(\"display.max_columns\", 50)\n",
    "pd.set_option(\"plotting.backend\", \"plotly\")"
   ]
  },
  {
   "cell_type": "code",
   "execution_count": 2,
   "metadata": {},
   "outputs": [],
   "source": [
    "df = pd.read_excel(\"college_results.xlsx\")"
   ]
  },
  {
   "cell_type": "code",
   "execution_count": 3,
   "metadata": {},
   "outputs": [
    {
     "name": "stdout",
     "output_type": "stream",
     "text": [
      "<class 'pandas.core.frame.DataFrame'>\n",
      "RangeIndex: 416 entries, 0 to 415\n",
      "Data columns (total 19 columns):\n",
      " #   Column              Non-Null Count  Dtype  \n",
      "---  ------              --------------  -----  \n",
      " 0   Department          416 non-null    object \n",
      " 1   Course              416 non-null    object \n",
      " 2   Section             416 non-null    int64  \n",
      " 3   Registerd_Students  416 non-null    int64  \n",
      " 4   withdrawn_Students  416 non-null    int64  \n",
      " 5   Continued_Students  414 non-null    float64\n",
      " 6   Pass                416 non-null    int64  \n",
      " 7   A+                  416 non-null    int64  \n",
      " 8   A                   416 non-null    int64  \n",
      " 9   B+                  416 non-null    int64  \n",
      " 10  B                   416 non-null    int64  \n",
      " 11  C+                  416 non-null    int64  \n",
      " 12  C                   416 non-null    int64  \n",
      " 13  D+                  416 non-null    int64  \n",
      " 14  D                   416 non-null    int64  \n",
      " 15  Fail                416 non-null    int64  \n",
      " 16  DN                  416 non-null    int64  \n",
      " 17  In-Progress         416 non-null    int64  \n",
      " 18  Instructor          416 non-null    object \n",
      "dtypes: float64(1), int64(15), object(3)\n",
      "memory usage: 61.9+ KB\n"
     ]
    }
   ],
   "source": [
    "df.info()"
   ]
  },
  {
   "cell_type": "code",
   "execution_count": 4,
   "metadata": {},
   "outputs": [
    {
     "data": {
      "text/html": [
       "<div>\n",
       "<style scoped>\n",
       "    .dataframe tbody tr th:only-of-type {\n",
       "        vertical-align: middle;\n",
       "    }\n",
       "\n",
       "    .dataframe tbody tr th {\n",
       "        vertical-align: top;\n",
       "    }\n",
       "\n",
       "    .dataframe thead th {\n",
       "        text-align: right;\n",
       "    }\n",
       "</style>\n",
       "<table border=\"1\" class=\"dataframe\">\n",
       "  <thead>\n",
       "    <tr style=\"text-align: right;\">\n",
       "      <th></th>\n",
       "      <th>Section</th>\n",
       "      <th>Registerd_Students</th>\n",
       "      <th>withdrawn_Students</th>\n",
       "      <th>Continued_Students</th>\n",
       "      <th>Pass</th>\n",
       "      <th>A+</th>\n",
       "      <th>A</th>\n",
       "      <th>B+</th>\n",
       "      <th>B</th>\n",
       "      <th>C+</th>\n",
       "      <th>C</th>\n",
       "      <th>D+</th>\n",
       "      <th>D</th>\n",
       "      <th>Fail</th>\n",
       "      <th>DN</th>\n",
       "      <th>In-Progress</th>\n",
       "    </tr>\n",
       "  </thead>\n",
       "  <tbody>\n",
       "    <tr>\n",
       "      <th>count</th>\n",
       "      <td>416.000000</td>\n",
       "      <td>416.000000</td>\n",
       "      <td>416.000000</td>\n",
       "      <td>414.000000</td>\n",
       "      <td>416.000000</td>\n",
       "      <td>416.000000</td>\n",
       "      <td>416.000000</td>\n",
       "      <td>416.000000</td>\n",
       "      <td>416.000000</td>\n",
       "      <td>416.000000</td>\n",
       "      <td>416.000000</td>\n",
       "      <td>416.000000</td>\n",
       "      <td>416.000000</td>\n",
       "      <td>416.000000</td>\n",
       "      <td>416.000000</td>\n",
       "      <td>416.000000</td>\n",
       "    </tr>\n",
       "    <tr>\n",
       "      <th>mean</th>\n",
       "      <td>52212.358173</td>\n",
       "      <td>13.543269</td>\n",
       "      <td>1.247596</td>\n",
       "      <td>12.355072</td>\n",
       "      <td>11.545673</td>\n",
       "      <td>1.992788</td>\n",
       "      <td>1.766827</td>\n",
       "      <td>1.942308</td>\n",
       "      <td>1.786058</td>\n",
       "      <td>1.334135</td>\n",
       "      <td>1.132212</td>\n",
       "      <td>0.713942</td>\n",
       "      <td>0.682692</td>\n",
       "      <td>0.584135</td>\n",
       "      <td>0.074519</td>\n",
       "      <td>0.060096</td>\n",
       "    </tr>\n",
       "    <tr>\n",
       "      <th>std</th>\n",
       "      <td>23641.720898</td>\n",
       "      <td>13.567788</td>\n",
       "      <td>2.342637</td>\n",
       "      <td>12.410728</td>\n",
       "      <td>11.960087</td>\n",
       "      <td>3.061214</td>\n",
       "      <td>2.606009</td>\n",
       "      <td>2.997435</td>\n",
       "      <td>2.624242</td>\n",
       "      <td>2.180171</td>\n",
       "      <td>1.857404</td>\n",
       "      <td>1.371798</td>\n",
       "      <td>1.390255</td>\n",
       "      <td>1.225291</td>\n",
       "      <td>0.376060</td>\n",
       "      <td>0.247871</td>\n",
       "    </tr>\n",
       "    <tr>\n",
       "      <th>min</th>\n",
       "      <td>10724.000000</td>\n",
       "      <td>1.000000</td>\n",
       "      <td>0.000000</td>\n",
       "      <td>0.000000</td>\n",
       "      <td>0.000000</td>\n",
       "      <td>0.000000</td>\n",
       "      <td>0.000000</td>\n",
       "      <td>0.000000</td>\n",
       "      <td>0.000000</td>\n",
       "      <td>0.000000</td>\n",
       "      <td>0.000000</td>\n",
       "      <td>0.000000</td>\n",
       "      <td>0.000000</td>\n",
       "      <td>0.000000</td>\n",
       "      <td>0.000000</td>\n",
       "      <td>0.000000</td>\n",
       "    </tr>\n",
       "    <tr>\n",
       "      <th>25%</th>\n",
       "      <td>31340.750000</td>\n",
       "      <td>3.000000</td>\n",
       "      <td>0.000000</td>\n",
       "      <td>3.000000</td>\n",
       "      <td>3.000000</td>\n",
       "      <td>0.000000</td>\n",
       "      <td>0.000000</td>\n",
       "      <td>0.000000</td>\n",
       "      <td>0.000000</td>\n",
       "      <td>0.000000</td>\n",
       "      <td>0.000000</td>\n",
       "      <td>0.000000</td>\n",
       "      <td>0.000000</td>\n",
       "      <td>0.000000</td>\n",
       "      <td>0.000000</td>\n",
       "      <td>0.000000</td>\n",
       "    </tr>\n",
       "    <tr>\n",
       "      <th>50%</th>\n",
       "      <td>44163.000000</td>\n",
       "      <td>5.000000</td>\n",
       "      <td>0.000000</td>\n",
       "      <td>5.000000</td>\n",
       "      <td>4.500000</td>\n",
       "      <td>1.000000</td>\n",
       "      <td>1.000000</td>\n",
       "      <td>0.000000</td>\n",
       "      <td>0.000000</td>\n",
       "      <td>0.000000</td>\n",
       "      <td>0.000000</td>\n",
       "      <td>0.000000</td>\n",
       "      <td>0.000000</td>\n",
       "      <td>0.000000</td>\n",
       "      <td>0.000000</td>\n",
       "      <td>0.000000</td>\n",
       "    </tr>\n",
       "    <tr>\n",
       "      <th>75%</th>\n",
       "      <td>78540.250000</td>\n",
       "      <td>24.000000</td>\n",
       "      <td>1.000000</td>\n",
       "      <td>21.000000</td>\n",
       "      <td>20.000000</td>\n",
       "      <td>3.000000</td>\n",
       "      <td>3.000000</td>\n",
       "      <td>3.000000</td>\n",
       "      <td>3.000000</td>\n",
       "      <td>2.000000</td>\n",
       "      <td>2.000000</td>\n",
       "      <td>1.000000</td>\n",
       "      <td>1.000000</td>\n",
       "      <td>1.000000</td>\n",
       "      <td>0.000000</td>\n",
       "      <td>0.000000</td>\n",
       "    </tr>\n",
       "    <tr>\n",
       "      <th>max</th>\n",
       "      <td>84040.000000</td>\n",
       "      <td>57.000000</td>\n",
       "      <td>14.000000</td>\n",
       "      <td>53.000000</td>\n",
       "      <td>53.000000</td>\n",
       "      <td>27.000000</td>\n",
       "      <td>17.000000</td>\n",
       "      <td>18.000000</td>\n",
       "      <td>15.000000</td>\n",
       "      <td>13.000000</td>\n",
       "      <td>10.000000</td>\n",
       "      <td>11.000000</td>\n",
       "      <td>9.000000</td>\n",
       "      <td>7.000000</td>\n",
       "      <td>4.000000</td>\n",
       "      <td>2.000000</td>\n",
       "    </tr>\n",
       "  </tbody>\n",
       "</table>\n",
       "</div>"
      ],
      "text/plain": [
       "            Section  Registerd_Students  withdrawn_Students  \\\n",
       "count    416.000000          416.000000          416.000000   \n",
       "mean   52212.358173           13.543269            1.247596   \n",
       "std    23641.720898           13.567788            2.342637   \n",
       "min    10724.000000            1.000000            0.000000   \n",
       "25%    31340.750000            3.000000            0.000000   \n",
       "50%    44163.000000            5.000000            0.000000   \n",
       "75%    78540.250000           24.000000            1.000000   \n",
       "max    84040.000000           57.000000           14.000000   \n",
       "\n",
       "       Continued_Students        Pass          A+           A          B+  \\\n",
       "count          414.000000  416.000000  416.000000  416.000000  416.000000   \n",
       "mean            12.355072   11.545673    1.992788    1.766827    1.942308   \n",
       "std             12.410728   11.960087    3.061214    2.606009    2.997435   \n",
       "min              0.000000    0.000000    0.000000    0.000000    0.000000   \n",
       "25%              3.000000    3.000000    0.000000    0.000000    0.000000   \n",
       "50%              5.000000    4.500000    1.000000    1.000000    0.000000   \n",
       "75%             21.000000   20.000000    3.000000    3.000000    3.000000   \n",
       "max             53.000000   53.000000   27.000000   17.000000   18.000000   \n",
       "\n",
       "                B          C+           C          D+           D        Fail  \\\n",
       "count  416.000000  416.000000  416.000000  416.000000  416.000000  416.000000   \n",
       "mean     1.786058    1.334135    1.132212    0.713942    0.682692    0.584135   \n",
       "std      2.624242    2.180171    1.857404    1.371798    1.390255    1.225291   \n",
       "min      0.000000    0.000000    0.000000    0.000000    0.000000    0.000000   \n",
       "25%      0.000000    0.000000    0.000000    0.000000    0.000000    0.000000   \n",
       "50%      0.000000    0.000000    0.000000    0.000000    0.000000    0.000000   \n",
       "75%      3.000000    2.000000    2.000000    1.000000    1.000000    1.000000   \n",
       "max     15.000000   13.000000   10.000000   11.000000    9.000000    7.000000   \n",
       "\n",
       "               DN  In-Progress  \n",
       "count  416.000000   416.000000  \n",
       "mean     0.074519     0.060096  \n",
       "std      0.376060     0.247871  \n",
       "min      0.000000     0.000000  \n",
       "25%      0.000000     0.000000  \n",
       "50%      0.000000     0.000000  \n",
       "75%      0.000000     0.000000  \n",
       "max      4.000000     2.000000  "
      ]
     },
     "execution_count": 4,
     "metadata": {},
     "output_type": "execute_result"
    }
   ],
   "source": [
    "df.describe()"
   ]
  },
  {
   "cell_type": "code",
   "execution_count": 5,
   "metadata": {},
   "outputs": [
    {
     "data": {
      "text/html": [
       "<div>\n",
       "<style scoped>\n",
       "    .dataframe tbody tr th:only-of-type {\n",
       "        vertical-align: middle;\n",
       "    }\n",
       "\n",
       "    .dataframe tbody tr th {\n",
       "        vertical-align: top;\n",
       "    }\n",
       "\n",
       "    .dataframe thead th {\n",
       "        text-align: right;\n",
       "    }\n",
       "</style>\n",
       "<table border=\"1\" class=\"dataframe\">\n",
       "  <thead>\n",
       "    <tr style=\"text-align: right;\">\n",
       "      <th></th>\n",
       "      <th>Department</th>\n",
       "      <th>Course</th>\n",
       "      <th>Section</th>\n",
       "      <th>Registerd_Students</th>\n",
       "      <th>withdrawn_Students</th>\n",
       "      <th>Continued_Students</th>\n",
       "      <th>Pass</th>\n",
       "      <th>A+</th>\n",
       "      <th>A</th>\n",
       "      <th>B+</th>\n",
       "      <th>B</th>\n",
       "      <th>C+</th>\n",
       "      <th>C</th>\n",
       "      <th>D+</th>\n",
       "      <th>D</th>\n",
       "      <th>Fail</th>\n",
       "      <th>DN</th>\n",
       "      <th>In-Progress</th>\n",
       "      <th>Instructor</th>\n",
       "    </tr>\n",
       "  </thead>\n",
       "  <tbody>\n",
       "    <tr>\n",
       "      <th>0</th>\n",
       "      <td>Computer Science</td>\n",
       "      <td>CSC 111</td>\n",
       "      <td>21752</td>\n",
       "      <td>33</td>\n",
       "      <td>7</td>\n",
       "      <td>26.0</td>\n",
       "      <td>24</td>\n",
       "      <td>5</td>\n",
       "      <td>5</td>\n",
       "      <td>6</td>\n",
       "      <td>4</td>\n",
       "      <td>0</td>\n",
       "      <td>3</td>\n",
       "      <td>0</td>\n",
       "      <td>1</td>\n",
       "      <td>0</td>\n",
       "      <td>2</td>\n",
       "      <td>0</td>\n",
       "      <td>مراد مدني بوشناق</td>\n",
       "    </tr>\n",
       "    <tr>\n",
       "      <th>1</th>\n",
       "      <td>Computer Science</td>\n",
       "      <td>CSC 111</td>\n",
       "      <td>21839</td>\n",
       "      <td>38</td>\n",
       "      <td>3</td>\n",
       "      <td>35.0</td>\n",
       "      <td>34</td>\n",
       "      <td>9</td>\n",
       "      <td>6</td>\n",
       "      <td>6</td>\n",
       "      <td>4</td>\n",
       "      <td>4</td>\n",
       "      <td>2</td>\n",
       "      <td>1</td>\n",
       "      <td>2</td>\n",
       "      <td>1</td>\n",
       "      <td>0</td>\n",
       "      <td>0</td>\n",
       "      <td>مراد مدني بوشناق</td>\n",
       "    </tr>\n",
       "    <tr>\n",
       "      <th>2</th>\n",
       "      <td>Computer Science</td>\n",
       "      <td>CSC 111</td>\n",
       "      <td>21842</td>\n",
       "      <td>34</td>\n",
       "      <td>11</td>\n",
       "      <td>23.0</td>\n",
       "      <td>22</td>\n",
       "      <td>7</td>\n",
       "      <td>3</td>\n",
       "      <td>5</td>\n",
       "      <td>2</td>\n",
       "      <td>2</td>\n",
       "      <td>1</td>\n",
       "      <td>2</td>\n",
       "      <td>0</td>\n",
       "      <td>1</td>\n",
       "      <td>0</td>\n",
       "      <td>0</td>\n",
       "      <td>معاذ عبدالله بن سالم الخلف</td>\n",
       "    </tr>\n",
       "  </tbody>\n",
       "</table>\n",
       "</div>"
      ],
      "text/plain": [
       "         Department   Course  Section  Registerd_Students  withdrawn_Students  \\\n",
       "0  Computer Science  CSC 111    21752                  33                   7   \n",
       "1  Computer Science  CSC 111    21839                  38                   3   \n",
       "2  Computer Science  CSC 111    21842                  34                  11   \n",
       "\n",
       "   Continued_Students  Pass  A+  A  B+  B  C+  C  D+  D  Fail  DN  \\\n",
       "0                26.0    24   5  5   6  4   0  3   0  1     0   2   \n",
       "1                35.0    34   9  6   6  4   4  2   1  2     1   0   \n",
       "2                23.0    22   7  3   5  2   2  1   2  0     1   0   \n",
       "\n",
       "   In-Progress                  Instructor  \n",
       "0            0            مراد مدني بوشناق  \n",
       "1            0            مراد مدني بوشناق  \n",
       "2            0  معاذ عبدالله بن سالم الخلف  "
      ]
     },
     "execution_count": 5,
     "metadata": {},
     "output_type": "execute_result"
    }
   ],
   "source": [
    "df.head(3)"
   ]
  },
  {
   "cell_type": "code",
   "execution_count": 6,
   "metadata": {},
   "outputs": [],
   "source": [
    "# Average different sections studying under one instructor and one course\n"
   ]
  },
  {
   "cell_type": "code",
   "execution_count": 7,
   "metadata": {},
   "outputs": [
    {
     "data": {
      "text/plain": [
       "{'A+': 8,\n",
       " 'A': 7,\n",
       " 'B+': 6,\n",
       " 'B': 5,\n",
       " 'C+': 4,\n",
       " 'C': 3,\n",
       " 'D+': 2,\n",
       " 'D': 1,\n",
       " 'Fail': -1}"
      ]
     },
     "execution_count": 7,
     "metadata": {},
     "output_type": "execute_result"
    }
   ],
   "source": [
    "grades = ['A+', 'A', 'B+', 'B', 'C+', 'C', 'D+', 'D', 'Fail']\n",
    "grade_to_score = {grade:len(grades)-i-1 for i, grade in enumerate(grades)}\n",
    "grade_to_score[\"Fail\"] = -1\n",
    "grade_to_score"
   ]
  },
  {
   "cell_type": "code",
   "execution_count": 21,
   "metadata": {},
   "outputs": [],
   "source": [
    "def series_to_score(series):\n",
    "    return sum(grade_to_score[grade] * series[grade] for grade in grades) / series[\"Registerd_Students\"]\n",
    "\n",
    "def dataframe_to_score(dataframe):\n",
    "    dataframe[\"Score\"] = dataframe.apply(series_to_score, axis=1)\n",
    "    return dataframe[\"Score\"].agg(\"mean\")\n",
    "    \n",
    "course_instructor_scores = df.groupby([\"Instructor\", \"Course\"]).apply(dataframe_to_score) \n",
    "course_instructor_scores = course_instructor_scores.reset_index()\n",
    "course_instructor_scores[\"Score\"] = course_instructor_scores[0]\n",
    "del course_instructor_scores[0]"
   ]
  },
  {
   "cell_type": "code",
   "execution_count": 22,
   "metadata": {},
   "outputs": [
    {
     "data": {
      "text/html": [
       "<div>\n",
       "<style scoped>\n",
       "    .dataframe tbody tr th:only-of-type {\n",
       "        vertical-align: middle;\n",
       "    }\n",
       "\n",
       "    .dataframe tbody tr th {\n",
       "        vertical-align: top;\n",
       "    }\n",
       "\n",
       "    .dataframe thead th {\n",
       "        text-align: right;\n",
       "    }\n",
       "</style>\n",
       "<table border=\"1\" class=\"dataframe\">\n",
       "  <thead>\n",
       "    <tr style=\"text-align: right;\">\n",
       "      <th></th>\n",
       "      <th>Instructor</th>\n",
       "      <th>Course</th>\n",
       "      <th>Score</th>\n",
       "    </tr>\n",
       "  </thead>\n",
       "  <tbody>\n",
       "    <tr>\n",
       "      <th>0</th>\n",
       "      <td>أحمد زايد محمد أمام</td>\n",
       "      <td>IS 230</td>\n",
       "      <td>3.108718</td>\n",
       "    </tr>\n",
       "    <tr>\n",
       "      <th>1</th>\n",
       "      <td>أشرف الطيب القزدار</td>\n",
       "      <td>SWE 381</td>\n",
       "      <td>4.066957</td>\n",
       "    </tr>\n",
       "    <tr>\n",
       "      <th>2</th>\n",
       "      <td>أشرف الطيب القزدار</td>\n",
       "      <td>SWE 483</td>\n",
       "      <td>3.195652</td>\n",
       "    </tr>\n",
       "    <tr>\n",
       "      <th>3</th>\n",
       "      <td>أشرف الطيب القزدار</td>\n",
       "      <td>SWE 496</td>\n",
       "      <td>8.000000</td>\n",
       "    </tr>\n",
       "    <tr>\n",
       "      <th>4</th>\n",
       "      <td>أشرف الطيب القزدار</td>\n",
       "      <td>SWE 497</td>\n",
       "      <td>5.000000</td>\n",
       "    </tr>\n",
       "    <tr>\n",
       "      <th>5</th>\n",
       "      <td>أشرف الطيب القزدار</td>\n",
       "      <td>SWE 594</td>\n",
       "      <td>0.000000</td>\n",
       "    </tr>\n",
       "    <tr>\n",
       "      <th>6</th>\n",
       "      <td>أشرف الطيب القزدار</td>\n",
       "      <td>SWE 600</td>\n",
       "      <td>0.000000</td>\n",
       "    </tr>\n",
       "    <tr>\n",
       "      <th>7</th>\n",
       "      <td>احمد ابراهيم فهد الحماد</td>\n",
       "      <td>CEN 490</td>\n",
       "      <td>3.888889</td>\n",
       "    </tr>\n",
       "    <tr>\n",
       "      <th>8</th>\n",
       "      <td>احمد ابراهيم فهد الحماد</td>\n",
       "      <td>CEN 493</td>\n",
       "      <td>8.000000</td>\n",
       "    </tr>\n",
       "    <tr>\n",
       "      <th>9</th>\n",
       "      <td>احمد ابراهيم فهد الحماد</td>\n",
       "      <td>CEN 521</td>\n",
       "      <td>4.000000</td>\n",
       "    </tr>\n",
       "    <tr>\n",
       "      <th>10</th>\n",
       "      <td>احمد ابراهيم فهد الحماد</td>\n",
       "      <td>CEN 599</td>\n",
       "      <td>8.000000</td>\n",
       "    </tr>\n",
       "    <tr>\n",
       "      <th>11</th>\n",
       "      <td>احمد السيد البدوى يوسف</td>\n",
       "      <td>IS 370</td>\n",
       "      <td>5.150794</td>\n",
       "    </tr>\n",
       "    <tr>\n",
       "      <th>12</th>\n",
       "      <td>احمد السيد البدوى يوسف</td>\n",
       "      <td>IS 498</td>\n",
       "      <td>8.000000</td>\n",
       "    </tr>\n",
       "    <tr>\n",
       "      <th>13</th>\n",
       "      <td>احمد السيد البدوى يوسف</td>\n",
       "      <td>IS 537</td>\n",
       "      <td>2.000000</td>\n",
       "    </tr>\n",
       "    <tr>\n",
       "      <th>14</th>\n",
       "      <td>احمد جعفر الفنوش الشبلي</td>\n",
       "      <td>CSC 215</td>\n",
       "      <td>2.528639</td>\n",
       "    </tr>\n",
       "    <tr>\n",
       "      <th>15</th>\n",
       "      <td>احمد جعفر الفنوش الشبلي</td>\n",
       "      <td>CSC 227</td>\n",
       "      <td>2.733333</td>\n",
       "    </tr>\n",
       "    <tr>\n",
       "      <th>16</th>\n",
       "      <td>احمد سعد حمد المقرن</td>\n",
       "      <td>CSC 699</td>\n",
       "      <td>0.000000</td>\n",
       "    </tr>\n",
       "    <tr>\n",
       "      <th>17</th>\n",
       "      <td>احمد سعد حمد المقرن</td>\n",
       "      <td>CSC 700</td>\n",
       "      <td>0.000000</td>\n",
       "    </tr>\n",
       "    <tr>\n",
       "      <th>18</th>\n",
       "      <td>احمد عبدالكريم عبدالمحسن التركى</td>\n",
       "      <td>IS 481</td>\n",
       "      <td>4.400000</td>\n",
       "    </tr>\n",
       "    <tr>\n",
       "      <th>19</th>\n",
       "      <td>احمد عبدالكريم عبدالمحسن التركى</td>\n",
       "      <td>IS 495</td>\n",
       "      <td>0.000000</td>\n",
       "    </tr>\n",
       "    <tr>\n",
       "      <th>20</th>\n",
       "      <td>احمد عبدالكريم عبدالمحسن التركى</td>\n",
       "      <td>IS 498</td>\n",
       "      <td>8.000000</td>\n",
       "    </tr>\n",
       "    <tr>\n",
       "      <th>21</th>\n",
       "      <td>احمد عبدالكريم عبدالمحسن التركى</td>\n",
       "      <td>IS 499</td>\n",
       "      <td>6.000000</td>\n",
       "    </tr>\n",
       "    <tr>\n",
       "      <th>22</th>\n",
       "      <td>احمد عبدالله ابراهيم الحامد</td>\n",
       "      <td>IS 498</td>\n",
       "      <td>6.000000</td>\n",
       "    </tr>\n",
       "    <tr>\n",
       "      <th>23</th>\n",
       "      <td>احمد عبدالله ابراهيم الحامد</td>\n",
       "      <td>IS 522</td>\n",
       "      <td>3.583333</td>\n",
       "    </tr>\n",
       "    <tr>\n",
       "      <th>24</th>\n",
       "      <td>احمد عبدالله ابراهيم الحامد</td>\n",
       "      <td>IS 595</td>\n",
       "      <td>7.000000</td>\n",
       "    </tr>\n",
       "    <tr>\n",
       "      <th>25</th>\n",
       "      <td>احمد عبدالله محمد سند</td>\n",
       "      <td>IS 699</td>\n",
       "      <td>0.000000</td>\n",
       "    </tr>\n",
       "    <tr>\n",
       "      <th>26</th>\n",
       "      <td>احمد محمد زكي عبدالرؤوف الرجوب</td>\n",
       "      <td>CSC 227</td>\n",
       "      <td>3.376437</td>\n",
       "    </tr>\n",
       "    <tr>\n",
       "      <th>27</th>\n",
       "      <td>احمد محمد على غنيم</td>\n",
       "      <td>SWE 455</td>\n",
       "      <td>4.825000</td>\n",
       "    </tr>\n",
       "    <tr>\n",
       "      <th>28</th>\n",
       "      <td>احمد محمد على غنيم</td>\n",
       "      <td>SWE 496</td>\n",
       "      <td>8.000000</td>\n",
       "    </tr>\n",
       "    <tr>\n",
       "      <th>29</th>\n",
       "      <td>احمد محمد على غنيم</td>\n",
       "      <td>SWE 497</td>\n",
       "      <td>8.000000</td>\n",
       "    </tr>\n",
       "    <tr>\n",
       "      <th>30</th>\n",
       "      <td>احمد محمد على غنيم</td>\n",
       "      <td>SWE 541</td>\n",
       "      <td>4.363636</td>\n",
       "    </tr>\n",
       "    <tr>\n",
       "      <th>31</th>\n",
       "      <td>احمد محمد على غنيم</td>\n",
       "      <td>SWE 594</td>\n",
       "      <td>0.000000</td>\n",
       "    </tr>\n",
       "    <tr>\n",
       "      <th>32</th>\n",
       "      <td>اشرف عبدالحليم عبدالعال يوسف</td>\n",
       "      <td>IS 482</td>\n",
       "      <td>4.833333</td>\n",
       "    </tr>\n",
       "    <tr>\n",
       "      <th>33</th>\n",
       "      <td>المتولى محمد المتولى مصطفى</td>\n",
       "      <td>IS 385</td>\n",
       "      <td>4.100000</td>\n",
       "    </tr>\n",
       "    <tr>\n",
       "      <th>34</th>\n",
       "      <td>المتولى محمد المتولى مصطفى</td>\n",
       "      <td>IS 498</td>\n",
       "      <td>5.250000</td>\n",
       "    </tr>\n",
       "    <tr>\n",
       "      <th>35</th>\n",
       "      <td>المتولى محمد المتولى مصطفى</td>\n",
       "      <td>IS 533</td>\n",
       "      <td>2.272727</td>\n",
       "    </tr>\n",
       "    <tr>\n",
       "      <th>36</th>\n",
       "      <td>المتولى محمد المتولى مصطفى</td>\n",
       "      <td>IS 999</td>\n",
       "      <td>0.000000</td>\n",
       "    </tr>\n",
       "    <tr>\n",
       "      <th>37</th>\n",
       "      <td>ايهاب عبدالعزيز محمد الرسن</td>\n",
       "      <td>CSC 457</td>\n",
       "      <td>6.424242</td>\n",
       "    </tr>\n",
       "    <tr>\n",
       "      <th>38</th>\n",
       "      <td>ايهاب عبدالعزيز محمد الرسن</td>\n",
       "      <td>CSC 496</td>\n",
       "      <td>7.750000</td>\n",
       "    </tr>\n",
       "    <tr>\n",
       "      <th>39</th>\n",
       "      <td>ايهاب عبدالعزيز محمد الرسن</td>\n",
       "      <td>CSC 497</td>\n",
       "      <td>8.000000</td>\n",
       "    </tr>\n",
       "    <tr>\n",
       "      <th>40</th>\n",
       "      <td>ايهاب عبدالعزيز محمد الرسن</td>\n",
       "      <td>CSC 523</td>\n",
       "      <td>6.750000</td>\n",
       "    </tr>\n",
       "    <tr>\n",
       "      <th>41</th>\n",
       "      <td>بدر فهد صالح الخميس</td>\n",
       "      <td>IS 472</td>\n",
       "      <td>6.297078</td>\n",
       "    </tr>\n",
       "    <tr>\n",
       "      <th>42</th>\n",
       "      <td>بدر فهد صالح الخميس</td>\n",
       "      <td>IS 498</td>\n",
       "      <td>8.000000</td>\n",
       "    </tr>\n",
       "    <tr>\n",
       "      <th>43</th>\n",
       "      <td>بدر فهد صالح الخميس</td>\n",
       "      <td>IS 499</td>\n",
       "      <td>8.000000</td>\n",
       "    </tr>\n",
       "    <tr>\n",
       "      <th>44</th>\n",
       "      <td>بدر فهد صالح الخميس</td>\n",
       "      <td>IS 595</td>\n",
       "      <td>7.000000</td>\n",
       "    </tr>\n",
       "    <tr>\n",
       "      <th>45</th>\n",
       "      <td>بلقاسم بن يوسف</td>\n",
       "      <td>CEN 212</td>\n",
       "      <td>2.423077</td>\n",
       "    </tr>\n",
       "    <tr>\n",
       "      <th>46</th>\n",
       "      <td>بلقاسم بن يوسف</td>\n",
       "      <td>CEN 493</td>\n",
       "      <td>6.333333</td>\n",
       "    </tr>\n",
       "    <tr>\n",
       "      <th>47</th>\n",
       "      <td>بلقاسم بن يوسف</td>\n",
       "      <td>CEN 697</td>\n",
       "      <td>6.000000</td>\n",
       "    </tr>\n",
       "    <tr>\n",
       "      <th>48</th>\n",
       "      <td>بندر محمد عويبد المويسي السلمي</td>\n",
       "      <td>CSC 113</td>\n",
       "      <td>3.225845</td>\n",
       "    </tr>\n",
       "    <tr>\n",
       "      <th>49</th>\n",
       "      <td>بندر محمد عويبد المويسي السلمي</td>\n",
       "      <td>CSC 462</td>\n",
       "      <td>6.170732</td>\n",
       "    </tr>\n",
       "    <tr>\n",
       "      <th>50</th>\n",
       "      <td>جل فريد جل المهتدى</td>\n",
       "      <td>CSC 619</td>\n",
       "      <td>7.500000</td>\n",
       "    </tr>\n",
       "    <tr>\n",
       "      <th>51</th>\n",
       "      <td>جمال الشوربجى الشوربجى</td>\n",
       "      <td>IS 424</td>\n",
       "      <td>4.066667</td>\n",
       "    </tr>\n",
       "    <tr>\n",
       "      <th>52</th>\n",
       "      <td>جواد عبدالفتاح بري</td>\n",
       "      <td>IS 230</td>\n",
       "      <td>4.234748</td>\n",
       "    </tr>\n",
       "    <tr>\n",
       "      <th>53</th>\n",
       "      <td>جواد عبدالفتاح بري</td>\n",
       "      <td>IS 700</td>\n",
       "      <td>0.000000</td>\n",
       "    </tr>\n",
       "    <tr>\n",
       "      <th>54</th>\n",
       "      <td>حاتم عبدالرحمن عبدالظاهر ابوالسمح</td>\n",
       "      <td>CSC 496</td>\n",
       "      <td>8.000000</td>\n",
       "    </tr>\n",
       "    <tr>\n",
       "      <th>55</th>\n",
       "      <td>حاتم عبدالرحمن عبدالظاهر ابوالسمح</td>\n",
       "      <td>CSC 699</td>\n",
       "      <td>0.000000</td>\n",
       "    </tr>\n",
       "    <tr>\n",
       "      <th>56</th>\n",
       "      <td>حسام محمد عبدالحفيظ رمضان</td>\n",
       "      <td>IS 498</td>\n",
       "      <td>8.000000</td>\n",
       "    </tr>\n",
       "    <tr>\n",
       "      <th>57</th>\n",
       "      <td>حسن اسماعيل حسن مذكور</td>\n",
       "      <td>CSC 561</td>\n",
       "      <td>6.000000</td>\n",
       "    </tr>\n",
       "    <tr>\n",
       "      <th>58</th>\n",
       "      <td>حسن اسماعيل حسن مذكور</td>\n",
       "      <td>CSC 562</td>\n",
       "      <td>6.000000</td>\n",
       "    </tr>\n",
       "    <tr>\n",
       "      <th>59</th>\n",
       "      <td>حسن اسماعيل حسن مذكور</td>\n",
       "      <td>CSC 597</td>\n",
       "      <td>7.000000</td>\n",
       "    </tr>\n",
       "    <tr>\n",
       "      <th>60</th>\n",
       "      <td>حسن اسماعيل حسن مذكور</td>\n",
       "      <td>CSC 700</td>\n",
       "      <td>0.000000</td>\n",
       "    </tr>\n",
       "    <tr>\n",
       "      <th>61</th>\n",
       "      <td>حسين عبدالرحمن حسين بن سلمان</td>\n",
       "      <td>CSC 496</td>\n",
       "      <td>8.000000</td>\n",
       "    </tr>\n",
       "    <tr>\n",
       "      <th>62</th>\n",
       "      <td>حمود ظافر سند الدوسرى</td>\n",
       "      <td>IS 498</td>\n",
       "      <td>8.000000</td>\n",
       "    </tr>\n",
       "    <tr>\n",
       "      <th>63</th>\n",
       "      <td>خاجا محمد مصطفى</td>\n",
       "      <td>CSC 111</td>\n",
       "      <td>5.590909</td>\n",
       "    </tr>\n",
       "    <tr>\n",
       "      <th>64</th>\n",
       "      <td>خالد سليمان عبدالله الغثبر</td>\n",
       "      <td>IS 498</td>\n",
       "      <td>8.000000</td>\n",
       "    </tr>\n",
       "    <tr>\n",
       "      <th>65</th>\n",
       "      <td>خالد سليمان عبدالله الغثبر</td>\n",
       "      <td>IS 700</td>\n",
       "      <td>0.000000</td>\n",
       "    </tr>\n",
       "    <tr>\n",
       "      <th>66</th>\n",
       "      <td>خالد عبدالعزيز محمد النفجان</td>\n",
       "      <td>SWE 333</td>\n",
       "      <td>6.580808</td>\n",
       "    </tr>\n",
       "    <tr>\n",
       "      <th>67</th>\n",
       "      <td>خالد عبدالعزيز محمد النفجان</td>\n",
       "      <td>SWE 496</td>\n",
       "      <td>7.000000</td>\n",
       "    </tr>\n",
       "    <tr>\n",
       "      <th>68</th>\n",
       "      <td>خالد عبدالعزيز محمد النفجان</td>\n",
       "      <td>SWE 497</td>\n",
       "      <td>8.000000</td>\n",
       "    </tr>\n",
       "    <tr>\n",
       "      <th>69</th>\n",
       "      <td>خالد ناصر حماد المتعب</td>\n",
       "      <td>SWE 477</td>\n",
       "      <td>6.402597</td>\n",
       "    </tr>\n",
       "    <tr>\n",
       "      <th>70</th>\n",
       "      <td>خالد ناصر حماد المتعب</td>\n",
       "      <td>SWE 479</td>\n",
       "      <td>0.000000</td>\n",
       "    </tr>\n",
       "    <tr>\n",
       "      <th>71</th>\n",
       "      <td>خالد ناصر حماد المتعب</td>\n",
       "      <td>SWE 496</td>\n",
       "      <td>8.000000</td>\n",
       "    </tr>\n",
       "    <tr>\n",
       "      <th>72</th>\n",
       "      <td>خالد ناصر حماد المتعب</td>\n",
       "      <td>SWE 999</td>\n",
       "      <td>0.000000</td>\n",
       "    </tr>\n",
       "    <tr>\n",
       "      <th>73</th>\n",
       "      <td>خليل محمد علي الهندي</td>\n",
       "      <td>CSC 340</td>\n",
       "      <td>3.226190</td>\n",
       "    </tr>\n",
       "    <tr>\n",
       "      <th>74</th>\n",
       "      <td>خليل محمد علي الهندي</td>\n",
       "      <td>CSC 497</td>\n",
       "      <td>8.000000</td>\n",
       "    </tr>\n",
       "    <tr>\n",
       "      <th>75</th>\n",
       "      <td>خليل محمد علي الهندي</td>\n",
       "      <td>CSC 699</td>\n",
       "      <td>0.000000</td>\n",
       "    </tr>\n",
       "    <tr>\n",
       "      <th>76</th>\n",
       "      <td>خليل محمد علي الهندي</td>\n",
       "      <td>CSC 700</td>\n",
       "      <td>0.000000</td>\n",
       "    </tr>\n",
       "    <tr>\n",
       "      <th>77</th>\n",
       "      <td>رامى محمد جمعه</td>\n",
       "      <td>CSC 361</td>\n",
       "      <td>1.941176</td>\n",
       "    </tr>\n",
       "    <tr>\n",
       "      <th>78</th>\n",
       "      <td>رشيد سعيد صمودة</td>\n",
       "      <td>CSC 227</td>\n",
       "      <td>4.637037</td>\n",
       "    </tr>\n",
       "    <tr>\n",
       "      <th>79</th>\n",
       "      <td>رشيد سعيد صمودة</td>\n",
       "      <td>CSC 496</td>\n",
       "      <td>6.000000</td>\n",
       "    </tr>\n",
       "    <tr>\n",
       "      <th>80</th>\n",
       "      <td>رشيد سعيد صمودة</td>\n",
       "      <td>CSC 700</td>\n",
       "      <td>0.000000</td>\n",
       "    </tr>\n",
       "    <tr>\n",
       "      <th>81</th>\n",
       "      <td>رضا بن محمد الطيب عوني</td>\n",
       "      <td>CEN 444</td>\n",
       "      <td>2.153846</td>\n",
       "    </tr>\n",
       "    <tr>\n",
       "      <th>82</th>\n",
       "      <td>رضا بن محمد الطيب عوني</td>\n",
       "      <td>CEN 492</td>\n",
       "      <td>6.333333</td>\n",
       "    </tr>\n",
       "    <tr>\n",
       "      <th>83</th>\n",
       "      <td>رضا بن محمد الطيب عوني</td>\n",
       "      <td>CEN 600</td>\n",
       "      <td>0.000000</td>\n",
       "    </tr>\n",
       "    <tr>\n",
       "      <th>84</th>\n",
       "      <td>رضا بن محمد الطيب عوني</td>\n",
       "      <td>CEN 999</td>\n",
       "      <td>0.000000</td>\n",
       "    </tr>\n",
       "    <tr>\n",
       "      <th>85</th>\n",
       "      <td>رمضان طاهر حجار</td>\n",
       "      <td>CEN 352</td>\n",
       "      <td>3.066667</td>\n",
       "    </tr>\n",
       "    <tr>\n",
       "      <th>86</th>\n",
       "      <td>زكريا عبدالله عبدالكريم الزامل</td>\n",
       "      <td>SWE 321</td>\n",
       "      <td>4.265152</td>\n",
       "    </tr>\n",
       "    <tr>\n",
       "      <th>87</th>\n",
       "      <td>زكريا عبدالله عبدالكريم الزامل</td>\n",
       "      <td>SWE 496</td>\n",
       "      <td>7.000000</td>\n",
       "    </tr>\n",
       "    <tr>\n",
       "      <th>88</th>\n",
       "      <td>زكريا عبدالله عبدالكريم الزامل</td>\n",
       "      <td>SWE 497</td>\n",
       "      <td>8.000000</td>\n",
       "    </tr>\n",
       "    <tr>\n",
       "      <th>89</th>\n",
       "      <td>زوهير عبدالله شنتوف</td>\n",
       "      <td>SWE 211</td>\n",
       "      <td>1.907273</td>\n",
       "    </tr>\n",
       "    <tr>\n",
       "      <th>90</th>\n",
       "      <td>زوهير عبدالله شنتوف</td>\n",
       "      <td>SWE 313</td>\n",
       "      <td>5.000000</td>\n",
       "    </tr>\n",
       "    <tr>\n",
       "      <th>91</th>\n",
       "      <td>زوهير عبدالله شنتوف</td>\n",
       "      <td>SWE 496</td>\n",
       "      <td>7.000000</td>\n",
       "    </tr>\n",
       "    <tr>\n",
       "      <th>92</th>\n",
       "      <td>زوهير عبدالله شنتوف</td>\n",
       "      <td>SWE 497</td>\n",
       "      <td>0.000000</td>\n",
       "    </tr>\n",
       "    <tr>\n",
       "      <th>93</th>\n",
       "      <td>زوهير عبدالله شنتوف</td>\n",
       "      <td>SWE 594</td>\n",
       "      <td>0.000000</td>\n",
       "    </tr>\n",
       "    <tr>\n",
       "      <th>94</th>\n",
       "      <td>سامى صالح احمد الوكيل</td>\n",
       "      <td>CEN 341</td>\n",
       "      <td>3.666667</td>\n",
       "    </tr>\n",
       "    <tr>\n",
       "      <th>95</th>\n",
       "      <td>سامى صالح احمد الوكيل</td>\n",
       "      <td>CSC 699</td>\n",
       "      <td>0.000000</td>\n",
       "    </tr>\n",
       "    <tr>\n",
       "      <th>96</th>\n",
       "      <td>سعد صالح عبدالله العبودي</td>\n",
       "      <td>IS 498</td>\n",
       "      <td>8.000000</td>\n",
       "    </tr>\n",
       "    <tr>\n",
       "      <th>97</th>\n",
       "      <td>سعد عبدالله حاسن احمدى</td>\n",
       "      <td>CSC 496</td>\n",
       "      <td>8.000000</td>\n",
       "    </tr>\n",
       "    <tr>\n",
       "      <th>98</th>\n",
       "      <td>سعد عبدالله حاسن احمدى</td>\n",
       "      <td>CSC 497</td>\n",
       "      <td>6.666667</td>\n",
       "    </tr>\n",
       "    <tr>\n",
       "      <th>99</th>\n",
       "      <td>سعد عبدالله حاسن احمدى</td>\n",
       "      <td>CSC 524</td>\n",
       "      <td>4.400000</td>\n",
       "    </tr>\n",
       "    <tr>\n",
       "      <th>100</th>\n",
       "      <td>سعد عبدالله حاسن احمدى</td>\n",
       "      <td>CSC 597</td>\n",
       "      <td>3.000000</td>\n",
       "    </tr>\n",
       "    <tr>\n",
       "      <th>101</th>\n",
       "      <td>سعد عبدالله حاسن احمدى</td>\n",
       "      <td>CSC 600</td>\n",
       "      <td>0.000000</td>\n",
       "    </tr>\n",
       "    <tr>\n",
       "      <th>102</th>\n",
       "      <td>سعد علي حاج بكري</td>\n",
       "      <td>CEN 470</td>\n",
       "      <td>5.789474</td>\n",
       "    </tr>\n",
       "    <tr>\n",
       "      <th>103</th>\n",
       "      <td>سعد علي حاج بكري</td>\n",
       "      <td>CEN 493</td>\n",
       "      <td>7.000000</td>\n",
       "    </tr>\n",
       "    <tr>\n",
       "      <th>104</th>\n",
       "      <td>سعد علي حاج بكري</td>\n",
       "      <td>CEN 592</td>\n",
       "      <td>8.000000</td>\n",
       "    </tr>\n",
       "    <tr>\n",
       "      <th>105</th>\n",
       "      <td>سعد علي حاج بكري</td>\n",
       "      <td>CEN 600</td>\n",
       "      <td>0.000000</td>\n",
       "    </tr>\n",
       "    <tr>\n",
       "      <th>106</th>\n",
       "      <td>سعد علي حاج بكري</td>\n",
       "      <td>CEN 631</td>\n",
       "      <td>7.000000</td>\n",
       "    </tr>\n",
       "    <tr>\n",
       "      <th>107</th>\n",
       "      <td>سعد مسعود مسعود ايجاد</td>\n",
       "      <td>CSC 111</td>\n",
       "      <td>5.403215</td>\n",
       "    </tr>\n",
       "    <tr>\n",
       "      <th>108</th>\n",
       "      <td>سعيد أحمد كراش</td>\n",
       "      <td>CSC 212</td>\n",
       "      <td>3.751152</td>\n",
       "    </tr>\n",
       "    <tr>\n",
       "      <th>109</th>\n",
       "      <td>سعيد أحمد كراش</td>\n",
       "      <td>CSC 497</td>\n",
       "      <td>8.000000</td>\n",
       "    </tr>\n",
       "    <tr>\n",
       "      <th>110</th>\n",
       "      <td>سفيان الزين قنوني</td>\n",
       "      <td>CSC 113</td>\n",
       "      <td>2.447368</td>\n",
       "    </tr>\n",
       "    <tr>\n",
       "      <th>111</th>\n",
       "      <td>سفيان الزين قنوني</td>\n",
       "      <td>CSC 496</td>\n",
       "      <td>8.000000</td>\n",
       "    </tr>\n",
       "    <tr>\n",
       "      <th>112</th>\n",
       "      <td>سلطان داود سليمان الفرهود</td>\n",
       "      <td>CSC 496</td>\n",
       "      <td>8.000000</td>\n",
       "    </tr>\n",
       "    <tr>\n",
       "      <th>113</th>\n",
       "      <td>سلطان داود سليمان الفرهود</td>\n",
       "      <td>CSC 569</td>\n",
       "      <td>7.000000</td>\n",
       "    </tr>\n",
       "    <tr>\n",
       "      <th>114</th>\n",
       "      <td>سلطان عبدالعزيز محمد اليحيى</td>\n",
       "      <td>IS 498</td>\n",
       "      <td>8.000000</td>\n",
       "    </tr>\n",
       "    <tr>\n",
       "      <th>115</th>\n",
       "      <td>سلمان علي صالح العيد</td>\n",
       "      <td>CEN 434</td>\n",
       "      <td>6.000000</td>\n",
       "    </tr>\n",
       "    <tr>\n",
       "      <th>116</th>\n",
       "      <td>سلمان علي وهف القحطاني</td>\n",
       "      <td>CEN 700</td>\n",
       "      <td>0.000000</td>\n",
       "    </tr>\n",
       "    <tr>\n",
       "      <th>117</th>\n",
       "      <td>صالح عبدالله صالح الموينع</td>\n",
       "      <td>CEN 531</td>\n",
       "      <td>5.000000</td>\n",
       "    </tr>\n",
       "    <tr>\n",
       "      <th>118</th>\n",
       "      <td>صالح محمد صالح الهمامى</td>\n",
       "      <td>CSC 343</td>\n",
       "      <td>4.726667</td>\n",
       "    </tr>\n",
       "    <tr>\n",
       "      <th>119</th>\n",
       "      <td>صالح محمد صالح الهمامى</td>\n",
       "      <td>CSC 496</td>\n",
       "      <td>7.500000</td>\n",
       "    </tr>\n",
       "    <tr>\n",
       "      <th>120</th>\n",
       "      <td>عءالدين مختار حافظ</td>\n",
       "      <td>IS 340</td>\n",
       "      <td>5.438940</td>\n",
       "    </tr>\n",
       "    <tr>\n",
       "      <th>121</th>\n",
       "      <td>عءالدين مختار حافظ</td>\n",
       "      <td>IS 696</td>\n",
       "      <td>8.000000</td>\n",
       "    </tr>\n",
       "    <tr>\n",
       "      <th>122</th>\n",
       "      <td>عادل خليفة سوداني</td>\n",
       "      <td>CSC 329</td>\n",
       "      <td>4.853030</td>\n",
       "    </tr>\n",
       "    <tr>\n",
       "      <th>123</th>\n",
       "      <td>عادل خليفة سوداني</td>\n",
       "      <td>CSC 496</td>\n",
       "      <td>7.000000</td>\n",
       "    </tr>\n",
       "    <tr>\n",
       "      <th>124</th>\n",
       "      <td>عاصم ناصر عبدالرحمن اليحيى</td>\n",
       "      <td>CEN 441</td>\n",
       "      <td>5.200000</td>\n",
       "    </tr>\n",
       "    <tr>\n",
       "      <th>125</th>\n",
       "      <td>عاصم ناصر عبدالرحمن اليحيى</td>\n",
       "      <td>CEN 445</td>\n",
       "      <td>3.916667</td>\n",
       "    </tr>\n",
       "    <tr>\n",
       "      <th>126</th>\n",
       "      <td>عاصم ناصر عبدالرحمن اليحيى</td>\n",
       "      <td>CEN 492</td>\n",
       "      <td>7.000000</td>\n",
       "    </tr>\n",
       "    <tr>\n",
       "      <th>127</th>\n",
       "      <td>عامر عبدالله طوير</td>\n",
       "      <td>CSC 113</td>\n",
       "      <td>3.055556</td>\n",
       "    </tr>\n",
       "    <tr>\n",
       "      <th>128</th>\n",
       "      <td>عايض سعد عايض القحطانى</td>\n",
       "      <td>CEN 318</td>\n",
       "      <td>4.045455</td>\n",
       "    </tr>\n",
       "    <tr>\n",
       "      <th>129</th>\n",
       "      <td>عايض سعد عايض القحطانى</td>\n",
       "      <td>CEN 415</td>\n",
       "      <td>4.272727</td>\n",
       "    </tr>\n",
       "    <tr>\n",
       "      <th>130</th>\n",
       "      <td>عايض سعد عايض القحطانى</td>\n",
       "      <td>CEN 492</td>\n",
       "      <td>7.333333</td>\n",
       "    </tr>\n",
       "    <tr>\n",
       "      <th>131</th>\n",
       "      <td>عبدالحميد عبدالله محمد العليوي</td>\n",
       "      <td>SWE 496</td>\n",
       "      <td>8.000000</td>\n",
       "    </tr>\n",
       "    <tr>\n",
       "      <th>132</th>\n",
       "      <td>عبدالرحمن ابراهيم على العثيم</td>\n",
       "      <td>IS 351</td>\n",
       "      <td>4.113038</td>\n",
       "    </tr>\n",
       "    <tr>\n",
       "      <th>133</th>\n",
       "      <td>عبدالرحمن ابراهيم على العثيم</td>\n",
       "      <td>IS 499</td>\n",
       "      <td>8.000000</td>\n",
       "    </tr>\n",
       "    <tr>\n",
       "      <th>134</th>\n",
       "      <td>عبدالرحمن عايش طلق المطيرى</td>\n",
       "      <td>CEN 442</td>\n",
       "      <td>4.866667</td>\n",
       "    </tr>\n",
       "    <tr>\n",
       "      <th>135</th>\n",
       "      <td>عبدالرحمن عبدالكريم مرزا</td>\n",
       "      <td>IS 498</td>\n",
       "      <td>8.000000</td>\n",
       "    </tr>\n",
       "    <tr>\n",
       "      <th>136</th>\n",
       "      <td>عبدالرحمن عبدالكريم مرزا</td>\n",
       "      <td>IS 622</td>\n",
       "      <td>7.000000</td>\n",
       "    </tr>\n",
       "    <tr>\n",
       "      <th>137</th>\n",
       "      <td>عبدالرحمن عبدالله حسين الشريف</td>\n",
       "      <td>IS 362</td>\n",
       "      <td>3.808642</td>\n",
       "    </tr>\n",
       "    <tr>\n",
       "      <th>138</th>\n",
       "      <td>عبدالرحمن عبدالله حسين الشريف</td>\n",
       "      <td>IS 498</td>\n",
       "      <td>8.000000</td>\n",
       "    </tr>\n",
       "    <tr>\n",
       "      <th>139</th>\n",
       "      <td>عبدالرحمن عبدالله حسين الشريف</td>\n",
       "      <td>IS 499</td>\n",
       "      <td>6.000000</td>\n",
       "    </tr>\n",
       "    <tr>\n",
       "      <th>140</th>\n",
       "      <td>عبدالرحمن عبدالله عبدالرحمن الخنيفر</td>\n",
       "      <td>CSC 443</td>\n",
       "      <td>5.772727</td>\n",
       "    </tr>\n",
       "    <tr>\n",
       "      <th>141</th>\n",
       "      <td>عبدالسميع محمدشاكر محمدسميع الدهلو</td>\n",
       "      <td>CEN 212</td>\n",
       "      <td>2.095238</td>\n",
       "    </tr>\n",
       "    <tr>\n",
       "      <th>142</th>\n",
       "      <td>عبدالسميع محمدشاكر محمدسميع الدهلو</td>\n",
       "      <td>CEN 415</td>\n",
       "      <td>1.777778</td>\n",
       "    </tr>\n",
       "    <tr>\n",
       "      <th>143</th>\n",
       "      <td>عبدالعزيز سليمان فهد المزيد</td>\n",
       "      <td>CEN 699</td>\n",
       "      <td>0.000000</td>\n",
       "    </tr>\n",
       "    <tr>\n",
       "      <th>144</th>\n",
       "      <td>عبدالعزيز عمر عبدالله السدحان</td>\n",
       "      <td>SWE 466</td>\n",
       "      <td>4.445602</td>\n",
       "    </tr>\n",
       "    <tr>\n",
       "      <th>145</th>\n",
       "      <td>عبدالعزيز عمر عبدالله السدحان</td>\n",
       "      <td>SWE 496</td>\n",
       "      <td>8.000000</td>\n",
       "    </tr>\n",
       "    <tr>\n",
       "      <th>146</th>\n",
       "      <td>عبدالفتاح صالح بلغيث</td>\n",
       "      <td>CSC 512</td>\n",
       "      <td>2.714286</td>\n",
       "    </tr>\n",
       "    <tr>\n",
       "      <th>147</th>\n",
       "      <td>عبدالفتاح صالح بلغيث</td>\n",
       "      <td>CSC 612</td>\n",
       "      <td>5.750000</td>\n",
       "    </tr>\n",
       "    <tr>\n",
       "      <th>148</th>\n",
       "      <td>عبدالله محمد عبدالله الضلعان</td>\n",
       "      <td>CSC 698</td>\n",
       "      <td>8.000000</td>\n",
       "    </tr>\n",
       "    <tr>\n",
       "      <th>149</th>\n",
       "      <td>عبدالمجيد ابراهيم سليمان امير</td>\n",
       "      <td>CSC 111</td>\n",
       "      <td>4.833333</td>\n",
       "    </tr>\n",
       "    <tr>\n",
       "      <th>150</th>\n",
       "      <td>عبدالمجيد ابراهيم سليمان امير</td>\n",
       "      <td>CSC 497</td>\n",
       "      <td>6.000000</td>\n",
       "    </tr>\n",
       "    <tr>\n",
       "      <th>151</th>\n",
       "      <td>عبدالمحسن مدله عايش المطيري</td>\n",
       "      <td>CEN 600</td>\n",
       "      <td>0.000000</td>\n",
       "    </tr>\n",
       "    <tr>\n",
       "      <th>152</th>\n",
       "      <td>عبدالملك بشير الرحال</td>\n",
       "      <td>CEN 447</td>\n",
       "      <td>5.300000</td>\n",
       "    </tr>\n",
       "    <tr>\n",
       "      <th>153</th>\n",
       "      <td>عبدالملك سلمان عبدالرحمن السلمان</td>\n",
       "      <td>CSC 497</td>\n",
       "      <td>8.000000</td>\n",
       "    </tr>\n",
       "    <tr>\n",
       "      <th>154</th>\n",
       "      <td>عبدالمنعم محمدعلي محمد حسن ارتولى</td>\n",
       "      <td>CSC 304</td>\n",
       "      <td>4.083333</td>\n",
       "    </tr>\n",
       "    <tr>\n",
       "      <th>155</th>\n",
       "      <td>عبدالمنعم محمدعلي محمد حسن ارتولى</td>\n",
       "      <td>CSC 339</td>\n",
       "      <td>2.811180</td>\n",
       "    </tr>\n",
       "    <tr>\n",
       "      <th>156</th>\n",
       "      <td>عبدالمنعم محمدعلي محمد حسن ارتولى</td>\n",
       "      <td>CSC 496</td>\n",
       "      <td>2.666667</td>\n",
       "    </tr>\n",
       "    <tr>\n",
       "      <th>157</th>\n",
       "      <td>عبدالمنعم محمدعلي محمد حسن ارتولى</td>\n",
       "      <td>CSC 699</td>\n",
       "      <td>0.000000</td>\n",
       "    </tr>\n",
       "    <tr>\n",
       "      <th>158</th>\n",
       "      <td>عبدالودوود عبدالوحيد</td>\n",
       "      <td>CEN 351</td>\n",
       "      <td>2.750000</td>\n",
       "    </tr>\n",
       "    <tr>\n",
       "      <th>159</th>\n",
       "      <td>عبدالودوود عبدالوحيد</td>\n",
       "      <td>CEN 492</td>\n",
       "      <td>8.000000</td>\n",
       "    </tr>\n",
       "    <tr>\n",
       "      <th>160</th>\n",
       "      <td>عبدالودوود عبدالوحيد</td>\n",
       "      <td>CEN 493</td>\n",
       "      <td>7.000000</td>\n",
       "    </tr>\n",
       "    <tr>\n",
       "      <th>161</th>\n",
       "      <td>عبدالودوود عبدالوحيد</td>\n",
       "      <td>CEN 697</td>\n",
       "      <td>8.000000</td>\n",
       "    </tr>\n",
       "    <tr>\n",
       "      <th>162</th>\n",
       "      <td>عقيل محمد مصطفى عبدالرحمن اعظم</td>\n",
       "      <td>CSC 281</td>\n",
       "      <td>4.193247</td>\n",
       "    </tr>\n",
       "    <tr>\n",
       "      <th>163</th>\n",
       "      <td>عقيل محمد مصطفى عبدالرحمن اعظم</td>\n",
       "      <td>CSC 497</td>\n",
       "      <td>8.000000</td>\n",
       "    </tr>\n",
       "    <tr>\n",
       "      <th>164</th>\n",
       "      <td>عقيل محمد مصطفى عبدالرحمن اعظم</td>\n",
       "      <td>CSC 700</td>\n",
       "      <td>0.000000</td>\n",
       "    </tr>\n",
       "    <tr>\n",
       "      <th>165</th>\n",
       "      <td>عمر ابراهيم عبدالله الصالح</td>\n",
       "      <td>CEN 999</td>\n",
       "      <td>0.000000</td>\n",
       "    </tr>\n",
       "    <tr>\n",
       "      <th>166</th>\n",
       "      <td>عمر ابراهيم عبدالله الصالح</td>\n",
       "      <td>CSC 999</td>\n",
       "      <td>0.000000</td>\n",
       "    </tr>\n",
       "    <tr>\n",
       "      <th>167</th>\n",
       "      <td>عمر ابراهيم عبدالله الصالح</td>\n",
       "      <td>IS 999</td>\n",
       "      <td>0.000000</td>\n",
       "    </tr>\n",
       "    <tr>\n",
       "      <th>168</th>\n",
       "      <td>عمر عبدالعزيز محمد الرويس</td>\n",
       "      <td>IS 492</td>\n",
       "      <td>5.114286</td>\n",
       "    </tr>\n",
       "    <tr>\n",
       "      <th>169</th>\n",
       "      <td>عمر عبدالعزيز محمد الرويس</td>\n",
       "      <td>IS 498</td>\n",
       "      <td>7.000000</td>\n",
       "    </tr>\n",
       "    <tr>\n",
       "      <th>170</th>\n",
       "      <td>عمر عبدالعزيز محمد الرويس</td>\n",
       "      <td>IS 499</td>\n",
       "      <td>7.000000</td>\n",
       "    </tr>\n",
       "    <tr>\n",
       "      <th>171</th>\n",
       "      <td>عمر عبدالعزيز محمد الرويس</td>\n",
       "      <td>IS 550</td>\n",
       "      <td>2.100000</td>\n",
       "    </tr>\n",
       "    <tr>\n",
       "      <th>172</th>\n",
       "      <td>عمر عبدالعزيز محمد الرويس</td>\n",
       "      <td>IS 595</td>\n",
       "      <td>8.000000</td>\n",
       "    </tr>\n",
       "    <tr>\n",
       "      <th>173</th>\n",
       "      <td>عيسى احمد ناصر الغنيم</td>\n",
       "      <td>CEN 318</td>\n",
       "      <td>2.230769</td>\n",
       "    </tr>\n",
       "    <tr>\n",
       "      <th>174</th>\n",
       "      <td>عيسى احمد ناصر الغنيم</td>\n",
       "      <td>CEN 390</td>\n",
       "      <td>4.711538</td>\n",
       "    </tr>\n",
       "    <tr>\n",
       "      <th>175</th>\n",
       "      <td>غم محمد</td>\n",
       "      <td>CEN 460</td>\n",
       "      <td>5.361111</td>\n",
       "    </tr>\n",
       "    <tr>\n",
       "      <th>176</th>\n",
       "      <td>غم محمد</td>\n",
       "      <td>CEN 492</td>\n",
       "      <td>8.000000</td>\n",
       "    </tr>\n",
       "    <tr>\n",
       "      <th>177</th>\n",
       "      <td>غم محمد</td>\n",
       "      <td>CEN 596</td>\n",
       "      <td>0.000000</td>\n",
       "    </tr>\n",
       "    <tr>\n",
       "      <th>178</th>\n",
       "      <td>غم محمد</td>\n",
       "      <td>CEN 696</td>\n",
       "      <td>8.000000</td>\n",
       "    </tr>\n",
       "    <tr>\n",
       "      <th>179</th>\n",
       "      <td>غم محمد</td>\n",
       "      <td>CEN 700</td>\n",
       "      <td>0.000000</td>\n",
       "    </tr>\n",
       "    <tr>\n",
       "      <th>180</th>\n",
       "      <td>فضل امين حميد امين صوفي</td>\n",
       "      <td>SWE 444</td>\n",
       "      <td>7.684615</td>\n",
       "    </tr>\n",
       "    <tr>\n",
       "      <th>181</th>\n",
       "      <td>فضل امين حميد امين صوفي</td>\n",
       "      <td>SWE 496</td>\n",
       "      <td>7.000000</td>\n",
       "    </tr>\n",
       "    <tr>\n",
       "      <th>182</th>\n",
       "      <td>فضل امين حميد امين صوفي</td>\n",
       "      <td>SWE 497</td>\n",
       "      <td>8.000000</td>\n",
       "    </tr>\n",
       "    <tr>\n",
       "      <th>183</th>\n",
       "      <td>فضل امين حميد امين صوفي</td>\n",
       "      <td>SWE 594</td>\n",
       "      <td>0.000000</td>\n",
       "    </tr>\n",
       "    <tr>\n",
       "      <th>184</th>\n",
       "      <td>فهد عبدالله محمد الضلعان</td>\n",
       "      <td>CSC 212</td>\n",
       "      <td>3.149214</td>\n",
       "    </tr>\n",
       "    <tr>\n",
       "      <th>185</th>\n",
       "      <td>فهد عبدالله محمد الضلعان</td>\n",
       "      <td>CSC 496</td>\n",
       "      <td>8.000000</td>\n",
       "    </tr>\n",
       "    <tr>\n",
       "      <th>186</th>\n",
       "      <td>فواز عبدالعزيز عبدالله السليمان</td>\n",
       "      <td>CSC 496</td>\n",
       "      <td>7.000000</td>\n",
       "    </tr>\n",
       "    <tr>\n",
       "      <th>187</th>\n",
       "      <td>فيصل عبدالعزيز عبدالرحمن المسند</td>\n",
       "      <td>IS 240</td>\n",
       "      <td>3.750000</td>\n",
       "    </tr>\n",
       "    <tr>\n",
       "      <th>188</th>\n",
       "      <td>فيصل عبدالعزيز عبدالرحمن المسند</td>\n",
       "      <td>IS 499</td>\n",
       "      <td>8.000000</td>\n",
       "    </tr>\n",
       "    <tr>\n",
       "      <th>189</th>\n",
       "      <td>فيصل عبدالعزيز عبدالرحمن المسند</td>\n",
       "      <td>IS 629</td>\n",
       "      <td>6.500000</td>\n",
       "    </tr>\n",
       "    <tr>\n",
       "      <th>190</th>\n",
       "      <td>كمال الدين حفناوى احمد هوام</td>\n",
       "      <td>CSC 380</td>\n",
       "      <td>3.913043</td>\n",
       "    </tr>\n",
       "    <tr>\n",
       "      <th>191</th>\n",
       "      <td>كمال الدين حفناوى احمد هوام</td>\n",
       "      <td>CSC 383</td>\n",
       "      <td>3.277778</td>\n",
       "    </tr>\n",
       "    <tr>\n",
       "      <th>192</th>\n",
       "      <td>ماجد عبدالله محمد الرسينى</td>\n",
       "      <td>CEN 492</td>\n",
       "      <td>6.000000</td>\n",
       "    </tr>\n",
       "    <tr>\n",
       "      <th>193</th>\n",
       "      <td>ماجد عبدالله محمد الرسينى</td>\n",
       "      <td>CEN 573</td>\n",
       "      <td>8.000000</td>\n",
       "    </tr>\n",
       "    <tr>\n",
       "      <th>194</th>\n",
       "      <td>ماجد عبدالله محمد مقرن ال سعود</td>\n",
       "      <td>IS 532</td>\n",
       "      <td>6.000000</td>\n",
       "    </tr>\n",
       "    <tr>\n",
       "      <th>195</th>\n",
       "      <td>ماجد عبدالله محمد مقرن ال سعود</td>\n",
       "      <td>IS 595</td>\n",
       "      <td>0.000000</td>\n",
       "    </tr>\n",
       "    <tr>\n",
       "      <th>196</th>\n",
       "      <td>ماجد عبدالله محمد مقرن ال سعود</td>\n",
       "      <td>IS 696</td>\n",
       "      <td>8.000000</td>\n",
       "    </tr>\n",
       "    <tr>\n",
       "      <th>197</th>\n",
       "      <td>ماجد عبدالله محمد مقرن ال سعود</td>\n",
       "      <td>IS 700</td>\n",
       "      <td>0.000000</td>\n",
       "    </tr>\n",
       "    <tr>\n",
       "      <th>198</th>\n",
       "      <td>مازن سليمان خميس السبعان</td>\n",
       "      <td>CEN 492</td>\n",
       "      <td>6.000000</td>\n",
       "    </tr>\n",
       "    <tr>\n",
       "      <th>199</th>\n",
       "      <td>مازن سليمان خميس السبعان</td>\n",
       "      <td>CEN 570</td>\n",
       "      <td>4.000000</td>\n",
       "    </tr>\n",
       "    <tr>\n",
       "      <th>200</th>\n",
       "      <td>مازن سليمان خميس السبعان</td>\n",
       "      <td>CEN 600</td>\n",
       "      <td>0.000000</td>\n",
       "    </tr>\n",
       "    <tr>\n",
       "      <th>201</th>\n",
       "      <td>مبارك راشد عبدالله ال رشود</td>\n",
       "      <td>SWE 485</td>\n",
       "      <td>4.372093</td>\n",
       "    </tr>\n",
       "    <tr>\n",
       "      <th>202</th>\n",
       "      <td>مبارك راشد عبدالله ال رشود</td>\n",
       "      <td>SWE 496</td>\n",
       "      <td>8.000000</td>\n",
       "    </tr>\n",
       "    <tr>\n",
       "      <th>203</th>\n",
       "      <td>مبارك راشد عبدالله ال رشود</td>\n",
       "      <td>SWE 599</td>\n",
       "      <td>5.000000</td>\n",
       "    </tr>\n",
       "    <tr>\n",
       "      <th>204</th>\n",
       "      <td>مجاهد ميخاتي</td>\n",
       "      <td>CEN 211</td>\n",
       "      <td>1.142857</td>\n",
       "    </tr>\n",
       "    <tr>\n",
       "      <th>205</th>\n",
       "      <td>مجاهد ميخاتي</td>\n",
       "      <td>CEN 212</td>\n",
       "      <td>2.722222</td>\n",
       "    </tr>\n",
       "    <tr>\n",
       "      <th>206</th>\n",
       "      <td>مجاهد ميخاتي</td>\n",
       "      <td>CEN 492</td>\n",
       "      <td>7.000000</td>\n",
       "    </tr>\n",
       "    <tr>\n",
       "      <th>207</th>\n",
       "      <td>مجدل سلطان مجدل بن سفران</td>\n",
       "      <td>CSC 227</td>\n",
       "      <td>4.333333</td>\n",
       "    </tr>\n",
       "    <tr>\n",
       "      <th>208</th>\n",
       "      <td>مجدل سلطان مجدل بن سفران</td>\n",
       "      <td>CSC 496</td>\n",
       "      <td>8.000000</td>\n",
       "    </tr>\n",
       "    <tr>\n",
       "      <th>209</th>\n",
       "      <td>مجدل سلطان مجدل بن سفران</td>\n",
       "      <td>CSC 566</td>\n",
       "      <td>7.500000</td>\n",
       "    </tr>\n",
       "    <tr>\n",
       "      <th>210</th>\n",
       "      <td>محسن حمادي الدنقير</td>\n",
       "      <td>SWE 312</td>\n",
       "      <td>3.959486</td>\n",
       "    </tr>\n",
       "    <tr>\n",
       "      <th>211</th>\n",
       "      <td>محسن حمادي الدنقير</td>\n",
       "      <td>SWE 496</td>\n",
       "      <td>8.000000</td>\n",
       "    </tr>\n",
       "    <tr>\n",
       "      <th>212</th>\n",
       "      <td>محسن حمادي الدنقير</td>\n",
       "      <td>SWE 594</td>\n",
       "      <td>0.000000</td>\n",
       "    </tr>\n",
       "    <tr>\n",
       "      <th>213</th>\n",
       "      <td>محمد البشير عبدالكريم مناعي</td>\n",
       "      <td>CSC 663</td>\n",
       "      <td>6.000000</td>\n",
       "    </tr>\n",
       "    <tr>\n",
       "      <th>214</th>\n",
       "      <td>محمد انور حسين</td>\n",
       "      <td>SWE 314</td>\n",
       "      <td>5.875000</td>\n",
       "    </tr>\n",
       "    <tr>\n",
       "      <th>215</th>\n",
       "      <td>محمد انور حسين</td>\n",
       "      <td>SWE 496</td>\n",
       "      <td>8.000000</td>\n",
       "    </tr>\n",
       "    <tr>\n",
       "      <th>216</th>\n",
       "      <td>محمد انور حسين</td>\n",
       "      <td>SWE 497</td>\n",
       "      <td>8.000000</td>\n",
       "    </tr>\n",
       "    <tr>\n",
       "      <th>217</th>\n",
       "      <td>محمد انور حسين</td>\n",
       "      <td>SWE 543</td>\n",
       "      <td>3.727273</td>\n",
       "    </tr>\n",
       "    <tr>\n",
       "      <th>218</th>\n",
       "      <td>محمد انور حسين</td>\n",
       "      <td>SWE 595</td>\n",
       "      <td>7.000000</td>\n",
       "    </tr>\n",
       "    <tr>\n",
       "      <th>219</th>\n",
       "      <td>محمد انور حسين</td>\n",
       "      <td>SWE 609</td>\n",
       "      <td>8.000000</td>\n",
       "    </tr>\n",
       "    <tr>\n",
       "      <th>220</th>\n",
       "      <td>محمد باسل عبدالقادر المكينزي</td>\n",
       "      <td>IS 466</td>\n",
       "      <td>4.000000</td>\n",
       "    </tr>\n",
       "    <tr>\n",
       "      <th>221</th>\n",
       "      <td>محمد باسل عبدالقادر المكينزي</td>\n",
       "      <td>IS 468</td>\n",
       "      <td>3.217391</td>\n",
       "    </tr>\n",
       "    <tr>\n",
       "      <th>222</th>\n",
       "      <td>محمد باسل عبدالقادر المكينزي</td>\n",
       "      <td>IS 499</td>\n",
       "      <td>6.166667</td>\n",
       "    </tr>\n",
       "    <tr>\n",
       "      <th>223</th>\n",
       "      <td>محمد باسل عبدالقادر المكينزي</td>\n",
       "      <td>IS 597</td>\n",
       "      <td>4.000000</td>\n",
       "    </tr>\n",
       "    <tr>\n",
       "      <th>224</th>\n",
       "      <td>محمد جاويد يوسف</td>\n",
       "      <td>CSC 111</td>\n",
       "      <td>3.472222</td>\n",
       "    </tr>\n",
       "    <tr>\n",
       "      <th>225</th>\n",
       "      <td>محمد جاويد يوسف</td>\n",
       "      <td>CSC 227</td>\n",
       "      <td>2.756303</td>\n",
       "    </tr>\n",
       "    <tr>\n",
       "      <th>226</th>\n",
       "      <td>محمد جمعة فياض العنزي</td>\n",
       "      <td>CEN 448</td>\n",
       "      <td>5.076923</td>\n",
       "    </tr>\n",
       "    <tr>\n",
       "      <th>227</th>\n",
       "      <td>محمد جمعة فياض العنزي</td>\n",
       "      <td>CEN 596</td>\n",
       "      <td>0.000000</td>\n",
       "    </tr>\n",
       "    <tr>\n",
       "      <th>228</th>\n",
       "      <td>محمد جمعة فياض العنزي</td>\n",
       "      <td>CEN 632</td>\n",
       "      <td>3.000000</td>\n",
       "    </tr>\n",
       "    <tr>\n",
       "      <th>229</th>\n",
       "      <td>محمد حسين</td>\n",
       "      <td>CSC 700</td>\n",
       "      <td>0.000000</td>\n",
       "    </tr>\n",
       "    <tr>\n",
       "      <th>230</th>\n",
       "      <td>محمد حمود سليمان المشيقح</td>\n",
       "      <td>CSC 304</td>\n",
       "      <td>6.052632</td>\n",
       "    </tr>\n",
       "    <tr>\n",
       "      <th>231</th>\n",
       "      <td>محمد حمود سليمان المشيقح</td>\n",
       "      <td>CSC 429</td>\n",
       "      <td>4.875000</td>\n",
       "    </tr>\n",
       "    <tr>\n",
       "      <th>232</th>\n",
       "      <td>محمد حمود سليمان المشيقح</td>\n",
       "      <td>CSC 489</td>\n",
       "      <td>6.562500</td>\n",
       "    </tr>\n",
       "    <tr>\n",
       "      <th>233</th>\n",
       "      <td>محمد رشود محمد السلمي</td>\n",
       "      <td>CSC 212</td>\n",
       "      <td>3.879987</td>\n",
       "    </tr>\n",
       "    <tr>\n",
       "      <th>234</th>\n",
       "      <td>محمد رشود محمد السلمي</td>\n",
       "      <td>CSC 497</td>\n",
       "      <td>8.000000</td>\n",
       "    </tr>\n",
       "    <tr>\n",
       "      <th>235</th>\n",
       "      <td>محمد زهير بديع حورانى</td>\n",
       "      <td>CEN 439</td>\n",
       "      <td>0.900000</td>\n",
       "    </tr>\n",
       "    <tr>\n",
       "      <th>236</th>\n",
       "      <td>محمد سلمان عبدالعزيز الركيان</td>\n",
       "      <td>IS 324</td>\n",
       "      <td>6.842294</td>\n",
       "    </tr>\n",
       "    <tr>\n",
       "      <th>237</th>\n",
       "      <td>محمد سلمان عبدالعزيز الركيان</td>\n",
       "      <td>IS 498</td>\n",
       "      <td>5.000000</td>\n",
       "    </tr>\n",
       "    <tr>\n",
       "      <th>238</th>\n",
       "      <td>محمد سلمان عبدالعزيز الركيان</td>\n",
       "      <td>IS 595</td>\n",
       "      <td>7.000000</td>\n",
       "    </tr>\n",
       "    <tr>\n",
       "      <th>239</th>\n",
       "      <td>محمد شاميم حسين</td>\n",
       "      <td>SWE 434</td>\n",
       "      <td>5.477834</td>\n",
       "    </tr>\n",
       "    <tr>\n",
       "      <th>240</th>\n",
       "      <td>محمد شاميم حسين</td>\n",
       "      <td>SWE 496</td>\n",
       "      <td>7.714286</td>\n",
       "    </tr>\n",
       "    <tr>\n",
       "      <th>241</th>\n",
       "      <td>محمد شاميم حسين</td>\n",
       "      <td>SWE 549</td>\n",
       "      <td>4.111111</td>\n",
       "    </tr>\n",
       "    <tr>\n",
       "      <th>242</th>\n",
       "      <td>محمد شعيب رحيم الدين</td>\n",
       "      <td>IS 201</td>\n",
       "      <td>5.100280</td>\n",
       "    </tr>\n",
       "    <tr>\n",
       "      <th>243</th>\n",
       "      <td>محمد شعيب رحيم الدين</td>\n",
       "      <td>IS 498</td>\n",
       "      <td>8.000000</td>\n",
       "    </tr>\n",
       "    <tr>\n",
       "      <th>244</th>\n",
       "      <td>محمد شعيب رحيم الدين</td>\n",
       "      <td>IS 592</td>\n",
       "      <td>6.625000</td>\n",
       "    </tr>\n",
       "    <tr>\n",
       "      <th>245</th>\n",
       "      <td>محمد صبيح اكسواي</td>\n",
       "      <td>IS 482</td>\n",
       "      <td>3.812500</td>\n",
       "    </tr>\n",
       "    <tr>\n",
       "      <th>246</th>\n",
       "      <td>محمد صبيح اكسواي</td>\n",
       "      <td>IS 597</td>\n",
       "      <td>7.000000</td>\n",
       "    </tr>\n",
       "    <tr>\n",
       "      <th>247</th>\n",
       "      <td>محمد صبيح اكسواي</td>\n",
       "      <td>IS 700</td>\n",
       "      <td>0.000000</td>\n",
       "    </tr>\n",
       "    <tr>\n",
       "      <th>248</th>\n",
       "      <td>محمد عامر محمد عرفه</td>\n",
       "      <td>CEN 341</td>\n",
       "      <td>4.250000</td>\n",
       "    </tr>\n",
       "    <tr>\n",
       "      <th>249</th>\n",
       "      <td>محمد عبدالرحمن محمد العبدالكريم</td>\n",
       "      <td>CSC 453</td>\n",
       "      <td>6.075231</td>\n",
       "    </tr>\n",
       "    <tr>\n",
       "      <th>250</th>\n",
       "      <td>محمد عبدالرحمن محمد العبدالكريم</td>\n",
       "      <td>CSC 496</td>\n",
       "      <td>7.000000</td>\n",
       "    </tr>\n",
       "    <tr>\n",
       "      <th>251</th>\n",
       "      <td>محمد عبدالرحمن محمد العبدالكريم</td>\n",
       "      <td>CSC 497</td>\n",
       "      <td>7.750000</td>\n",
       "    </tr>\n",
       "    <tr>\n",
       "      <th>252</th>\n",
       "      <td>محمد عبدالرحمن محمد العبدالكريم</td>\n",
       "      <td>CSC 999</td>\n",
       "      <td>0.000000</td>\n",
       "    </tr>\n",
       "    <tr>\n",
       "      <th>253</th>\n",
       "      <td>محمد عبدالعزيز محمد الحسين</td>\n",
       "      <td>IS 498</td>\n",
       "      <td>7.500000</td>\n",
       "    </tr>\n",
       "    <tr>\n",
       "      <th>254</th>\n",
       "      <td>محمد عبدالله الودود</td>\n",
       "      <td>SWE 444</td>\n",
       "      <td>6.312500</td>\n",
       "    </tr>\n",
       "    <tr>\n",
       "      <th>255</th>\n",
       "      <td>محمد عبدالله الودود</td>\n",
       "      <td>SWE 482</td>\n",
       "      <td>6.071970</td>\n",
       "    </tr>\n",
       "    <tr>\n",
       "      <th>256</th>\n",
       "      <td>محمد عبدالله الودود</td>\n",
       "      <td>SWE 496</td>\n",
       "      <td>8.000000</td>\n",
       "    </tr>\n",
       "    <tr>\n",
       "      <th>257</th>\n",
       "      <td>محمد عبدالله الودود</td>\n",
       "      <td>SWE 497</td>\n",
       "      <td>8.000000</td>\n",
       "    </tr>\n",
       "    <tr>\n",
       "      <th>258</th>\n",
       "      <td>محمد عبدالله الودود</td>\n",
       "      <td>SWE 594</td>\n",
       "      <td>0.000000</td>\n",
       "    </tr>\n",
       "    <tr>\n",
       "      <th>259</th>\n",
       "      <td>محمد عبدالله الودود</td>\n",
       "      <td>SWE 602</td>\n",
       "      <td>7.666667</td>\n",
       "    </tr>\n",
       "    <tr>\n",
       "      <th>260</th>\n",
       "      <td>محمد عبدالله سعد العويد</td>\n",
       "      <td>SWE 211</td>\n",
       "      <td>3.062963</td>\n",
       "    </tr>\n",
       "    <tr>\n",
       "      <th>261</th>\n",
       "      <td>محمد عبدالله سعد العويد</td>\n",
       "      <td>SWE 496</td>\n",
       "      <td>7.800000</td>\n",
       "    </tr>\n",
       "    <tr>\n",
       "      <th>262</th>\n",
       "      <td>محمد عبدالله محمد النعيم</td>\n",
       "      <td>IS 424</td>\n",
       "      <td>3.437500</td>\n",
       "    </tr>\n",
       "    <tr>\n",
       "      <th>263</th>\n",
       "      <td>محمد عبدالله محمد النعيم</td>\n",
       "      <td>IS 499</td>\n",
       "      <td>5.833333</td>\n",
       "    </tr>\n",
       "    <tr>\n",
       "      <th>264</th>\n",
       "      <td>محمد عبدالله محمد النعيم</td>\n",
       "      <td>IS 699</td>\n",
       "      <td>0.000000</td>\n",
       "    </tr>\n",
       "    <tr>\n",
       "      <th>265</th>\n",
       "      <td>محمد عبدالله محمد النعيم</td>\n",
       "      <td>IS 700</td>\n",
       "      <td>0.000000</td>\n",
       "    </tr>\n",
       "    <tr>\n",
       "      <th>266</th>\n",
       "      <td>محمد فهد معجب الحامد</td>\n",
       "      <td>SWE 497</td>\n",
       "      <td>7.500000</td>\n",
       "    </tr>\n",
       "    <tr>\n",
       "      <th>267</th>\n",
       "      <td>محمد ماهر صح الدين اسماعيل</td>\n",
       "      <td>CSC 311</td>\n",
       "      <td>2.597689</td>\n",
       "    </tr>\n",
       "    <tr>\n",
       "      <th>268</th>\n",
       "      <td>محمد ماهر صح الدين اسماعيل</td>\n",
       "      <td>CSC 496</td>\n",
       "      <td>8.000000</td>\n",
       "    </tr>\n",
       "    <tr>\n",
       "      <th>269</th>\n",
       "      <td>محمد ماهر صح الدين اسماعيل</td>\n",
       "      <td>CSC 497</td>\n",
       "      <td>8.000000</td>\n",
       "    </tr>\n",
       "    <tr>\n",
       "      <th>270</th>\n",
       "      <td>محمد ماهر صح الدين اسماعيل</td>\n",
       "      <td>CSC 699</td>\n",
       "      <td>0.000000</td>\n",
       "    </tr>\n",
       "    <tr>\n",
       "      <th>271</th>\n",
       "      <td>محمد مهدي حسن</td>\n",
       "      <td>IS 486</td>\n",
       "      <td>5.000000</td>\n",
       "    </tr>\n",
       "    <tr>\n",
       "      <th>272</th>\n",
       "      <td>محمد مهدي حسن</td>\n",
       "      <td>IS 493</td>\n",
       "      <td>4.246667</td>\n",
       "    </tr>\n",
       "    <tr>\n",
       "      <th>273</th>\n",
       "      <td>محمد مهدي حسن</td>\n",
       "      <td>IS 699</td>\n",
       "      <td>0.000000</td>\n",
       "    </tr>\n",
       "    <tr>\n",
       "      <th>274</th>\n",
       "      <td>محمد مهدي حسن</td>\n",
       "      <td>IS 700</td>\n",
       "      <td>0.000000</td>\n",
       "    </tr>\n",
       "    <tr>\n",
       "      <th>275</th>\n",
       "      <td>محمد وكيل احمد</td>\n",
       "      <td>CSC 220</td>\n",
       "      <td>4.609756</td>\n",
       "    </tr>\n",
       "    <tr>\n",
       "      <th>276</th>\n",
       "      <td>محمدسيف اسم محمد نظام الدين</td>\n",
       "      <td>CSC 220</td>\n",
       "      <td>2.755556</td>\n",
       "    </tr>\n",
       "    <tr>\n",
       "      <th>277</th>\n",
       "      <td>محمدسيف اسم محمد نظام الدين</td>\n",
       "      <td>CSC 497</td>\n",
       "      <td>6.333333</td>\n",
       "    </tr>\n",
       "    <tr>\n",
       "      <th>278</th>\n",
       "      <td>محمدسيف اسم محمد نظام الدين</td>\n",
       "      <td>CSC 563</td>\n",
       "      <td>4.000000</td>\n",
       "    </tr>\n",
       "    <tr>\n",
       "      <th>279</th>\n",
       "      <td>مراد بن شيخ</td>\n",
       "      <td>IS 493</td>\n",
       "      <td>5.176471</td>\n",
       "    </tr>\n",
       "    <tr>\n",
       "      <th>280</th>\n",
       "      <td>مراد مدني بوشناق</td>\n",
       "      <td>CSC 111</td>\n",
       "      <td>5.031320</td>\n",
       "    </tr>\n",
       "    <tr>\n",
       "      <th>281</th>\n",
       "      <td>مراد يخلف</td>\n",
       "      <td>IS 498</td>\n",
       "      <td>8.000000</td>\n",
       "    </tr>\n",
       "    <tr>\n",
       "      <th>282</th>\n",
       "      <td>مساعد عبدالعزيز ابراهيم الحسين</td>\n",
       "      <td>CEN 211</td>\n",
       "      <td>1.500000</td>\n",
       "    </tr>\n",
       "    <tr>\n",
       "      <th>283</th>\n",
       "      <td>مساعد عبدالعزيز ابراهيم الحسين</td>\n",
       "      <td>CEN 316</td>\n",
       "      <td>2.434783</td>\n",
       "    </tr>\n",
       "    <tr>\n",
       "      <th>284</th>\n",
       "      <td>مساعد عبدالعزيز ابراهيم الحسين</td>\n",
       "      <td>CEN 493</td>\n",
       "      <td>7.333333</td>\n",
       "    </tr>\n",
       "    <tr>\n",
       "      <th>285</th>\n",
       "      <td>مشعل ناصر سعد نصبان</td>\n",
       "      <td>IS 240</td>\n",
       "      <td>4.173913</td>\n",
       "    </tr>\n",
       "    <tr>\n",
       "      <th>286</th>\n",
       "      <td>معاذ عبدالله بن سالم الخلف</td>\n",
       "      <td>CSC 111</td>\n",
       "      <td>3.150155</td>\n",
       "    </tr>\n",
       "    <tr>\n",
       "      <th>287</th>\n",
       "      <td>معاذ عبدالله بن سالم الخلف</td>\n",
       "      <td>CSC 541</td>\n",
       "      <td>3.000000</td>\n",
       "    </tr>\n",
       "    <tr>\n",
       "      <th>288</th>\n",
       "      <td>منصور عبدالعزيز علي بن زعير</td>\n",
       "      <td>CEN 316</td>\n",
       "      <td>0.826087</td>\n",
       "    </tr>\n",
       "    <tr>\n",
       "      <th>289</th>\n",
       "      <td>منصور عبدالعزيز علي بن زعير</td>\n",
       "      <td>CEN 493</td>\n",
       "      <td>8.000000</td>\n",
       "    </tr>\n",
       "    <tr>\n",
       "      <th>290</th>\n",
       "      <td>منصور محمد عقيل السليمان</td>\n",
       "      <td>CEN 352</td>\n",
       "      <td>4.181818</td>\n",
       "    </tr>\n",
       "    <tr>\n",
       "      <th>291</th>\n",
       "      <td>منصور محمد عقيل السليمان</td>\n",
       "      <td>CEN 492</td>\n",
       "      <td>7.666667</td>\n",
       "    </tr>\n",
       "    <tr>\n",
       "      <th>292</th>\n",
       "      <td>منصور محمد عقيل السليمان</td>\n",
       "      <td>CEN 543</td>\n",
       "      <td>3.500000</td>\n",
       "    </tr>\n",
       "    <tr>\n",
       "      <th>293</th>\n",
       "      <td>منصور محمد عقيل السليمان</td>\n",
       "      <td>CEN 600</td>\n",
       "      <td>0.000000</td>\n",
       "    </tr>\n",
       "    <tr>\n",
       "      <th>294</th>\n",
       "      <td>منصور محمد عقيل السليمان</td>\n",
       "      <td>CEN 697</td>\n",
       "      <td>8.000000</td>\n",
       "    </tr>\n",
       "    <tr>\n",
       "      <th>295</th>\n",
       "      <td>موداسار ايوب شيخ محمد</td>\n",
       "      <td>CSC 113</td>\n",
       "      <td>3.083333</td>\n",
       "    </tr>\n",
       "    <tr>\n",
       "      <th>296</th>\n",
       "      <td>موداسار ايوب شيخ محمد</td>\n",
       "      <td>CSC 342</td>\n",
       "      <td>3.038462</td>\n",
       "    </tr>\n",
       "    <tr>\n",
       "      <th>297</th>\n",
       "      <td>موسى عايض باخت الهجله</td>\n",
       "      <td>SWE 314</td>\n",
       "      <td>4.742857</td>\n",
       "    </tr>\n",
       "    <tr>\n",
       "      <th>298</th>\n",
       "      <td>ناصر عبدالله صالح السدحان</td>\n",
       "      <td>CSC 111</td>\n",
       "      <td>4.063756</td>\n",
       "    </tr>\n",
       "    <tr>\n",
       "      <th>299</th>\n",
       "      <td>ناصر عبدالله صالح السدحان</td>\n",
       "      <td>CSC 212</td>\n",
       "      <td>3.800000</td>\n",
       "    </tr>\n",
       "    <tr>\n",
       "      <th>300</th>\n",
       "      <td>ناصر عبدالله صالح السدحان</td>\n",
       "      <td>CSC 497</td>\n",
       "      <td>7.750000</td>\n",
       "    </tr>\n",
       "    <tr>\n",
       "      <th>301</th>\n",
       "      <td>ناصرالدين عبدالله محمد ريكلى</td>\n",
       "      <td>CEN 492</td>\n",
       "      <td>6.666667</td>\n",
       "    </tr>\n",
       "    <tr>\n",
       "      <th>302</th>\n",
       "      <td>ناصرالدين عبدالله محمد ريكلى</td>\n",
       "      <td>CEN 700</td>\n",
       "      <td>0.000000</td>\n",
       "    </tr>\n",
       "    <tr>\n",
       "      <th>303</th>\n",
       "      <td>نايف عبدالرحمن عبدالله العجن</td>\n",
       "      <td>CEN 647</td>\n",
       "      <td>8.000000</td>\n",
       "    </tr>\n",
       "    <tr>\n",
       "      <th>304</th>\n",
       "      <td>نسيم فضيل عمور</td>\n",
       "      <td>CEN 351</td>\n",
       "      <td>2.333333</td>\n",
       "    </tr>\n",
       "    <tr>\n",
       "      <th>305</th>\n",
       "      <td>نسيم فضيل عمور</td>\n",
       "      <td>CEN 453</td>\n",
       "      <td>4.400000</td>\n",
       "    </tr>\n",
       "    <tr>\n",
       "      <th>306</th>\n",
       "      <td>نسيم فضيل عمور</td>\n",
       "      <td>CEN 493</td>\n",
       "      <td>7.333333</td>\n",
       "    </tr>\n",
       "    <tr>\n",
       "      <th>307</th>\n",
       "      <td>نور الدين عباديني</td>\n",
       "      <td>SWE 497</td>\n",
       "      <td>5.000000</td>\n",
       "    </tr>\n",
       "    <tr>\n",
       "      <th>308</th>\n",
       "      <td>نور الدين عباديني</td>\n",
       "      <td>SWE 540</td>\n",
       "      <td>5.400000</td>\n",
       "    </tr>\n",
       "    <tr>\n",
       "      <th>309</th>\n",
       "      <td>نور الدين عباديني</td>\n",
       "      <td>SWE 594</td>\n",
       "      <td>0.000000</td>\n",
       "    </tr>\n",
       "    <tr>\n",
       "      <th>310</th>\n",
       "      <td>نور الدين عباديني</td>\n",
       "      <td>SWE 600</td>\n",
       "      <td>0.000000</td>\n",
       "    </tr>\n",
       "    <tr>\n",
       "      <th>311</th>\n",
       "      <td>نور الدين عباديني</td>\n",
       "      <td>SWE 601</td>\n",
       "      <td>7.666667</td>\n",
       "    </tr>\n",
       "    <tr>\n",
       "      <th>312</th>\n",
       "      <td>هشام احمد طلبه محمد</td>\n",
       "      <td>CEN 456</td>\n",
       "      <td>3.166667</td>\n",
       "    </tr>\n",
       "    <tr>\n",
       "      <th>313</th>\n",
       "      <td>هيكل هيشري</td>\n",
       "      <td>CEN 211</td>\n",
       "      <td>3.695652</td>\n",
       "    </tr>\n",
       "    <tr>\n",
       "      <th>314</th>\n",
       "      <td>هيكل هيشري</td>\n",
       "      <td>CEN 492</td>\n",
       "      <td>7.666667</td>\n",
       "    </tr>\n",
       "    <tr>\n",
       "      <th>315</th>\n",
       "      <td>هيكل هيشري</td>\n",
       "      <td>CEN 696</td>\n",
       "      <td>8.000000</td>\n",
       "    </tr>\n",
       "    <tr>\n",
       "      <th>316</th>\n",
       "      <td>وسام عاطف خالد حتامله</td>\n",
       "      <td>CSC 111</td>\n",
       "      <td>2.553361</td>\n",
       "    </tr>\n",
       "    <tr>\n",
       "      <th>317</th>\n",
       "      <td>وليد خالد مقبل الغانم</td>\n",
       "      <td>CEN 303</td>\n",
       "      <td>4.293182</td>\n",
       "    </tr>\n",
       "    <tr>\n",
       "      <th>318</th>\n",
       "      <td>وليد خالد مقبل الغانم</td>\n",
       "      <td>CEN 492</td>\n",
       "      <td>8.000000</td>\n",
       "    </tr>\n",
       "    <tr>\n",
       "      <th>319</th>\n",
       "      <td>وليد محمد صالح الصالح</td>\n",
       "      <td>CSC 311</td>\n",
       "      <td>3.000000</td>\n",
       "    </tr>\n",
       "    <tr>\n",
       "      <th>320</th>\n",
       "      <td>وليد محمد صالح الصالح</td>\n",
       "      <td>CSC 496</td>\n",
       "      <td>8.000000</td>\n",
       "    </tr>\n",
       "    <tr>\n",
       "      <th>321</th>\n",
       "      <td>يزيد ابراهيم عبدالعزيز العبدالكريم</td>\n",
       "      <td>IS 335</td>\n",
       "      <td>4.080141</td>\n",
       "    </tr>\n",
       "    <tr>\n",
       "      <th>322</th>\n",
       "      <td>يزيد ابراهيم عبدالعزيز العبدالكريم</td>\n",
       "      <td>IS 499</td>\n",
       "      <td>8.000000</td>\n",
       "    </tr>\n",
       "    <tr>\n",
       "      <th>323</th>\n",
       "      <td>يزيد ابراهيم عبدالعزيز العبدالكريم</td>\n",
       "      <td>IS 597</td>\n",
       "      <td>7.000000</td>\n",
       "    </tr>\n",
       "    <tr>\n",
       "      <th>324</th>\n",
       "      <td>يعقوب محمد بعزي</td>\n",
       "      <td>CEN 455</td>\n",
       "      <td>3.571429</td>\n",
       "    </tr>\n",
       "    <tr>\n",
       "      <th>325</th>\n",
       "      <td>يعقوب محمد بعزي</td>\n",
       "      <td>CEN 458</td>\n",
       "      <td>5.117647</td>\n",
       "    </tr>\n",
       "    <tr>\n",
       "      <th>326</th>\n",
       "      <td>يوسف احمد محمد العوهلى</td>\n",
       "      <td>CSC 281</td>\n",
       "      <td>4.090909</td>\n",
       "    </tr>\n",
       "    <tr>\n",
       "      <th>327</th>\n",
       "      <td>يوسف احمد محمد العوهلى</td>\n",
       "      <td>CSC 361</td>\n",
       "      <td>1.580645</td>\n",
       "    </tr>\n",
       "  </tbody>\n",
       "</table>\n",
       "</div>"
      ],
      "text/plain": [
       "                              Instructor   Course     Score\n",
       "0                    أحمد زايد محمد أمام   IS 230  3.108718\n",
       "1                     أشرف الطيب القزدار  SWE 381  4.066957\n",
       "2                     أشرف الطيب القزدار  SWE 483  3.195652\n",
       "3                     أشرف الطيب القزدار  SWE 496  8.000000\n",
       "4                     أشرف الطيب القزدار  SWE 497  5.000000\n",
       "5                     أشرف الطيب القزدار  SWE 594  0.000000\n",
       "6                     أشرف الطيب القزدار  SWE 600  0.000000\n",
       "7                احمد ابراهيم فهد الحماد  CEN 490  3.888889\n",
       "8                احمد ابراهيم فهد الحماد  CEN 493  8.000000\n",
       "9                احمد ابراهيم فهد الحماد  CEN 521  4.000000\n",
       "10               احمد ابراهيم فهد الحماد  CEN 599  8.000000\n",
       "11                احمد السيد البدوى يوسف   IS 370  5.150794\n",
       "12                احمد السيد البدوى يوسف   IS 498  8.000000\n",
       "13                احمد السيد البدوى يوسف   IS 537  2.000000\n",
       "14               احمد جعفر الفنوش الشبلي  CSC 215  2.528639\n",
       "15               احمد جعفر الفنوش الشبلي  CSC 227  2.733333\n",
       "16                   احمد سعد حمد المقرن  CSC 699  0.000000\n",
       "17                   احمد سعد حمد المقرن  CSC 700  0.000000\n",
       "18       احمد عبدالكريم عبدالمحسن التركى   IS 481  4.400000\n",
       "19       احمد عبدالكريم عبدالمحسن التركى   IS 495  0.000000\n",
       "20       احمد عبدالكريم عبدالمحسن التركى   IS 498  8.000000\n",
       "21       احمد عبدالكريم عبدالمحسن التركى   IS 499  6.000000\n",
       "22           احمد عبدالله ابراهيم الحامد   IS 498  6.000000\n",
       "23           احمد عبدالله ابراهيم الحامد   IS 522  3.583333\n",
       "24           احمد عبدالله ابراهيم الحامد   IS 595  7.000000\n",
       "25                 احمد عبدالله محمد سند   IS 699  0.000000\n",
       "26        احمد محمد زكي عبدالرؤوف الرجوب  CSC 227  3.376437\n",
       "27                    احمد محمد على غنيم  SWE 455  4.825000\n",
       "28                    احمد محمد على غنيم  SWE 496  8.000000\n",
       "29                    احمد محمد على غنيم  SWE 497  8.000000\n",
       "30                    احمد محمد على غنيم  SWE 541  4.363636\n",
       "31                    احمد محمد على غنيم  SWE 594  0.000000\n",
       "32          اشرف عبدالحليم عبدالعال يوسف   IS 482  4.833333\n",
       "33            المتولى محمد المتولى مصطفى   IS 385  4.100000\n",
       "34            المتولى محمد المتولى مصطفى   IS 498  5.250000\n",
       "35            المتولى محمد المتولى مصطفى   IS 533  2.272727\n",
       "36            المتولى محمد المتولى مصطفى   IS 999  0.000000\n",
       "37            ايهاب عبدالعزيز محمد الرسن  CSC 457  6.424242\n",
       "38            ايهاب عبدالعزيز محمد الرسن  CSC 496  7.750000\n",
       "39            ايهاب عبدالعزيز محمد الرسن  CSC 497  8.000000\n",
       "40            ايهاب عبدالعزيز محمد الرسن  CSC 523  6.750000\n",
       "41                   بدر فهد صالح الخميس   IS 472  6.297078\n",
       "42                   بدر فهد صالح الخميس   IS 498  8.000000\n",
       "43                   بدر فهد صالح الخميس   IS 499  8.000000\n",
       "44                   بدر فهد صالح الخميس   IS 595  7.000000\n",
       "45                        بلقاسم بن يوسف  CEN 212  2.423077\n",
       "46                        بلقاسم بن يوسف  CEN 493  6.333333\n",
       "47                        بلقاسم بن يوسف  CEN 697  6.000000\n",
       "48        بندر محمد عويبد المويسي السلمي  CSC 113  3.225845\n",
       "49        بندر محمد عويبد المويسي السلمي  CSC 462  6.170732\n",
       "50                    جل فريد جل المهتدى  CSC 619  7.500000\n",
       "51                جمال الشوربجى الشوربجى   IS 424  4.066667\n",
       "52                    جواد عبدالفتاح بري   IS 230  4.234748\n",
       "53                    جواد عبدالفتاح بري   IS 700  0.000000\n",
       "54     حاتم عبدالرحمن عبدالظاهر ابوالسمح  CSC 496  8.000000\n",
       "55     حاتم عبدالرحمن عبدالظاهر ابوالسمح  CSC 699  0.000000\n",
       "56             حسام محمد عبدالحفيظ رمضان   IS 498  8.000000\n",
       "57                 حسن اسماعيل حسن مذكور  CSC 561  6.000000\n",
       "58                 حسن اسماعيل حسن مذكور  CSC 562  6.000000\n",
       "59                 حسن اسماعيل حسن مذكور  CSC 597  7.000000\n",
       "60                 حسن اسماعيل حسن مذكور  CSC 700  0.000000\n",
       "61          حسين عبدالرحمن حسين بن سلمان  CSC 496  8.000000\n",
       "62                 حمود ظافر سند الدوسرى   IS 498  8.000000\n",
       "63                       خاجا محمد مصطفى  CSC 111  5.590909\n",
       "64            خالد سليمان عبدالله الغثبر   IS 498  8.000000\n",
       "65            خالد سليمان عبدالله الغثبر   IS 700  0.000000\n",
       "66           خالد عبدالعزيز محمد النفجان  SWE 333  6.580808\n",
       "67           خالد عبدالعزيز محمد النفجان  SWE 496  7.000000\n",
       "68           خالد عبدالعزيز محمد النفجان  SWE 497  8.000000\n",
       "69                 خالد ناصر حماد المتعب  SWE 477  6.402597\n",
       "70                 خالد ناصر حماد المتعب  SWE 479  0.000000\n",
       "71                 خالد ناصر حماد المتعب  SWE 496  8.000000\n",
       "72                 خالد ناصر حماد المتعب  SWE 999  0.000000\n",
       "73                  خليل محمد علي الهندي  CSC 340  3.226190\n",
       "74                  خليل محمد علي الهندي  CSC 497  8.000000\n",
       "75                  خليل محمد علي الهندي  CSC 699  0.000000\n",
       "76                  خليل محمد علي الهندي  CSC 700  0.000000\n",
       "77                        رامى محمد جمعه  CSC 361  1.941176\n",
       "78                       رشيد سعيد صمودة  CSC 227  4.637037\n",
       "79                       رشيد سعيد صمودة  CSC 496  6.000000\n",
       "80                       رشيد سعيد صمودة  CSC 700  0.000000\n",
       "81                رضا بن محمد الطيب عوني  CEN 444  2.153846\n",
       "82                رضا بن محمد الطيب عوني  CEN 492  6.333333\n",
       "83                رضا بن محمد الطيب عوني  CEN 600  0.000000\n",
       "84                رضا بن محمد الطيب عوني  CEN 999  0.000000\n",
       "85                       رمضان طاهر حجار  CEN 352  3.066667\n",
       "86        زكريا عبدالله عبدالكريم الزامل  SWE 321  4.265152\n",
       "87        زكريا عبدالله عبدالكريم الزامل  SWE 496  7.000000\n",
       "88        زكريا عبدالله عبدالكريم الزامل  SWE 497  8.000000\n",
       "89                   زوهير عبدالله شنتوف  SWE 211  1.907273\n",
       "90                   زوهير عبدالله شنتوف  SWE 313  5.000000\n",
       "91                   زوهير عبدالله شنتوف  SWE 496  7.000000\n",
       "92                   زوهير عبدالله شنتوف  SWE 497  0.000000\n",
       "93                   زوهير عبدالله شنتوف  SWE 594  0.000000\n",
       "94                 سامى صالح احمد الوكيل  CEN 341  3.666667\n",
       "95                 سامى صالح احمد الوكيل  CSC 699  0.000000\n",
       "96              سعد صالح عبدالله العبودي   IS 498  8.000000\n",
       "97                سعد عبدالله حاسن احمدى  CSC 496  8.000000\n",
       "98                سعد عبدالله حاسن احمدى  CSC 497  6.666667\n",
       "99                سعد عبدالله حاسن احمدى  CSC 524  4.400000\n",
       "100               سعد عبدالله حاسن احمدى  CSC 597  3.000000\n",
       "101               سعد عبدالله حاسن احمدى  CSC 600  0.000000\n",
       "102                     سعد علي حاج بكري  CEN 470  5.789474\n",
       "103                     سعد علي حاج بكري  CEN 493  7.000000\n",
       "104                     سعد علي حاج بكري  CEN 592  8.000000\n",
       "105                     سعد علي حاج بكري  CEN 600  0.000000\n",
       "106                     سعد علي حاج بكري  CEN 631  7.000000\n",
       "107                سعد مسعود مسعود ايجاد  CSC 111  5.403215\n",
       "108                       سعيد أحمد كراش  CSC 212  3.751152\n",
       "109                       سعيد أحمد كراش  CSC 497  8.000000\n",
       "110                    سفيان الزين قنوني  CSC 113  2.447368\n",
       "111                    سفيان الزين قنوني  CSC 496  8.000000\n",
       "112            سلطان داود سليمان الفرهود  CSC 496  8.000000\n",
       "113            سلطان داود سليمان الفرهود  CSC 569  7.000000\n",
       "114          سلطان عبدالعزيز محمد اليحيى   IS 498  8.000000\n",
       "115                 سلمان علي صالح العيد  CEN 434  6.000000\n",
       "116               سلمان علي وهف القحطاني  CEN 700  0.000000\n",
       "117            صالح عبدالله صالح الموينع  CEN 531  5.000000\n",
       "118               صالح محمد صالح الهمامى  CSC 343  4.726667\n",
       "119               صالح محمد صالح الهمامى  CSC 496  7.500000\n",
       "120                   عءالدين مختار حافظ   IS 340  5.438940\n",
       "121                   عءالدين مختار حافظ   IS 696  8.000000\n",
       "122                    عادل خليفة سوداني  CSC 329  4.853030\n",
       "123                    عادل خليفة سوداني  CSC 496  7.000000\n",
       "124           عاصم ناصر عبدالرحمن اليحيى  CEN 441  5.200000\n",
       "125           عاصم ناصر عبدالرحمن اليحيى  CEN 445  3.916667\n",
       "126           عاصم ناصر عبدالرحمن اليحيى  CEN 492  7.000000\n",
       "127                    عامر عبدالله طوير  CSC 113  3.055556\n",
       "128               عايض سعد عايض القحطانى  CEN 318  4.045455\n",
       "129               عايض سعد عايض القحطانى  CEN 415  4.272727\n",
       "130               عايض سعد عايض القحطانى  CEN 492  7.333333\n",
       "131       عبدالحميد عبدالله محمد العليوي  SWE 496  8.000000\n",
       "132         عبدالرحمن ابراهيم على العثيم   IS 351  4.113038\n",
       "133         عبدالرحمن ابراهيم على العثيم   IS 499  8.000000\n",
       "134           عبدالرحمن عايش طلق المطيرى  CEN 442  4.866667\n",
       "135             عبدالرحمن عبدالكريم مرزا   IS 498  8.000000\n",
       "136             عبدالرحمن عبدالكريم مرزا   IS 622  7.000000\n",
       "137        عبدالرحمن عبدالله حسين الشريف   IS 362  3.808642\n",
       "138        عبدالرحمن عبدالله حسين الشريف   IS 498  8.000000\n",
       "139        عبدالرحمن عبدالله حسين الشريف   IS 499  6.000000\n",
       "140  عبدالرحمن عبدالله عبدالرحمن الخنيفر  CSC 443  5.772727\n",
       "141   عبدالسميع محمدشاكر محمدسميع الدهلو  CEN 212  2.095238\n",
       "142   عبدالسميع محمدشاكر محمدسميع الدهلو  CEN 415  1.777778\n",
       "143          عبدالعزيز سليمان فهد المزيد  CEN 699  0.000000\n",
       "144        عبدالعزيز عمر عبدالله السدحان  SWE 466  4.445602\n",
       "145        عبدالعزيز عمر عبدالله السدحان  SWE 496  8.000000\n",
       "146                 عبدالفتاح صالح بلغيث  CSC 512  2.714286\n",
       "147                 عبدالفتاح صالح بلغيث  CSC 612  5.750000\n",
       "148         عبدالله محمد عبدالله الضلعان  CSC 698  8.000000\n",
       "149        عبدالمجيد ابراهيم سليمان امير  CSC 111  4.833333\n",
       "150        عبدالمجيد ابراهيم سليمان امير  CSC 497  6.000000\n",
       "151          عبدالمحسن مدله عايش المطيري  CEN 600  0.000000\n",
       "152                 عبدالملك بشير الرحال  CEN 447  5.300000\n",
       "153     عبدالملك سلمان عبدالرحمن السلمان  CSC 497  8.000000\n",
       "154    عبدالمنعم محمدعلي محمد حسن ارتولى  CSC 304  4.083333\n",
       "155    عبدالمنعم محمدعلي محمد حسن ارتولى  CSC 339  2.811180\n",
       "156    عبدالمنعم محمدعلي محمد حسن ارتولى  CSC 496  2.666667\n",
       "157    عبدالمنعم محمدعلي محمد حسن ارتولى  CSC 699  0.000000\n",
       "158                 عبدالودوود عبدالوحيد  CEN 351  2.750000\n",
       "159                 عبدالودوود عبدالوحيد  CEN 492  8.000000\n",
       "160                 عبدالودوود عبدالوحيد  CEN 493  7.000000\n",
       "161                 عبدالودوود عبدالوحيد  CEN 697  8.000000\n",
       "162       عقيل محمد مصطفى عبدالرحمن اعظم  CSC 281  4.193247\n",
       "163       عقيل محمد مصطفى عبدالرحمن اعظم  CSC 497  8.000000\n",
       "164       عقيل محمد مصطفى عبدالرحمن اعظم  CSC 700  0.000000\n",
       "165           عمر ابراهيم عبدالله الصالح  CEN 999  0.000000\n",
       "166           عمر ابراهيم عبدالله الصالح  CSC 999  0.000000\n",
       "167           عمر ابراهيم عبدالله الصالح   IS 999  0.000000\n",
       "168            عمر عبدالعزيز محمد الرويس   IS 492  5.114286\n",
       "169            عمر عبدالعزيز محمد الرويس   IS 498  7.000000\n",
       "170            عمر عبدالعزيز محمد الرويس   IS 499  7.000000\n",
       "171            عمر عبدالعزيز محمد الرويس   IS 550  2.100000\n",
       "172            عمر عبدالعزيز محمد الرويس   IS 595  8.000000\n",
       "173                عيسى احمد ناصر الغنيم  CEN 318  2.230769\n",
       "174                عيسى احمد ناصر الغنيم  CEN 390  4.711538\n",
       "175                              غم محمد  CEN 460  5.361111\n",
       "176                              غم محمد  CEN 492  8.000000\n",
       "177                              غم محمد  CEN 596  0.000000\n",
       "178                              غم محمد  CEN 696  8.000000\n",
       "179                              غم محمد  CEN 700  0.000000\n",
       "180              فضل امين حميد امين صوفي  SWE 444  7.684615\n",
       "181              فضل امين حميد امين صوفي  SWE 496  7.000000\n",
       "182              فضل امين حميد امين صوفي  SWE 497  8.000000\n",
       "183              فضل امين حميد امين صوفي  SWE 594  0.000000\n",
       "184             فهد عبدالله محمد الضلعان  CSC 212  3.149214\n",
       "185             فهد عبدالله محمد الضلعان  CSC 496  8.000000\n",
       "186      فواز عبدالعزيز عبدالله السليمان  CSC 496  7.000000\n",
       "187      فيصل عبدالعزيز عبدالرحمن المسند   IS 240  3.750000\n",
       "188      فيصل عبدالعزيز عبدالرحمن المسند   IS 499  8.000000\n",
       "189      فيصل عبدالعزيز عبدالرحمن المسند   IS 629  6.500000\n",
       "190          كمال الدين حفناوى احمد هوام  CSC 380  3.913043\n",
       "191          كمال الدين حفناوى احمد هوام  CSC 383  3.277778\n",
       "192            ماجد عبدالله محمد الرسينى  CEN 492  6.000000\n",
       "193            ماجد عبدالله محمد الرسينى  CEN 573  8.000000\n",
       "194       ماجد عبدالله محمد مقرن ال سعود   IS 532  6.000000\n",
       "195       ماجد عبدالله محمد مقرن ال سعود   IS 595  0.000000\n",
       "196       ماجد عبدالله محمد مقرن ال سعود   IS 696  8.000000\n",
       "197       ماجد عبدالله محمد مقرن ال سعود   IS 700  0.000000\n",
       "198             مازن سليمان خميس السبعان  CEN 492  6.000000\n",
       "199             مازن سليمان خميس السبعان  CEN 570  4.000000\n",
       "200             مازن سليمان خميس السبعان  CEN 600  0.000000\n",
       "201           مبارك راشد عبدالله ال رشود  SWE 485  4.372093\n",
       "202           مبارك راشد عبدالله ال رشود  SWE 496  8.000000\n",
       "203           مبارك راشد عبدالله ال رشود  SWE 599  5.000000\n",
       "204                         مجاهد ميخاتي  CEN 211  1.142857\n",
       "205                         مجاهد ميخاتي  CEN 212  2.722222\n",
       "206                         مجاهد ميخاتي  CEN 492  7.000000\n",
       "207             مجدل سلطان مجدل بن سفران  CSC 227  4.333333\n",
       "208             مجدل سلطان مجدل بن سفران  CSC 496  8.000000\n",
       "209             مجدل سلطان مجدل بن سفران  CSC 566  7.500000\n",
       "210                   محسن حمادي الدنقير  SWE 312  3.959486\n",
       "211                   محسن حمادي الدنقير  SWE 496  8.000000\n",
       "212                   محسن حمادي الدنقير  SWE 594  0.000000\n",
       "213          محمد البشير عبدالكريم مناعي  CSC 663  6.000000\n",
       "214                       محمد انور حسين  SWE 314  5.875000\n",
       "215                       محمد انور حسين  SWE 496  8.000000\n",
       "216                       محمد انور حسين  SWE 497  8.000000\n",
       "217                       محمد انور حسين  SWE 543  3.727273\n",
       "218                       محمد انور حسين  SWE 595  7.000000\n",
       "219                       محمد انور حسين  SWE 609  8.000000\n",
       "220         محمد باسل عبدالقادر المكينزي   IS 466  4.000000\n",
       "221         محمد باسل عبدالقادر المكينزي   IS 468  3.217391\n",
       "222         محمد باسل عبدالقادر المكينزي   IS 499  6.166667\n",
       "223         محمد باسل عبدالقادر المكينزي   IS 597  4.000000\n",
       "224                      محمد جاويد يوسف  CSC 111  3.472222\n",
       "225                      محمد جاويد يوسف  CSC 227  2.756303\n",
       "226                محمد جمعة فياض العنزي  CEN 448  5.076923\n",
       "227                محمد جمعة فياض العنزي  CEN 596  0.000000\n",
       "228                محمد جمعة فياض العنزي  CEN 632  3.000000\n",
       "229                            محمد حسين  CSC 700  0.000000\n",
       "230             محمد حمود سليمان المشيقح  CSC 304  6.052632\n",
       "231             محمد حمود سليمان المشيقح  CSC 429  4.875000\n",
       "232             محمد حمود سليمان المشيقح  CSC 489  6.562500\n",
       "233                محمد رشود محمد السلمي  CSC 212  3.879987\n",
       "234                محمد رشود محمد السلمي  CSC 497  8.000000\n",
       "235                محمد زهير بديع حورانى  CEN 439  0.900000\n",
       "236         محمد سلمان عبدالعزيز الركيان   IS 324  6.842294\n",
       "237         محمد سلمان عبدالعزيز الركيان   IS 498  5.000000\n",
       "238         محمد سلمان عبدالعزيز الركيان   IS 595  7.000000\n",
       "239                      محمد شاميم حسين  SWE 434  5.477834\n",
       "240                      محمد شاميم حسين  SWE 496  7.714286\n",
       "241                      محمد شاميم حسين  SWE 549  4.111111\n",
       "242                 محمد شعيب رحيم الدين   IS 201  5.100280\n",
       "243                 محمد شعيب رحيم الدين   IS 498  8.000000\n",
       "244                 محمد شعيب رحيم الدين   IS 592  6.625000\n",
       "245                     محمد صبيح اكسواي   IS 482  3.812500\n",
       "246                     محمد صبيح اكسواي   IS 597  7.000000\n",
       "247                     محمد صبيح اكسواي   IS 700  0.000000\n",
       "248                  محمد عامر محمد عرفه  CEN 341  4.250000\n",
       "249      محمد عبدالرحمن محمد العبدالكريم  CSC 453  6.075231\n",
       "250      محمد عبدالرحمن محمد العبدالكريم  CSC 496  7.000000\n",
       "251      محمد عبدالرحمن محمد العبدالكريم  CSC 497  7.750000\n",
       "252      محمد عبدالرحمن محمد العبدالكريم  CSC 999  0.000000\n",
       "253           محمد عبدالعزيز محمد الحسين   IS 498  7.500000\n",
       "254                  محمد عبدالله الودود  SWE 444  6.312500\n",
       "255                  محمد عبدالله الودود  SWE 482  6.071970\n",
       "256                  محمد عبدالله الودود  SWE 496  8.000000\n",
       "257                  محمد عبدالله الودود  SWE 497  8.000000\n",
       "258                  محمد عبدالله الودود  SWE 594  0.000000\n",
       "259                  محمد عبدالله الودود  SWE 602  7.666667\n",
       "260              محمد عبدالله سعد العويد  SWE 211  3.062963\n",
       "261              محمد عبدالله سعد العويد  SWE 496  7.800000\n",
       "262             محمد عبدالله محمد النعيم   IS 424  3.437500\n",
       "263             محمد عبدالله محمد النعيم   IS 499  5.833333\n",
       "264             محمد عبدالله محمد النعيم   IS 699  0.000000\n",
       "265             محمد عبدالله محمد النعيم   IS 700  0.000000\n",
       "266                 محمد فهد معجب الحامد  SWE 497  7.500000\n",
       "267           محمد ماهر صح الدين اسماعيل  CSC 311  2.597689\n",
       "268           محمد ماهر صح الدين اسماعيل  CSC 496  8.000000\n",
       "269           محمد ماهر صح الدين اسماعيل  CSC 497  8.000000\n",
       "270           محمد ماهر صح الدين اسماعيل  CSC 699  0.000000\n",
       "271                        محمد مهدي حسن   IS 486  5.000000\n",
       "272                        محمد مهدي حسن   IS 493  4.246667\n",
       "273                        محمد مهدي حسن   IS 699  0.000000\n",
       "274                        محمد مهدي حسن   IS 700  0.000000\n",
       "275                       محمد وكيل احمد  CSC 220  4.609756\n",
       "276          محمدسيف اسم محمد نظام الدين  CSC 220  2.755556\n",
       "277          محمدسيف اسم محمد نظام الدين  CSC 497  6.333333\n",
       "278          محمدسيف اسم محمد نظام الدين  CSC 563  4.000000\n",
       "279                          مراد بن شيخ   IS 493  5.176471\n",
       "280                     مراد مدني بوشناق  CSC 111  5.031320\n",
       "281                            مراد يخلف   IS 498  8.000000\n",
       "282       مساعد عبدالعزيز ابراهيم الحسين  CEN 211  1.500000\n",
       "283       مساعد عبدالعزيز ابراهيم الحسين  CEN 316  2.434783\n",
       "284       مساعد عبدالعزيز ابراهيم الحسين  CEN 493  7.333333\n",
       "285                  مشعل ناصر سعد نصبان   IS 240  4.173913\n",
       "286           معاذ عبدالله بن سالم الخلف  CSC 111  3.150155\n",
       "287           معاذ عبدالله بن سالم الخلف  CSC 541  3.000000\n",
       "288          منصور عبدالعزيز علي بن زعير  CEN 316  0.826087\n",
       "289          منصور عبدالعزيز علي بن زعير  CEN 493  8.000000\n",
       "290             منصور محمد عقيل السليمان  CEN 352  4.181818\n",
       "291             منصور محمد عقيل السليمان  CEN 492  7.666667\n",
       "292             منصور محمد عقيل السليمان  CEN 543  3.500000\n",
       "293             منصور محمد عقيل السليمان  CEN 600  0.000000\n",
       "294             منصور محمد عقيل السليمان  CEN 697  8.000000\n",
       "295                موداسار ايوب شيخ محمد  CSC 113  3.083333\n",
       "296                موداسار ايوب شيخ محمد  CSC 342  3.038462\n",
       "297                موسى عايض باخت الهجله  SWE 314  4.742857\n",
       "298            ناصر عبدالله صالح السدحان  CSC 111  4.063756\n",
       "299            ناصر عبدالله صالح السدحان  CSC 212  3.800000\n",
       "300            ناصر عبدالله صالح السدحان  CSC 497  7.750000\n",
       "301         ناصرالدين عبدالله محمد ريكلى  CEN 492  6.666667\n",
       "302         ناصرالدين عبدالله محمد ريكلى  CEN 700  0.000000\n",
       "303         نايف عبدالرحمن عبدالله العجن  CEN 647  8.000000\n",
       "304                       نسيم فضيل عمور  CEN 351  2.333333\n",
       "305                       نسيم فضيل عمور  CEN 453  4.400000\n",
       "306                       نسيم فضيل عمور  CEN 493  7.333333\n",
       "307                    نور الدين عباديني  SWE 497  5.000000\n",
       "308                    نور الدين عباديني  SWE 540  5.400000\n",
       "309                    نور الدين عباديني  SWE 594  0.000000\n",
       "310                    نور الدين عباديني  SWE 600  0.000000\n",
       "311                    نور الدين عباديني  SWE 601  7.666667\n",
       "312                  هشام احمد طلبه محمد  CEN 456  3.166667\n",
       "313                           هيكل هيشري  CEN 211  3.695652\n",
       "314                           هيكل هيشري  CEN 492  7.666667\n",
       "315                           هيكل هيشري  CEN 696  8.000000\n",
       "316                وسام عاطف خالد حتامله  CSC 111  2.553361\n",
       "317                وليد خالد مقبل الغانم  CEN 303  4.293182\n",
       "318                وليد خالد مقبل الغانم  CEN 492  8.000000\n",
       "319                وليد محمد صالح الصالح  CSC 311  3.000000\n",
       "320                وليد محمد صالح الصالح  CSC 496  8.000000\n",
       "321   يزيد ابراهيم عبدالعزيز العبدالكريم   IS 335  4.080141\n",
       "322   يزيد ابراهيم عبدالعزيز العبدالكريم   IS 499  8.000000\n",
       "323   يزيد ابراهيم عبدالعزيز العبدالكريم   IS 597  7.000000\n",
       "324                      يعقوب محمد بعزي  CEN 455  3.571429\n",
       "325                      يعقوب محمد بعزي  CEN 458  5.117647\n",
       "326               يوسف احمد محمد العوهلى  CSC 281  4.090909\n",
       "327               يوسف احمد محمد العوهلى  CSC 361  1.580645"
      ]
     },
     "execution_count": 22,
     "metadata": {},
     "output_type": "execute_result"
    }
   ],
   "source": [
    "course_instructor_scores"
   ]
  },
  {
   "cell_type": "code",
   "execution_count": 63,
   "metadata": {},
   "outputs": [],
   "source": [
    "# yaxis = next(fig.select_yaxes(0))\n"
   ]
  },
  {
   "cell_type": "code",
   "execution_count": 66,
   "metadata": {},
   "outputs": [
    {
     "data": {
      "application/vnd.plotly.v1+json": {
       "config": {
        "plotlyServerURL": "https://plot.ly"
       },
       "data": [
        {
         "alignmentgroup": "True",
         "bingroup": "x",
         "histfunc": "sum",
         "hovertemplate": "Instructor=أحمد زايد محمد أمام<br>Course=%{x}<br>sum of Score=%{y}<extra></extra>",
         "legendgroup": "أحمد زايد محمد أمام",
         "marker": {
          "color": "#636efa"
         },
         "name": "أحمد زايد محمد أمام",
         "offsetgroup": "أحمد زايد محمد أمام",
         "orientation": "v",
         "showlegend": true,
         "type": "histogram",
         "visible": "legendonly",
         "x": [
          "IS 230"
         ],
         "xaxis": "x",
         "y": [
          3.108717948717949
         ],
         "yaxis": "y"
        },
        {
         "alignmentgroup": "True",
         "bingroup": "x",
         "histfunc": "sum",
         "hovertemplate": "Instructor=أشرف الطيب القزدار<br>Course=%{x}<br>sum of Score=%{y}<extra></extra>",
         "legendgroup": "أشرف الطيب القزدار",
         "marker": {
          "color": "#EF553B"
         },
         "name": "أشرف الطيب القزدار",
         "offsetgroup": "أشرف الطيب القزدار",
         "orientation": "v",
         "showlegend": true,
         "type": "histogram",
         "visible": "legendonly",
         "x": [
          "SWE 381",
          "SWE 483",
          "SWE 496",
          "SWE 497",
          "SWE 594",
          "SWE 600"
         ],
         "xaxis": "x",
         "y": [
          4.06695652173913,
          3.1956521739130435,
          8,
          5,
          0,
          0
         ],
         "yaxis": "y"
        },
        {
         "alignmentgroup": "True",
         "bingroup": "x",
         "histfunc": "sum",
         "hovertemplate": "Instructor=احمد ابراهيم فهد الحماد<br>Course=%{x}<br>sum of Score=%{y}<extra></extra>",
         "legendgroup": "احمد ابراهيم فهد الحماد",
         "marker": {
          "color": "#00cc96"
         },
         "name": "احمد ابراهيم فهد الحماد",
         "offsetgroup": "احمد ابراهيم فهد الحماد",
         "orientation": "v",
         "showlegend": true,
         "type": "histogram",
         "visible": "legendonly",
         "x": [
          "CEN 490",
          "CEN 493",
          "CEN 521",
          "CEN 599"
         ],
         "xaxis": "x",
         "y": [
          3.888888888888889,
          8,
          4,
          8
         ],
         "yaxis": "y"
        },
        {
         "alignmentgroup": "True",
         "bingroup": "x",
         "histfunc": "sum",
         "hovertemplate": "Instructor=احمد السيد البدوى يوسف<br>Course=%{x}<br>sum of Score=%{y}<extra></extra>",
         "legendgroup": "احمد السيد البدوى يوسف",
         "marker": {
          "color": "#ab63fa"
         },
         "name": "احمد السيد البدوى يوسف",
         "offsetgroup": "احمد السيد البدوى يوسف",
         "orientation": "v",
         "showlegend": true,
         "type": "histogram",
         "visible": "legendonly",
         "x": [
          "IS 370",
          "IS 498",
          "IS 537"
         ],
         "xaxis": "x",
         "y": [
          5.150793650793651,
          8,
          2
         ],
         "yaxis": "y"
        },
        {
         "alignmentgroup": "True",
         "bingroup": "x",
         "histfunc": "sum",
         "hovertemplate": "Instructor=احمد جعفر الفنوش الشبلي<br>Course=%{x}<br>sum of Score=%{y}<extra></extra>",
         "legendgroup": "احمد جعفر الفنوش الشبلي",
         "marker": {
          "color": "#FFA15A"
         },
         "name": "احمد جعفر الفنوش الشبلي",
         "offsetgroup": "احمد جعفر الفنوش الشبلي",
         "orientation": "v",
         "showlegend": true,
         "type": "histogram",
         "visible": "legendonly",
         "x": [
          "CSC 215",
          "CSC 227"
         ],
         "xaxis": "x",
         "y": [
          2.5286391042205,
          2.7333333333333334
         ],
         "yaxis": "y"
        },
        {
         "alignmentgroup": "True",
         "bingroup": "x",
         "histfunc": "sum",
         "hovertemplate": "Instructor=احمد سعد حمد المقرن<br>Course=%{x}<br>sum of Score=%{y}<extra></extra>",
         "legendgroup": "احمد سعد حمد المقرن",
         "marker": {
          "color": "#19d3f3"
         },
         "name": "احمد سعد حمد المقرن",
         "offsetgroup": "احمد سعد حمد المقرن",
         "orientation": "v",
         "showlegend": true,
         "type": "histogram",
         "visible": "legendonly",
         "x": [
          "CSC 699",
          "CSC 700"
         ],
         "xaxis": "x",
         "y": [
          0,
          0
         ],
         "yaxis": "y"
        },
        {
         "alignmentgroup": "True",
         "bingroup": "x",
         "histfunc": "sum",
         "hovertemplate": "Instructor=احمد عبدالكريم عبدالمحسن التركى<br>Course=%{x}<br>sum of Score=%{y}<extra></extra>",
         "legendgroup": "احمد عبدالكريم عبدالمحسن التركى",
         "marker": {
          "color": "#FF6692"
         },
         "name": "احمد عبدالكريم عبدالمحسن التركى",
         "offsetgroup": "احمد عبدالكريم عبدالمحسن التركى",
         "orientation": "v",
         "showlegend": true,
         "type": "histogram",
         "visible": "legendonly",
         "x": [
          "IS 481",
          "IS 495",
          "IS 498",
          "IS 499"
         ],
         "xaxis": "x",
         "y": [
          4.4,
          0,
          8,
          6
         ],
         "yaxis": "y"
        },
        {
         "alignmentgroup": "True",
         "bingroup": "x",
         "histfunc": "sum",
         "hovertemplate": "Instructor=احمد عبدالله ابراهيم الحامد<br>Course=%{x}<br>sum of Score=%{y}<extra></extra>",
         "legendgroup": "احمد عبدالله ابراهيم الحامد",
         "marker": {
          "color": "#B6E880"
         },
         "name": "احمد عبدالله ابراهيم الحامد",
         "offsetgroup": "احمد عبدالله ابراهيم الحامد",
         "orientation": "v",
         "showlegend": true,
         "type": "histogram",
         "visible": "legendonly",
         "x": [
          "IS 498",
          "IS 522",
          "IS 595"
         ],
         "xaxis": "x",
         "y": [
          6,
          3.5833333333333335,
          7
         ],
         "yaxis": "y"
        },
        {
         "alignmentgroup": "True",
         "bingroup": "x",
         "histfunc": "sum",
         "hovertemplate": "Instructor=احمد عبدالله محمد سند<br>Course=%{x}<br>sum of Score=%{y}<extra></extra>",
         "legendgroup": "احمد عبدالله محمد سند",
         "marker": {
          "color": "#FF97FF"
         },
         "name": "احمد عبدالله محمد سند",
         "offsetgroup": "احمد عبدالله محمد سند",
         "orientation": "v",
         "showlegend": true,
         "type": "histogram",
         "visible": "legendonly",
         "x": [
          "IS 699"
         ],
         "xaxis": "x",
         "y": [
          0
         ],
         "yaxis": "y"
        },
        {
         "alignmentgroup": "True",
         "bingroup": "x",
         "histfunc": "sum",
         "hovertemplate": "Instructor=احمد محمد زكي عبدالرؤوف الرجوب<br>Course=%{x}<br>sum of Score=%{y}<extra></extra>",
         "legendgroup": "احمد محمد زكي عبدالرؤوف الرجوب",
         "marker": {
          "color": "#FECB52"
         },
         "name": "احمد محمد زكي عبدالرؤوف الرجوب",
         "offsetgroup": "احمد محمد زكي عبدالرؤوف الرجوب",
         "orientation": "v",
         "showlegend": true,
         "type": "histogram",
         "visible": "legendonly",
         "x": [
          "CSC 227"
         ],
         "xaxis": "x",
         "y": [
          3.3764367816091956
         ],
         "yaxis": "y"
        },
        {
         "alignmentgroup": "True",
         "bingroup": "x",
         "histfunc": "sum",
         "hovertemplate": "Instructor=احمد محمد على غنيم<br>Course=%{x}<br>sum of Score=%{y}<extra></extra>",
         "legendgroup": "احمد محمد على غنيم",
         "marker": {
          "color": "#636efa"
         },
         "name": "احمد محمد على غنيم",
         "offsetgroup": "احمد محمد على غنيم",
         "orientation": "v",
         "showlegend": true,
         "type": "histogram",
         "visible": "legendonly",
         "x": [
          "SWE 455",
          "SWE 496",
          "SWE 497",
          "SWE 541",
          "SWE 594"
         ],
         "xaxis": "x",
         "y": [
          4.825,
          8,
          8,
          4.363636363636363,
          0
         ],
         "yaxis": "y"
        },
        {
         "alignmentgroup": "True",
         "bingroup": "x",
         "histfunc": "sum",
         "hovertemplate": "Instructor=اشرف عبدالحليم عبدالعال يوسف<br>Course=%{x}<br>sum of Score=%{y}<extra></extra>",
         "legendgroup": "اشرف عبدالحليم عبدالعال يوسف",
         "marker": {
          "color": "#EF553B"
         },
         "name": "اشرف عبدالحليم عبدالعال يوسف",
         "offsetgroup": "اشرف عبدالحليم عبدالعال يوسف",
         "orientation": "v",
         "showlegend": true,
         "type": "histogram",
         "visible": "legendonly",
         "x": [
          "IS 482"
         ],
         "xaxis": "x",
         "y": [
          4.833333333333333
         ],
         "yaxis": "y"
        },
        {
         "alignmentgroup": "True",
         "bingroup": "x",
         "histfunc": "sum",
         "hovertemplate": "Instructor=المتولى محمد المتولى مصطفى<br>Course=%{x}<br>sum of Score=%{y}<extra></extra>",
         "legendgroup": "المتولى محمد المتولى مصطفى",
         "marker": {
          "color": "#00cc96"
         },
         "name": "المتولى محمد المتولى مصطفى",
         "offsetgroup": "المتولى محمد المتولى مصطفى",
         "orientation": "v",
         "showlegend": true,
         "type": "histogram",
         "visible": "legendonly",
         "x": [
          "IS 385",
          "IS 498",
          "IS 533",
          "IS 999"
         ],
         "xaxis": "x",
         "y": [
          4.1000000000000005,
          5.25,
          2.272727272727273,
          0
         ],
         "yaxis": "y"
        },
        {
         "alignmentgroup": "True",
         "bingroup": "x",
         "histfunc": "sum",
         "hovertemplate": "Instructor=ايهاب عبدالعزيز محمد الرسن<br>Course=%{x}<br>sum of Score=%{y}<extra></extra>",
         "legendgroup": "ايهاب عبدالعزيز محمد الرسن",
         "marker": {
          "color": "#ab63fa"
         },
         "name": "ايهاب عبدالعزيز محمد الرسن",
         "offsetgroup": "ايهاب عبدالعزيز محمد الرسن",
         "orientation": "v",
         "showlegend": true,
         "type": "histogram",
         "visible": "legendonly",
         "x": [
          "CSC 457",
          "CSC 496",
          "CSC 497",
          "CSC 523"
         ],
         "xaxis": "x",
         "y": [
          6.424242424242424,
          7.75,
          8,
          6.75
         ],
         "yaxis": "y"
        },
        {
         "alignmentgroup": "True",
         "bingroup": "x",
         "histfunc": "sum",
         "hovertemplate": "Instructor=بدر فهد صالح الخميس<br>Course=%{x}<br>sum of Score=%{y}<extra></extra>",
         "legendgroup": "بدر فهد صالح الخميس",
         "marker": {
          "color": "#FFA15A"
         },
         "name": "بدر فهد صالح الخميس",
         "offsetgroup": "بدر فهد صالح الخميس",
         "orientation": "v",
         "showlegend": true,
         "type": "histogram",
         "visible": "legendonly",
         "x": [
          "IS 472",
          "IS 498",
          "IS 499",
          "IS 595"
         ],
         "xaxis": "x",
         "y": [
          6.297077922077921,
          8,
          8,
          7
         ],
         "yaxis": "y"
        },
        {
         "alignmentgroup": "True",
         "bingroup": "x",
         "histfunc": "sum",
         "hovertemplate": "Instructor=بلقاسم بن يوسف<br>Course=%{x}<br>sum of Score=%{y}<extra></extra>",
         "legendgroup": "بلقاسم بن يوسف",
         "marker": {
          "color": "#19d3f3"
         },
         "name": "بلقاسم بن يوسف",
         "offsetgroup": "بلقاسم بن يوسف",
         "orientation": "v",
         "showlegend": true,
         "type": "histogram",
         "visible": "legendonly",
         "x": [
          "CEN 212",
          "CEN 493",
          "CEN 697"
         ],
         "xaxis": "x",
         "y": [
          2.423076923076923,
          6.333333333333333,
          6
         ],
         "yaxis": "y"
        },
        {
         "alignmentgroup": "True",
         "bingroup": "x",
         "histfunc": "sum",
         "hovertemplate": "Instructor=بندر محمد عويبد المويسي السلمي<br>Course=%{x}<br>sum of Score=%{y}<extra></extra>",
         "legendgroup": "بندر محمد عويبد المويسي السلمي",
         "marker": {
          "color": "#FF6692"
         },
         "name": "بندر محمد عويبد المويسي السلمي",
         "offsetgroup": "بندر محمد عويبد المويسي السلمي",
         "orientation": "v",
         "showlegend": true,
         "type": "histogram",
         "visible": "legendonly",
         "x": [
          "CSC 113",
          "CSC 462"
         ],
         "xaxis": "x",
         "y": [
          3.2258454106280197,
          6.170731707317073
         ],
         "yaxis": "y"
        },
        {
         "alignmentgroup": "True",
         "bingroup": "x",
         "histfunc": "sum",
         "hovertemplate": "Instructor=جل فريد جل المهتدى<br>Course=%{x}<br>sum of Score=%{y}<extra></extra>",
         "legendgroup": "جل فريد جل المهتدى",
         "marker": {
          "color": "#B6E880"
         },
         "name": "جل فريد جل المهتدى",
         "offsetgroup": "جل فريد جل المهتدى",
         "orientation": "v",
         "showlegend": true,
         "type": "histogram",
         "visible": "legendonly",
         "x": [
          "CSC 619"
         ],
         "xaxis": "x",
         "y": [
          7.5
         ],
         "yaxis": "y"
        },
        {
         "alignmentgroup": "True",
         "bingroup": "x",
         "histfunc": "sum",
         "hovertemplate": "Instructor=جمال الشوربجى الشوربجى<br>Course=%{x}<br>sum of Score=%{y}<extra></extra>",
         "legendgroup": "جمال الشوربجى الشوربجى",
         "marker": {
          "color": "#FF97FF"
         },
         "name": "جمال الشوربجى الشوربجى",
         "offsetgroup": "جمال الشوربجى الشوربجى",
         "orientation": "v",
         "showlegend": true,
         "type": "histogram",
         "visible": "legendonly",
         "x": [
          "IS 424"
         ],
         "xaxis": "x",
         "y": [
          4.066666666666666
         ],
         "yaxis": "y"
        },
        {
         "alignmentgroup": "True",
         "bingroup": "x",
         "histfunc": "sum",
         "hovertemplate": "Instructor=جواد عبدالفتاح بري<br>Course=%{x}<br>sum of Score=%{y}<extra></extra>",
         "legendgroup": "جواد عبدالفتاح بري",
         "marker": {
          "color": "#FECB52"
         },
         "name": "جواد عبدالفتاح بري",
         "offsetgroup": "جواد عبدالفتاح بري",
         "orientation": "v",
         "showlegend": true,
         "type": "histogram",
         "visible": "legendonly",
         "x": [
          "IS 230",
          "IS 700"
         ],
         "xaxis": "x",
         "y": [
          4.23474801061008,
          0
         ],
         "yaxis": "y"
        },
        {
         "alignmentgroup": "True",
         "bingroup": "x",
         "histfunc": "sum",
         "hovertemplate": "Instructor=حاتم عبدالرحمن عبدالظاهر ابوالسمح<br>Course=%{x}<br>sum of Score=%{y}<extra></extra>",
         "legendgroup": "حاتم عبدالرحمن عبدالظاهر ابوالسمح",
         "marker": {
          "color": "#636efa"
         },
         "name": "حاتم عبدالرحمن عبدالظاهر ابوالسمح",
         "offsetgroup": "حاتم عبدالرحمن عبدالظاهر ابوالسمح",
         "orientation": "v",
         "showlegend": true,
         "type": "histogram",
         "visible": "legendonly",
         "x": [
          "CSC 496",
          "CSC 699"
         ],
         "xaxis": "x",
         "y": [
          8,
          0
         ],
         "yaxis": "y"
        },
        {
         "alignmentgroup": "True",
         "bingroup": "x",
         "histfunc": "sum",
         "hovertemplate": "Instructor=حسام محمد عبدالحفيظ رمضان<br>Course=%{x}<br>sum of Score=%{y}<extra></extra>",
         "legendgroup": "حسام محمد عبدالحفيظ رمضان",
         "marker": {
          "color": "#EF553B"
         },
         "name": "حسام محمد عبدالحفيظ رمضان",
         "offsetgroup": "حسام محمد عبدالحفيظ رمضان",
         "orientation": "v",
         "showlegend": true,
         "type": "histogram",
         "visible": "legendonly",
         "x": [
          "IS 498"
         ],
         "xaxis": "x",
         "y": [
          8
         ],
         "yaxis": "y"
        },
        {
         "alignmentgroup": "True",
         "bingroup": "x",
         "histfunc": "sum",
         "hovertemplate": "Instructor=حسن اسماعيل حسن مذكور<br>Course=%{x}<br>sum of Score=%{y}<extra></extra>",
         "legendgroup": "حسن اسماعيل حسن مذكور",
         "marker": {
          "color": "#00cc96"
         },
         "name": "حسن اسماعيل حسن مذكور",
         "offsetgroup": "حسن اسماعيل حسن مذكور",
         "orientation": "v",
         "showlegend": true,
         "type": "histogram",
         "visible": "legendonly",
         "x": [
          "CSC 561",
          "CSC 562",
          "CSC 597",
          "CSC 700"
         ],
         "xaxis": "x",
         "y": [
          6,
          6,
          7,
          0
         ],
         "yaxis": "y"
        },
        {
         "alignmentgroup": "True",
         "bingroup": "x",
         "histfunc": "sum",
         "hovertemplate": "Instructor=حسين عبدالرحمن حسين بن سلمان<br>Course=%{x}<br>sum of Score=%{y}<extra></extra>",
         "legendgroup": "حسين عبدالرحمن حسين بن سلمان",
         "marker": {
          "color": "#ab63fa"
         },
         "name": "حسين عبدالرحمن حسين بن سلمان",
         "offsetgroup": "حسين عبدالرحمن حسين بن سلمان",
         "orientation": "v",
         "showlegend": true,
         "type": "histogram",
         "visible": "legendonly",
         "x": [
          "CSC 496"
         ],
         "xaxis": "x",
         "y": [
          8
         ],
         "yaxis": "y"
        },
        {
         "alignmentgroup": "True",
         "bingroup": "x",
         "histfunc": "sum",
         "hovertemplate": "Instructor=حمود ظافر سند الدوسرى<br>Course=%{x}<br>sum of Score=%{y}<extra></extra>",
         "legendgroup": "حمود ظافر سند الدوسرى",
         "marker": {
          "color": "#FFA15A"
         },
         "name": "حمود ظافر سند الدوسرى",
         "offsetgroup": "حمود ظافر سند الدوسرى",
         "orientation": "v",
         "showlegend": true,
         "type": "histogram",
         "visible": "legendonly",
         "x": [
          "IS 498"
         ],
         "xaxis": "x",
         "y": [
          8
         ],
         "yaxis": "y"
        },
        {
         "alignmentgroup": "True",
         "bingroup": "x",
         "histfunc": "sum",
         "hovertemplate": "Instructor=خاجا محمد مصطفى<br>Course=%{x}<br>sum of Score=%{y}<extra></extra>",
         "legendgroup": "خاجا محمد مصطفى",
         "marker": {
          "color": "#19d3f3"
         },
         "name": "خاجا محمد مصطفى",
         "offsetgroup": "خاجا محمد مصطفى",
         "orientation": "v",
         "showlegend": true,
         "type": "histogram",
         "visible": "legendonly",
         "x": [
          "CSC 111"
         ],
         "xaxis": "x",
         "y": [
          5.590909090909091
         ],
         "yaxis": "y"
        },
        {
         "alignmentgroup": "True",
         "bingroup": "x",
         "histfunc": "sum",
         "hovertemplate": "Instructor=خالد سليمان عبدالله الغثبر<br>Course=%{x}<br>sum of Score=%{y}<extra></extra>",
         "legendgroup": "خالد سليمان عبدالله الغثبر",
         "marker": {
          "color": "#FF6692"
         },
         "name": "خالد سليمان عبدالله الغثبر",
         "offsetgroup": "خالد سليمان عبدالله الغثبر",
         "orientation": "v",
         "showlegend": true,
         "type": "histogram",
         "visible": "legendonly",
         "x": [
          "IS 498",
          "IS 700"
         ],
         "xaxis": "x",
         "y": [
          8,
          0
         ],
         "yaxis": "y"
        },
        {
         "alignmentgroup": "True",
         "bingroup": "x",
         "histfunc": "sum",
         "hovertemplate": "Instructor=خالد عبدالعزيز محمد النفجان<br>Course=%{x}<br>sum of Score=%{y}<extra></extra>",
         "legendgroup": "خالد عبدالعزيز محمد النفجان",
         "marker": {
          "color": "#B6E880"
         },
         "name": "خالد عبدالعزيز محمد النفجان",
         "offsetgroup": "خالد عبدالعزيز محمد النفجان",
         "orientation": "v",
         "showlegend": true,
         "type": "histogram",
         "visible": "legendonly",
         "x": [
          "SWE 333",
          "SWE 496",
          "SWE 497"
         ],
         "xaxis": "x",
         "y": [
          6.580808080808081,
          7,
          8
         ],
         "yaxis": "y"
        },
        {
         "alignmentgroup": "True",
         "bingroup": "x",
         "histfunc": "sum",
         "hovertemplate": "Instructor=خالد ناصر حماد المتعب<br>Course=%{x}<br>sum of Score=%{y}<extra></extra>",
         "legendgroup": "خالد ناصر حماد المتعب",
         "marker": {
          "color": "#FF97FF"
         },
         "name": "خالد ناصر حماد المتعب",
         "offsetgroup": "خالد ناصر حماد المتعب",
         "orientation": "v",
         "showlegend": true,
         "type": "histogram",
         "visible": "legendonly",
         "x": [
          "SWE 477",
          "SWE 479",
          "SWE 496",
          "SWE 999"
         ],
         "xaxis": "x",
         "y": [
          6.402597402597403,
          0,
          8,
          0
         ],
         "yaxis": "y"
        },
        {
         "alignmentgroup": "True",
         "bingroup": "x",
         "histfunc": "sum",
         "hovertemplate": "Instructor=خليل محمد علي الهندي<br>Course=%{x}<br>sum of Score=%{y}<extra></extra>",
         "legendgroup": "خليل محمد علي الهندي",
         "marker": {
          "color": "#FECB52"
         },
         "name": "خليل محمد علي الهندي",
         "offsetgroup": "خليل محمد علي الهندي",
         "orientation": "v",
         "showlegend": true,
         "type": "histogram",
         "visible": "legendonly",
         "x": [
          "CSC 340",
          "CSC 497",
          "CSC 699",
          "CSC 700"
         ],
         "xaxis": "x",
         "y": [
          3.2261904761904763,
          8,
          0,
          0
         ],
         "yaxis": "y"
        },
        {
         "alignmentgroup": "True",
         "bingroup": "x",
         "histfunc": "sum",
         "hovertemplate": "Instructor=رامى محمد جمعه<br>Course=%{x}<br>sum of Score=%{y}<extra></extra>",
         "legendgroup": "رامى محمد جمعه",
         "marker": {
          "color": "#636efa"
         },
         "name": "رامى محمد جمعه",
         "offsetgroup": "رامى محمد جمعه",
         "orientation": "v",
         "showlegend": true,
         "type": "histogram",
         "visible": "legendonly",
         "x": [
          "CSC 361"
         ],
         "xaxis": "x",
         "y": [
          1.9411764705882353
         ],
         "yaxis": "y"
        },
        {
         "alignmentgroup": "True",
         "bingroup": "x",
         "histfunc": "sum",
         "hovertemplate": "Instructor=رشيد سعيد صمودة<br>Course=%{x}<br>sum of Score=%{y}<extra></extra>",
         "legendgroup": "رشيد سعيد صمودة",
         "marker": {
          "color": "#EF553B"
         },
         "name": "رشيد سعيد صمودة",
         "offsetgroup": "رشيد سعيد صمودة",
         "orientation": "v",
         "showlegend": true,
         "type": "histogram",
         "visible": "legendonly",
         "x": [
          "CSC 227",
          "CSC 496",
          "CSC 700"
         ],
         "xaxis": "x",
         "y": [
          4.637037037037037,
          6,
          0
         ],
         "yaxis": "y"
        },
        {
         "alignmentgroup": "True",
         "bingroup": "x",
         "histfunc": "sum",
         "hovertemplate": "Instructor=رضا بن محمد الطيب عوني<br>Course=%{x}<br>sum of Score=%{y}<extra></extra>",
         "legendgroup": "رضا بن محمد الطيب عوني",
         "marker": {
          "color": "#00cc96"
         },
         "name": "رضا بن محمد الطيب عوني",
         "offsetgroup": "رضا بن محمد الطيب عوني",
         "orientation": "v",
         "showlegend": true,
         "type": "histogram",
         "visible": "legendonly",
         "x": [
          "CEN 444",
          "CEN 492",
          "CEN 600",
          "CEN 999"
         ],
         "xaxis": "x",
         "y": [
          2.1538461538461537,
          6.333333333333333,
          0,
          0
         ],
         "yaxis": "y"
        },
        {
         "alignmentgroup": "True",
         "bingroup": "x",
         "histfunc": "sum",
         "hovertemplate": "Instructor=رمضان طاهر حجار<br>Course=%{x}<br>sum of Score=%{y}<extra></extra>",
         "legendgroup": "رمضان طاهر حجار",
         "marker": {
          "color": "#ab63fa"
         },
         "name": "رمضان طاهر حجار",
         "offsetgroup": "رمضان طاهر حجار",
         "orientation": "v",
         "showlegend": true,
         "type": "histogram",
         "visible": "legendonly",
         "x": [
          "CEN 352"
         ],
         "xaxis": "x",
         "y": [
          3.066666666666667
         ],
         "yaxis": "y"
        },
        {
         "alignmentgroup": "True",
         "bingroup": "x",
         "histfunc": "sum",
         "hovertemplate": "Instructor=زكريا عبدالله عبدالكريم الزامل<br>Course=%{x}<br>sum of Score=%{y}<extra></extra>",
         "legendgroup": "زكريا عبدالله عبدالكريم الزامل",
         "marker": {
          "color": "#FFA15A"
         },
         "name": "زكريا عبدالله عبدالكريم الزامل",
         "offsetgroup": "زكريا عبدالله عبدالكريم الزامل",
         "orientation": "v",
         "showlegend": true,
         "type": "histogram",
         "visible": "legendonly",
         "x": [
          "SWE 321",
          "SWE 496",
          "SWE 497"
         ],
         "xaxis": "x",
         "y": [
          4.265151515151515,
          7,
          8
         ],
         "yaxis": "y"
        },
        {
         "alignmentgroup": "True",
         "bingroup": "x",
         "histfunc": "sum",
         "hovertemplate": "Instructor=زوهير عبدالله شنتوف<br>Course=%{x}<br>sum of Score=%{y}<extra></extra>",
         "legendgroup": "زوهير عبدالله شنتوف",
         "marker": {
          "color": "#19d3f3"
         },
         "name": "زوهير عبدالله شنتوف",
         "offsetgroup": "زوهير عبدالله شنتوف",
         "orientation": "v",
         "showlegend": true,
         "type": "histogram",
         "visible": "legendonly",
         "x": [
          "SWE 211",
          "SWE 313",
          "SWE 496",
          "SWE 497",
          "SWE 594"
         ],
         "xaxis": "x",
         "y": [
          1.9072727272727272,
          5,
          7,
          0,
          0
         ],
         "yaxis": "y"
        },
        {
         "alignmentgroup": "True",
         "bingroup": "x",
         "histfunc": "sum",
         "hovertemplate": "Instructor=سامى صالح احمد الوكيل<br>Course=%{x}<br>sum of Score=%{y}<extra></extra>",
         "legendgroup": "سامى صالح احمد الوكيل",
         "marker": {
          "color": "#FF6692"
         },
         "name": "سامى صالح احمد الوكيل",
         "offsetgroup": "سامى صالح احمد الوكيل",
         "orientation": "v",
         "showlegend": true,
         "type": "histogram",
         "visible": "legendonly",
         "x": [
          "CEN 341",
          "CSC 699"
         ],
         "xaxis": "x",
         "y": [
          3.6666666666666665,
          0
         ],
         "yaxis": "y"
        },
        {
         "alignmentgroup": "True",
         "bingroup": "x",
         "histfunc": "sum",
         "hovertemplate": "Instructor=سعد صالح عبدالله العبودي<br>Course=%{x}<br>sum of Score=%{y}<extra></extra>",
         "legendgroup": "سعد صالح عبدالله العبودي",
         "marker": {
          "color": "#B6E880"
         },
         "name": "سعد صالح عبدالله العبودي",
         "offsetgroup": "سعد صالح عبدالله العبودي",
         "orientation": "v",
         "showlegend": true,
         "type": "histogram",
         "visible": "legendonly",
         "x": [
          "IS 498"
         ],
         "xaxis": "x",
         "y": [
          8
         ],
         "yaxis": "y"
        },
        {
         "alignmentgroup": "True",
         "bingroup": "x",
         "histfunc": "sum",
         "hovertemplate": "Instructor=سعد عبدالله حاسن احمدى<br>Course=%{x}<br>sum of Score=%{y}<extra></extra>",
         "legendgroup": "سعد عبدالله حاسن احمدى",
         "marker": {
          "color": "#FF97FF"
         },
         "name": "سعد عبدالله حاسن احمدى",
         "offsetgroup": "سعد عبدالله حاسن احمدى",
         "orientation": "v",
         "showlegend": true,
         "type": "histogram",
         "visible": "legendonly",
         "x": [
          "CSC 496",
          "CSC 497",
          "CSC 524",
          "CSC 597",
          "CSC 600"
         ],
         "xaxis": "x",
         "y": [
          8,
          6.666666666666667,
          4.4,
          3,
          0
         ],
         "yaxis": "y"
        },
        {
         "alignmentgroup": "True",
         "bingroup": "x",
         "histfunc": "sum",
         "hovertemplate": "Instructor=سعد علي حاج بكري<br>Course=%{x}<br>sum of Score=%{y}<extra></extra>",
         "legendgroup": "سعد علي حاج بكري",
         "marker": {
          "color": "#FECB52"
         },
         "name": "سعد علي حاج بكري",
         "offsetgroup": "سعد علي حاج بكري",
         "orientation": "v",
         "showlegend": true,
         "type": "histogram",
         "visible": "legendonly",
         "x": [
          "CEN 470",
          "CEN 493",
          "CEN 592",
          "CEN 600",
          "CEN 631"
         ],
         "xaxis": "x",
         "y": [
          5.7894736842105265,
          7,
          8,
          0,
          7
         ],
         "yaxis": "y"
        },
        {
         "alignmentgroup": "True",
         "bingroup": "x",
         "histfunc": "sum",
         "hovertemplate": "Instructor=سعد مسعود مسعود ايجاد<br>Course=%{x}<br>sum of Score=%{y}<extra></extra>",
         "legendgroup": "سعد مسعود مسعود ايجاد",
         "marker": {
          "color": "#636efa"
         },
         "name": "سعد مسعود مسعود ايجاد",
         "offsetgroup": "سعد مسعود مسعود ايجاد",
         "orientation": "v",
         "showlegend": true,
         "type": "histogram",
         "visible": "legendonly",
         "x": [
          "CSC 111"
         ],
         "xaxis": "x",
         "y": [
          5.403214535290007
         ],
         "yaxis": "y"
        },
        {
         "alignmentgroup": "True",
         "bingroup": "x",
         "histfunc": "sum",
         "hovertemplate": "Instructor=سعيد أحمد كراش<br>Course=%{x}<br>sum of Score=%{y}<extra></extra>",
         "legendgroup": "سعيد أحمد كراش",
         "marker": {
          "color": "#EF553B"
         },
         "name": "سعيد أحمد كراش",
         "offsetgroup": "سعيد أحمد كراش",
         "orientation": "v",
         "showlegend": true,
         "type": "histogram",
         "visible": "legendonly",
         "x": [
          "CSC 212",
          "CSC 497"
         ],
         "xaxis": "x",
         "y": [
          3.751152073732719,
          8
         ],
         "yaxis": "y"
        },
        {
         "alignmentgroup": "True",
         "bingroup": "x",
         "histfunc": "sum",
         "hovertemplate": "Instructor=سفيان الزين قنوني<br>Course=%{x}<br>sum of Score=%{y}<extra></extra>",
         "legendgroup": "سفيان الزين قنوني",
         "marker": {
          "color": "#00cc96"
         },
         "name": "سفيان الزين قنوني",
         "offsetgroup": "سفيان الزين قنوني",
         "orientation": "v",
         "showlegend": true,
         "type": "histogram",
         "visible": "legendonly",
         "x": [
          "CSC 113",
          "CSC 496"
         ],
         "xaxis": "x",
         "y": [
          2.447368421052632,
          8
         ],
         "yaxis": "y"
        },
        {
         "alignmentgroup": "True",
         "bingroup": "x",
         "histfunc": "sum",
         "hovertemplate": "Instructor=سلطان داود سليمان الفرهود<br>Course=%{x}<br>sum of Score=%{y}<extra></extra>",
         "legendgroup": "سلطان داود سليمان الفرهود",
         "marker": {
          "color": "#ab63fa"
         },
         "name": "سلطان داود سليمان الفرهود",
         "offsetgroup": "سلطان داود سليمان الفرهود",
         "orientation": "v",
         "showlegend": true,
         "type": "histogram",
         "visible": "legendonly",
         "x": [
          "CSC 496",
          "CSC 569"
         ],
         "xaxis": "x",
         "y": [
          8,
          7
         ],
         "yaxis": "y"
        },
        {
         "alignmentgroup": "True",
         "bingroup": "x",
         "histfunc": "sum",
         "hovertemplate": "Instructor=سلطان عبدالعزيز محمد اليحيى<br>Course=%{x}<br>sum of Score=%{y}<extra></extra>",
         "legendgroup": "سلطان عبدالعزيز محمد اليحيى",
         "marker": {
          "color": "#FFA15A"
         },
         "name": "سلطان عبدالعزيز محمد اليحيى",
         "offsetgroup": "سلطان عبدالعزيز محمد اليحيى",
         "orientation": "v",
         "showlegend": true,
         "type": "histogram",
         "visible": "legendonly",
         "x": [
          "IS 498"
         ],
         "xaxis": "x",
         "y": [
          8
         ],
         "yaxis": "y"
        },
        {
         "alignmentgroup": "True",
         "bingroup": "x",
         "histfunc": "sum",
         "hovertemplate": "Instructor=سلمان علي صالح العيد<br>Course=%{x}<br>sum of Score=%{y}<extra></extra>",
         "legendgroup": "سلمان علي صالح العيد",
         "marker": {
          "color": "#19d3f3"
         },
         "name": "سلمان علي صالح العيد",
         "offsetgroup": "سلمان علي صالح العيد",
         "orientation": "v",
         "showlegend": true,
         "type": "histogram",
         "visible": "legendonly",
         "x": [
          "CEN 434"
         ],
         "xaxis": "x",
         "y": [
          6
         ],
         "yaxis": "y"
        },
        {
         "alignmentgroup": "True",
         "bingroup": "x",
         "histfunc": "sum",
         "hovertemplate": "Instructor=سلمان علي وهف القحطاني<br>Course=%{x}<br>sum of Score=%{y}<extra></extra>",
         "legendgroup": "سلمان علي وهف القحطاني",
         "marker": {
          "color": "#FF6692"
         },
         "name": "سلمان علي وهف القحطاني",
         "offsetgroup": "سلمان علي وهف القحطاني",
         "orientation": "v",
         "showlegend": true,
         "type": "histogram",
         "visible": "legendonly",
         "x": [
          "CEN 700"
         ],
         "xaxis": "x",
         "y": [
          0
         ],
         "yaxis": "y"
        },
        {
         "alignmentgroup": "True",
         "bingroup": "x",
         "histfunc": "sum",
         "hovertemplate": "Instructor=صالح عبدالله صالح الموينع<br>Course=%{x}<br>sum of Score=%{y}<extra></extra>",
         "legendgroup": "صالح عبدالله صالح الموينع",
         "marker": {
          "color": "#B6E880"
         },
         "name": "صالح عبدالله صالح الموينع",
         "offsetgroup": "صالح عبدالله صالح الموينع",
         "orientation": "v",
         "showlegend": true,
         "type": "histogram",
         "visible": "legendonly",
         "x": [
          "CEN 531"
         ],
         "xaxis": "x",
         "y": [
          5
         ],
         "yaxis": "y"
        },
        {
         "alignmentgroup": "True",
         "bingroup": "x",
         "histfunc": "sum",
         "hovertemplate": "Instructor=صالح محمد صالح الهمامى<br>Course=%{x}<br>sum of Score=%{y}<extra></extra>",
         "legendgroup": "صالح محمد صالح الهمامى",
         "marker": {
          "color": "#FF97FF"
         },
         "name": "صالح محمد صالح الهمامى",
         "offsetgroup": "صالح محمد صالح الهمامى",
         "orientation": "v",
         "showlegend": true,
         "type": "histogram",
         "visible": "legendonly",
         "x": [
          "CSC 343",
          "CSC 496"
         ],
         "xaxis": "x",
         "y": [
          4.726666666666667,
          7.5
         ],
         "yaxis": "y"
        },
        {
         "alignmentgroup": "True",
         "bingroup": "x",
         "histfunc": "sum",
         "hovertemplate": "Instructor=عءالدين مختار حافظ<br>Course=%{x}<br>sum of Score=%{y}<extra></extra>",
         "legendgroup": "عءالدين مختار حافظ",
         "marker": {
          "color": "#FECB52"
         },
         "name": "عءالدين مختار حافظ",
         "offsetgroup": "عءالدين مختار حافظ",
         "orientation": "v",
         "showlegend": true,
         "type": "histogram",
         "visible": "legendonly",
         "x": [
          "IS 340",
          "IS 696"
         ],
         "xaxis": "x",
         "y": [
          5.438940092165898,
          8
         ],
         "yaxis": "y"
        },
        {
         "alignmentgroup": "True",
         "bingroup": "x",
         "histfunc": "sum",
         "hovertemplate": "Instructor=عادل خليفة سوداني<br>Course=%{x}<br>sum of Score=%{y}<extra></extra>",
         "legendgroup": "عادل خليفة سوداني",
         "marker": {
          "color": "#636efa"
         },
         "name": "عادل خليفة سوداني",
         "offsetgroup": "عادل خليفة سوداني",
         "orientation": "v",
         "showlegend": true,
         "type": "histogram",
         "visible": "legendonly",
         "x": [
          "CSC 329",
          "CSC 496"
         ],
         "xaxis": "x",
         "y": [
          4.8530303030303035,
          7
         ],
         "yaxis": "y"
        },
        {
         "alignmentgroup": "True",
         "bingroup": "x",
         "histfunc": "sum",
         "hovertemplate": "Instructor=عاصم ناصر عبدالرحمن اليحيى<br>Course=%{x}<br>sum of Score=%{y}<extra></extra>",
         "legendgroup": "عاصم ناصر عبدالرحمن اليحيى",
         "marker": {
          "color": "#EF553B"
         },
         "name": "عاصم ناصر عبدالرحمن اليحيى",
         "offsetgroup": "عاصم ناصر عبدالرحمن اليحيى",
         "orientation": "v",
         "showlegend": true,
         "type": "histogram",
         "visible": "legendonly",
         "x": [
          "CEN 441",
          "CEN 445",
          "CEN 492"
         ],
         "xaxis": "x",
         "y": [
          5.2,
          3.9166666666666665,
          7
         ],
         "yaxis": "y"
        },
        {
         "alignmentgroup": "True",
         "bingroup": "x",
         "histfunc": "sum",
         "hovertemplate": "Instructor=عامر عبدالله طوير<br>Course=%{x}<br>sum of Score=%{y}<extra></extra>",
         "legendgroup": "عامر عبدالله طوير",
         "marker": {
          "color": "#00cc96"
         },
         "name": "عامر عبدالله طوير",
         "offsetgroup": "عامر عبدالله طوير",
         "orientation": "v",
         "showlegend": true,
         "type": "histogram",
         "visible": "legendonly",
         "x": [
          "CSC 113"
         ],
         "xaxis": "x",
         "y": [
          3.0555555555555554
         ],
         "yaxis": "y"
        },
        {
         "alignmentgroup": "True",
         "bingroup": "x",
         "histfunc": "sum",
         "hovertemplate": "Instructor=عايض سعد عايض القحطانى<br>Course=%{x}<br>sum of Score=%{y}<extra></extra>",
         "legendgroup": "عايض سعد عايض القحطانى",
         "marker": {
          "color": "#ab63fa"
         },
         "name": "عايض سعد عايض القحطانى",
         "offsetgroup": "عايض سعد عايض القحطانى",
         "orientation": "v",
         "showlegend": true,
         "type": "histogram",
         "visible": "legendonly",
         "x": [
          "CEN 318",
          "CEN 415",
          "CEN 492"
         ],
         "xaxis": "x",
         "y": [
          4.045454545454546,
          4.2727272727272725,
          7.333333333333333
         ],
         "yaxis": "y"
        },
        {
         "alignmentgroup": "True",
         "bingroup": "x",
         "histfunc": "sum",
         "hovertemplate": "Instructor=عبدالحميد عبدالله محمد العليوي<br>Course=%{x}<br>sum of Score=%{y}<extra></extra>",
         "legendgroup": "عبدالحميد عبدالله محمد العليوي",
         "marker": {
          "color": "#FFA15A"
         },
         "name": "عبدالحميد عبدالله محمد العليوي",
         "offsetgroup": "عبدالحميد عبدالله محمد العليوي",
         "orientation": "v",
         "showlegend": true,
         "type": "histogram",
         "visible": "legendonly",
         "x": [
          "SWE 496"
         ],
         "xaxis": "x",
         "y": [
          8
         ],
         "yaxis": "y"
        },
        {
         "alignmentgroup": "True",
         "bingroup": "x",
         "histfunc": "sum",
         "hovertemplate": "Instructor=عبدالرحمن ابراهيم على العثيم<br>Course=%{x}<br>sum of Score=%{y}<extra></extra>",
         "legendgroup": "عبدالرحمن ابراهيم على العثيم",
         "marker": {
          "color": "#19d3f3"
         },
         "name": "عبدالرحمن ابراهيم على العثيم",
         "offsetgroup": "عبدالرحمن ابراهيم على العثيم",
         "orientation": "v",
         "showlegend": true,
         "type": "histogram",
         "visible": "legendonly",
         "x": [
          "IS 351",
          "IS 499"
         ],
         "xaxis": "x",
         "y": [
          4.113037942449707,
          8
         ],
         "yaxis": "y"
        },
        {
         "alignmentgroup": "True",
         "bingroup": "x",
         "histfunc": "sum",
         "hovertemplate": "Instructor=عبدالرحمن عايش طلق المطيرى<br>Course=%{x}<br>sum of Score=%{y}<extra></extra>",
         "legendgroup": "عبدالرحمن عايش طلق المطيرى",
         "marker": {
          "color": "#FF6692"
         },
         "name": "عبدالرحمن عايش طلق المطيرى",
         "offsetgroup": "عبدالرحمن عايش طلق المطيرى",
         "orientation": "v",
         "showlegend": true,
         "type": "histogram",
         "visible": "legendonly",
         "x": [
          "CEN 442"
         ],
         "xaxis": "x",
         "y": [
          4.866666666666666
         ],
         "yaxis": "y"
        },
        {
         "alignmentgroup": "True",
         "bingroup": "x",
         "histfunc": "sum",
         "hovertemplate": "Instructor=عبدالرحمن عبدالكريم مرزا<br>Course=%{x}<br>sum of Score=%{y}<extra></extra>",
         "legendgroup": "عبدالرحمن عبدالكريم مرزا",
         "marker": {
          "color": "#B6E880"
         },
         "name": "عبدالرحمن عبدالكريم مرزا",
         "offsetgroup": "عبدالرحمن عبدالكريم مرزا",
         "orientation": "v",
         "showlegend": true,
         "type": "histogram",
         "visible": "legendonly",
         "x": [
          "IS 498",
          "IS 622"
         ],
         "xaxis": "x",
         "y": [
          8,
          7
         ],
         "yaxis": "y"
        },
        {
         "alignmentgroup": "True",
         "bingroup": "x",
         "histfunc": "sum",
         "hovertemplate": "Instructor=عبدالرحمن عبدالله حسين الشريف<br>Course=%{x}<br>sum of Score=%{y}<extra></extra>",
         "legendgroup": "عبدالرحمن عبدالله حسين الشريف",
         "marker": {
          "color": "#FF97FF"
         },
         "name": "عبدالرحمن عبدالله حسين الشريف",
         "offsetgroup": "عبدالرحمن عبدالله حسين الشريف",
         "orientation": "v",
         "showlegend": true,
         "type": "histogram",
         "visible": "legendonly",
         "x": [
          "IS 362",
          "IS 498",
          "IS 499"
         ],
         "xaxis": "x",
         "y": [
          3.8086419753086425,
          8,
          6
         ],
         "yaxis": "y"
        },
        {
         "alignmentgroup": "True",
         "bingroup": "x",
         "histfunc": "sum",
         "hovertemplate": "Instructor=عبدالرحمن عبدالله عبدالرحمن الخنيفر<br>Course=%{x}<br>sum of Score=%{y}<extra></extra>",
         "legendgroup": "عبدالرحمن عبدالله عبدالرحمن الخنيفر",
         "marker": {
          "color": "#FECB52"
         },
         "name": "عبدالرحمن عبدالله عبدالرحمن الخنيفر",
         "offsetgroup": "عبدالرحمن عبدالله عبدالرحمن الخنيفر",
         "orientation": "v",
         "showlegend": true,
         "type": "histogram",
         "visible": "legendonly",
         "x": [
          "CSC 443"
         ],
         "xaxis": "x",
         "y": [
          5.7727272727272725
         ],
         "yaxis": "y"
        },
        {
         "alignmentgroup": "True",
         "bingroup": "x",
         "histfunc": "sum",
         "hovertemplate": "Instructor=عبدالسميع محمدشاكر محمدسميع الدهلو<br>Course=%{x}<br>sum of Score=%{y}<extra></extra>",
         "legendgroup": "عبدالسميع محمدشاكر محمدسميع الدهلو",
         "marker": {
          "color": "#636efa"
         },
         "name": "عبدالسميع محمدشاكر محمدسميع الدهلو",
         "offsetgroup": "عبدالسميع محمدشاكر محمدسميع الدهلو",
         "orientation": "v",
         "showlegend": true,
         "type": "histogram",
         "visible": "legendonly",
         "x": [
          "CEN 212",
          "CEN 415"
         ],
         "xaxis": "x",
         "y": [
          2.0952380952380953,
          1.7777777777777777
         ],
         "yaxis": "y"
        },
        {
         "alignmentgroup": "True",
         "bingroup": "x",
         "histfunc": "sum",
         "hovertemplate": "Instructor=عبدالعزيز سليمان فهد المزيد<br>Course=%{x}<br>sum of Score=%{y}<extra></extra>",
         "legendgroup": "عبدالعزيز سليمان فهد المزيد",
         "marker": {
          "color": "#EF553B"
         },
         "name": "عبدالعزيز سليمان فهد المزيد",
         "offsetgroup": "عبدالعزيز سليمان فهد المزيد",
         "orientation": "v",
         "showlegend": true,
         "type": "histogram",
         "visible": "legendonly",
         "x": [
          "CEN 699"
         ],
         "xaxis": "x",
         "y": [
          0
         ],
         "yaxis": "y"
        },
        {
         "alignmentgroup": "True",
         "bingroup": "x",
         "histfunc": "sum",
         "hovertemplate": "Instructor=عبدالعزيز عمر عبدالله السدحان<br>Course=%{x}<br>sum of Score=%{y}<extra></extra>",
         "legendgroup": "عبدالعزيز عمر عبدالله السدحان",
         "marker": {
          "color": "#00cc96"
         },
         "name": "عبدالعزيز عمر عبدالله السدحان",
         "offsetgroup": "عبدالعزيز عمر عبدالله السدحان",
         "orientation": "v",
         "showlegend": true,
         "type": "histogram",
         "visible": "legendonly",
         "x": [
          "SWE 466",
          "SWE 496"
         ],
         "xaxis": "x",
         "y": [
          4.445601851851851,
          8
         ],
         "yaxis": "y"
        },
        {
         "alignmentgroup": "True",
         "bingroup": "x",
         "histfunc": "sum",
         "hovertemplate": "Instructor=عبدالفتاح صالح بلغيث<br>Course=%{x}<br>sum of Score=%{y}<extra></extra>",
         "legendgroup": "عبدالفتاح صالح بلغيث",
         "marker": {
          "color": "#ab63fa"
         },
         "name": "عبدالفتاح صالح بلغيث",
         "offsetgroup": "عبدالفتاح صالح بلغيث",
         "orientation": "v",
         "showlegend": true,
         "type": "histogram",
         "visible": "legendonly",
         "x": [
          "CSC 512",
          "CSC 612"
         ],
         "xaxis": "x",
         "y": [
          2.7142857142857144,
          5.75
         ],
         "yaxis": "y"
        },
        {
         "alignmentgroup": "True",
         "bingroup": "x",
         "histfunc": "sum",
         "hovertemplate": "Instructor=عبدالله محمد عبدالله الضلعان<br>Course=%{x}<br>sum of Score=%{y}<extra></extra>",
         "legendgroup": "عبدالله محمد عبدالله الضلعان",
         "marker": {
          "color": "#FFA15A"
         },
         "name": "عبدالله محمد عبدالله الضلعان",
         "offsetgroup": "عبدالله محمد عبدالله الضلعان",
         "orientation": "v",
         "showlegend": true,
         "type": "histogram",
         "visible": "legendonly",
         "x": [
          "CSC 698"
         ],
         "xaxis": "x",
         "y": [
          8
         ],
         "yaxis": "y"
        },
        {
         "alignmentgroup": "True",
         "bingroup": "x",
         "histfunc": "sum",
         "hovertemplate": "Instructor=عبدالمجيد ابراهيم سليمان امير<br>Course=%{x}<br>sum of Score=%{y}<extra></extra>",
         "legendgroup": "عبدالمجيد ابراهيم سليمان امير",
         "marker": {
          "color": "#19d3f3"
         },
         "name": "عبدالمجيد ابراهيم سليمان امير",
         "offsetgroup": "عبدالمجيد ابراهيم سليمان امير",
         "orientation": "v",
         "showlegend": true,
         "type": "histogram",
         "visible": "legendonly",
         "x": [
          "CSC 111",
          "CSC 497"
         ],
         "xaxis": "x",
         "y": [
          4.833333333333333,
          6
         ],
         "yaxis": "y"
        },
        {
         "alignmentgroup": "True",
         "bingroup": "x",
         "histfunc": "sum",
         "hovertemplate": "Instructor=عبدالمحسن مدله عايش المطيري<br>Course=%{x}<br>sum of Score=%{y}<extra></extra>",
         "legendgroup": "عبدالمحسن مدله عايش المطيري",
         "marker": {
          "color": "#FF6692"
         },
         "name": "عبدالمحسن مدله عايش المطيري",
         "offsetgroup": "عبدالمحسن مدله عايش المطيري",
         "orientation": "v",
         "showlegend": true,
         "type": "histogram",
         "visible": "legendonly",
         "x": [
          "CEN 600"
         ],
         "xaxis": "x",
         "y": [
          0
         ],
         "yaxis": "y"
        },
        {
         "alignmentgroup": "True",
         "bingroup": "x",
         "histfunc": "sum",
         "hovertemplate": "Instructor=عبدالملك بشير الرحال<br>Course=%{x}<br>sum of Score=%{y}<extra></extra>",
         "legendgroup": "عبدالملك بشير الرحال",
         "marker": {
          "color": "#B6E880"
         },
         "name": "عبدالملك بشير الرحال",
         "offsetgroup": "عبدالملك بشير الرحال",
         "orientation": "v",
         "showlegend": true,
         "type": "histogram",
         "visible": "legendonly",
         "x": [
          "CEN 447"
         ],
         "xaxis": "x",
         "y": [
          5.3
         ],
         "yaxis": "y"
        },
        {
         "alignmentgroup": "True",
         "bingroup": "x",
         "histfunc": "sum",
         "hovertemplate": "Instructor=عبدالملك سلمان عبدالرحمن السلمان<br>Course=%{x}<br>sum of Score=%{y}<extra></extra>",
         "legendgroup": "عبدالملك سلمان عبدالرحمن السلمان",
         "marker": {
          "color": "#FF97FF"
         },
         "name": "عبدالملك سلمان عبدالرحمن السلمان",
         "offsetgroup": "عبدالملك سلمان عبدالرحمن السلمان",
         "orientation": "v",
         "showlegend": true,
         "type": "histogram",
         "visible": "legendonly",
         "x": [
          "CSC 497"
         ],
         "xaxis": "x",
         "y": [
          8
         ],
         "yaxis": "y"
        },
        {
         "alignmentgroup": "True",
         "bingroup": "x",
         "histfunc": "sum",
         "hovertemplate": "Instructor=عبدالمنعم محمدعلي محمد حسن ارتولى<br>Course=%{x}<br>sum of Score=%{y}<extra></extra>",
         "legendgroup": "عبدالمنعم محمدعلي محمد حسن ارتولى",
         "marker": {
          "color": "#FECB52"
         },
         "name": "عبدالمنعم محمدعلي محمد حسن ارتولى",
         "offsetgroup": "عبدالمنعم محمدعلي محمد حسن ارتولى",
         "orientation": "v",
         "showlegend": true,
         "type": "histogram",
         "visible": "legendonly",
         "x": [
          "CSC 304",
          "CSC 339",
          "CSC 496",
          "CSC 699"
         ],
         "xaxis": "x",
         "y": [
          4.083333333333333,
          2.8111801242236023,
          2.6666666666666665,
          0
         ],
         "yaxis": "y"
        },
        {
         "alignmentgroup": "True",
         "bingroup": "x",
         "histfunc": "sum",
         "hovertemplate": "Instructor=عبدالودوود عبدالوحيد<br>Course=%{x}<br>sum of Score=%{y}<extra></extra>",
         "legendgroup": "عبدالودوود عبدالوحيد",
         "marker": {
          "color": "#636efa"
         },
         "name": "عبدالودوود عبدالوحيد",
         "offsetgroup": "عبدالودوود عبدالوحيد",
         "orientation": "v",
         "showlegend": true,
         "type": "histogram",
         "visible": "legendonly",
         "x": [
          "CEN 351",
          "CEN 492",
          "CEN 493",
          "CEN 697"
         ],
         "xaxis": "x",
         "y": [
          2.75,
          8,
          7,
          8
         ],
         "yaxis": "y"
        },
        {
         "alignmentgroup": "True",
         "bingroup": "x",
         "histfunc": "sum",
         "hovertemplate": "Instructor=عقيل محمد مصطفى عبدالرحمن اعظم<br>Course=%{x}<br>sum of Score=%{y}<extra></extra>",
         "legendgroup": "عقيل محمد مصطفى عبدالرحمن اعظم",
         "marker": {
          "color": "#EF553B"
         },
         "name": "عقيل محمد مصطفى عبدالرحمن اعظم",
         "offsetgroup": "عقيل محمد مصطفى عبدالرحمن اعظم",
         "orientation": "v",
         "showlegend": true,
         "type": "histogram",
         "visible": "legendonly",
         "x": [
          "CSC 281",
          "CSC 497",
          "CSC 700"
         ],
         "xaxis": "x",
         "y": [
          4.193247126436782,
          8,
          0
         ],
         "yaxis": "y"
        },
        {
         "alignmentgroup": "True",
         "bingroup": "x",
         "histfunc": "sum",
         "hovertemplate": "Instructor=عمر ابراهيم عبدالله الصالح<br>Course=%{x}<br>sum of Score=%{y}<extra></extra>",
         "legendgroup": "عمر ابراهيم عبدالله الصالح",
         "marker": {
          "color": "#00cc96"
         },
         "name": "عمر ابراهيم عبدالله الصالح",
         "offsetgroup": "عمر ابراهيم عبدالله الصالح",
         "orientation": "v",
         "showlegend": true,
         "type": "histogram",
         "visible": "legendonly",
         "x": [
          "CEN 999",
          "CSC 999",
          "IS 999"
         ],
         "xaxis": "x",
         "y": [
          0,
          0,
          0
         ],
         "yaxis": "y"
        },
        {
         "alignmentgroup": "True",
         "bingroup": "x",
         "histfunc": "sum",
         "hovertemplate": "Instructor=عمر عبدالعزيز محمد الرويس<br>Course=%{x}<br>sum of Score=%{y}<extra></extra>",
         "legendgroup": "عمر عبدالعزيز محمد الرويس",
         "marker": {
          "color": "#ab63fa"
         },
         "name": "عمر عبدالعزيز محمد الرويس",
         "offsetgroup": "عمر عبدالعزيز محمد الرويس",
         "orientation": "v",
         "showlegend": true,
         "type": "histogram",
         "visible": "legendonly",
         "x": [
          "IS 492",
          "IS 498",
          "IS 499",
          "IS 550",
          "IS 595"
         ],
         "xaxis": "x",
         "y": [
          5.114285714285714,
          7,
          7,
          2.1,
          8
         ],
         "yaxis": "y"
        },
        {
         "alignmentgroup": "True",
         "bingroup": "x",
         "histfunc": "sum",
         "hovertemplate": "Instructor=عيسى احمد ناصر الغنيم<br>Course=%{x}<br>sum of Score=%{y}<extra></extra>",
         "legendgroup": "عيسى احمد ناصر الغنيم",
         "marker": {
          "color": "#FFA15A"
         },
         "name": "عيسى احمد ناصر الغنيم",
         "offsetgroup": "عيسى احمد ناصر الغنيم",
         "orientation": "v",
         "showlegend": true,
         "type": "histogram",
         "visible": "legendonly",
         "x": [
          "CEN 318",
          "CEN 390"
         ],
         "xaxis": "x",
         "y": [
          2.230769230769231,
          4.711538461538462
         ],
         "yaxis": "y"
        },
        {
         "alignmentgroup": "True",
         "bingroup": "x",
         "histfunc": "sum",
         "hovertemplate": "Instructor=غم محمد<br>Course=%{x}<br>sum of Score=%{y}<extra></extra>",
         "legendgroup": "غم محمد",
         "marker": {
          "color": "#19d3f3"
         },
         "name": "غم محمد",
         "offsetgroup": "غم محمد",
         "orientation": "v",
         "showlegend": true,
         "type": "histogram",
         "visible": "legendonly",
         "x": [
          "CEN 460",
          "CEN 492",
          "CEN 596",
          "CEN 696",
          "CEN 700"
         ],
         "xaxis": "x",
         "y": [
          5.361111111111111,
          8,
          0,
          8,
          0
         ],
         "yaxis": "y"
        },
        {
         "alignmentgroup": "True",
         "bingroup": "x",
         "histfunc": "sum",
         "hovertemplate": "Instructor=فضل امين حميد امين صوفي<br>Course=%{x}<br>sum of Score=%{y}<extra></extra>",
         "legendgroup": "فضل امين حميد امين صوفي",
         "marker": {
          "color": "#FF6692"
         },
         "name": "فضل امين حميد امين صوفي",
         "offsetgroup": "فضل امين حميد امين صوفي",
         "orientation": "v",
         "showlegend": true,
         "type": "histogram",
         "visible": "legendonly",
         "x": [
          "SWE 444",
          "SWE 496",
          "SWE 497",
          "SWE 594"
         ],
         "xaxis": "x",
         "y": [
          7.684615384615384,
          7,
          8,
          0
         ],
         "yaxis": "y"
        },
        {
         "alignmentgroup": "True",
         "bingroup": "x",
         "histfunc": "sum",
         "hovertemplate": "Instructor=فهد عبدالله محمد الضلعان<br>Course=%{x}<br>sum of Score=%{y}<extra></extra>",
         "legendgroup": "فهد عبدالله محمد الضلعان",
         "marker": {
          "color": "#B6E880"
         },
         "name": "فهد عبدالله محمد الضلعان",
         "offsetgroup": "فهد عبدالله محمد الضلعان",
         "orientation": "v",
         "showlegend": true,
         "type": "histogram",
         "visible": "legendonly",
         "x": [
          "CSC 212",
          "CSC 496"
         ],
         "xaxis": "x",
         "y": [
          3.1492140921409213,
          8
         ],
         "yaxis": "y"
        },
        {
         "alignmentgroup": "True",
         "bingroup": "x",
         "histfunc": "sum",
         "hovertemplate": "Instructor=فواز عبدالعزيز عبدالله السليمان<br>Course=%{x}<br>sum of Score=%{y}<extra></extra>",
         "legendgroup": "فواز عبدالعزيز عبدالله السليمان",
         "marker": {
          "color": "#FF97FF"
         },
         "name": "فواز عبدالعزيز عبدالله السليمان",
         "offsetgroup": "فواز عبدالعزيز عبدالله السليمان",
         "orientation": "v",
         "showlegend": true,
         "type": "histogram",
         "visible": "legendonly",
         "x": [
          "CSC 496"
         ],
         "xaxis": "x",
         "y": [
          7
         ],
         "yaxis": "y"
        },
        {
         "alignmentgroup": "True",
         "bingroup": "x",
         "histfunc": "sum",
         "hovertemplate": "Instructor=فيصل عبدالعزيز عبدالرحمن المسند<br>Course=%{x}<br>sum of Score=%{y}<extra></extra>",
         "legendgroup": "فيصل عبدالعزيز عبدالرحمن المسند",
         "marker": {
          "color": "#FECB52"
         },
         "name": "فيصل عبدالعزيز عبدالرحمن المسند",
         "offsetgroup": "فيصل عبدالعزيز عبدالرحمن المسند",
         "orientation": "v",
         "showlegend": true,
         "type": "histogram",
         "visible": "legendonly",
         "x": [
          "IS 240",
          "IS 499",
          "IS 629"
         ],
         "xaxis": "x",
         "y": [
          3.75,
          8,
          6.5
         ],
         "yaxis": "y"
        },
        {
         "alignmentgroup": "True",
         "bingroup": "x",
         "histfunc": "sum",
         "hovertemplate": "Instructor=كمال الدين حفناوى احمد هوام<br>Course=%{x}<br>sum of Score=%{y}<extra></extra>",
         "legendgroup": "كمال الدين حفناوى احمد هوام",
         "marker": {
          "color": "#636efa"
         },
         "name": "كمال الدين حفناوى احمد هوام",
         "offsetgroup": "كمال الدين حفناوى احمد هوام",
         "orientation": "v",
         "showlegend": true,
         "type": "histogram",
         "visible": "legendonly",
         "x": [
          "CSC 380",
          "CSC 383"
         ],
         "xaxis": "x",
         "y": [
          3.9130434782608696,
          3.2777777777777777
         ],
         "yaxis": "y"
        },
        {
         "alignmentgroup": "True",
         "bingroup": "x",
         "histfunc": "sum",
         "hovertemplate": "Instructor=ماجد عبدالله محمد الرسينى<br>Course=%{x}<br>sum of Score=%{y}<extra></extra>",
         "legendgroup": "ماجد عبدالله محمد الرسينى",
         "marker": {
          "color": "#EF553B"
         },
         "name": "ماجد عبدالله محمد الرسينى",
         "offsetgroup": "ماجد عبدالله محمد الرسينى",
         "orientation": "v",
         "showlegend": true,
         "type": "histogram",
         "visible": "legendonly",
         "x": [
          "CEN 492",
          "CEN 573"
         ],
         "xaxis": "x",
         "y": [
          6,
          8
         ],
         "yaxis": "y"
        },
        {
         "alignmentgroup": "True",
         "bingroup": "x",
         "histfunc": "sum",
         "hovertemplate": "Instructor=ماجد عبدالله محمد مقرن ال سعود<br>Course=%{x}<br>sum of Score=%{y}<extra></extra>",
         "legendgroup": "ماجد عبدالله محمد مقرن ال سعود",
         "marker": {
          "color": "#00cc96"
         },
         "name": "ماجد عبدالله محمد مقرن ال سعود",
         "offsetgroup": "ماجد عبدالله محمد مقرن ال سعود",
         "orientation": "v",
         "showlegend": true,
         "type": "histogram",
         "visible": "legendonly",
         "x": [
          "IS 532",
          "IS 595",
          "IS 696",
          "IS 700"
         ],
         "xaxis": "x",
         "y": [
          6,
          0,
          8,
          0
         ],
         "yaxis": "y"
        },
        {
         "alignmentgroup": "True",
         "bingroup": "x",
         "histfunc": "sum",
         "hovertemplate": "Instructor=مازن سليمان خميس السبعان<br>Course=%{x}<br>sum of Score=%{y}<extra></extra>",
         "legendgroup": "مازن سليمان خميس السبعان",
         "marker": {
          "color": "#ab63fa"
         },
         "name": "مازن سليمان خميس السبعان",
         "offsetgroup": "مازن سليمان خميس السبعان",
         "orientation": "v",
         "showlegend": true,
         "type": "histogram",
         "visible": "legendonly",
         "x": [
          "CEN 492",
          "CEN 570",
          "CEN 600"
         ],
         "xaxis": "x",
         "y": [
          6,
          4,
          0
         ],
         "yaxis": "y"
        },
        {
         "alignmentgroup": "True",
         "bingroup": "x",
         "histfunc": "sum",
         "hovertemplate": "Instructor=مبارك راشد عبدالله ال رشود<br>Course=%{x}<br>sum of Score=%{y}<extra></extra>",
         "legendgroup": "مبارك راشد عبدالله ال رشود",
         "marker": {
          "color": "#FFA15A"
         },
         "name": "مبارك راشد عبدالله ال رشود",
         "offsetgroup": "مبارك راشد عبدالله ال رشود",
         "orientation": "v",
         "showlegend": true,
         "type": "histogram",
         "visible": "legendonly",
         "x": [
          "SWE 485",
          "SWE 496",
          "SWE 599"
         ],
         "xaxis": "x",
         "y": [
          4.372093023255814,
          8,
          5
         ],
         "yaxis": "y"
        },
        {
         "alignmentgroup": "True",
         "bingroup": "x",
         "histfunc": "sum",
         "hovertemplate": "Instructor=مجاهد ميخاتي<br>Course=%{x}<br>sum of Score=%{y}<extra></extra>",
         "legendgroup": "مجاهد ميخاتي",
         "marker": {
          "color": "#19d3f3"
         },
         "name": "مجاهد ميخاتي",
         "offsetgroup": "مجاهد ميخاتي",
         "orientation": "v",
         "showlegend": true,
         "type": "histogram",
         "visible": "legendonly",
         "x": [
          "CEN 211",
          "CEN 212",
          "CEN 492"
         ],
         "xaxis": "x",
         "y": [
          1.1428571428571428,
          2.7222222222222223,
          7
         ],
         "yaxis": "y"
        },
        {
         "alignmentgroup": "True",
         "bingroup": "x",
         "histfunc": "sum",
         "hovertemplate": "Instructor=مجدل سلطان مجدل بن سفران<br>Course=%{x}<br>sum of Score=%{y}<extra></extra>",
         "legendgroup": "مجدل سلطان مجدل بن سفران",
         "marker": {
          "color": "#FF6692"
         },
         "name": "مجدل سلطان مجدل بن سفران",
         "offsetgroup": "مجدل سلطان مجدل بن سفران",
         "orientation": "v",
         "showlegend": true,
         "type": "histogram",
         "visible": "legendonly",
         "x": [
          "CSC 227",
          "CSC 496",
          "CSC 566"
         ],
         "xaxis": "x",
         "y": [
          4.333333333333333,
          8,
          7.5
         ],
         "yaxis": "y"
        },
        {
         "alignmentgroup": "True",
         "bingroup": "x",
         "histfunc": "sum",
         "hovertemplate": "Instructor=محسن حمادي الدنقير<br>Course=%{x}<br>sum of Score=%{y}<extra></extra>",
         "legendgroup": "محسن حمادي الدنقير",
         "marker": {
          "color": "#B6E880"
         },
         "name": "محسن حمادي الدنقير",
         "offsetgroup": "محسن حمادي الدنقير",
         "orientation": "v",
         "showlegend": true,
         "type": "histogram",
         "visible": "legendonly",
         "x": [
          "SWE 312",
          "SWE 496",
          "SWE 594"
         ],
         "xaxis": "x",
         "y": [
          3.9594861660079053,
          8,
          0
         ],
         "yaxis": "y"
        },
        {
         "alignmentgroup": "True",
         "bingroup": "x",
         "histfunc": "sum",
         "hovertemplate": "Instructor=محمد البشير عبدالكريم مناعي<br>Course=%{x}<br>sum of Score=%{y}<extra></extra>",
         "legendgroup": "محمد البشير عبدالكريم مناعي",
         "marker": {
          "color": "#FF97FF"
         },
         "name": "محمد البشير عبدالكريم مناعي",
         "offsetgroup": "محمد البشير عبدالكريم مناعي",
         "orientation": "v",
         "showlegend": true,
         "type": "histogram",
         "visible": "legendonly",
         "x": [
          "CSC 663"
         ],
         "xaxis": "x",
         "y": [
          6
         ],
         "yaxis": "y"
        },
        {
         "alignmentgroup": "True",
         "bingroup": "x",
         "histfunc": "sum",
         "hovertemplate": "Instructor=محمد انور حسين<br>Course=%{x}<br>sum of Score=%{y}<extra></extra>",
         "legendgroup": "محمد انور حسين",
         "marker": {
          "color": "#FECB52"
         },
         "name": "محمد انور حسين",
         "offsetgroup": "محمد انور حسين",
         "orientation": "v",
         "showlegend": true,
         "type": "histogram",
         "visible": "legendonly",
         "x": [
          "SWE 314",
          "SWE 496",
          "SWE 497",
          "SWE 543",
          "SWE 595",
          "SWE 609"
         ],
         "xaxis": "x",
         "y": [
          5.875,
          8,
          8,
          3.727272727272727,
          7,
          8
         ],
         "yaxis": "y"
        },
        {
         "alignmentgroup": "True",
         "bingroup": "x",
         "histfunc": "sum",
         "hovertemplate": "Instructor=محمد باسل عبدالقادر المكينزي<br>Course=%{x}<br>sum of Score=%{y}<extra></extra>",
         "legendgroup": "محمد باسل عبدالقادر المكينزي",
         "marker": {
          "color": "#636efa"
         },
         "name": "محمد باسل عبدالقادر المكينزي",
         "offsetgroup": "محمد باسل عبدالقادر المكينزي",
         "orientation": "v",
         "showlegend": true,
         "type": "histogram",
         "visible": "legendonly",
         "x": [
          "IS 466",
          "IS 468",
          "IS 499",
          "IS 597"
         ],
         "xaxis": "x",
         "y": [
          4,
          3.217391304347826,
          6.166666666666666,
          4
         ],
         "yaxis": "y"
        },
        {
         "alignmentgroup": "True",
         "bingroup": "x",
         "histfunc": "sum",
         "hovertemplate": "Instructor=محمد جاويد يوسف<br>Course=%{x}<br>sum of Score=%{y}<extra></extra>",
         "legendgroup": "محمد جاويد يوسف",
         "marker": {
          "color": "#EF553B"
         },
         "name": "محمد جاويد يوسف",
         "offsetgroup": "محمد جاويد يوسف",
         "orientation": "v",
         "showlegend": true,
         "type": "histogram",
         "visible": "legendonly",
         "x": [
          "CSC 111",
          "CSC 227"
         ],
         "xaxis": "x",
         "y": [
          3.4722222222222223,
          2.7563025210084033
         ],
         "yaxis": "y"
        },
        {
         "alignmentgroup": "True",
         "bingroup": "x",
         "histfunc": "sum",
         "hovertemplate": "Instructor=محمد جمعة فياض العنزي<br>Course=%{x}<br>sum of Score=%{y}<extra></extra>",
         "legendgroup": "محمد جمعة فياض العنزي",
         "marker": {
          "color": "#00cc96"
         },
         "name": "محمد جمعة فياض العنزي",
         "offsetgroup": "محمد جمعة فياض العنزي",
         "orientation": "v",
         "showlegend": true,
         "type": "histogram",
         "visible": "legendonly",
         "x": [
          "CEN 448",
          "CEN 596",
          "CEN 632"
         ],
         "xaxis": "x",
         "y": [
          5.076923076923077,
          0,
          3
         ],
         "yaxis": "y"
        },
        {
         "alignmentgroup": "True",
         "bingroup": "x",
         "histfunc": "sum",
         "hovertemplate": "Instructor=محمد حسين<br>Course=%{x}<br>sum of Score=%{y}<extra></extra>",
         "legendgroup": "محمد حسين",
         "marker": {
          "color": "#ab63fa"
         },
         "name": "محمد حسين",
         "offsetgroup": "محمد حسين",
         "orientation": "v",
         "showlegend": true,
         "type": "histogram",
         "visible": "legendonly",
         "x": [
          "CSC 700"
         ],
         "xaxis": "x",
         "y": [
          0
         ],
         "yaxis": "y"
        },
        {
         "alignmentgroup": "True",
         "bingroup": "x",
         "histfunc": "sum",
         "hovertemplate": "Instructor=محمد حمود سليمان المشيقح<br>Course=%{x}<br>sum of Score=%{y}<extra></extra>",
         "legendgroup": "محمد حمود سليمان المشيقح",
         "marker": {
          "color": "#FFA15A"
         },
         "name": "محمد حمود سليمان المشيقح",
         "offsetgroup": "محمد حمود سليمان المشيقح",
         "orientation": "v",
         "showlegend": true,
         "type": "histogram",
         "visible": "legendonly",
         "x": [
          "CSC 304",
          "CSC 429",
          "CSC 489"
         ],
         "xaxis": "x",
         "y": [
          6.052631578947368,
          4.875,
          6.5625
         ],
         "yaxis": "y"
        },
        {
         "alignmentgroup": "True",
         "bingroup": "x",
         "histfunc": "sum",
         "hovertemplate": "Instructor=محمد رشود محمد السلمي<br>Course=%{x}<br>sum of Score=%{y}<extra></extra>",
         "legendgroup": "محمد رشود محمد السلمي",
         "marker": {
          "color": "#19d3f3"
         },
         "name": "محمد رشود محمد السلمي",
         "offsetgroup": "محمد رشود محمد السلمي",
         "orientation": "v",
         "showlegend": true,
         "type": "histogram",
         "visible": "legendonly",
         "x": [
          "CSC 212",
          "CSC 497"
         ],
         "xaxis": "x",
         "y": [
          3.8799871299871302,
          8
         ],
         "yaxis": "y"
        },
        {
         "alignmentgroup": "True",
         "bingroup": "x",
         "histfunc": "sum",
         "hovertemplate": "Instructor=محمد زهير بديع حورانى<br>Course=%{x}<br>sum of Score=%{y}<extra></extra>",
         "legendgroup": "محمد زهير بديع حورانى",
         "marker": {
          "color": "#FF6692"
         },
         "name": "محمد زهير بديع حورانى",
         "offsetgroup": "محمد زهير بديع حورانى",
         "orientation": "v",
         "showlegend": true,
         "type": "histogram",
         "visible": "legendonly",
         "x": [
          "CEN 439"
         ],
         "xaxis": "x",
         "y": [
          0.9
         ],
         "yaxis": "y"
        },
        {
         "alignmentgroup": "True",
         "bingroup": "x",
         "histfunc": "sum",
         "hovertemplate": "Instructor=محمد سلمان عبدالعزيز الركيان<br>Course=%{x}<br>sum of Score=%{y}<extra></extra>",
         "legendgroup": "محمد سلمان عبدالعزيز الركيان",
         "marker": {
          "color": "#B6E880"
         },
         "name": "محمد سلمان عبدالعزيز الركيان",
         "offsetgroup": "محمد سلمان عبدالعزيز الركيان",
         "orientation": "v",
         "showlegend": true,
         "type": "histogram",
         "visible": "legendonly",
         "x": [
          "IS 324",
          "IS 498",
          "IS 595"
         ],
         "xaxis": "x",
         "y": [
          6.842293906810036,
          5,
          7
         ],
         "yaxis": "y"
        },
        {
         "alignmentgroup": "True",
         "bingroup": "x",
         "histfunc": "sum",
         "hovertemplate": "Instructor=محمد شاميم حسين<br>Course=%{x}<br>sum of Score=%{y}<extra></extra>",
         "legendgroup": "محمد شاميم حسين",
         "marker": {
          "color": "#FF97FF"
         },
         "name": "محمد شاميم حسين",
         "offsetgroup": "محمد شاميم حسين",
         "orientation": "v",
         "showlegend": true,
         "type": "histogram",
         "visible": "legendonly",
         "x": [
          "SWE 434",
          "SWE 496",
          "SWE 549"
         ],
         "xaxis": "x",
         "y": [
          5.477834302325581,
          7.714285714285714,
          4.111111111111111
         ],
         "yaxis": "y"
        },
        {
         "alignmentgroup": "True",
         "bingroup": "x",
         "histfunc": "sum",
         "hovertemplate": "Instructor=محمد شعيب رحيم الدين<br>Course=%{x}<br>sum of Score=%{y}<extra></extra>",
         "legendgroup": "محمد شعيب رحيم الدين",
         "marker": {
          "color": "#FECB52"
         },
         "name": "محمد شعيب رحيم الدين",
         "offsetgroup": "محمد شعيب رحيم الدين",
         "orientation": "v",
         "showlegend": true,
         "type": "histogram",
         "visible": "legendonly",
         "x": [
          "IS 201",
          "IS 498",
          "IS 592"
         ],
         "xaxis": "x",
         "y": [
          5.100279744732931,
          8,
          6.625
         ],
         "yaxis": "y"
        },
        {
         "alignmentgroup": "True",
         "bingroup": "x",
         "histfunc": "sum",
         "hovertemplate": "Instructor=محمد صبيح اكسواي<br>Course=%{x}<br>sum of Score=%{y}<extra></extra>",
         "legendgroup": "محمد صبيح اكسواي",
         "marker": {
          "color": "#636efa"
         },
         "name": "محمد صبيح اكسواي",
         "offsetgroup": "محمد صبيح اكسواي",
         "orientation": "v",
         "showlegend": true,
         "type": "histogram",
         "visible": "legendonly",
         "x": [
          "IS 482",
          "IS 597",
          "IS 700"
         ],
         "xaxis": "x",
         "y": [
          3.8125,
          7,
          0
         ],
         "yaxis": "y"
        },
        {
         "alignmentgroup": "True",
         "bingroup": "x",
         "histfunc": "sum",
         "hovertemplate": "Instructor=محمد عامر محمد عرفه<br>Course=%{x}<br>sum of Score=%{y}<extra></extra>",
         "legendgroup": "محمد عامر محمد عرفه",
         "marker": {
          "color": "#EF553B"
         },
         "name": "محمد عامر محمد عرفه",
         "offsetgroup": "محمد عامر محمد عرفه",
         "orientation": "v",
         "showlegend": true,
         "type": "histogram",
         "visible": "legendonly",
         "x": [
          "CEN 341"
         ],
         "xaxis": "x",
         "y": [
          4.25
         ],
         "yaxis": "y"
        },
        {
         "alignmentgroup": "True",
         "bingroup": "x",
         "histfunc": "sum",
         "hovertemplate": "Instructor=محمد عبدالرحمن محمد العبدالكريم<br>Course=%{x}<br>sum of Score=%{y}<extra></extra>",
         "legendgroup": "محمد عبدالرحمن محمد العبدالكريم",
         "marker": {
          "color": "#00cc96"
         },
         "name": "محمد عبدالرحمن محمد العبدالكريم",
         "offsetgroup": "محمد عبدالرحمن محمد العبدالكريم",
         "orientation": "v",
         "showlegend": true,
         "type": "histogram",
         "visible": "legendonly",
         "x": [
          "CSC 453",
          "CSC 496",
          "CSC 497",
          "CSC 999"
         ],
         "xaxis": "x",
         "y": [
          6.075231481481481,
          7,
          7.75,
          0
         ],
         "yaxis": "y"
        },
        {
         "alignmentgroup": "True",
         "bingroup": "x",
         "histfunc": "sum",
         "hovertemplate": "Instructor=محمد عبدالعزيز محمد الحسين<br>Course=%{x}<br>sum of Score=%{y}<extra></extra>",
         "legendgroup": "محمد عبدالعزيز محمد الحسين",
         "marker": {
          "color": "#ab63fa"
         },
         "name": "محمد عبدالعزيز محمد الحسين",
         "offsetgroup": "محمد عبدالعزيز محمد الحسين",
         "orientation": "v",
         "showlegend": true,
         "type": "histogram",
         "visible": "legendonly",
         "x": [
          "IS 498"
         ],
         "xaxis": "x",
         "y": [
          7.5
         ],
         "yaxis": "y"
        },
        {
         "alignmentgroup": "True",
         "bingroup": "x",
         "histfunc": "sum",
         "hovertemplate": "Instructor=محمد عبدالله الودود<br>Course=%{x}<br>sum of Score=%{y}<extra></extra>",
         "legendgroup": "محمد عبدالله الودود",
         "marker": {
          "color": "#FFA15A"
         },
         "name": "محمد عبدالله الودود",
         "offsetgroup": "محمد عبدالله الودود",
         "orientation": "v",
         "showlegend": true,
         "type": "histogram",
         "visible": "legendonly",
         "x": [
          "SWE 444",
          "SWE 482",
          "SWE 496",
          "SWE 497",
          "SWE 594",
          "SWE 602"
         ],
         "xaxis": "x",
         "y": [
          6.3125,
          6.071969696969697,
          8,
          8,
          0,
          7.666666666666667
         ],
         "yaxis": "y"
        },
        {
         "alignmentgroup": "True",
         "bingroup": "x",
         "histfunc": "sum",
         "hovertemplate": "Instructor=محمد عبدالله سعد العويد<br>Course=%{x}<br>sum of Score=%{y}<extra></extra>",
         "legendgroup": "محمد عبدالله سعد العويد",
         "marker": {
          "color": "#19d3f3"
         },
         "name": "محمد عبدالله سعد العويد",
         "offsetgroup": "محمد عبدالله سعد العويد",
         "orientation": "v",
         "showlegend": true,
         "type": "histogram",
         "visible": "legendonly",
         "x": [
          "SWE 211",
          "SWE 496"
         ],
         "xaxis": "x",
         "y": [
          3.0629629629629633,
          7.8
         ],
         "yaxis": "y"
        },
        {
         "alignmentgroup": "True",
         "bingroup": "x",
         "histfunc": "sum",
         "hovertemplate": "Instructor=محمد عبدالله محمد النعيم<br>Course=%{x}<br>sum of Score=%{y}<extra></extra>",
         "legendgroup": "محمد عبدالله محمد النعيم",
         "marker": {
          "color": "#FF6692"
         },
         "name": "محمد عبدالله محمد النعيم",
         "offsetgroup": "محمد عبدالله محمد النعيم",
         "orientation": "v",
         "showlegend": true,
         "type": "histogram",
         "visible": "legendonly",
         "x": [
          "IS 424",
          "IS 499",
          "IS 699",
          "IS 700"
         ],
         "xaxis": "x",
         "y": [
          3.4375,
          5.833333333333333,
          0,
          0
         ],
         "yaxis": "y"
        },
        {
         "alignmentgroup": "True",
         "bingroup": "x",
         "histfunc": "sum",
         "hovertemplate": "Instructor=محمد فهد معجب الحامد<br>Course=%{x}<br>sum of Score=%{y}<extra></extra>",
         "legendgroup": "محمد فهد معجب الحامد",
         "marker": {
          "color": "#B6E880"
         },
         "name": "محمد فهد معجب الحامد",
         "offsetgroup": "محمد فهد معجب الحامد",
         "orientation": "v",
         "showlegend": true,
         "type": "histogram",
         "visible": "legendonly",
         "x": [
          "SWE 497"
         ],
         "xaxis": "x",
         "y": [
          7.5
         ],
         "yaxis": "y"
        },
        {
         "alignmentgroup": "True",
         "bingroup": "x",
         "histfunc": "sum",
         "hovertemplate": "Instructor=محمد ماهر صح الدين اسماعيل<br>Course=%{x}<br>sum of Score=%{y}<extra></extra>",
         "legendgroup": "محمد ماهر صح الدين اسماعيل",
         "marker": {
          "color": "#FF97FF"
         },
         "name": "محمد ماهر صح الدين اسماعيل",
         "offsetgroup": "محمد ماهر صح الدين اسماعيل",
         "orientation": "v",
         "showlegend": true,
         "type": "histogram",
         "visible": "legendonly",
         "x": [
          "CSC 311",
          "CSC 496",
          "CSC 497",
          "CSC 699"
         ],
         "xaxis": "x",
         "y": [
          2.597689075630252,
          8,
          8,
          0
         ],
         "yaxis": "y"
        },
        {
         "alignmentgroup": "True",
         "bingroup": "x",
         "histfunc": "sum",
         "hovertemplate": "Instructor=محمد مهدي حسن<br>Course=%{x}<br>sum of Score=%{y}<extra></extra>",
         "legendgroup": "محمد مهدي حسن",
         "marker": {
          "color": "#FECB52"
         },
         "name": "محمد مهدي حسن",
         "offsetgroup": "محمد مهدي حسن",
         "orientation": "v",
         "showlegend": true,
         "type": "histogram",
         "visible": "legendonly",
         "x": [
          "IS 486",
          "IS 493",
          "IS 699",
          "IS 700"
         ],
         "xaxis": "x",
         "y": [
          5,
          4.246666666666667,
          0,
          0
         ],
         "yaxis": "y"
        },
        {
         "alignmentgroup": "True",
         "bingroup": "x",
         "histfunc": "sum",
         "hovertemplate": "Instructor=محمد وكيل احمد<br>Course=%{x}<br>sum of Score=%{y}<extra></extra>",
         "legendgroup": "محمد وكيل احمد",
         "marker": {
          "color": "#636efa"
         },
         "name": "محمد وكيل احمد",
         "offsetgroup": "محمد وكيل احمد",
         "orientation": "v",
         "showlegend": true,
         "type": "histogram",
         "visible": "legendonly",
         "x": [
          "CSC 220"
         ],
         "xaxis": "x",
         "y": [
          4.609756097560975
         ],
         "yaxis": "y"
        },
        {
         "alignmentgroup": "True",
         "bingroup": "x",
         "histfunc": "sum",
         "hovertemplate": "Instructor=محمدسيف اسم محمد نظام الدين<br>Course=%{x}<br>sum of Score=%{y}<extra></extra>",
         "legendgroup": "محمدسيف اسم محمد نظام الدين",
         "marker": {
          "color": "#EF553B"
         },
         "name": "محمدسيف اسم محمد نظام الدين",
         "offsetgroup": "محمدسيف اسم محمد نظام الدين",
         "orientation": "v",
         "showlegend": true,
         "type": "histogram",
         "visible": "legendonly",
         "x": [
          "CSC 220",
          "CSC 497",
          "CSC 563"
         ],
         "xaxis": "x",
         "y": [
          2.755555555555556,
          6.333333333333333,
          4
         ],
         "yaxis": "y"
        },
        {
         "alignmentgroup": "True",
         "bingroup": "x",
         "histfunc": "sum",
         "hovertemplate": "Instructor=مراد بن شيخ<br>Course=%{x}<br>sum of Score=%{y}<extra></extra>",
         "legendgroup": "مراد بن شيخ",
         "marker": {
          "color": "#00cc96"
         },
         "name": "مراد بن شيخ",
         "offsetgroup": "مراد بن شيخ",
         "orientation": "v",
         "showlegend": true,
         "type": "histogram",
         "visible": "legendonly",
         "x": [
          "IS 493"
         ],
         "xaxis": "x",
         "y": [
          5.176470588235294
         ],
         "yaxis": "y"
        },
        {
         "alignmentgroup": "True",
         "bingroup": "x",
         "histfunc": "sum",
         "hovertemplate": "Instructor=مراد مدني بوشناق<br>Course=%{x}<br>sum of Score=%{y}<extra></extra>",
         "legendgroup": "مراد مدني بوشناق",
         "marker": {
          "color": "#ab63fa"
         },
         "name": "مراد مدني بوشناق",
         "offsetgroup": "مراد مدني بوشناق",
         "orientation": "v",
         "showlegend": true,
         "type": "histogram",
         "visible": "legendonly",
         "x": [
          "CSC 111"
         ],
         "xaxis": "x",
         "y": [
          5.03132046416983
         ],
         "yaxis": "y"
        },
        {
         "alignmentgroup": "True",
         "bingroup": "x",
         "histfunc": "sum",
         "hovertemplate": "Instructor=مراد يخلف<br>Course=%{x}<br>sum of Score=%{y}<extra></extra>",
         "legendgroup": "مراد يخلف",
         "marker": {
          "color": "#FFA15A"
         },
         "name": "مراد يخلف",
         "offsetgroup": "مراد يخلف",
         "orientation": "v",
         "showlegend": true,
         "type": "histogram",
         "visible": "legendonly",
         "x": [
          "IS 498"
         ],
         "xaxis": "x",
         "y": [
          8
         ],
         "yaxis": "y"
        },
        {
         "alignmentgroup": "True",
         "bingroup": "x",
         "histfunc": "sum",
         "hovertemplate": "Instructor=مساعد عبدالعزيز ابراهيم الحسين<br>Course=%{x}<br>sum of Score=%{y}<extra></extra>",
         "legendgroup": "مساعد عبدالعزيز ابراهيم الحسين",
         "marker": {
          "color": "#19d3f3"
         },
         "name": "مساعد عبدالعزيز ابراهيم الحسين",
         "offsetgroup": "مساعد عبدالعزيز ابراهيم الحسين",
         "orientation": "v",
         "showlegend": true,
         "type": "histogram",
         "visible": "legendonly",
         "x": [
          "CEN 211",
          "CEN 316",
          "CEN 493"
         ],
         "xaxis": "x",
         "y": [
          1.5,
          2.4347826086956523,
          7.333333333333333
         ],
         "yaxis": "y"
        },
        {
         "alignmentgroup": "True",
         "bingroup": "x",
         "histfunc": "sum",
         "hovertemplate": "Instructor=مشعل ناصر سعد نصبان<br>Course=%{x}<br>sum of Score=%{y}<extra></extra>",
         "legendgroup": "مشعل ناصر سعد نصبان",
         "marker": {
          "color": "#FF6692"
         },
         "name": "مشعل ناصر سعد نصبان",
         "offsetgroup": "مشعل ناصر سعد نصبان",
         "orientation": "v",
         "showlegend": true,
         "type": "histogram",
         "visible": "legendonly",
         "x": [
          "IS 240"
         ],
         "xaxis": "x",
         "y": [
          4.173913043478261
         ],
         "yaxis": "y"
        },
        {
         "alignmentgroup": "True",
         "bingroup": "x",
         "histfunc": "sum",
         "hovertemplate": "Instructor=معاذ عبدالله بن سالم الخلف<br>Course=%{x}<br>sum of Score=%{y}<extra></extra>",
         "legendgroup": "معاذ عبدالله بن سالم الخلف",
         "marker": {
          "color": "#B6E880"
         },
         "name": "معاذ عبدالله بن سالم الخلف",
         "offsetgroup": "معاذ عبدالله بن سالم الخلف",
         "orientation": "v",
         "showlegend": true,
         "type": "histogram",
         "visible": "legendonly",
         "x": [
          "CSC 111",
          "CSC 541"
         ],
         "xaxis": "x",
         "y": [
          3.15015479876161,
          3
         ],
         "yaxis": "y"
        },
        {
         "alignmentgroup": "True",
         "bingroup": "x",
         "histfunc": "sum",
         "hovertemplate": "Instructor=منصور عبدالعزيز علي بن زعير<br>Course=%{x}<br>sum of Score=%{y}<extra></extra>",
         "legendgroup": "منصور عبدالعزيز علي بن زعير",
         "marker": {
          "color": "#FF97FF"
         },
         "name": "منصور عبدالعزيز علي بن زعير",
         "offsetgroup": "منصور عبدالعزيز علي بن زعير",
         "orientation": "v",
         "showlegend": true,
         "type": "histogram",
         "visible": "legendonly",
         "x": [
          "CEN 316",
          "CEN 493"
         ],
         "xaxis": "x",
         "y": [
          0.8260869565217391,
          8
         ],
         "yaxis": "y"
        },
        {
         "alignmentgroup": "True",
         "bingroup": "x",
         "histfunc": "sum",
         "hovertemplate": "Instructor=منصور محمد عقيل السليمان<br>Course=%{x}<br>sum of Score=%{y}<extra></extra>",
         "legendgroup": "منصور محمد عقيل السليمان",
         "marker": {
          "color": "#FECB52"
         },
         "name": "منصور محمد عقيل السليمان",
         "offsetgroup": "منصور محمد عقيل السليمان",
         "orientation": "v",
         "showlegend": true,
         "type": "histogram",
         "visible": "legendonly",
         "x": [
          "CEN 352",
          "CEN 492",
          "CEN 543",
          "CEN 600",
          "CEN 697"
         ],
         "xaxis": "x",
         "y": [
          4.181818181818182,
          7.666666666666667,
          3.5,
          0,
          8
         ],
         "yaxis": "y"
        },
        {
         "alignmentgroup": "True",
         "bingroup": "x",
         "histfunc": "sum",
         "hovertemplate": "Instructor=موداسار ايوب شيخ محمد<br>Course=%{x}<br>sum of Score=%{y}<extra></extra>",
         "legendgroup": "موداسار ايوب شيخ محمد",
         "marker": {
          "color": "#636efa"
         },
         "name": "موداسار ايوب شيخ محمد",
         "offsetgroup": "موداسار ايوب شيخ محمد",
         "orientation": "v",
         "showlegend": true,
         "type": "histogram",
         "visible": "legendonly",
         "x": [
          "CSC 113",
          "CSC 342"
         ],
         "xaxis": "x",
         "y": [
          3.0833333333333335,
          3.0384615384615383
         ],
         "yaxis": "y"
        },
        {
         "alignmentgroup": "True",
         "bingroup": "x",
         "histfunc": "sum",
         "hovertemplate": "Instructor=موسى عايض باخت الهجله<br>Course=%{x}<br>sum of Score=%{y}<extra></extra>",
         "legendgroup": "موسى عايض باخت الهجله",
         "marker": {
          "color": "#EF553B"
         },
         "name": "موسى عايض باخت الهجله",
         "offsetgroup": "موسى عايض باخت الهجله",
         "orientation": "v",
         "showlegend": true,
         "type": "histogram",
         "visible": "legendonly",
         "x": [
          "SWE 314"
         ],
         "xaxis": "x",
         "y": [
          4.742857142857143
         ],
         "yaxis": "y"
        },
        {
         "alignmentgroup": "True",
         "bingroup": "x",
         "histfunc": "sum",
         "hovertemplate": "Instructor=ناصر عبدالله صالح السدحان<br>Course=%{x}<br>sum of Score=%{y}<extra></extra>",
         "legendgroup": "ناصر عبدالله صالح السدحان",
         "marker": {
          "color": "#00cc96"
         },
         "name": "ناصر عبدالله صالح السدحان",
         "offsetgroup": "ناصر عبدالله صالح السدحان",
         "orientation": "v",
         "showlegend": true,
         "type": "histogram",
         "visible": "legendonly",
         "x": [
          "CSC 111",
          "CSC 212",
          "CSC 497"
         ],
         "xaxis": "x",
         "y": [
          4.063756063756064,
          3.8,
          7.75
         ],
         "yaxis": "y"
        },
        {
         "alignmentgroup": "True",
         "bingroup": "x",
         "histfunc": "sum",
         "hovertemplate": "Instructor=ناصرالدين عبدالله محمد ريكلى<br>Course=%{x}<br>sum of Score=%{y}<extra></extra>",
         "legendgroup": "ناصرالدين عبدالله محمد ريكلى",
         "marker": {
          "color": "#ab63fa"
         },
         "name": "ناصرالدين عبدالله محمد ريكلى",
         "offsetgroup": "ناصرالدين عبدالله محمد ريكلى",
         "orientation": "v",
         "showlegend": true,
         "type": "histogram",
         "visible": "legendonly",
         "x": [
          "CEN 492",
          "CEN 700"
         ],
         "xaxis": "x",
         "y": [
          6.666666666666667,
          0
         ],
         "yaxis": "y"
        },
        {
         "alignmentgroup": "True",
         "bingroup": "x",
         "histfunc": "sum",
         "hovertemplate": "Instructor=نايف عبدالرحمن عبدالله العجن<br>Course=%{x}<br>sum of Score=%{y}<extra></extra>",
         "legendgroup": "نايف عبدالرحمن عبدالله العجن",
         "marker": {
          "color": "#FFA15A"
         },
         "name": "نايف عبدالرحمن عبدالله العجن",
         "offsetgroup": "نايف عبدالرحمن عبدالله العجن",
         "orientation": "v",
         "showlegend": true,
         "type": "histogram",
         "visible": "legendonly",
         "x": [
          "CEN 647"
         ],
         "xaxis": "x",
         "y": [
          8
         ],
         "yaxis": "y"
        },
        {
         "alignmentgroup": "True",
         "bingroup": "x",
         "histfunc": "sum",
         "hovertemplate": "Instructor=نسيم فضيل عمور<br>Course=%{x}<br>sum of Score=%{y}<extra></extra>",
         "legendgroup": "نسيم فضيل عمور",
         "marker": {
          "color": "#19d3f3"
         },
         "name": "نسيم فضيل عمور",
         "offsetgroup": "نسيم فضيل عمور",
         "orientation": "v",
         "showlegend": true,
         "type": "histogram",
         "visible": "legendonly",
         "x": [
          "CEN 351",
          "CEN 453",
          "CEN 493"
         ],
         "xaxis": "x",
         "y": [
          2.3333333333333335,
          4.4,
          7.333333333333333
         ],
         "yaxis": "y"
        },
        {
         "alignmentgroup": "True",
         "bingroup": "x",
         "histfunc": "sum",
         "hovertemplate": "Instructor=نور الدين عباديني<br>Course=%{x}<br>sum of Score=%{y}<extra></extra>",
         "legendgroup": "نور الدين عباديني",
         "marker": {
          "color": "#FF6692"
         },
         "name": "نور الدين عباديني",
         "offsetgroup": "نور الدين عباديني",
         "orientation": "v",
         "showlegend": true,
         "type": "histogram",
         "visible": "legendonly",
         "x": [
          "SWE 497",
          "SWE 540",
          "SWE 594",
          "SWE 600",
          "SWE 601"
         ],
         "xaxis": "x",
         "y": [
          5,
          5.4,
          0,
          0,
          7.666666666666667
         ],
         "yaxis": "y"
        },
        {
         "alignmentgroup": "True",
         "bingroup": "x",
         "histfunc": "sum",
         "hovertemplate": "Instructor=هشام احمد طلبه محمد<br>Course=%{x}<br>sum of Score=%{y}<extra></extra>",
         "legendgroup": "هشام احمد طلبه محمد",
         "marker": {
          "color": "#B6E880"
         },
         "name": "هشام احمد طلبه محمد",
         "offsetgroup": "هشام احمد طلبه محمد",
         "orientation": "v",
         "showlegend": true,
         "type": "histogram",
         "visible": "legendonly",
         "x": [
          "CEN 456"
         ],
         "xaxis": "x",
         "y": [
          3.166666666666667
         ],
         "yaxis": "y"
        },
        {
         "alignmentgroup": "True",
         "bingroup": "x",
         "histfunc": "sum",
         "hovertemplate": "Instructor=هيكل هيشري<br>Course=%{x}<br>sum of Score=%{y}<extra></extra>",
         "legendgroup": "هيكل هيشري",
         "marker": {
          "color": "#FF97FF"
         },
         "name": "هيكل هيشري",
         "offsetgroup": "هيكل هيشري",
         "orientation": "v",
         "showlegend": true,
         "type": "histogram",
         "visible": "legendonly",
         "x": [
          "CEN 211",
          "CEN 492",
          "CEN 696"
         ],
         "xaxis": "x",
         "y": [
          3.6956521739130435,
          7.666666666666667,
          8
         ],
         "yaxis": "y"
        },
        {
         "alignmentgroup": "True",
         "bingroup": "x",
         "histfunc": "sum",
         "hovertemplate": "Instructor=وسام عاطف خالد حتامله<br>Course=%{x}<br>sum of Score=%{y}<extra></extra>",
         "legendgroup": "وسام عاطف خالد حتامله",
         "marker": {
          "color": "#FECB52"
         },
         "name": "وسام عاطف خالد حتامله",
         "offsetgroup": "وسام عاطف خالد حتامله",
         "orientation": "v",
         "showlegend": true,
         "type": "histogram",
         "visible": "legendonly",
         "x": [
          "CSC 111"
         ],
         "xaxis": "x",
         "y": [
          2.553361053361053
         ],
         "yaxis": "y"
        },
        {
         "alignmentgroup": "True",
         "bingroup": "x",
         "histfunc": "sum",
         "hovertemplate": "Instructor=وليد خالد مقبل الغانم<br>Course=%{x}<br>sum of Score=%{y}<extra></extra>",
         "legendgroup": "وليد خالد مقبل الغانم",
         "marker": {
          "color": "#636efa"
         },
         "name": "وليد خالد مقبل الغانم",
         "offsetgroup": "وليد خالد مقبل الغانم",
         "orientation": "v",
         "showlegend": true,
         "type": "histogram",
         "visible": "legendonly",
         "x": [
          "CEN 303",
          "CEN 492"
         ],
         "xaxis": "x",
         "y": [
          4.293181818181818,
          8
         ],
         "yaxis": "y"
        },
        {
         "alignmentgroup": "True",
         "bingroup": "x",
         "histfunc": "sum",
         "hovertemplate": "Instructor=وليد محمد صالح الصالح<br>Course=%{x}<br>sum of Score=%{y}<extra></extra>",
         "legendgroup": "وليد محمد صالح الصالح",
         "marker": {
          "color": "#EF553B"
         },
         "name": "وليد محمد صالح الصالح",
         "offsetgroup": "وليد محمد صالح الصالح",
         "orientation": "v",
         "showlegend": true,
         "type": "histogram",
         "visible": "legendonly",
         "x": [
          "CSC 311",
          "CSC 496"
         ],
         "xaxis": "x",
         "y": [
          3,
          8
         ],
         "yaxis": "y"
        },
        {
         "alignmentgroup": "True",
         "bingroup": "x",
         "histfunc": "sum",
         "hovertemplate": "Instructor=يزيد ابراهيم عبدالعزيز العبدالكريم<br>Course=%{x}<br>sum of Score=%{y}<extra></extra>",
         "legendgroup": "يزيد ابراهيم عبدالعزيز العبدالكريم",
         "marker": {
          "color": "#00cc96"
         },
         "name": "يزيد ابراهيم عبدالعزيز العبدالكريم",
         "offsetgroup": "يزيد ابراهيم عبدالعزيز العبدالكريم",
         "orientation": "v",
         "showlegend": true,
         "type": "histogram",
         "visible": "legendonly",
         "x": [
          "IS 335",
          "IS 499",
          "IS 597"
         ],
         "xaxis": "x",
         "y": [
          4.080141476880607,
          8,
          7
         ],
         "yaxis": "y"
        },
        {
         "alignmentgroup": "True",
         "bingroup": "x",
         "histfunc": "sum",
         "hovertemplate": "Instructor=يعقوب محمد بعزي<br>Course=%{x}<br>sum of Score=%{y}<extra></extra>",
         "legendgroup": "يعقوب محمد بعزي",
         "marker": {
          "color": "#ab63fa"
         },
         "name": "يعقوب محمد بعزي",
         "offsetgroup": "يعقوب محمد بعزي",
         "orientation": "v",
         "showlegend": true,
         "type": "histogram",
         "visible": "legendonly",
         "x": [
          "CEN 455",
          "CEN 458"
         ],
         "xaxis": "x",
         "y": [
          3.5714285714285716,
          5.117647058823529
         ],
         "yaxis": "y"
        },
        {
         "alignmentgroup": "True",
         "bingroup": "x",
         "histfunc": "sum",
         "hovertemplate": "Instructor=يوسف احمد محمد العوهلى<br>Course=%{x}<br>sum of Score=%{y}<extra></extra>",
         "legendgroup": "يوسف احمد محمد العوهلى",
         "marker": {
          "color": "#FFA15A"
         },
         "name": "يوسف احمد محمد العوهلى",
         "offsetgroup": "يوسف احمد محمد العوهلى",
         "orientation": "v",
         "showlegend": true,
         "type": "histogram",
         "visible": true,
         "x": [
          "CSC 281",
          "CSC 361"
         ],
         "xaxis": "x",
         "y": [
          4.090909090909091,
          1.5806451612903225
         ],
         "yaxis": "y"
        }
       ],
       "layout": {
        "autosize": true,
        "barmode": "relative",
        "legend": {
         "orientation": "h",
         "title": {
          "text": "Instructor"
         },
         "tracegroupgap": 0,
         "x": -0.01,
         "y": -0.2
        },
        "margin": {
         "t": 60
        },
        "template": {
         "data": {
          "bar": [
           {
            "error_x": {
             "color": "#f2f5fa"
            },
            "error_y": {
             "color": "#f2f5fa"
            },
            "marker": {
             "line": {
              "color": "rgb(17,17,17)",
              "width": 0.5
             }
            },
            "type": "bar"
           }
          ],
          "barpolar": [
           {
            "marker": {
             "line": {
              "color": "rgb(17,17,17)",
              "width": 0.5
             }
            },
            "type": "barpolar"
           }
          ],
          "carpet": [
           {
            "aaxis": {
             "endlinecolor": "#A2B1C6",
             "gridcolor": "#506784",
             "linecolor": "#506784",
             "minorgridcolor": "#506784",
             "startlinecolor": "#A2B1C6"
            },
            "baxis": {
             "endlinecolor": "#A2B1C6",
             "gridcolor": "#506784",
             "linecolor": "#506784",
             "minorgridcolor": "#506784",
             "startlinecolor": "#A2B1C6"
            },
            "type": "carpet"
           }
          ],
          "choropleth": [
           {
            "colorbar": {
             "outlinewidth": 0,
             "ticks": ""
            },
            "type": "choropleth"
           }
          ],
          "contour": [
           {
            "colorbar": {
             "outlinewidth": 0,
             "ticks": ""
            },
            "colorscale": [
             [
              0,
              "#0d0887"
             ],
             [
              0.1111111111111111,
              "#46039f"
             ],
             [
              0.2222222222222222,
              "#7201a8"
             ],
             [
              0.3333333333333333,
              "#9c179e"
             ],
             [
              0.4444444444444444,
              "#bd3786"
             ],
             [
              0.5555555555555556,
              "#d8576b"
             ],
             [
              0.6666666666666666,
              "#ed7953"
             ],
             [
              0.7777777777777778,
              "#fb9f3a"
             ],
             [
              0.8888888888888888,
              "#fdca26"
             ],
             [
              1,
              "#f0f921"
             ]
            ],
            "type": "contour"
           }
          ],
          "contourcarpet": [
           {
            "colorbar": {
             "outlinewidth": 0,
             "ticks": ""
            },
            "type": "contourcarpet"
           }
          ],
          "heatmap": [
           {
            "colorbar": {
             "outlinewidth": 0,
             "ticks": ""
            },
            "colorscale": [
             [
              0,
              "#0d0887"
             ],
             [
              0.1111111111111111,
              "#46039f"
             ],
             [
              0.2222222222222222,
              "#7201a8"
             ],
             [
              0.3333333333333333,
              "#9c179e"
             ],
             [
              0.4444444444444444,
              "#bd3786"
             ],
             [
              0.5555555555555556,
              "#d8576b"
             ],
             [
              0.6666666666666666,
              "#ed7953"
             ],
             [
              0.7777777777777778,
              "#fb9f3a"
             ],
             [
              0.8888888888888888,
              "#fdca26"
             ],
             [
              1,
              "#f0f921"
             ]
            ],
            "type": "heatmap"
           }
          ],
          "heatmapgl": [
           {
            "colorbar": {
             "outlinewidth": 0,
             "ticks": ""
            },
            "colorscale": [
             [
              0,
              "#0d0887"
             ],
             [
              0.1111111111111111,
              "#46039f"
             ],
             [
              0.2222222222222222,
              "#7201a8"
             ],
             [
              0.3333333333333333,
              "#9c179e"
             ],
             [
              0.4444444444444444,
              "#bd3786"
             ],
             [
              0.5555555555555556,
              "#d8576b"
             ],
             [
              0.6666666666666666,
              "#ed7953"
             ],
             [
              0.7777777777777778,
              "#fb9f3a"
             ],
             [
              0.8888888888888888,
              "#fdca26"
             ],
             [
              1,
              "#f0f921"
             ]
            ],
            "type": "heatmapgl"
           }
          ],
          "histogram": [
           {
            "marker": {
             "colorbar": {
              "outlinewidth": 0,
              "ticks": ""
             }
            },
            "type": "histogram"
           }
          ],
          "histogram2d": [
           {
            "colorbar": {
             "outlinewidth": 0,
             "ticks": ""
            },
            "colorscale": [
             [
              0,
              "#0d0887"
             ],
             [
              0.1111111111111111,
              "#46039f"
             ],
             [
              0.2222222222222222,
              "#7201a8"
             ],
             [
              0.3333333333333333,
              "#9c179e"
             ],
             [
              0.4444444444444444,
              "#bd3786"
             ],
             [
              0.5555555555555556,
              "#d8576b"
             ],
             [
              0.6666666666666666,
              "#ed7953"
             ],
             [
              0.7777777777777778,
              "#fb9f3a"
             ],
             [
              0.8888888888888888,
              "#fdca26"
             ],
             [
              1,
              "#f0f921"
             ]
            ],
            "type": "histogram2d"
           }
          ],
          "histogram2dcontour": [
           {
            "colorbar": {
             "outlinewidth": 0,
             "ticks": ""
            },
            "colorscale": [
             [
              0,
              "#0d0887"
             ],
             [
              0.1111111111111111,
              "#46039f"
             ],
             [
              0.2222222222222222,
              "#7201a8"
             ],
             [
              0.3333333333333333,
              "#9c179e"
             ],
             [
              0.4444444444444444,
              "#bd3786"
             ],
             [
              0.5555555555555556,
              "#d8576b"
             ],
             [
              0.6666666666666666,
              "#ed7953"
             ],
             [
              0.7777777777777778,
              "#fb9f3a"
             ],
             [
              0.8888888888888888,
              "#fdca26"
             ],
             [
              1,
              "#f0f921"
             ]
            ],
            "type": "histogram2dcontour"
           }
          ],
          "mesh3d": [
           {
            "colorbar": {
             "outlinewidth": 0,
             "ticks": ""
            },
            "type": "mesh3d"
           }
          ],
          "parcoords": [
           {
            "line": {
             "colorbar": {
              "outlinewidth": 0,
              "ticks": ""
             }
            },
            "type": "parcoords"
           }
          ],
          "pie": [
           {
            "automargin": true,
            "type": "pie"
           }
          ],
          "scatter": [
           {
            "marker": {
             "line": {
              "color": "#283442"
             }
            },
            "type": "scatter"
           }
          ],
          "scatter3d": [
           {
            "line": {
             "colorbar": {
              "outlinewidth": 0,
              "ticks": ""
             }
            },
            "marker": {
             "colorbar": {
              "outlinewidth": 0,
              "ticks": ""
             }
            },
            "type": "scatter3d"
           }
          ],
          "scattercarpet": [
           {
            "marker": {
             "colorbar": {
              "outlinewidth": 0,
              "ticks": ""
             }
            },
            "type": "scattercarpet"
           }
          ],
          "scattergeo": [
           {
            "marker": {
             "colorbar": {
              "outlinewidth": 0,
              "ticks": ""
             }
            },
            "type": "scattergeo"
           }
          ],
          "scattergl": [
           {
            "marker": {
             "line": {
              "color": "#283442"
             }
            },
            "type": "scattergl"
           }
          ],
          "scattermapbox": [
           {
            "marker": {
             "colorbar": {
              "outlinewidth": 0,
              "ticks": ""
             }
            },
            "type": "scattermapbox"
           }
          ],
          "scatterpolar": [
           {
            "marker": {
             "colorbar": {
              "outlinewidth": 0,
              "ticks": ""
             }
            },
            "type": "scatterpolar"
           }
          ],
          "scatterpolargl": [
           {
            "marker": {
             "colorbar": {
              "outlinewidth": 0,
              "ticks": ""
             }
            },
            "type": "scatterpolargl"
           }
          ],
          "scatterternary": [
           {
            "marker": {
             "colorbar": {
              "outlinewidth": 0,
              "ticks": ""
             }
            },
            "type": "scatterternary"
           }
          ],
          "surface": [
           {
            "colorbar": {
             "outlinewidth": 0,
             "ticks": ""
            },
            "colorscale": [
             [
              0,
              "#0d0887"
             ],
             [
              0.1111111111111111,
              "#46039f"
             ],
             [
              0.2222222222222222,
              "#7201a8"
             ],
             [
              0.3333333333333333,
              "#9c179e"
             ],
             [
              0.4444444444444444,
              "#bd3786"
             ],
             [
              0.5555555555555556,
              "#d8576b"
             ],
             [
              0.6666666666666666,
              "#ed7953"
             ],
             [
              0.7777777777777778,
              "#fb9f3a"
             ],
             [
              0.8888888888888888,
              "#fdca26"
             ],
             [
              1,
              "#f0f921"
             ]
            ],
            "type": "surface"
           }
          ],
          "table": [
           {
            "cells": {
             "fill": {
              "color": "#506784"
             },
             "line": {
              "color": "rgb(17,17,17)"
             }
            },
            "header": {
             "fill": {
              "color": "#2a3f5f"
             },
             "line": {
              "color": "rgb(17,17,17)"
             }
            },
            "type": "table"
           }
          ]
         },
         "layout": {
          "annotationdefaults": {
           "arrowcolor": "#f2f5fa",
           "arrowhead": 0,
           "arrowwidth": 1
          },
          "autotypenumbers": "strict",
          "coloraxis": {
           "colorbar": {
            "outlinewidth": 0,
            "ticks": ""
           }
          },
          "colorscale": {
           "diverging": [
            [
             0,
             "#8e0152"
            ],
            [
             0.1,
             "#c51b7d"
            ],
            [
             0.2,
             "#de77ae"
            ],
            [
             0.3,
             "#f1b6da"
            ],
            [
             0.4,
             "#fde0ef"
            ],
            [
             0.5,
             "#f7f7f7"
            ],
            [
             0.6,
             "#e6f5d0"
            ],
            [
             0.7,
             "#b8e186"
            ],
            [
             0.8,
             "#7fbc41"
            ],
            [
             0.9,
             "#4d9221"
            ],
            [
             1,
             "#276419"
            ]
           ],
           "sequential": [
            [
             0,
             "#0d0887"
            ],
            [
             0.1111111111111111,
             "#46039f"
            ],
            [
             0.2222222222222222,
             "#7201a8"
            ],
            [
             0.3333333333333333,
             "#9c179e"
            ],
            [
             0.4444444444444444,
             "#bd3786"
            ],
            [
             0.5555555555555556,
             "#d8576b"
            ],
            [
             0.6666666666666666,
             "#ed7953"
            ],
            [
             0.7777777777777778,
             "#fb9f3a"
            ],
            [
             0.8888888888888888,
             "#fdca26"
            ],
            [
             1,
             "#f0f921"
            ]
           ],
           "sequentialminus": [
            [
             0,
             "#0d0887"
            ],
            [
             0.1111111111111111,
             "#46039f"
            ],
            [
             0.2222222222222222,
             "#7201a8"
            ],
            [
             0.3333333333333333,
             "#9c179e"
            ],
            [
             0.4444444444444444,
             "#bd3786"
            ],
            [
             0.5555555555555556,
             "#d8576b"
            ],
            [
             0.6666666666666666,
             "#ed7953"
            ],
            [
             0.7777777777777778,
             "#fb9f3a"
            ],
            [
             0.8888888888888888,
             "#fdca26"
            ],
            [
             1,
             "#f0f921"
            ]
           ]
          },
          "colorway": [
           "#636efa",
           "#EF553B",
           "#00cc96",
           "#ab63fa",
           "#FFA15A",
           "#19d3f3",
           "#FF6692",
           "#B6E880",
           "#FF97FF",
           "#FECB52"
          ],
          "font": {
           "color": "#f2f5fa"
          },
          "geo": {
           "bgcolor": "rgb(17,17,17)",
           "lakecolor": "rgb(17,17,17)",
           "landcolor": "rgb(17,17,17)",
           "showlakes": true,
           "showland": true,
           "subunitcolor": "#506784"
          },
          "hoverlabel": {
           "align": "left"
          },
          "hovermode": "closest",
          "mapbox": {
           "style": "dark"
          },
          "paper_bgcolor": "rgb(17,17,17)",
          "plot_bgcolor": "rgb(17,17,17)",
          "polar": {
           "angularaxis": {
            "gridcolor": "#506784",
            "linecolor": "#506784",
            "ticks": ""
           },
           "bgcolor": "rgb(17,17,17)",
           "radialaxis": {
            "gridcolor": "#506784",
            "linecolor": "#506784",
            "ticks": ""
           }
          },
          "scene": {
           "xaxis": {
            "backgroundcolor": "rgb(17,17,17)",
            "gridcolor": "#506784",
            "gridwidth": 2,
            "linecolor": "#506784",
            "showbackground": true,
            "ticks": "",
            "zerolinecolor": "#C8D4E3"
           },
           "yaxis": {
            "backgroundcolor": "rgb(17,17,17)",
            "gridcolor": "#506784",
            "gridwidth": 2,
            "linecolor": "#506784",
            "showbackground": true,
            "ticks": "",
            "zerolinecolor": "#C8D4E3"
           },
           "zaxis": {
            "backgroundcolor": "rgb(17,17,17)",
            "gridcolor": "#506784",
            "gridwidth": 2,
            "linecolor": "#506784",
            "showbackground": true,
            "ticks": "",
            "zerolinecolor": "#C8D4E3"
           }
          },
          "shapedefaults": {
           "line": {
            "color": "#f2f5fa"
           }
          },
          "sliderdefaults": {
           "bgcolor": "#C8D4E3",
           "bordercolor": "rgb(17,17,17)",
           "borderwidth": 1,
           "tickwidth": 0
          },
          "ternary": {
           "aaxis": {
            "gridcolor": "#506784",
            "linecolor": "#506784",
            "ticks": ""
           },
           "baxis": {
            "gridcolor": "#506784",
            "linecolor": "#506784",
            "ticks": ""
           },
           "bgcolor": "rgb(17,17,17)",
           "caxis": {
            "gridcolor": "#506784",
            "linecolor": "#506784",
            "ticks": ""
           }
          },
          "title": {
           "x": 0.05
          },
          "updatemenudefaults": {
           "bgcolor": "#506784",
           "borderwidth": 0
          },
          "xaxis": {
           "automargin": true,
           "gridcolor": "#283442",
           "linecolor": "#506784",
           "ticks": "",
           "title": {
            "standoff": 15
           },
           "zerolinecolor": "#283442",
           "zerolinewidth": 2
          },
          "yaxis": {
           "automargin": true,
           "gridcolor": "#283442",
           "linecolor": "#506784",
           "ticks": "",
           "title": {
            "standoff": 15
           },
           "zerolinecolor": "#283442",
           "zerolinewidth": 2
          }
         }
        },
        "xaxis": {
         "anchor": "y",
         "autorange": true,
         "domain": [
          0,
          1
         ],
         "range": [
          50.5,
          93.5
         ],
         "title": {
          "text": "Course"
         },
         "type": "category"
        },
        "yaxis": {
         "anchor": "x",
         "autorange": true,
         "domain": [
          0,
          1
         ],
         "range": [
          0,
          4.30622009569378
         ],
         "title": {
          "text": "Score"
         },
         "type": "linear"
        }
       }
      },
      "image/png": "[encoded data removed]",
      "text/html": [
       "<div>                            <div id=\"02fea74c-2419-40ff-93d3-bbf18be254cd\" class=\"plotly-graph-div\" style=\"height:525px; width:100%;\"></div>            <script type=\"text/javascript\">                require([\"plotly\"], function(Plotly) {                    window.PLOTLYENV=window.PLOTLYENV || {};                                    if (document.getElementById(\"02fea74c-2419-40ff-93d3-bbf18be254cd\")) {                    Plotly.newPlot(                        \"02fea74c-2419-40ff-93d3-bbf18be254cd\",                        [{\"alignmentgroup\": \"True\", \"bingroup\": \"x\", \"histfunc\": \"sum\", \"hovertemplate\": \"Instructor=\\u0623\\u062d\\u0645\\u062f \\u0632\\u0627\\u064a\\u062f \\u0645\\u062d\\u0645\\u062f \\u0623\\u0645\\u0627\\u0645<br>Course=%{x}<br>sum of Score=%{y}<extra></extra>\", \"legendgroup\": \"\\u0623\\u062d\\u0645\\u062f \\u0632\\u0627\\u064a\\u062f \\u0645\\u062d\\u0645\\u062f \\u0623\\u0645\\u0627\\u0645\", \"marker\": {\"color\": \"#636efa\"}, \"name\": \"\\u0623\\u062d\\u0645\\u062f \\u0632\\u0627\\u064a\\u062f \\u0645\\u062d\\u0645\\u062f \\u0623\\u0645\\u0627\\u0645\", \"offsetgroup\": \"\\u0623\\u062d\\u0645\\u062f \\u0632\\u0627\\u064a\\u062f \\u0645\\u062d\\u0645\\u062f \\u0623\\u0645\\u0627\\u0645\", \"orientation\": \"v\", \"showlegend\": true, \"type\": \"histogram\", \"x\": [\"IS 230\"], \"xaxis\": \"x\", \"y\": [3.108717948717949], \"yaxis\": \"y\"}, {\"alignmentgroup\": \"True\", \"bingroup\": \"x\", \"histfunc\": \"sum\", \"hovertemplate\": \"Instructor=\\u0623\\u0634\\u0631\\u0641 \\u0627\\u0644\\u0637\\u064a\\u0628 \\u0627\\u0644\\u0642\\u0632\\u062f\\u0627\\u0631<br>Course=%{x}<br>sum of Score=%{y}<extra></extra>\", \"legendgroup\": \"\\u0623\\u0634\\u0631\\u0641 \\u0627\\u0644\\u0637\\u064a\\u0628 \\u0627\\u0644\\u0642\\u0632\\u062f\\u0627\\u0631\", \"marker\": {\"color\": \"#EF553B\"}, \"name\": \"\\u0623\\u0634\\u0631\\u0641 \\u0627\\u0644\\u0637\\u064a\\u0628 \\u0627\\u0644\\u0642\\u0632\\u062f\\u0627\\u0631\", \"offsetgroup\": \"\\u0623\\u0634\\u0631\\u0641 \\u0627\\u0644\\u0637\\u064a\\u0628 \\u0627\\u0644\\u0642\\u0632\\u062f\\u0627\\u0631\", \"orientation\": \"v\", \"showlegend\": true, \"type\": \"histogram\", \"x\": [\"SWE 381\", \"SWE 483\", \"SWE 496\", \"SWE 497\", \"SWE 594\", \"SWE 600\"], \"xaxis\": \"x\", \"y\": [4.06695652173913, 3.1956521739130435, 8.0, 5.0, 0.0, 0.0], \"yaxis\": \"y\"}, {\"alignmentgroup\": \"True\", \"bingroup\": \"x\", \"histfunc\": \"sum\", \"hovertemplate\": \"Instructor=\\u0627\\u062d\\u0645\\u062f \\u0627\\u0628\\u0631\\u0627\\u0647\\u064a\\u0645 \\u0641\\u0647\\u062f \\u0627\\u0644\\u062d\\u0645\\u0627\\u062f<br>Course=%{x}<br>sum of Score=%{y}<extra></extra>\", \"legendgroup\": \"\\u0627\\u062d\\u0645\\u062f \\u0627\\u0628\\u0631\\u0627\\u0647\\u064a\\u0645 \\u0641\\u0647\\u062f \\u0627\\u0644\\u062d\\u0645\\u0627\\u062f\", \"marker\": {\"color\": \"#00cc96\"}, \"name\": \"\\u0627\\u062d\\u0645\\u062f \\u0627\\u0628\\u0631\\u0627\\u0647\\u064a\\u0645 \\u0641\\u0647\\u062f \\u0627\\u0644\\u062d\\u0645\\u0627\\u062f\", \"offsetgroup\": \"\\u0627\\u062d\\u0645\\u062f \\u0627\\u0628\\u0631\\u0627\\u0647\\u064a\\u0645 \\u0641\\u0647\\u062f \\u0627\\u0644\\u062d\\u0645\\u0627\\u062f\", \"orientation\": \"v\", \"showlegend\": true, \"type\": \"histogram\", \"x\": [\"CEN 490\", \"CEN 493\", \"CEN 521\", \"CEN 599\"], \"xaxis\": \"x\", \"y\": [3.888888888888889, 8.0, 4.0, 8.0], \"yaxis\": \"y\"}, {\"alignmentgroup\": \"True\", \"bingroup\": \"x\", \"histfunc\": \"sum\", \"hovertemplate\": \"Instructor=\\u0627\\u062d\\u0645\\u062f \\u0627\\u0644\\u0633\\u064a\\u062f \\u0627\\u0644\\u0628\\u062f\\u0648\\u0649 \\u064a\\u0648\\u0633\\u0641<br>Course=%{x}<br>sum of Score=%{y}<extra></extra>\", \"legendgroup\": \"\\u0627\\u062d\\u0645\\u062f \\u0627\\u0644\\u0633\\u064a\\u062f \\u0627\\u0644\\u0628\\u062f\\u0648\\u0649 \\u064a\\u0648\\u0633\\u0641\", \"marker\": {\"color\": \"#ab63fa\"}, \"name\": \"\\u0627\\u062d\\u0645\\u062f \\u0627\\u0644\\u0633\\u064a\\u062f \\u0627\\u0644\\u0628\\u062f\\u0648\\u0649 \\u064a\\u0648\\u0633\\u0641\", \"offsetgroup\": \"\\u0627\\u062d\\u0645\\u062f \\u0627\\u0644\\u0633\\u064a\\u062f \\u0627\\u0644\\u0628\\u062f\\u0648\\u0649 \\u064a\\u0648\\u0633\\u0641\", \"orientation\": \"v\", \"showlegend\": true, \"type\": \"histogram\", \"x\": [\"IS 370\", \"IS 498\", \"IS 537\"], \"xaxis\": \"x\", \"y\": [5.150793650793651, 8.0, 2.0], \"yaxis\": \"y\"}, {\"alignmentgroup\": \"True\", \"bingroup\": \"x\", \"histfunc\": \"sum\", \"hovertemplate\": \"Instructor=\\u0627\\u062d\\u0645\\u062f \\u062c\\u0639\\u0641\\u0631 \\u0627\\u0644\\u0641\\u0646\\u0648\\u0634 \\u0627\\u0644\\u0634\\u0628\\u0644\\u064a<br>Course=%{x}<br>sum of Score=%{y}<extra></extra>\", \"legendgroup\": \"\\u0627\\u062d\\u0645\\u062f \\u062c\\u0639\\u0641\\u0631 \\u0627\\u0644\\u0641\\u0646\\u0648\\u0634 \\u0627\\u0644\\u0634\\u0628\\u0644\\u064a\", \"marker\": {\"color\": \"#FFA15A\"}, \"name\": \"\\u0627\\u062d\\u0645\\u062f \\u062c\\u0639\\u0641\\u0631 \\u0627\\u0644\\u0641\\u0646\\u0648\\u0634 \\u0627\\u0644\\u0634\\u0628\\u0644\\u064a\", \"offsetgroup\": \"\\u0627\\u062d\\u0645\\u062f \\u062c\\u0639\\u0641\\u0631 \\u0627\\u0644\\u0641\\u0646\\u0648\\u0634 \\u0627\\u0644\\u0634\\u0628\\u0644\\u064a\", \"orientation\": \"v\", \"showlegend\": true, \"type\": \"histogram\", \"x\": [\"CSC 215\", \"CSC 227\"], \"xaxis\": \"x\", \"y\": [2.5286391042205, 2.7333333333333334], \"yaxis\": \"y\"}, {\"alignmentgroup\": \"True\", \"bingroup\": \"x\", \"histfunc\": \"sum\", \"hovertemplate\": \"Instructor=\\u0627\\u062d\\u0645\\u062f \\u0633\\u0639\\u062f \\u062d\\u0645\\u062f \\u0627\\u0644\\u0645\\u0642\\u0631\\u0646<br>Course=%{x}<br>sum of Score=%{y}<extra></extra>\", \"legendgroup\": \"\\u0627\\u062d\\u0645\\u062f \\u0633\\u0639\\u062f \\u062d\\u0645\\u062f \\u0627\\u0644\\u0645\\u0642\\u0631\\u0646\", \"marker\": {\"color\": \"#19d3f3\"}, \"name\": \"\\u0627\\u062d\\u0645\\u062f \\u0633\\u0639\\u062f \\u062d\\u0645\\u062f \\u0627\\u0644\\u0645\\u0642\\u0631\\u0646\", \"offsetgroup\": \"\\u0627\\u062d\\u0645\\u062f \\u0633\\u0639\\u062f \\u062d\\u0645\\u062f \\u0627\\u0644\\u0645\\u0642\\u0631\\u0646\", \"orientation\": \"v\", \"showlegend\": true, \"type\": \"histogram\", \"x\": [\"CSC 699\", \"CSC 700\"], \"xaxis\": \"x\", \"y\": [0.0, 0.0], \"yaxis\": \"y\"}, {\"alignmentgroup\": \"True\", \"bingroup\": \"x\", \"histfunc\": \"sum\", \"hovertemplate\": \"Instructor=\\u0627\\u062d\\u0645\\u062f \\u0639\\u0628\\u062f\\u0627\\u0644\\u0643\\u0631\\u064a\\u0645 \\u0639\\u0628\\u062f\\u0627\\u0644\\u0645\\u062d\\u0633\\u0646 \\u0627\\u0644\\u062a\\u0631\\u0643\\u0649<br>Course=%{x}<br>sum of Score=%{y}<extra></extra>\", \"legendgroup\": \"\\u0627\\u062d\\u0645\\u062f \\u0639\\u0628\\u062f\\u0627\\u0644\\u0643\\u0631\\u064a\\u0645 \\u0639\\u0628\\u062f\\u0627\\u0644\\u0645\\u062d\\u0633\\u0646 \\u0627\\u0644\\u062a\\u0631\\u0643\\u0649\", \"marker\": {\"color\": \"#FF6692\"}, \"name\": \"\\u0627\\u062d\\u0645\\u062f \\u0639\\u0628\\u062f\\u0627\\u0644\\u0643\\u0631\\u064a\\u0645 \\u0639\\u0628\\u062f\\u0627\\u0644\\u0645\\u062d\\u0633\\u0646 \\u0627\\u0644\\u062a\\u0631\\u0643\\u0649\", \"offsetgroup\": \"\\u0627\\u062d\\u0645\\u062f \\u0639\\u0628\\u062f\\u0627\\u0644\\u0643\\u0631\\u064a\\u0645 \\u0639\\u0628\\u062f\\u0627\\u0644\\u0645\\u062d\\u0633\\u0646 \\u0627\\u0644\\u062a\\u0631\\u0643\\u0649\", \"orientation\": \"v\", \"showlegend\": true, \"type\": \"histogram\", \"x\": [\"IS 481\", \"IS 495\", \"IS 498\", \"IS 499\"], \"xaxis\": \"x\", \"y\": [4.4, 0.0, 8.0, 6.0], \"yaxis\": \"y\"}, {\"alignmentgroup\": \"True\", \"bingroup\": \"x\", \"histfunc\": \"sum\", \"hovertemplate\": \"Instructor=\\u0627\\u062d\\u0645\\u062f \\u0639\\u0628\\u062f\\u0627\\u0644\\u0644\\u0647 \\u0627\\u0628\\u0631\\u0627\\u0647\\u064a\\u0645 \\u0627\\u0644\\u062d\\u0627\\u0645\\u062f<br>Course=%{x}<br>sum of Score=%{y}<extra></extra>\", \"legendgroup\": \"\\u0627\\u062d\\u0645\\u062f \\u0639\\u0628\\u062f\\u0627\\u0644\\u0644\\u0647 \\u0627\\u0628\\u0631\\u0627\\u0647\\u064a\\u0645 \\u0627\\u0644\\u062d\\u0627\\u0645\\u062f\", \"marker\": {\"color\": \"#B6E880\"}, \"name\": \"\\u0627\\u062d\\u0645\\u062f \\u0639\\u0628\\u062f\\u0627\\u0644\\u0644\\u0647 \\u0627\\u0628\\u0631\\u0627\\u0647\\u064a\\u0645 \\u0627\\u0644\\u062d\\u0627\\u0645\\u062f\", \"offsetgroup\": \"\\u0627\\u062d\\u0645\\u062f \\u0639\\u0628\\u062f\\u0627\\u0644\\u0644\\u0647 \\u0627\\u0628\\u0631\\u0627\\u0647\\u064a\\u0645 \\u0627\\u0644\\u062d\\u0627\\u0645\\u062f\", \"orientation\": \"v\", \"showlegend\": true, \"type\": \"histogram\", \"x\": [\"IS 498\", \"IS 522\", \"IS 595\"], \"xaxis\": \"x\", \"y\": [6.0, 3.5833333333333335, 7.0], \"yaxis\": \"y\"}, {\"alignmentgroup\": \"True\", \"bingroup\": \"x\", \"histfunc\": \"sum\", \"hovertemplate\": \"Instructor=\\u0627\\u062d\\u0645\\u062f \\u0639\\u0628\\u062f\\u0627\\u0644\\u0644\\u0647 \\u0645\\u062d\\u0645\\u062f \\u0633\\u0646\\u062f<br>Course=%{x}<br>sum of Score=%{y}<extra></extra>\", \"legendgroup\": \"\\u0627\\u062d\\u0645\\u062f \\u0639\\u0628\\u062f\\u0627\\u0644\\u0644\\u0647 \\u0645\\u062d\\u0645\\u062f \\u0633\\u0646\\u062f\", \"marker\": {\"color\": \"#FF97FF\"}, \"name\": \"\\u0627\\u062d\\u0645\\u062f \\u0639\\u0628\\u062f\\u0627\\u0644\\u0644\\u0647 \\u0645\\u062d\\u0645\\u062f \\u0633\\u0646\\u062f\", \"offsetgroup\": \"\\u0627\\u062d\\u0645\\u062f \\u0639\\u0628\\u062f\\u0627\\u0644\\u0644\\u0647 \\u0645\\u062d\\u0645\\u062f \\u0633\\u0646\\u062f\", \"orientation\": \"v\", \"showlegend\": true, \"type\": \"histogram\", \"x\": [\"IS 699\"], \"xaxis\": \"x\", \"y\": [0.0], \"yaxis\": \"y\"}, {\"alignmentgroup\": \"True\", \"bingroup\": \"x\", \"histfunc\": \"sum\", \"hovertemplate\": \"Instructor=\\u0627\\u062d\\u0645\\u062f \\u0645\\u062d\\u0645\\u062f \\u0632\\u0643\\u064a \\u0639\\u0628\\u062f\\u0627\\u0644\\u0631\\u0624\\u0648\\u0641 \\u0627\\u0644\\u0631\\u062c\\u0648\\u0628<br>Course=%{x}<br>sum of Score=%{y}<extra></extra>\", \"legendgroup\": \"\\u0627\\u062d\\u0645\\u062f \\u0645\\u062d\\u0645\\u062f \\u0632\\u0643\\u064a \\u0639\\u0628\\u062f\\u0627\\u0644\\u0631\\u0624\\u0648\\u0641 \\u0627\\u0644\\u0631\\u062c\\u0648\\u0628\", \"marker\": {\"color\": \"#FECB52\"}, \"name\": \"\\u0627\\u062d\\u0645\\u062f \\u0645\\u062d\\u0645\\u062f \\u0632\\u0643\\u064a \\u0639\\u0628\\u062f\\u0627\\u0644\\u0631\\u0624\\u0648\\u0641 \\u0627\\u0644\\u0631\\u062c\\u0648\\u0628\", \"offsetgroup\": \"\\u0627\\u062d\\u0645\\u062f \\u0645\\u062d\\u0645\\u062f \\u0632\\u0643\\u064a \\u0639\\u0628\\u062f\\u0627\\u0644\\u0631\\u0624\\u0648\\u0641 \\u0627\\u0644\\u0631\\u062c\\u0648\\u0628\", \"orientation\": \"v\", \"showlegend\": true, \"type\": \"histogram\", \"x\": [\"CSC 227\"], \"xaxis\": \"x\", \"y\": [3.3764367816091956], \"yaxis\": \"y\"}, {\"alignmentgroup\": \"True\", \"bingroup\": \"x\", \"histfunc\": \"sum\", \"hovertemplate\": \"Instructor=\\u0627\\u062d\\u0645\\u062f \\u0645\\u062d\\u0645\\u062f \\u0639\\u0644\\u0649 \\u063a\\u0646\\u064a\\u0645<br>Course=%{x}<br>sum of Score=%{y}<extra></extra>\", \"legendgroup\": \"\\u0627\\u062d\\u0645\\u062f \\u0645\\u062d\\u0645\\u062f \\u0639\\u0644\\u0649 \\u063a\\u0646\\u064a\\u0645\", \"marker\": {\"color\": \"#636efa\"}, \"name\": \"\\u0627\\u062d\\u0645\\u062f \\u0645\\u062d\\u0645\\u062f \\u0639\\u0644\\u0649 \\u063a\\u0646\\u064a\\u0645\", \"offsetgroup\": \"\\u0627\\u062d\\u0645\\u062f \\u0645\\u062d\\u0645\\u062f \\u0639\\u0644\\u0649 \\u063a\\u0646\\u064a\\u0645\", \"orientation\": \"v\", \"showlegend\": true, \"type\": \"histogram\", \"x\": [\"SWE 455\", \"SWE 496\", \"SWE 497\", \"SWE 541\", \"SWE 594\"], \"xaxis\": \"x\", \"y\": [4.825, 8.0, 8.0, 4.363636363636363, 0.0], \"yaxis\": \"y\"}, {\"alignmentgroup\": \"True\", \"bingroup\": \"x\", \"histfunc\": \"sum\", \"hovertemplate\": \"Instructor=\\u0627\\u0634\\u0631\\u0641 \\u0639\\u0628\\u062f\\u0627\\u0644\\u062d\\u0644\\u064a\\u0645 \\u0639\\u0628\\u062f\\u0627\\u0644\\u0639\\u0627\\u0644 \\u064a\\u0648\\u0633\\u0641<br>Course=%{x}<br>sum of Score=%{y}<extra></extra>\", \"legendgroup\": \"\\u0627\\u0634\\u0631\\u0641 \\u0639\\u0628\\u062f\\u0627\\u0644\\u062d\\u0644\\u064a\\u0645 \\u0639\\u0628\\u062f\\u0627\\u0644\\u0639\\u0627\\u0644 \\u064a\\u0648\\u0633\\u0641\", \"marker\": {\"color\": \"#EF553B\"}, \"name\": \"\\u0627\\u0634\\u0631\\u0641 \\u0639\\u0628\\u062f\\u0627\\u0644\\u062d\\u0644\\u064a\\u0645 \\u0639\\u0628\\u062f\\u0627\\u0644\\u0639\\u0627\\u0644 \\u064a\\u0648\\u0633\\u0641\", \"offsetgroup\": \"\\u0627\\u0634\\u0631\\u0641 \\u0639\\u0628\\u062f\\u0627\\u0644\\u062d\\u0644\\u064a\\u0645 \\u0639\\u0628\\u062f\\u0627\\u0644\\u0639\\u0627\\u0644 \\u064a\\u0648\\u0633\\u0641\", \"orientation\": \"v\", \"showlegend\": true, \"type\": \"histogram\", \"x\": [\"IS 482\"], \"xaxis\": \"x\", \"y\": [4.833333333333333], \"yaxis\": \"y\"}, {\"alignmentgroup\": \"True\", \"bingroup\": \"x\", \"histfunc\": \"sum\", \"hovertemplate\": \"Instructor=\\u0627\\u0644\\u0645\\u062a\\u0648\\u0644\\u0649 \\u0645\\u062d\\u0645\\u062f \\u0627\\u0644\\u0645\\u062a\\u0648\\u0644\\u0649 \\u0645\\u0635\\u0637\\u0641\\u0649<br>Course=%{x}<br>sum of Score=%{y}<extra></extra>\", \"legendgroup\": \"\\u0627\\u0644\\u0645\\u062a\\u0648\\u0644\\u0649 \\u0645\\u062d\\u0645\\u062f \\u0627\\u0644\\u0645\\u062a\\u0648\\u0644\\u0649 \\u0645\\u0635\\u0637\\u0641\\u0649\", \"marker\": {\"color\": \"#00cc96\"}, \"name\": \"\\u0627\\u0644\\u0645\\u062a\\u0648\\u0644\\u0649 \\u0645\\u062d\\u0645\\u062f \\u0627\\u0644\\u0645\\u062a\\u0648\\u0644\\u0649 \\u0645\\u0635\\u0637\\u0641\\u0649\", \"offsetgroup\": \"\\u0627\\u0644\\u0645\\u062a\\u0648\\u0644\\u0649 \\u0645\\u062d\\u0645\\u062f \\u0627\\u0644\\u0645\\u062a\\u0648\\u0644\\u0649 \\u0645\\u0635\\u0637\\u0641\\u0649\", \"orientation\": \"v\", \"showlegend\": true, \"type\": \"histogram\", \"x\": [\"IS 385\", \"IS 498\", \"IS 533\", \"IS 999\"], \"xaxis\": \"x\", \"y\": [4.1000000000000005, 5.25, 2.272727272727273, 0.0], \"yaxis\": \"y\"}, {\"alignmentgroup\": \"True\", \"bingroup\": \"x\", \"histfunc\": \"sum\", \"hovertemplate\": \"Instructor=\\u0627\\u064a\\u0647\\u0627\\u0628 \\u0639\\u0628\\u062f\\u0627\\u0644\\u0639\\u0632\\u064a\\u0632 \\u0645\\u062d\\u0645\\u062f \\u0627\\u0644\\u0631\\u0633\\u0646<br>Course=%{x}<br>sum of Score=%{y}<extra></extra>\", \"legendgroup\": \"\\u0627\\u064a\\u0647\\u0627\\u0628 \\u0639\\u0628\\u062f\\u0627\\u0644\\u0639\\u0632\\u064a\\u0632 \\u0645\\u062d\\u0645\\u062f \\u0627\\u0644\\u0631\\u0633\\u0646\", \"marker\": {\"color\": \"#ab63fa\"}, \"name\": \"\\u0627\\u064a\\u0647\\u0627\\u0628 \\u0639\\u0628\\u062f\\u0627\\u0644\\u0639\\u0632\\u064a\\u0632 \\u0645\\u062d\\u0645\\u062f \\u0627\\u0644\\u0631\\u0633\\u0646\", \"offsetgroup\": \"\\u0627\\u064a\\u0647\\u0627\\u0628 \\u0639\\u0628\\u062f\\u0627\\u0644\\u0639\\u0632\\u064a\\u0632 \\u0645\\u062d\\u0645\\u062f \\u0627\\u0644\\u0631\\u0633\\u0646\", \"orientation\": \"v\", \"showlegend\": true, \"type\": \"histogram\", \"x\": [\"CSC 457\", \"CSC 496\", \"CSC 497\", \"CSC 523\"], \"xaxis\": \"x\", \"y\": [6.424242424242424, 7.75, 8.0, 6.75], \"yaxis\": \"y\"}, {\"alignmentgroup\": \"True\", \"bingroup\": \"x\", \"histfunc\": \"sum\", \"hovertemplate\": \"Instructor=\\u0628\\u062f\\u0631 \\u0641\\u0647\\u062f \\u0635\\u0627\\u0644\\u062d \\u0627\\u0644\\u062e\\u0645\\u064a\\u0633<br>Course=%{x}<br>sum of Score=%{y}<extra></extra>\", \"legendgroup\": \"\\u0628\\u062f\\u0631 \\u0641\\u0647\\u062f \\u0635\\u0627\\u0644\\u062d \\u0627\\u0644\\u062e\\u0645\\u064a\\u0633\", \"marker\": {\"color\": \"#FFA15A\"}, \"name\": \"\\u0628\\u062f\\u0631 \\u0641\\u0647\\u062f \\u0635\\u0627\\u0644\\u062d \\u0627\\u0644\\u062e\\u0645\\u064a\\u0633\", \"offsetgroup\": \"\\u0628\\u062f\\u0631 \\u0641\\u0647\\u062f \\u0635\\u0627\\u0644\\u062d \\u0627\\u0644\\u062e\\u0645\\u064a\\u0633\", \"orientation\": \"v\", \"showlegend\": true, \"type\": \"histogram\", \"x\": [\"IS 472\", \"IS 498\", \"IS 499\", \"IS 595\"], \"xaxis\": \"x\", \"y\": [6.297077922077921, 8.0, 8.0, 7.0], \"yaxis\": \"y\"}, {\"alignmentgroup\": \"True\", \"bingroup\": \"x\", \"histfunc\": \"sum\", \"hovertemplate\": \"Instructor=\\u0628\\u0644\\u0642\\u0627\\u0633\\u0645 \\u0628\\u0646 \\u064a\\u0648\\u0633\\u0641<br>Course=%{x}<br>sum of Score=%{y}<extra></extra>\", \"legendgroup\": \"\\u0628\\u0644\\u0642\\u0627\\u0633\\u0645 \\u0628\\u0646 \\u064a\\u0648\\u0633\\u0641\", \"marker\": {\"color\": \"#19d3f3\"}, \"name\": \"\\u0628\\u0644\\u0642\\u0627\\u0633\\u0645 \\u0628\\u0646 \\u064a\\u0648\\u0633\\u0641\", \"offsetgroup\": \"\\u0628\\u0644\\u0642\\u0627\\u0633\\u0645 \\u0628\\u0646 \\u064a\\u0648\\u0633\\u0641\", \"orientation\": \"v\", \"showlegend\": true, \"type\": \"histogram\", \"x\": [\"CEN 212\", \"CEN 493\", \"CEN 697\"], \"xaxis\": \"x\", \"y\": [2.423076923076923, 6.333333333333333, 6.0], \"yaxis\": \"y\"}, {\"alignmentgroup\": \"True\", \"bingroup\": \"x\", \"histfunc\": \"sum\", \"hovertemplate\": \"Instructor=\\u0628\\u0646\\u062f\\u0631 \\u0645\\u062d\\u0645\\u062f \\u0639\\u0648\\u064a\\u0628\\u062f \\u0627\\u0644\\u0645\\u0648\\u064a\\u0633\\u064a \\u0627\\u0644\\u0633\\u0644\\u0645\\u064a<br>Course=%{x}<br>sum of Score=%{y}<extra></extra>\", \"legendgroup\": \"\\u0628\\u0646\\u062f\\u0631 \\u0645\\u062d\\u0645\\u062f \\u0639\\u0648\\u064a\\u0628\\u062f \\u0627\\u0644\\u0645\\u0648\\u064a\\u0633\\u064a \\u0627\\u0644\\u0633\\u0644\\u0645\\u064a\", \"marker\": {\"color\": \"#FF6692\"}, \"name\": \"\\u0628\\u0646\\u062f\\u0631 \\u0645\\u062d\\u0645\\u062f \\u0639\\u0648\\u064a\\u0628\\u062f \\u0627\\u0644\\u0645\\u0648\\u064a\\u0633\\u064a \\u0627\\u0644\\u0633\\u0644\\u0645\\u064a\", \"offsetgroup\": \"\\u0628\\u0646\\u062f\\u0631 \\u0645\\u062d\\u0645\\u062f \\u0639\\u0648\\u064a\\u0628\\u062f \\u0627\\u0644\\u0645\\u0648\\u064a\\u0633\\u064a \\u0627\\u0644\\u0633\\u0644\\u0645\\u064a\", \"orientation\": \"v\", \"showlegend\": true, \"type\": \"histogram\", \"x\": [\"CSC 113\", \"CSC 462\"], \"xaxis\": \"x\", \"y\": [3.2258454106280197, 6.170731707317073], \"yaxis\": \"y\"}, {\"alignmentgroup\": \"True\", \"bingroup\": \"x\", \"histfunc\": \"sum\", \"hovertemplate\": \"Instructor=\\u062c\\u0644 \\u0641\\u0631\\u064a\\u062f \\u062c\\u0644 \\u0627\\u0644\\u0645\\u0647\\u062a\\u062f\\u0649<br>Course=%{x}<br>sum of Score=%{y}<extra></extra>\", \"legendgroup\": \"\\u062c\\u0644 \\u0641\\u0631\\u064a\\u062f \\u062c\\u0644 \\u0627\\u0644\\u0645\\u0647\\u062a\\u062f\\u0649\", \"marker\": {\"color\": \"#B6E880\"}, \"name\": \"\\u062c\\u0644 \\u0641\\u0631\\u064a\\u062f \\u062c\\u0644 \\u0627\\u0644\\u0645\\u0647\\u062a\\u062f\\u0649\", \"offsetgroup\": \"\\u062c\\u0644 \\u0641\\u0631\\u064a\\u062f \\u062c\\u0644 \\u0627\\u0644\\u0645\\u0647\\u062a\\u062f\\u0649\", \"orientation\": \"v\", \"showlegend\": true, \"type\": \"histogram\", \"x\": [\"CSC 619\"], \"xaxis\": \"x\", \"y\": [7.5], \"yaxis\": \"y\"}, {\"alignmentgroup\": \"True\", \"bingroup\": \"x\", \"histfunc\": \"sum\", \"hovertemplate\": \"Instructor=\\u062c\\u0645\\u0627\\u0644 \\u0627\\u0644\\u0634\\u0648\\u0631\\u0628\\u062c\\u0649 \\u0627\\u0644\\u0634\\u0648\\u0631\\u0628\\u062c\\u0649<br>Course=%{x}<br>sum of Score=%{y}<extra></extra>\", \"legendgroup\": \"\\u062c\\u0645\\u0627\\u0644 \\u0627\\u0644\\u0634\\u0648\\u0631\\u0628\\u062c\\u0649 \\u0627\\u0644\\u0634\\u0648\\u0631\\u0628\\u062c\\u0649\", \"marker\": {\"color\": \"#FF97FF\"}, \"name\": \"\\u062c\\u0645\\u0627\\u0644 \\u0627\\u0644\\u0634\\u0648\\u0631\\u0628\\u062c\\u0649 \\u0627\\u0644\\u0634\\u0648\\u0631\\u0628\\u062c\\u0649\", \"offsetgroup\": \"\\u062c\\u0645\\u0627\\u0644 \\u0627\\u0644\\u0634\\u0648\\u0631\\u0628\\u062c\\u0649 \\u0627\\u0644\\u0634\\u0648\\u0631\\u0628\\u062c\\u0649\", \"orientation\": \"v\", \"showlegend\": true, \"type\": \"histogram\", \"x\": [\"IS 424\"], \"xaxis\": \"x\", \"y\": [4.066666666666666], \"yaxis\": \"y\"}, {\"alignmentgroup\": \"True\", \"bingroup\": \"x\", \"histfunc\": \"sum\", \"hovertemplate\": \"Instructor=\\u062c\\u0648\\u0627\\u062f \\u0639\\u0628\\u062f\\u0627\\u0644\\u0641\\u062a\\u0627\\u062d \\u0628\\u0631\\u064a<br>Course=%{x}<br>sum of Score=%{y}<extra></extra>\", \"legendgroup\": \"\\u062c\\u0648\\u0627\\u062f \\u0639\\u0628\\u062f\\u0627\\u0644\\u0641\\u062a\\u0627\\u062d \\u0628\\u0631\\u064a\", \"marker\": {\"color\": \"#FECB52\"}, \"name\": \"\\u062c\\u0648\\u0627\\u062f \\u0639\\u0628\\u062f\\u0627\\u0644\\u0641\\u062a\\u0627\\u062d \\u0628\\u0631\\u064a\", \"offsetgroup\": \"\\u062c\\u0648\\u0627\\u062f \\u0639\\u0628\\u062f\\u0627\\u0644\\u0641\\u062a\\u0627\\u062d \\u0628\\u0631\\u064a\", \"orientation\": \"v\", \"showlegend\": true, \"type\": \"histogram\", \"x\": [\"IS 230\", \"IS 700\"], \"xaxis\": \"x\", \"y\": [4.23474801061008, 0.0], \"yaxis\": \"y\"}, {\"alignmentgroup\": \"True\", \"bingroup\": \"x\", \"histfunc\": \"sum\", \"hovertemplate\": \"Instructor=\\u062d\\u0627\\u062a\\u0645 \\u0639\\u0628\\u062f\\u0627\\u0644\\u0631\\u062d\\u0645\\u0646 \\u0639\\u0628\\u062f\\u0627\\u0644\\u0638\\u0627\\u0647\\u0631 \\u0627\\u0628\\u0648\\u0627\\u0644\\u0633\\u0645\\u062d<br>Course=%{x}<br>sum of Score=%{y}<extra></extra>\", \"legendgroup\": \"\\u062d\\u0627\\u062a\\u0645 \\u0639\\u0628\\u062f\\u0627\\u0644\\u0631\\u062d\\u0645\\u0646 \\u0639\\u0628\\u062f\\u0627\\u0644\\u0638\\u0627\\u0647\\u0631 \\u0627\\u0628\\u0648\\u0627\\u0644\\u0633\\u0645\\u062d\", \"marker\": {\"color\": \"#636efa\"}, \"name\": \"\\u062d\\u0627\\u062a\\u0645 \\u0639\\u0628\\u062f\\u0627\\u0644\\u0631\\u062d\\u0645\\u0646 \\u0639\\u0628\\u062f\\u0627\\u0644\\u0638\\u0627\\u0647\\u0631 \\u0627\\u0628\\u0648\\u0627\\u0644\\u0633\\u0645\\u062d\", \"offsetgroup\": \"\\u062d\\u0627\\u062a\\u0645 \\u0639\\u0628\\u062f\\u0627\\u0644\\u0631\\u062d\\u0645\\u0646 \\u0639\\u0628\\u062f\\u0627\\u0644\\u0638\\u0627\\u0647\\u0631 \\u0627\\u0628\\u0648\\u0627\\u0644\\u0633\\u0645\\u062d\", \"orientation\": \"v\", \"showlegend\": true, \"type\": \"histogram\", \"x\": [\"CSC 496\", \"CSC 699\"], \"xaxis\": \"x\", \"y\": [8.0, 0.0], \"yaxis\": \"y\"}, {\"alignmentgroup\": \"True\", \"bingroup\": \"x\", \"histfunc\": \"sum\", \"hovertemplate\": \"Instructor=\\u062d\\u0633\\u0627\\u0645 \\u0645\\u062d\\u0645\\u062f \\u0639\\u0628\\u062f\\u0627\\u0644\\u062d\\u0641\\u064a\\u0638 \\u0631\\u0645\\u0636\\u0627\\u0646<br>Course=%{x}<br>sum of Score=%{y}<extra></extra>\", \"legendgroup\": \"\\u062d\\u0633\\u0627\\u0645 \\u0645\\u062d\\u0645\\u062f \\u0639\\u0628\\u062f\\u0627\\u0644\\u062d\\u0641\\u064a\\u0638 \\u0631\\u0645\\u0636\\u0627\\u0646\", \"marker\": {\"color\": \"#EF553B\"}, \"name\": \"\\u062d\\u0633\\u0627\\u0645 \\u0645\\u062d\\u0645\\u062f \\u0639\\u0628\\u062f\\u0627\\u0644\\u062d\\u0641\\u064a\\u0638 \\u0631\\u0645\\u0636\\u0627\\u0646\", \"offsetgroup\": \"\\u062d\\u0633\\u0627\\u0645 \\u0645\\u062d\\u0645\\u062f \\u0639\\u0628\\u062f\\u0627\\u0644\\u062d\\u0641\\u064a\\u0638 \\u0631\\u0645\\u0636\\u0627\\u0646\", \"orientation\": \"v\", \"showlegend\": true, \"type\": \"histogram\", \"x\": [\"IS 498\"], \"xaxis\": \"x\", \"y\": [8.0], \"yaxis\": \"y\"}, {\"alignmentgroup\": \"True\", \"bingroup\": \"x\", \"histfunc\": \"sum\", \"hovertemplate\": \"Instructor=\\u062d\\u0633\\u0646 \\u0627\\u0633\\u0645\\u0627\\u0639\\u064a\\u0644 \\u062d\\u0633\\u0646 \\u0645\\u0630\\u0643\\u0648\\u0631<br>Course=%{x}<br>sum of Score=%{y}<extra></extra>\", \"legendgroup\": \"\\u062d\\u0633\\u0646 \\u0627\\u0633\\u0645\\u0627\\u0639\\u064a\\u0644 \\u062d\\u0633\\u0646 \\u0645\\u0630\\u0643\\u0648\\u0631\", \"marker\": {\"color\": \"#00cc96\"}, \"name\": \"\\u062d\\u0633\\u0646 \\u0627\\u0633\\u0645\\u0627\\u0639\\u064a\\u0644 \\u062d\\u0633\\u0646 \\u0645\\u0630\\u0643\\u0648\\u0631\", \"offsetgroup\": \"\\u062d\\u0633\\u0646 \\u0627\\u0633\\u0645\\u0627\\u0639\\u064a\\u0644 \\u062d\\u0633\\u0646 \\u0645\\u0630\\u0643\\u0648\\u0631\", \"orientation\": \"v\", \"showlegend\": true, \"type\": \"histogram\", \"x\": [\"CSC 561\", \"CSC 562\", \"CSC 597\", \"CSC 700\"], \"xaxis\": \"x\", \"y\": [6.0, 6.0, 7.0, 0.0], \"yaxis\": \"y\"}, {\"alignmentgroup\": \"True\", \"bingroup\": \"x\", \"histfunc\": \"sum\", \"hovertemplate\": \"Instructor=\\u062d\\u0633\\u064a\\u0646 \\u0639\\u0628\\u062f\\u0627\\u0644\\u0631\\u062d\\u0645\\u0646 \\u062d\\u0633\\u064a\\u0646 \\u0628\\u0646 \\u0633\\u0644\\u0645\\u0627\\u0646<br>Course=%{x}<br>sum of Score=%{y}<extra></extra>\", \"legendgroup\": \"\\u062d\\u0633\\u064a\\u0646 \\u0639\\u0628\\u062f\\u0627\\u0644\\u0631\\u062d\\u0645\\u0646 \\u062d\\u0633\\u064a\\u0646 \\u0628\\u0646 \\u0633\\u0644\\u0645\\u0627\\u0646\", \"marker\": {\"color\": \"#ab63fa\"}, \"name\": \"\\u062d\\u0633\\u064a\\u0646 \\u0639\\u0628\\u062f\\u0627\\u0644\\u0631\\u062d\\u0645\\u0646 \\u062d\\u0633\\u064a\\u0646 \\u0628\\u0646 \\u0633\\u0644\\u0645\\u0627\\u0646\", \"offsetgroup\": \"\\u062d\\u0633\\u064a\\u0646 \\u0639\\u0628\\u062f\\u0627\\u0644\\u0631\\u062d\\u0645\\u0646 \\u062d\\u0633\\u064a\\u0646 \\u0628\\u0646 \\u0633\\u0644\\u0645\\u0627\\u0646\", \"orientation\": \"v\", \"showlegend\": true, \"type\": \"histogram\", \"x\": [\"CSC 496\"], \"xaxis\": \"x\", \"y\": [8.0], \"yaxis\": \"y\"}, {\"alignmentgroup\": \"True\", \"bingroup\": \"x\", \"histfunc\": \"sum\", \"hovertemplate\": \"Instructor=\\u062d\\u0645\\u0648\\u062f \\u0638\\u0627\\u0641\\u0631 \\u0633\\u0646\\u062f \\u0627\\u0644\\u062f\\u0648\\u0633\\u0631\\u0649<br>Course=%{x}<br>sum of Score=%{y}<extra></extra>\", \"legendgroup\": \"\\u062d\\u0645\\u0648\\u062f \\u0638\\u0627\\u0641\\u0631 \\u0633\\u0646\\u062f \\u0627\\u0644\\u062f\\u0648\\u0633\\u0631\\u0649\", \"marker\": {\"color\": \"#FFA15A\"}, \"name\": \"\\u062d\\u0645\\u0648\\u062f \\u0638\\u0627\\u0641\\u0631 \\u0633\\u0646\\u062f \\u0627\\u0644\\u062f\\u0648\\u0633\\u0631\\u0649\", \"offsetgroup\": \"\\u062d\\u0645\\u0648\\u062f \\u0638\\u0627\\u0641\\u0631 \\u0633\\u0646\\u062f \\u0627\\u0644\\u062f\\u0648\\u0633\\u0631\\u0649\", \"orientation\": \"v\", \"showlegend\": true, \"type\": \"histogram\", \"x\": [\"IS 498\"], \"xaxis\": \"x\", \"y\": [8.0], \"yaxis\": \"y\"}, {\"alignmentgroup\": \"True\", \"bingroup\": \"x\", \"histfunc\": \"sum\", \"hovertemplate\": \"Instructor=\\u062e\\u0627\\u062c\\u0627 \\u0645\\u062d\\u0645\\u062f \\u0645\\u0635\\u0637\\u0641\\u0649<br>Course=%{x}<br>sum of Score=%{y}<extra></extra>\", \"legendgroup\": \"\\u062e\\u0627\\u062c\\u0627 \\u0645\\u062d\\u0645\\u062f \\u0645\\u0635\\u0637\\u0641\\u0649\", \"marker\": {\"color\": \"#19d3f3\"}, \"name\": \"\\u062e\\u0627\\u062c\\u0627 \\u0645\\u062d\\u0645\\u062f \\u0645\\u0635\\u0637\\u0641\\u0649\", \"offsetgroup\": \"\\u062e\\u0627\\u062c\\u0627 \\u0645\\u062d\\u0645\\u062f \\u0645\\u0635\\u0637\\u0641\\u0649\", \"orientation\": \"v\", \"showlegend\": true, \"type\": \"histogram\", \"x\": [\"CSC 111\"], \"xaxis\": \"x\", \"y\": [5.590909090909091], \"yaxis\": \"y\"}, {\"alignmentgroup\": \"True\", \"bingroup\": \"x\", \"histfunc\": \"sum\", \"hovertemplate\": \"Instructor=\\u062e\\u0627\\u0644\\u062f \\u0633\\u0644\\u064a\\u0645\\u0627\\u0646 \\u0639\\u0628\\u062f\\u0627\\u0644\\u0644\\u0647 \\u0627\\u0644\\u063a\\u062b\\u0628\\u0631<br>Course=%{x}<br>sum of Score=%{y}<extra></extra>\", \"legendgroup\": \"\\u062e\\u0627\\u0644\\u062f \\u0633\\u0644\\u064a\\u0645\\u0627\\u0646 \\u0639\\u0628\\u062f\\u0627\\u0644\\u0644\\u0647 \\u0627\\u0644\\u063a\\u062b\\u0628\\u0631\", \"marker\": {\"color\": \"#FF6692\"}, \"name\": \"\\u062e\\u0627\\u0644\\u062f \\u0633\\u0644\\u064a\\u0645\\u0627\\u0646 \\u0639\\u0628\\u062f\\u0627\\u0644\\u0644\\u0647 \\u0627\\u0644\\u063a\\u062b\\u0628\\u0631\", \"offsetgroup\": \"\\u062e\\u0627\\u0644\\u062f \\u0633\\u0644\\u064a\\u0645\\u0627\\u0646 \\u0639\\u0628\\u062f\\u0627\\u0644\\u0644\\u0647 \\u0627\\u0644\\u063a\\u062b\\u0628\\u0631\", \"orientation\": \"v\", \"showlegend\": true, \"type\": \"histogram\", \"x\": [\"IS 498\", \"IS 700\"], \"xaxis\": \"x\", \"y\": [8.0, 0.0], \"yaxis\": \"y\"}, {\"alignmentgroup\": \"True\", \"bingroup\": \"x\", \"histfunc\": \"sum\", \"hovertemplate\": \"Instructor=\\u062e\\u0627\\u0644\\u062f \\u0639\\u0628\\u062f\\u0627\\u0644\\u0639\\u0632\\u064a\\u0632 \\u0645\\u062d\\u0645\\u062f \\u0627\\u0644\\u0646\\u0641\\u062c\\u0627\\u0646<br>Course=%{x}<br>sum of Score=%{y}<extra></extra>\", \"legendgroup\": \"\\u062e\\u0627\\u0644\\u062f \\u0639\\u0628\\u062f\\u0627\\u0644\\u0639\\u0632\\u064a\\u0632 \\u0645\\u062d\\u0645\\u062f \\u0627\\u0644\\u0646\\u0641\\u062c\\u0627\\u0646\", \"marker\": {\"color\": \"#B6E880\"}, \"name\": \"\\u062e\\u0627\\u0644\\u062f \\u0639\\u0628\\u062f\\u0627\\u0644\\u0639\\u0632\\u064a\\u0632 \\u0645\\u062d\\u0645\\u062f \\u0627\\u0644\\u0646\\u0641\\u062c\\u0627\\u0646\", \"offsetgroup\": \"\\u062e\\u0627\\u0644\\u062f \\u0639\\u0628\\u062f\\u0627\\u0644\\u0639\\u0632\\u064a\\u0632 \\u0645\\u062d\\u0645\\u062f \\u0627\\u0644\\u0646\\u0641\\u062c\\u0627\\u0646\", \"orientation\": \"v\", \"showlegend\": true, \"type\": \"histogram\", \"x\": [\"SWE 333\", \"SWE 496\", \"SWE 497\"], \"xaxis\": \"x\", \"y\": [6.580808080808081, 7.0, 8.0], \"yaxis\": \"y\"}, {\"alignmentgroup\": \"True\", \"bingroup\": \"x\", \"histfunc\": \"sum\", \"hovertemplate\": \"Instructor=\\u062e\\u0627\\u0644\\u062f \\u0646\\u0627\\u0635\\u0631 \\u062d\\u0645\\u0627\\u062f \\u0627\\u0644\\u0645\\u062a\\u0639\\u0628<br>Course=%{x}<br>sum of Score=%{y}<extra></extra>\", \"legendgroup\": \"\\u062e\\u0627\\u0644\\u062f \\u0646\\u0627\\u0635\\u0631 \\u062d\\u0645\\u0627\\u062f \\u0627\\u0644\\u0645\\u062a\\u0639\\u0628\", \"marker\": {\"color\": \"#FF97FF\"}, \"name\": \"\\u062e\\u0627\\u0644\\u062f \\u0646\\u0627\\u0635\\u0631 \\u062d\\u0645\\u0627\\u062f \\u0627\\u0644\\u0645\\u062a\\u0639\\u0628\", \"offsetgroup\": \"\\u062e\\u0627\\u0644\\u062f \\u0646\\u0627\\u0635\\u0631 \\u062d\\u0645\\u0627\\u062f \\u0627\\u0644\\u0645\\u062a\\u0639\\u0628\", \"orientation\": \"v\", \"showlegend\": true, \"type\": \"histogram\", \"x\": [\"SWE 477\", \"SWE 479\", \"SWE 496\", \"SWE 999\"], \"xaxis\": \"x\", \"y\": [6.402597402597403, 0.0, 8.0, 0.0], \"yaxis\": \"y\"}, {\"alignmentgroup\": \"True\", \"bingroup\": \"x\", \"histfunc\": \"sum\", \"hovertemplate\": \"Instructor=\\u062e\\u0644\\u064a\\u0644 \\u0645\\u062d\\u0645\\u062f \\u0639\\u0644\\u064a \\u0627\\u0644\\u0647\\u0646\\u062f\\u064a<br>Course=%{x}<br>sum of Score=%{y}<extra></extra>\", \"legendgroup\": \"\\u062e\\u0644\\u064a\\u0644 \\u0645\\u062d\\u0645\\u062f \\u0639\\u0644\\u064a \\u0627\\u0644\\u0647\\u0646\\u062f\\u064a\", \"marker\": {\"color\": \"#FECB52\"}, \"name\": \"\\u062e\\u0644\\u064a\\u0644 \\u0645\\u062d\\u0645\\u062f \\u0639\\u0644\\u064a \\u0627\\u0644\\u0647\\u0646\\u062f\\u064a\", \"offsetgroup\": \"\\u062e\\u0644\\u064a\\u0644 \\u0645\\u062d\\u0645\\u062f \\u0639\\u0644\\u064a \\u0627\\u0644\\u0647\\u0646\\u062f\\u064a\", \"orientation\": \"v\", \"showlegend\": true, \"type\": \"histogram\", \"x\": [\"CSC 340\", \"CSC 497\", \"CSC 699\", \"CSC 700\"], \"xaxis\": \"x\", \"y\": [3.2261904761904763, 8.0, 0.0, 0.0], \"yaxis\": \"y\"}, {\"alignmentgroup\": \"True\", \"bingroup\": \"x\", \"histfunc\": \"sum\", \"hovertemplate\": \"Instructor=\\u0631\\u0627\\u0645\\u0649 \\u0645\\u062d\\u0645\\u062f \\u062c\\u0645\\u0639\\u0647<br>Course=%{x}<br>sum of Score=%{y}<extra></extra>\", \"legendgroup\": \"\\u0631\\u0627\\u0645\\u0649 \\u0645\\u062d\\u0645\\u062f \\u062c\\u0645\\u0639\\u0647\", \"marker\": {\"color\": \"#636efa\"}, \"name\": \"\\u0631\\u0627\\u0645\\u0649 \\u0645\\u062d\\u0645\\u062f \\u062c\\u0645\\u0639\\u0647\", \"offsetgroup\": \"\\u0631\\u0627\\u0645\\u0649 \\u0645\\u062d\\u0645\\u062f \\u062c\\u0645\\u0639\\u0647\", \"orientation\": \"v\", \"showlegend\": true, \"type\": \"histogram\", \"x\": [\"CSC 361\"], \"xaxis\": \"x\", \"y\": [1.9411764705882353], \"yaxis\": \"y\"}, {\"alignmentgroup\": \"True\", \"bingroup\": \"x\", \"histfunc\": \"sum\", \"hovertemplate\": \"Instructor=\\u0631\\u0634\\u064a\\u062f \\u0633\\u0639\\u064a\\u062f \\u0635\\u0645\\u0648\\u062f\\u0629<br>Course=%{x}<br>sum of Score=%{y}<extra></extra>\", \"legendgroup\": \"\\u0631\\u0634\\u064a\\u062f \\u0633\\u0639\\u064a\\u062f \\u0635\\u0645\\u0648\\u062f\\u0629\", \"marker\": {\"color\": \"#EF553B\"}, \"name\": \"\\u0631\\u0634\\u064a\\u062f \\u0633\\u0639\\u064a\\u062f \\u0635\\u0645\\u0648\\u062f\\u0629\", \"offsetgroup\": \"\\u0631\\u0634\\u064a\\u062f \\u0633\\u0639\\u064a\\u062f \\u0635\\u0645\\u0648\\u062f\\u0629\", \"orientation\": \"v\", \"showlegend\": true, \"type\": \"histogram\", \"x\": [\"CSC 227\", \"CSC 496\", \"CSC 700\"], \"xaxis\": \"x\", \"y\": [4.637037037037037, 6.0, 0.0], \"yaxis\": \"y\"}, {\"alignmentgroup\": \"True\", \"bingroup\": \"x\", \"histfunc\": \"sum\", \"hovertemplate\": \"Instructor=\\u0631\\u0636\\u0627 \\u0628\\u0646 \\u0645\\u062d\\u0645\\u062f \\u0627\\u0644\\u0637\\u064a\\u0628 \\u0639\\u0648\\u0646\\u064a<br>Course=%{x}<br>sum of Score=%{y}<extra></extra>\", \"legendgroup\": \"\\u0631\\u0636\\u0627 \\u0628\\u0646 \\u0645\\u062d\\u0645\\u062f \\u0627\\u0644\\u0637\\u064a\\u0628 \\u0639\\u0648\\u0646\\u064a\", \"marker\": {\"color\": \"#00cc96\"}, \"name\": \"\\u0631\\u0636\\u0627 \\u0628\\u0646 \\u0645\\u062d\\u0645\\u062f \\u0627\\u0644\\u0637\\u064a\\u0628 \\u0639\\u0648\\u0646\\u064a\", \"offsetgroup\": \"\\u0631\\u0636\\u0627 \\u0628\\u0646 \\u0645\\u062d\\u0645\\u062f \\u0627\\u0644\\u0637\\u064a\\u0628 \\u0639\\u0648\\u0646\\u064a\", \"orientation\": \"v\", \"showlegend\": true, \"type\": \"histogram\", \"x\": [\"CEN 444\", \"CEN 492\", \"CEN 600\", \"CEN 999\"], \"xaxis\": \"x\", \"y\": [2.1538461538461537, 6.333333333333333, 0.0, 0.0], \"yaxis\": \"y\"}, {\"alignmentgroup\": \"True\", \"bingroup\": \"x\", \"histfunc\": \"sum\", \"hovertemplate\": \"Instructor=\\u0631\\u0645\\u0636\\u0627\\u0646 \\u0637\\u0627\\u0647\\u0631 \\u062d\\u062c\\u0627\\u0631<br>Course=%{x}<br>sum of Score=%{y}<extra></extra>\", \"legendgroup\": \"\\u0631\\u0645\\u0636\\u0627\\u0646 \\u0637\\u0627\\u0647\\u0631 \\u062d\\u062c\\u0627\\u0631\", \"marker\": {\"color\": \"#ab63fa\"}, \"name\": \"\\u0631\\u0645\\u0636\\u0627\\u0646 \\u0637\\u0627\\u0647\\u0631 \\u062d\\u062c\\u0627\\u0631\", \"offsetgroup\": \"\\u0631\\u0645\\u0636\\u0627\\u0646 \\u0637\\u0627\\u0647\\u0631 \\u062d\\u062c\\u0627\\u0631\", \"orientation\": \"v\", \"showlegend\": true, \"type\": \"histogram\", \"x\": [\"CEN 352\"], \"xaxis\": \"x\", \"y\": [3.066666666666667], \"yaxis\": \"y\"}, {\"alignmentgroup\": \"True\", \"bingroup\": \"x\", \"histfunc\": \"sum\", \"hovertemplate\": \"Instructor=\\u0632\\u0643\\u0631\\u064a\\u0627 \\u0639\\u0628\\u062f\\u0627\\u0644\\u0644\\u0647 \\u0639\\u0628\\u062f\\u0627\\u0644\\u0643\\u0631\\u064a\\u0645 \\u0627\\u0644\\u0632\\u0627\\u0645\\u0644<br>Course=%{x}<br>sum of Score=%{y}<extra></extra>\", \"legendgroup\": \"\\u0632\\u0643\\u0631\\u064a\\u0627 \\u0639\\u0628\\u062f\\u0627\\u0644\\u0644\\u0647 \\u0639\\u0628\\u062f\\u0627\\u0644\\u0643\\u0631\\u064a\\u0645 \\u0627\\u0644\\u0632\\u0627\\u0645\\u0644\", \"marker\": {\"color\": \"#FFA15A\"}, \"name\": \"\\u0632\\u0643\\u0631\\u064a\\u0627 \\u0639\\u0628\\u062f\\u0627\\u0644\\u0644\\u0647 \\u0639\\u0628\\u062f\\u0627\\u0644\\u0643\\u0631\\u064a\\u0645 \\u0627\\u0644\\u0632\\u0627\\u0645\\u0644\", \"offsetgroup\": \"\\u0632\\u0643\\u0631\\u064a\\u0627 \\u0639\\u0628\\u062f\\u0627\\u0644\\u0644\\u0647 \\u0639\\u0628\\u062f\\u0627\\u0644\\u0643\\u0631\\u064a\\u0645 \\u0627\\u0644\\u0632\\u0627\\u0645\\u0644\", \"orientation\": \"v\", \"showlegend\": true, \"type\": \"histogram\", \"x\": [\"SWE 321\", \"SWE 496\", \"SWE 497\"], \"xaxis\": \"x\", \"y\": [4.265151515151515, 7.0, 8.0], \"yaxis\": \"y\"}, {\"alignmentgroup\": \"True\", \"bingroup\": \"x\", \"histfunc\": \"sum\", \"hovertemplate\": \"Instructor=\\u0632\\u0648\\u0647\\u064a\\u0631 \\u0639\\u0628\\u062f\\u0627\\u0644\\u0644\\u0647 \\u0634\\u0646\\u062a\\u0648\\u0641<br>Course=%{x}<br>sum of Score=%{y}<extra></extra>\", \"legendgroup\": \"\\u0632\\u0648\\u0647\\u064a\\u0631 \\u0639\\u0628\\u062f\\u0627\\u0644\\u0644\\u0647 \\u0634\\u0646\\u062a\\u0648\\u0641\", \"marker\": {\"color\": \"#19d3f3\"}, \"name\": \"\\u0632\\u0648\\u0647\\u064a\\u0631 \\u0639\\u0628\\u062f\\u0627\\u0644\\u0644\\u0647 \\u0634\\u0646\\u062a\\u0648\\u0641\", \"offsetgroup\": \"\\u0632\\u0648\\u0647\\u064a\\u0631 \\u0639\\u0628\\u062f\\u0627\\u0644\\u0644\\u0647 \\u0634\\u0646\\u062a\\u0648\\u0641\", \"orientation\": \"v\", \"showlegend\": true, \"type\": \"histogram\", \"x\": [\"SWE 211\", \"SWE 313\", \"SWE 496\", \"SWE 497\", \"SWE 594\"], \"xaxis\": \"x\", \"y\": [1.9072727272727272, 5.0, 7.0, 0.0, 0.0], \"yaxis\": \"y\"}, {\"alignmentgroup\": \"True\", \"bingroup\": \"x\", \"histfunc\": \"sum\", \"hovertemplate\": \"Instructor=\\u0633\\u0627\\u0645\\u0649 \\u0635\\u0627\\u0644\\u062d \\u0627\\u062d\\u0645\\u062f \\u0627\\u0644\\u0648\\u0643\\u064a\\u0644<br>Course=%{x}<br>sum of Score=%{y}<extra></extra>\", \"legendgroup\": \"\\u0633\\u0627\\u0645\\u0649 \\u0635\\u0627\\u0644\\u062d \\u0627\\u062d\\u0645\\u062f \\u0627\\u0644\\u0648\\u0643\\u064a\\u0644\", \"marker\": {\"color\": \"#FF6692\"}, \"name\": \"\\u0633\\u0627\\u0645\\u0649 \\u0635\\u0627\\u0644\\u062d \\u0627\\u062d\\u0645\\u062f \\u0627\\u0644\\u0648\\u0643\\u064a\\u0644\", \"offsetgroup\": \"\\u0633\\u0627\\u0645\\u0649 \\u0635\\u0627\\u0644\\u062d \\u0627\\u062d\\u0645\\u062f \\u0627\\u0644\\u0648\\u0643\\u064a\\u0644\", \"orientation\": \"v\", \"showlegend\": true, \"type\": \"histogram\", \"x\": [\"CEN 341\", \"CSC 699\"], \"xaxis\": \"x\", \"y\": [3.6666666666666665, 0.0], \"yaxis\": \"y\"}, {\"alignmentgroup\": \"True\", \"bingroup\": \"x\", \"histfunc\": \"sum\", \"hovertemplate\": \"Instructor=\\u0633\\u0639\\u062f \\u0635\\u0627\\u0644\\u062d \\u0639\\u0628\\u062f\\u0627\\u0644\\u0644\\u0647 \\u0627\\u0644\\u0639\\u0628\\u0648\\u062f\\u064a<br>Course=%{x}<br>sum of Score=%{y}<extra></extra>\", \"legendgroup\": \"\\u0633\\u0639\\u062f \\u0635\\u0627\\u0644\\u062d \\u0639\\u0628\\u062f\\u0627\\u0644\\u0644\\u0647 \\u0627\\u0644\\u0639\\u0628\\u0648\\u062f\\u064a\", \"marker\": {\"color\": \"#B6E880\"}, \"name\": \"\\u0633\\u0639\\u062f \\u0635\\u0627\\u0644\\u062d \\u0639\\u0628\\u062f\\u0627\\u0644\\u0644\\u0647 \\u0627\\u0644\\u0639\\u0628\\u0648\\u062f\\u064a\", \"offsetgroup\": \"\\u0633\\u0639\\u062f \\u0635\\u0627\\u0644\\u062d \\u0639\\u0628\\u062f\\u0627\\u0644\\u0644\\u0647 \\u0627\\u0644\\u0639\\u0628\\u0648\\u062f\\u064a\", \"orientation\": \"v\", \"showlegend\": true, \"type\": \"histogram\", \"x\": [\"IS 498\"], \"xaxis\": \"x\", \"y\": [8.0], \"yaxis\": \"y\"}, {\"alignmentgroup\": \"True\", \"bingroup\": \"x\", \"histfunc\": \"sum\", \"hovertemplate\": \"Instructor=\\u0633\\u0639\\u062f \\u0639\\u0628\\u062f\\u0627\\u0644\\u0644\\u0647 \\u062d\\u0627\\u0633\\u0646 \\u0627\\u062d\\u0645\\u062f\\u0649<br>Course=%{x}<br>sum of Score=%{y}<extra></extra>\", \"legendgroup\": \"\\u0633\\u0639\\u062f \\u0639\\u0628\\u062f\\u0627\\u0644\\u0644\\u0647 \\u062d\\u0627\\u0633\\u0646 \\u0627\\u062d\\u0645\\u062f\\u0649\", \"marker\": {\"color\": \"#FF97FF\"}, \"name\": \"\\u0633\\u0639\\u062f \\u0639\\u0628\\u062f\\u0627\\u0644\\u0644\\u0647 \\u062d\\u0627\\u0633\\u0646 \\u0627\\u062d\\u0645\\u062f\\u0649\", \"offsetgroup\": \"\\u0633\\u0639\\u062f \\u0639\\u0628\\u062f\\u0627\\u0644\\u0644\\u0647 \\u062d\\u0627\\u0633\\u0646 \\u0627\\u062d\\u0645\\u062f\\u0649\", \"orientation\": \"v\", \"showlegend\": true, \"type\": \"histogram\", \"x\": [\"CSC 496\", \"CSC 497\", \"CSC 524\", \"CSC 597\", \"CSC 600\"], \"xaxis\": \"x\", \"y\": [8.0, 6.666666666666667, 4.4, 3.0, 0.0], \"yaxis\": \"y\"}, {\"alignmentgroup\": \"True\", \"bingroup\": \"x\", \"histfunc\": \"sum\", \"hovertemplate\": \"Instructor=\\u0633\\u0639\\u062f \\u0639\\u0644\\u064a \\u062d\\u0627\\u062c \\u0628\\u0643\\u0631\\u064a<br>Course=%{x}<br>sum of Score=%{y}<extra></extra>\", \"legendgroup\": \"\\u0633\\u0639\\u062f \\u0639\\u0644\\u064a \\u062d\\u0627\\u062c \\u0628\\u0643\\u0631\\u064a\", \"marker\": {\"color\": \"#FECB52\"}, \"name\": \"\\u0633\\u0639\\u062f \\u0639\\u0644\\u064a \\u062d\\u0627\\u062c \\u0628\\u0643\\u0631\\u064a\", \"offsetgroup\": \"\\u0633\\u0639\\u062f \\u0639\\u0644\\u064a \\u062d\\u0627\\u062c \\u0628\\u0643\\u0631\\u064a\", \"orientation\": \"v\", \"showlegend\": true, \"type\": \"histogram\", \"x\": [\"CEN 470\", \"CEN 493\", \"CEN 592\", \"CEN 600\", \"CEN 631\"], \"xaxis\": \"x\", \"y\": [5.7894736842105265, 7.0, 8.0, 0.0, 7.0], \"yaxis\": \"y\"}, {\"alignmentgroup\": \"True\", \"bingroup\": \"x\", \"histfunc\": \"sum\", \"hovertemplate\": \"Instructor=\\u0633\\u0639\\u062f \\u0645\\u0633\\u0639\\u0648\\u062f \\u0645\\u0633\\u0639\\u0648\\u062f \\u0627\\u064a\\u062c\\u0627\\u062f<br>Course=%{x}<br>sum of Score=%{y}<extra></extra>\", \"legendgroup\": \"\\u0633\\u0639\\u062f \\u0645\\u0633\\u0639\\u0648\\u062f \\u0645\\u0633\\u0639\\u0648\\u062f \\u0627\\u064a\\u062c\\u0627\\u062f\", \"marker\": {\"color\": \"#636efa\"}, \"name\": \"\\u0633\\u0639\\u062f \\u0645\\u0633\\u0639\\u0648\\u062f \\u0645\\u0633\\u0639\\u0648\\u062f \\u0627\\u064a\\u062c\\u0627\\u062f\", \"offsetgroup\": \"\\u0633\\u0639\\u062f \\u0645\\u0633\\u0639\\u0648\\u062f \\u0645\\u0633\\u0639\\u0648\\u062f \\u0627\\u064a\\u062c\\u0627\\u062f\", \"orientation\": \"v\", \"showlegend\": true, \"type\": \"histogram\", \"x\": [\"CSC 111\"], \"xaxis\": \"x\", \"y\": [5.403214535290007], \"yaxis\": \"y\"}, {\"alignmentgroup\": \"True\", \"bingroup\": \"x\", \"histfunc\": \"sum\", \"hovertemplate\": \"Instructor=\\u0633\\u0639\\u064a\\u062f \\u0623\\u062d\\u0645\\u062f \\u0643\\u0631\\u0627\\u0634<br>Course=%{x}<br>sum of Score=%{y}<extra></extra>\", \"legendgroup\": \"\\u0633\\u0639\\u064a\\u062f \\u0623\\u062d\\u0645\\u062f \\u0643\\u0631\\u0627\\u0634\", \"marker\": {\"color\": \"#EF553B\"}, \"name\": \"\\u0633\\u0639\\u064a\\u062f \\u0623\\u062d\\u0645\\u062f \\u0643\\u0631\\u0627\\u0634\", \"offsetgroup\": \"\\u0633\\u0639\\u064a\\u062f \\u0623\\u062d\\u0645\\u062f \\u0643\\u0631\\u0627\\u0634\", \"orientation\": \"v\", \"showlegend\": true, \"type\": \"histogram\", \"x\": [\"CSC 212\", \"CSC 497\"], \"xaxis\": \"x\", \"y\": [3.751152073732719, 8.0], \"yaxis\": \"y\"}, {\"alignmentgroup\": \"True\", \"bingroup\": \"x\", \"histfunc\": \"sum\", \"hovertemplate\": \"Instructor=\\u0633\\u0641\\u064a\\u0627\\u0646 \\u0627\\u0644\\u0632\\u064a\\u0646 \\u0642\\u0646\\u0648\\u0646\\u064a<br>Course=%{x}<br>sum of Score=%{y}<extra></extra>\", \"legendgroup\": \"\\u0633\\u0641\\u064a\\u0627\\u0646 \\u0627\\u0644\\u0632\\u064a\\u0646 \\u0642\\u0646\\u0648\\u0646\\u064a\", \"marker\": {\"color\": \"#00cc96\"}, \"name\": \"\\u0633\\u0641\\u064a\\u0627\\u0646 \\u0627\\u0644\\u0632\\u064a\\u0646 \\u0642\\u0646\\u0648\\u0646\\u064a\", \"offsetgroup\": \"\\u0633\\u0641\\u064a\\u0627\\u0646 \\u0627\\u0644\\u0632\\u064a\\u0646 \\u0642\\u0646\\u0648\\u0646\\u064a\", \"orientation\": \"v\", \"showlegend\": true, \"type\": \"histogram\", \"x\": [\"CSC 113\", \"CSC 496\"], \"xaxis\": \"x\", \"y\": [2.447368421052632, 8.0], \"yaxis\": \"y\"}, {\"alignmentgroup\": \"True\", \"bingroup\": \"x\", \"histfunc\": \"sum\", \"hovertemplate\": \"Instructor=\\u0633\\u0644\\u0637\\u0627\\u0646 \\u062f\\u0627\\u0648\\u062f \\u0633\\u0644\\u064a\\u0645\\u0627\\u0646 \\u0627\\u0644\\u0641\\u0631\\u0647\\u0648\\u062f<br>Course=%{x}<br>sum of Score=%{y}<extra></extra>\", \"legendgroup\": \"\\u0633\\u0644\\u0637\\u0627\\u0646 \\u062f\\u0627\\u0648\\u062f \\u0633\\u0644\\u064a\\u0645\\u0627\\u0646 \\u0627\\u0644\\u0641\\u0631\\u0647\\u0648\\u062f\", \"marker\": {\"color\": \"#ab63fa\"}, \"name\": \"\\u0633\\u0644\\u0637\\u0627\\u0646 \\u062f\\u0627\\u0648\\u062f \\u0633\\u0644\\u064a\\u0645\\u0627\\u0646 \\u0627\\u0644\\u0641\\u0631\\u0647\\u0648\\u062f\", \"offsetgroup\": \"\\u0633\\u0644\\u0637\\u0627\\u0646 \\u062f\\u0627\\u0648\\u062f \\u0633\\u0644\\u064a\\u0645\\u0627\\u0646 \\u0627\\u0644\\u0641\\u0631\\u0647\\u0648\\u062f\", \"orientation\": \"v\", \"showlegend\": true, \"type\": \"histogram\", \"x\": [\"CSC 496\", \"CSC 569\"], \"xaxis\": \"x\", \"y\": [8.0, 7.0], \"yaxis\": \"y\"}, {\"alignmentgroup\": \"True\", \"bingroup\": \"x\", \"histfunc\": \"sum\", \"hovertemplate\": \"Instructor=\\u0633\\u0644\\u0637\\u0627\\u0646 \\u0639\\u0628\\u062f\\u0627\\u0644\\u0639\\u0632\\u064a\\u0632 \\u0645\\u062d\\u0645\\u062f \\u0627\\u0644\\u064a\\u062d\\u064a\\u0649<br>Course=%{x}<br>sum of Score=%{y}<extra></extra>\", \"legendgroup\": \"\\u0633\\u0644\\u0637\\u0627\\u0646 \\u0639\\u0628\\u062f\\u0627\\u0644\\u0639\\u0632\\u064a\\u0632 \\u0645\\u062d\\u0645\\u062f \\u0627\\u0644\\u064a\\u062d\\u064a\\u0649\", \"marker\": {\"color\": \"#FFA15A\"}, \"name\": \"\\u0633\\u0644\\u0637\\u0627\\u0646 \\u0639\\u0628\\u062f\\u0627\\u0644\\u0639\\u0632\\u064a\\u0632 \\u0645\\u062d\\u0645\\u062f \\u0627\\u0644\\u064a\\u062d\\u064a\\u0649\", \"offsetgroup\": \"\\u0633\\u0644\\u0637\\u0627\\u0646 \\u0639\\u0628\\u062f\\u0627\\u0644\\u0639\\u0632\\u064a\\u0632 \\u0645\\u062d\\u0645\\u062f \\u0627\\u0644\\u064a\\u062d\\u064a\\u0649\", \"orientation\": \"v\", \"showlegend\": true, \"type\": \"histogram\", \"x\": [\"IS 498\"], \"xaxis\": \"x\", \"y\": [8.0], \"yaxis\": \"y\"}, {\"alignmentgroup\": \"True\", \"bingroup\": \"x\", \"histfunc\": \"sum\", \"hovertemplate\": \"Instructor=\\u0633\\u0644\\u0645\\u0627\\u0646 \\u0639\\u0644\\u064a \\u0635\\u0627\\u0644\\u062d \\u0627\\u0644\\u0639\\u064a\\u062f<br>Course=%{x}<br>sum of Score=%{y}<extra></extra>\", \"legendgroup\": \"\\u0633\\u0644\\u0645\\u0627\\u0646 \\u0639\\u0644\\u064a \\u0635\\u0627\\u0644\\u062d \\u0627\\u0644\\u0639\\u064a\\u062f\", \"marker\": {\"color\": \"#19d3f3\"}, \"name\": \"\\u0633\\u0644\\u0645\\u0627\\u0646 \\u0639\\u0644\\u064a \\u0635\\u0627\\u0644\\u062d \\u0627\\u0644\\u0639\\u064a\\u062f\", \"offsetgroup\": \"\\u0633\\u0644\\u0645\\u0627\\u0646 \\u0639\\u0644\\u064a \\u0635\\u0627\\u0644\\u062d \\u0627\\u0644\\u0639\\u064a\\u062f\", \"orientation\": \"v\", \"showlegend\": true, \"type\": \"histogram\", \"x\": [\"CEN 434\"], \"xaxis\": \"x\", \"y\": [6.0], \"yaxis\": \"y\"}, {\"alignmentgroup\": \"True\", \"bingroup\": \"x\", \"histfunc\": \"sum\", \"hovertemplate\": \"Instructor=\\u0633\\u0644\\u0645\\u0627\\u0646 \\u0639\\u0644\\u064a \\u0648\\u0647\\u0641 \\u0627\\u0644\\u0642\\u062d\\u0637\\u0627\\u0646\\u064a<br>Course=%{x}<br>sum of Score=%{y}<extra></extra>\", \"legendgroup\": \"\\u0633\\u0644\\u0645\\u0627\\u0646 \\u0639\\u0644\\u064a \\u0648\\u0647\\u0641 \\u0627\\u0644\\u0642\\u062d\\u0637\\u0627\\u0646\\u064a\", \"marker\": {\"color\": \"#FF6692\"}, \"name\": \"\\u0633\\u0644\\u0645\\u0627\\u0646 \\u0639\\u0644\\u064a \\u0648\\u0647\\u0641 \\u0627\\u0644\\u0642\\u062d\\u0637\\u0627\\u0646\\u064a\", \"offsetgroup\": \"\\u0633\\u0644\\u0645\\u0627\\u0646 \\u0639\\u0644\\u064a \\u0648\\u0647\\u0641 \\u0627\\u0644\\u0642\\u062d\\u0637\\u0627\\u0646\\u064a\", \"orientation\": \"v\", \"showlegend\": true, \"type\": \"histogram\", \"x\": [\"CEN 700\"], \"xaxis\": \"x\", \"y\": [0.0], \"yaxis\": \"y\"}, {\"alignmentgroup\": \"True\", \"bingroup\": \"x\", \"histfunc\": \"sum\", \"hovertemplate\": \"Instructor=\\u0635\\u0627\\u0644\\u062d \\u0639\\u0628\\u062f\\u0627\\u0644\\u0644\\u0647 \\u0635\\u0627\\u0644\\u062d \\u0627\\u0644\\u0645\\u0648\\u064a\\u0646\\u0639<br>Course=%{x}<br>sum of Score=%{y}<extra></extra>\", \"legendgroup\": \"\\u0635\\u0627\\u0644\\u062d \\u0639\\u0628\\u062f\\u0627\\u0644\\u0644\\u0647 \\u0635\\u0627\\u0644\\u062d \\u0627\\u0644\\u0645\\u0648\\u064a\\u0646\\u0639\", \"marker\": {\"color\": \"#B6E880\"}, \"name\": \"\\u0635\\u0627\\u0644\\u062d \\u0639\\u0628\\u062f\\u0627\\u0644\\u0644\\u0647 \\u0635\\u0627\\u0644\\u062d \\u0627\\u0644\\u0645\\u0648\\u064a\\u0646\\u0639\", \"offsetgroup\": \"\\u0635\\u0627\\u0644\\u062d \\u0639\\u0628\\u062f\\u0627\\u0644\\u0644\\u0647 \\u0635\\u0627\\u0644\\u062d \\u0627\\u0644\\u0645\\u0648\\u064a\\u0646\\u0639\", \"orientation\": \"v\", \"showlegend\": true, \"type\": \"histogram\", \"x\": [\"CEN 531\"], \"xaxis\": \"x\", \"y\": [5.0], \"yaxis\": \"y\"}, {\"alignmentgroup\": \"True\", \"bingroup\": \"x\", \"histfunc\": \"sum\", \"hovertemplate\": \"Instructor=\\u0635\\u0627\\u0644\\u062d \\u0645\\u062d\\u0645\\u062f \\u0635\\u0627\\u0644\\u062d \\u0627\\u0644\\u0647\\u0645\\u0627\\u0645\\u0649<br>Course=%{x}<br>sum of Score=%{y}<extra></extra>\", \"legendgroup\": \"\\u0635\\u0627\\u0644\\u062d \\u0645\\u062d\\u0645\\u062f \\u0635\\u0627\\u0644\\u062d \\u0627\\u0644\\u0647\\u0645\\u0627\\u0645\\u0649\", \"marker\": {\"color\": \"#FF97FF\"}, \"name\": \"\\u0635\\u0627\\u0644\\u062d \\u0645\\u062d\\u0645\\u062f \\u0635\\u0627\\u0644\\u062d \\u0627\\u0644\\u0647\\u0645\\u0627\\u0645\\u0649\", \"offsetgroup\": \"\\u0635\\u0627\\u0644\\u062d \\u0645\\u062d\\u0645\\u062f \\u0635\\u0627\\u0644\\u062d \\u0627\\u0644\\u0647\\u0645\\u0627\\u0645\\u0649\", \"orientation\": \"v\", \"showlegend\": true, \"type\": \"histogram\", \"x\": [\"CSC 343\", \"CSC 496\"], \"xaxis\": \"x\", \"y\": [4.726666666666667, 7.5], \"yaxis\": \"y\"}, {\"alignmentgroup\": \"True\", \"bingroup\": \"x\", \"histfunc\": \"sum\", \"hovertemplate\": \"Instructor=\\u0639\\u0621\\u0627\\u0644\\u062f\\u064a\\u0646 \\u0645\\u062e\\u062a\\u0627\\u0631 \\u062d\\u0627\\u0641\\u0638<br>Course=%{x}<br>sum of Score=%{y}<extra></extra>\", \"legendgroup\": \"\\u0639\\u0621\\u0627\\u0644\\u062f\\u064a\\u0646 \\u0645\\u062e\\u062a\\u0627\\u0631 \\u062d\\u0627\\u0641\\u0638\", \"marker\": {\"color\": \"#FECB52\"}, \"name\": \"\\u0639\\u0621\\u0627\\u0644\\u062f\\u064a\\u0646 \\u0645\\u062e\\u062a\\u0627\\u0631 \\u062d\\u0627\\u0641\\u0638\", \"offsetgroup\": \"\\u0639\\u0621\\u0627\\u0644\\u062f\\u064a\\u0646 \\u0645\\u062e\\u062a\\u0627\\u0631 \\u062d\\u0627\\u0641\\u0638\", \"orientation\": \"v\", \"showlegend\": true, \"type\": \"histogram\", \"x\": [\"IS 340\", \"IS 696\"], \"xaxis\": \"x\", \"y\": [5.438940092165898, 8.0], \"yaxis\": \"y\"}, {\"alignmentgroup\": \"True\", \"bingroup\": \"x\", \"histfunc\": \"sum\", \"hovertemplate\": \"Instructor=\\u0639\\u0627\\u062f\\u0644 \\u062e\\u0644\\u064a\\u0641\\u0629 \\u0633\\u0648\\u062f\\u0627\\u0646\\u064a<br>Course=%{x}<br>sum of Score=%{y}<extra></extra>\", \"legendgroup\": \"\\u0639\\u0627\\u062f\\u0644 \\u062e\\u0644\\u064a\\u0641\\u0629 \\u0633\\u0648\\u062f\\u0627\\u0646\\u064a\", \"marker\": {\"color\": \"#636efa\"}, \"name\": \"\\u0639\\u0627\\u062f\\u0644 \\u062e\\u0644\\u064a\\u0641\\u0629 \\u0633\\u0648\\u062f\\u0627\\u0646\\u064a\", \"offsetgroup\": \"\\u0639\\u0627\\u062f\\u0644 \\u062e\\u0644\\u064a\\u0641\\u0629 \\u0633\\u0648\\u062f\\u0627\\u0646\\u064a\", \"orientation\": \"v\", \"showlegend\": true, \"type\": \"histogram\", \"x\": [\"CSC 329\", \"CSC 496\"], \"xaxis\": \"x\", \"y\": [4.8530303030303035, 7.0], \"yaxis\": \"y\"}, {\"alignmentgroup\": \"True\", \"bingroup\": \"x\", \"histfunc\": \"sum\", \"hovertemplate\": \"Instructor=\\u0639\\u0627\\u0635\\u0645 \\u0646\\u0627\\u0635\\u0631 \\u0639\\u0628\\u062f\\u0627\\u0644\\u0631\\u062d\\u0645\\u0646 \\u0627\\u0644\\u064a\\u062d\\u064a\\u0649<br>Course=%{x}<br>sum of Score=%{y}<extra></extra>\", \"legendgroup\": \"\\u0639\\u0627\\u0635\\u0645 \\u0646\\u0627\\u0635\\u0631 \\u0639\\u0628\\u062f\\u0627\\u0644\\u0631\\u062d\\u0645\\u0646 \\u0627\\u0644\\u064a\\u062d\\u064a\\u0649\", \"marker\": {\"color\": \"#EF553B\"}, \"name\": \"\\u0639\\u0627\\u0635\\u0645 \\u0646\\u0627\\u0635\\u0631 \\u0639\\u0628\\u062f\\u0627\\u0644\\u0631\\u062d\\u0645\\u0646 \\u0627\\u0644\\u064a\\u062d\\u064a\\u0649\", \"offsetgroup\": \"\\u0639\\u0627\\u0635\\u0645 \\u0646\\u0627\\u0635\\u0631 \\u0639\\u0628\\u062f\\u0627\\u0644\\u0631\\u062d\\u0645\\u0646 \\u0627\\u0644\\u064a\\u062d\\u064a\\u0649\", \"orientation\": \"v\", \"showlegend\": true, \"type\": \"histogram\", \"x\": [\"CEN 441\", \"CEN 445\", \"CEN 492\"], \"xaxis\": \"x\", \"y\": [5.2, 3.9166666666666665, 7.0], \"yaxis\": \"y\"}, {\"alignmentgroup\": \"True\", \"bingroup\": \"x\", \"histfunc\": \"sum\", \"hovertemplate\": \"Instructor=\\u0639\\u0627\\u0645\\u0631 \\u0639\\u0628\\u062f\\u0627\\u0644\\u0644\\u0647 \\u0637\\u0648\\u064a\\u0631<br>Course=%{x}<br>sum of Score=%{y}<extra></extra>\", \"legendgroup\": \"\\u0639\\u0627\\u0645\\u0631 \\u0639\\u0628\\u062f\\u0627\\u0644\\u0644\\u0647 \\u0637\\u0648\\u064a\\u0631\", \"marker\": {\"color\": \"#00cc96\"}, \"name\": \"\\u0639\\u0627\\u0645\\u0631 \\u0639\\u0628\\u062f\\u0627\\u0644\\u0644\\u0647 \\u0637\\u0648\\u064a\\u0631\", \"offsetgroup\": \"\\u0639\\u0627\\u0645\\u0631 \\u0639\\u0628\\u062f\\u0627\\u0644\\u0644\\u0647 \\u0637\\u0648\\u064a\\u0631\", \"orientation\": \"v\", \"showlegend\": true, \"type\": \"histogram\", \"x\": [\"CSC 113\"], \"xaxis\": \"x\", \"y\": [3.0555555555555554], \"yaxis\": \"y\"}, {\"alignmentgroup\": \"True\", \"bingroup\": \"x\", \"histfunc\": \"sum\", \"hovertemplate\": \"Instructor=\\u0639\\u0627\\u064a\\u0636 \\u0633\\u0639\\u062f \\u0639\\u0627\\u064a\\u0636 \\u0627\\u0644\\u0642\\u062d\\u0637\\u0627\\u0646\\u0649<br>Course=%{x}<br>sum of Score=%{y}<extra></extra>\", \"legendgroup\": \"\\u0639\\u0627\\u064a\\u0636 \\u0633\\u0639\\u062f \\u0639\\u0627\\u064a\\u0636 \\u0627\\u0644\\u0642\\u062d\\u0637\\u0627\\u0646\\u0649\", \"marker\": {\"color\": \"#ab63fa\"}, \"name\": \"\\u0639\\u0627\\u064a\\u0636 \\u0633\\u0639\\u062f \\u0639\\u0627\\u064a\\u0636 \\u0627\\u0644\\u0642\\u062d\\u0637\\u0627\\u0646\\u0649\", \"offsetgroup\": \"\\u0639\\u0627\\u064a\\u0636 \\u0633\\u0639\\u062f \\u0639\\u0627\\u064a\\u0636 \\u0627\\u0644\\u0642\\u062d\\u0637\\u0627\\u0646\\u0649\", \"orientation\": \"v\", \"showlegend\": true, \"type\": \"histogram\", \"x\": [\"CEN 318\", \"CEN 415\", \"CEN 492\"], \"xaxis\": \"x\", \"y\": [4.045454545454546, 4.2727272727272725, 7.333333333333333], \"yaxis\": \"y\"}, {\"alignmentgroup\": \"True\", \"bingroup\": \"x\", \"histfunc\": \"sum\", \"hovertemplate\": \"Instructor=\\u0639\\u0628\\u062f\\u0627\\u0644\\u062d\\u0645\\u064a\\u062f \\u0639\\u0628\\u062f\\u0627\\u0644\\u0644\\u0647 \\u0645\\u062d\\u0645\\u062f \\u0627\\u0644\\u0639\\u0644\\u064a\\u0648\\u064a<br>Course=%{x}<br>sum of Score=%{y}<extra></extra>\", \"legendgroup\": \"\\u0639\\u0628\\u062f\\u0627\\u0644\\u062d\\u0645\\u064a\\u062f \\u0639\\u0628\\u062f\\u0627\\u0644\\u0644\\u0647 \\u0645\\u062d\\u0645\\u062f \\u0627\\u0644\\u0639\\u0644\\u064a\\u0648\\u064a\", \"marker\": {\"color\": \"#FFA15A\"}, \"name\": \"\\u0639\\u0628\\u062f\\u0627\\u0644\\u062d\\u0645\\u064a\\u062f \\u0639\\u0628\\u062f\\u0627\\u0644\\u0644\\u0647 \\u0645\\u062d\\u0645\\u062f \\u0627\\u0644\\u0639\\u0644\\u064a\\u0648\\u064a\", \"offsetgroup\": \"\\u0639\\u0628\\u062f\\u0627\\u0644\\u062d\\u0645\\u064a\\u062f \\u0639\\u0628\\u062f\\u0627\\u0644\\u0644\\u0647 \\u0645\\u062d\\u0645\\u062f \\u0627\\u0644\\u0639\\u0644\\u064a\\u0648\\u064a\", \"orientation\": \"v\", \"showlegend\": true, \"type\": \"histogram\", \"x\": [\"SWE 496\"], \"xaxis\": \"x\", \"y\": [8.0], \"yaxis\": \"y\"}, {\"alignmentgroup\": \"True\", \"bingroup\": \"x\", \"histfunc\": \"sum\", \"hovertemplate\": \"Instructor=\\u0639\\u0628\\u062f\\u0627\\u0644\\u0631\\u062d\\u0645\\u0646 \\u0627\\u0628\\u0631\\u0627\\u0647\\u064a\\u0645 \\u0639\\u0644\\u0649 \\u0627\\u0644\\u0639\\u062b\\u064a\\u0645<br>Course=%{x}<br>sum of Score=%{y}<extra></extra>\", \"legendgroup\": \"\\u0639\\u0628\\u062f\\u0627\\u0644\\u0631\\u062d\\u0645\\u0646 \\u0627\\u0628\\u0631\\u0627\\u0647\\u064a\\u0645 \\u0639\\u0644\\u0649 \\u0627\\u0644\\u0639\\u062b\\u064a\\u0645\", \"marker\": {\"color\": \"#19d3f3\"}, \"name\": \"\\u0639\\u0628\\u062f\\u0627\\u0644\\u0631\\u062d\\u0645\\u0646 \\u0627\\u0628\\u0631\\u0627\\u0647\\u064a\\u0645 \\u0639\\u0644\\u0649 \\u0627\\u0644\\u0639\\u062b\\u064a\\u0645\", \"offsetgroup\": \"\\u0639\\u0628\\u062f\\u0627\\u0644\\u0631\\u062d\\u0645\\u0646 \\u0627\\u0628\\u0631\\u0627\\u0647\\u064a\\u0645 \\u0639\\u0644\\u0649 \\u0627\\u0644\\u0639\\u062b\\u064a\\u0645\", \"orientation\": \"v\", \"showlegend\": true, \"type\": \"histogram\", \"x\": [\"IS 351\", \"IS 499\"], \"xaxis\": \"x\", \"y\": [4.113037942449707, 8.0], \"yaxis\": \"y\"}, {\"alignmentgroup\": \"True\", \"bingroup\": \"x\", \"histfunc\": \"sum\", \"hovertemplate\": \"Instructor=\\u0639\\u0628\\u062f\\u0627\\u0644\\u0631\\u062d\\u0645\\u0646 \\u0639\\u0627\\u064a\\u0634 \\u0637\\u0644\\u0642 \\u0627\\u0644\\u0645\\u0637\\u064a\\u0631\\u0649<br>Course=%{x}<br>sum of Score=%{y}<extra></extra>\", \"legendgroup\": \"\\u0639\\u0628\\u062f\\u0627\\u0644\\u0631\\u062d\\u0645\\u0646 \\u0639\\u0627\\u064a\\u0634 \\u0637\\u0644\\u0642 \\u0627\\u0644\\u0645\\u0637\\u064a\\u0631\\u0649\", \"marker\": {\"color\": \"#FF6692\"}, \"name\": \"\\u0639\\u0628\\u062f\\u0627\\u0644\\u0631\\u062d\\u0645\\u0646 \\u0639\\u0627\\u064a\\u0634 \\u0637\\u0644\\u0642 \\u0627\\u0644\\u0645\\u0637\\u064a\\u0631\\u0649\", \"offsetgroup\": \"\\u0639\\u0628\\u062f\\u0627\\u0644\\u0631\\u062d\\u0645\\u0646 \\u0639\\u0627\\u064a\\u0634 \\u0637\\u0644\\u0642 \\u0627\\u0644\\u0645\\u0637\\u064a\\u0631\\u0649\", \"orientation\": \"v\", \"showlegend\": true, \"type\": \"histogram\", \"x\": [\"CEN 442\"], \"xaxis\": \"x\", \"y\": [4.866666666666666], \"yaxis\": \"y\"}, {\"alignmentgroup\": \"True\", \"bingroup\": \"x\", \"histfunc\": \"sum\", \"hovertemplate\": \"Instructor=\\u0639\\u0628\\u062f\\u0627\\u0644\\u0631\\u062d\\u0645\\u0646 \\u0639\\u0628\\u062f\\u0627\\u0644\\u0643\\u0631\\u064a\\u0645 \\u0645\\u0631\\u0632\\u0627<br>Course=%{x}<br>sum of Score=%{y}<extra></extra>\", \"legendgroup\": \"\\u0639\\u0628\\u062f\\u0627\\u0644\\u0631\\u062d\\u0645\\u0646 \\u0639\\u0628\\u062f\\u0627\\u0644\\u0643\\u0631\\u064a\\u0645 \\u0645\\u0631\\u0632\\u0627\", \"marker\": {\"color\": \"#B6E880\"}, \"name\": \"\\u0639\\u0628\\u062f\\u0627\\u0644\\u0631\\u062d\\u0645\\u0646 \\u0639\\u0628\\u062f\\u0627\\u0644\\u0643\\u0631\\u064a\\u0645 \\u0645\\u0631\\u0632\\u0627\", \"offsetgroup\": \"\\u0639\\u0628\\u062f\\u0627\\u0644\\u0631\\u062d\\u0645\\u0646 \\u0639\\u0628\\u062f\\u0627\\u0644\\u0643\\u0631\\u064a\\u0645 \\u0645\\u0631\\u0632\\u0627\", \"orientation\": \"v\", \"showlegend\": true, \"type\": \"histogram\", \"x\": [\"IS 498\", \"IS 622\"], \"xaxis\": \"x\", \"y\": [8.0, 7.0], \"yaxis\": \"y\"}, {\"alignmentgroup\": \"True\", \"bingroup\": \"x\", \"histfunc\": \"sum\", \"hovertemplate\": \"Instructor=\\u0639\\u0628\\u062f\\u0627\\u0644\\u0631\\u062d\\u0645\\u0646 \\u0639\\u0628\\u062f\\u0627\\u0644\\u0644\\u0647 \\u062d\\u0633\\u064a\\u0646 \\u0627\\u0644\\u0634\\u0631\\u064a\\u0641<br>Course=%{x}<br>sum of Score=%{y}<extra></extra>\", \"legendgroup\": \"\\u0639\\u0628\\u062f\\u0627\\u0644\\u0631\\u062d\\u0645\\u0646 \\u0639\\u0628\\u062f\\u0627\\u0644\\u0644\\u0647 \\u062d\\u0633\\u064a\\u0646 \\u0627\\u0644\\u0634\\u0631\\u064a\\u0641\", \"marker\": {\"color\": \"#FF97FF\"}, \"name\": \"\\u0639\\u0628\\u062f\\u0627\\u0644\\u0631\\u062d\\u0645\\u0646 \\u0639\\u0628\\u062f\\u0627\\u0644\\u0644\\u0647 \\u062d\\u0633\\u064a\\u0646 \\u0627\\u0644\\u0634\\u0631\\u064a\\u0641\", \"offsetgroup\": \"\\u0639\\u0628\\u062f\\u0627\\u0644\\u0631\\u062d\\u0645\\u0646 \\u0639\\u0628\\u062f\\u0627\\u0644\\u0644\\u0647 \\u062d\\u0633\\u064a\\u0646 \\u0627\\u0644\\u0634\\u0631\\u064a\\u0641\", \"orientation\": \"v\", \"showlegend\": true, \"type\": \"histogram\", \"x\": [\"IS 362\", \"IS 498\", \"IS 499\"], \"xaxis\": \"x\", \"y\": [3.8086419753086425, 8.0, 6.0], \"yaxis\": \"y\"}, {\"alignmentgroup\": \"True\", \"bingroup\": \"x\", \"histfunc\": \"sum\", \"hovertemplate\": \"Instructor=\\u0639\\u0628\\u062f\\u0627\\u0644\\u0631\\u062d\\u0645\\u0646 \\u0639\\u0628\\u062f\\u0627\\u0644\\u0644\\u0647 \\u0639\\u0628\\u062f\\u0627\\u0644\\u0631\\u062d\\u0645\\u0646 \\u0627\\u0644\\u062e\\u0646\\u064a\\u0641\\u0631<br>Course=%{x}<br>sum of Score=%{y}<extra></extra>\", \"legendgroup\": \"\\u0639\\u0628\\u062f\\u0627\\u0644\\u0631\\u062d\\u0645\\u0646 \\u0639\\u0628\\u062f\\u0627\\u0644\\u0644\\u0647 \\u0639\\u0628\\u062f\\u0627\\u0644\\u0631\\u062d\\u0645\\u0646 \\u0627\\u0644\\u062e\\u0646\\u064a\\u0641\\u0631\", \"marker\": {\"color\": \"#FECB52\"}, \"name\": \"\\u0639\\u0628\\u062f\\u0627\\u0644\\u0631\\u062d\\u0645\\u0646 \\u0639\\u0628\\u062f\\u0627\\u0644\\u0644\\u0647 \\u0639\\u0628\\u062f\\u0627\\u0644\\u0631\\u062d\\u0645\\u0646 \\u0627\\u0644\\u062e\\u0646\\u064a\\u0641\\u0631\", \"offsetgroup\": \"\\u0639\\u0628\\u062f\\u0627\\u0644\\u0631\\u062d\\u0645\\u0646 \\u0639\\u0628\\u062f\\u0627\\u0644\\u0644\\u0647 \\u0639\\u0628\\u062f\\u0627\\u0644\\u0631\\u062d\\u0645\\u0646 \\u0627\\u0644\\u062e\\u0646\\u064a\\u0641\\u0631\", \"orientation\": \"v\", \"showlegend\": true, \"type\": \"histogram\", \"x\": [\"CSC 443\"], \"xaxis\": \"x\", \"y\": [5.7727272727272725], \"yaxis\": \"y\"}, {\"alignmentgroup\": \"True\", \"bingroup\": \"x\", \"histfunc\": \"sum\", \"hovertemplate\": \"Instructor=\\u0639\\u0628\\u062f\\u0627\\u0644\\u0633\\u0645\\u064a\\u0639 \\u0645\\u062d\\u0645\\u062f\\u0634\\u0627\\u0643\\u0631 \\u0645\\u062d\\u0645\\u062f\\u0633\\u0645\\u064a\\u0639 \\u0627\\u0644\\u062f\\u0647\\u0644\\u0648<br>Course=%{x}<br>sum of Score=%{y}<extra></extra>\", \"legendgroup\": \"\\u0639\\u0628\\u062f\\u0627\\u0644\\u0633\\u0645\\u064a\\u0639 \\u0645\\u062d\\u0645\\u062f\\u0634\\u0627\\u0643\\u0631 \\u0645\\u062d\\u0645\\u062f\\u0633\\u0645\\u064a\\u0639 \\u0627\\u0644\\u062f\\u0647\\u0644\\u0648\", \"marker\": {\"color\": \"#636efa\"}, \"name\": \"\\u0639\\u0628\\u062f\\u0627\\u0644\\u0633\\u0645\\u064a\\u0639 \\u0645\\u062d\\u0645\\u062f\\u0634\\u0627\\u0643\\u0631 \\u0645\\u062d\\u0645\\u062f\\u0633\\u0645\\u064a\\u0639 \\u0627\\u0644\\u062f\\u0647\\u0644\\u0648\", \"offsetgroup\": \"\\u0639\\u0628\\u062f\\u0627\\u0644\\u0633\\u0645\\u064a\\u0639 \\u0645\\u062d\\u0645\\u062f\\u0634\\u0627\\u0643\\u0631 \\u0645\\u062d\\u0645\\u062f\\u0633\\u0645\\u064a\\u0639 \\u0627\\u0644\\u062f\\u0647\\u0644\\u0648\", \"orientation\": \"v\", \"showlegend\": true, \"type\": \"histogram\", \"x\": [\"CEN 212\", \"CEN 415\"], \"xaxis\": \"x\", \"y\": [2.0952380952380953, 1.7777777777777777], \"yaxis\": \"y\"}, {\"alignmentgroup\": \"True\", \"bingroup\": \"x\", \"histfunc\": \"sum\", \"hovertemplate\": \"Instructor=\\u0639\\u0628\\u062f\\u0627\\u0644\\u0639\\u0632\\u064a\\u0632 \\u0633\\u0644\\u064a\\u0645\\u0627\\u0646 \\u0641\\u0647\\u062f \\u0627\\u0644\\u0645\\u0632\\u064a\\u062f<br>Course=%{x}<br>sum of Score=%{y}<extra></extra>\", \"legendgroup\": \"\\u0639\\u0628\\u062f\\u0627\\u0644\\u0639\\u0632\\u064a\\u0632 \\u0633\\u0644\\u064a\\u0645\\u0627\\u0646 \\u0641\\u0647\\u062f \\u0627\\u0644\\u0645\\u0632\\u064a\\u062f\", \"marker\": {\"color\": \"#EF553B\"}, \"name\": \"\\u0639\\u0628\\u062f\\u0627\\u0644\\u0639\\u0632\\u064a\\u0632 \\u0633\\u0644\\u064a\\u0645\\u0627\\u0646 \\u0641\\u0647\\u062f \\u0627\\u0644\\u0645\\u0632\\u064a\\u062f\", \"offsetgroup\": \"\\u0639\\u0628\\u062f\\u0627\\u0644\\u0639\\u0632\\u064a\\u0632 \\u0633\\u0644\\u064a\\u0645\\u0627\\u0646 \\u0641\\u0647\\u062f \\u0627\\u0644\\u0645\\u0632\\u064a\\u062f\", \"orientation\": \"v\", \"showlegend\": true, \"type\": \"histogram\", \"x\": [\"CEN 699\"], \"xaxis\": \"x\", \"y\": [0.0], \"yaxis\": \"y\"}, {\"alignmentgroup\": \"True\", \"bingroup\": \"x\", \"histfunc\": \"sum\", \"hovertemplate\": \"Instructor=\\u0639\\u0628\\u062f\\u0627\\u0644\\u0639\\u0632\\u064a\\u0632 \\u0639\\u0645\\u0631 \\u0639\\u0628\\u062f\\u0627\\u0644\\u0644\\u0647 \\u0627\\u0644\\u0633\\u062f\\u062d\\u0627\\u0646<br>Course=%{x}<br>sum of Score=%{y}<extra></extra>\", \"legendgroup\": \"\\u0639\\u0628\\u062f\\u0627\\u0644\\u0639\\u0632\\u064a\\u0632 \\u0639\\u0645\\u0631 \\u0639\\u0628\\u062f\\u0627\\u0644\\u0644\\u0647 \\u0627\\u0644\\u0633\\u062f\\u062d\\u0627\\u0646\", \"marker\": {\"color\": \"#00cc96\"}, \"name\": \"\\u0639\\u0628\\u062f\\u0627\\u0644\\u0639\\u0632\\u064a\\u0632 \\u0639\\u0645\\u0631 \\u0639\\u0628\\u062f\\u0627\\u0644\\u0644\\u0647 \\u0627\\u0644\\u0633\\u062f\\u062d\\u0627\\u0646\", \"offsetgroup\": \"\\u0639\\u0628\\u062f\\u0627\\u0644\\u0639\\u0632\\u064a\\u0632 \\u0639\\u0645\\u0631 \\u0639\\u0628\\u062f\\u0627\\u0644\\u0644\\u0647 \\u0627\\u0644\\u0633\\u062f\\u062d\\u0627\\u0646\", \"orientation\": \"v\", \"showlegend\": true, \"type\": \"histogram\", \"x\": [\"SWE 466\", \"SWE 496\"], \"xaxis\": \"x\", \"y\": [4.445601851851851, 8.0], \"yaxis\": \"y\"}, {\"alignmentgroup\": \"True\", \"bingroup\": \"x\", \"histfunc\": \"sum\", \"hovertemplate\": \"Instructor=\\u0639\\u0628\\u062f\\u0627\\u0644\\u0641\\u062a\\u0627\\u062d \\u0635\\u0627\\u0644\\u062d \\u0628\\u0644\\u063a\\u064a\\u062b<br>Course=%{x}<br>sum of Score=%{y}<extra></extra>\", \"legendgroup\": \"\\u0639\\u0628\\u062f\\u0627\\u0644\\u0641\\u062a\\u0627\\u062d \\u0635\\u0627\\u0644\\u062d \\u0628\\u0644\\u063a\\u064a\\u062b\", \"marker\": {\"color\": \"#ab63fa\"}, \"name\": \"\\u0639\\u0628\\u062f\\u0627\\u0644\\u0641\\u062a\\u0627\\u062d \\u0635\\u0627\\u0644\\u062d \\u0628\\u0644\\u063a\\u064a\\u062b\", \"offsetgroup\": \"\\u0639\\u0628\\u062f\\u0627\\u0644\\u0641\\u062a\\u0627\\u062d \\u0635\\u0627\\u0644\\u062d \\u0628\\u0644\\u063a\\u064a\\u062b\", \"orientation\": \"v\", \"showlegend\": true, \"type\": \"histogram\", \"x\": [\"CSC 512\", \"CSC 612\"], \"xaxis\": \"x\", \"y\": [2.7142857142857144, 5.75], \"yaxis\": \"y\"}, {\"alignmentgroup\": \"True\", \"bingroup\": \"x\", \"histfunc\": \"sum\", \"hovertemplate\": \"Instructor=\\u0639\\u0628\\u062f\\u0627\\u0644\\u0644\\u0647 \\u0645\\u062d\\u0645\\u062f \\u0639\\u0628\\u062f\\u0627\\u0644\\u0644\\u0647 \\u0627\\u0644\\u0636\\u0644\\u0639\\u0627\\u0646<br>Course=%{x}<br>sum of Score=%{y}<extra></extra>\", \"legendgroup\": \"\\u0639\\u0628\\u062f\\u0627\\u0644\\u0644\\u0647 \\u0645\\u062d\\u0645\\u062f \\u0639\\u0628\\u062f\\u0627\\u0644\\u0644\\u0647 \\u0627\\u0644\\u0636\\u0644\\u0639\\u0627\\u0646\", \"marker\": {\"color\": \"#FFA15A\"}, \"name\": \"\\u0639\\u0628\\u062f\\u0627\\u0644\\u0644\\u0647 \\u0645\\u062d\\u0645\\u062f \\u0639\\u0628\\u062f\\u0627\\u0644\\u0644\\u0647 \\u0627\\u0644\\u0636\\u0644\\u0639\\u0627\\u0646\", \"offsetgroup\": \"\\u0639\\u0628\\u062f\\u0627\\u0644\\u0644\\u0647 \\u0645\\u062d\\u0645\\u062f \\u0639\\u0628\\u062f\\u0627\\u0644\\u0644\\u0647 \\u0627\\u0644\\u0636\\u0644\\u0639\\u0627\\u0646\", \"orientation\": \"v\", \"showlegend\": true, \"type\": \"histogram\", \"x\": [\"CSC 698\"], \"xaxis\": \"x\", \"y\": [8.0], \"yaxis\": \"y\"}, {\"alignmentgroup\": \"True\", \"bingroup\": \"x\", \"histfunc\": \"sum\", \"hovertemplate\": \"Instructor=\\u0639\\u0628\\u062f\\u0627\\u0644\\u0645\\u062c\\u064a\\u062f \\u0627\\u0628\\u0631\\u0627\\u0647\\u064a\\u0645 \\u0633\\u0644\\u064a\\u0645\\u0627\\u0646 \\u0627\\u0645\\u064a\\u0631<br>Course=%{x}<br>sum of Score=%{y}<extra></extra>\", \"legendgroup\": \"\\u0639\\u0628\\u062f\\u0627\\u0644\\u0645\\u062c\\u064a\\u062f \\u0627\\u0628\\u0631\\u0627\\u0647\\u064a\\u0645 \\u0633\\u0644\\u064a\\u0645\\u0627\\u0646 \\u0627\\u0645\\u064a\\u0631\", \"marker\": {\"color\": \"#19d3f3\"}, \"name\": \"\\u0639\\u0628\\u062f\\u0627\\u0644\\u0645\\u062c\\u064a\\u062f \\u0627\\u0628\\u0631\\u0627\\u0647\\u064a\\u0645 \\u0633\\u0644\\u064a\\u0645\\u0627\\u0646 \\u0627\\u0645\\u064a\\u0631\", \"offsetgroup\": \"\\u0639\\u0628\\u062f\\u0627\\u0644\\u0645\\u062c\\u064a\\u062f \\u0627\\u0628\\u0631\\u0627\\u0647\\u064a\\u0645 \\u0633\\u0644\\u064a\\u0645\\u0627\\u0646 \\u0627\\u0645\\u064a\\u0631\", \"orientation\": \"v\", \"showlegend\": true, \"type\": \"histogram\", \"x\": [\"CSC 111\", \"CSC 497\"], \"xaxis\": \"x\", \"y\": [4.833333333333333, 6.0], \"yaxis\": \"y\"}, {\"alignmentgroup\": \"True\", \"bingroup\": \"x\", \"histfunc\": \"sum\", \"hovertemplate\": \"Instructor=\\u0639\\u0628\\u062f\\u0627\\u0644\\u0645\\u062d\\u0633\\u0646 \\u0645\\u062f\\u0644\\u0647 \\u0639\\u0627\\u064a\\u0634 \\u0627\\u0644\\u0645\\u0637\\u064a\\u0631\\u064a<br>Course=%{x}<br>sum of Score=%{y}<extra></extra>\", \"legendgroup\": \"\\u0639\\u0628\\u062f\\u0627\\u0644\\u0645\\u062d\\u0633\\u0646 \\u0645\\u062f\\u0644\\u0647 \\u0639\\u0627\\u064a\\u0634 \\u0627\\u0644\\u0645\\u0637\\u064a\\u0631\\u064a\", \"marker\": {\"color\": \"#FF6692\"}, \"name\": \"\\u0639\\u0628\\u062f\\u0627\\u0644\\u0645\\u062d\\u0633\\u0646 \\u0645\\u062f\\u0644\\u0647 \\u0639\\u0627\\u064a\\u0634 \\u0627\\u0644\\u0645\\u0637\\u064a\\u0631\\u064a\", \"offsetgroup\": \"\\u0639\\u0628\\u062f\\u0627\\u0644\\u0645\\u062d\\u0633\\u0646 \\u0645\\u062f\\u0644\\u0647 \\u0639\\u0627\\u064a\\u0634 \\u0627\\u0644\\u0645\\u0637\\u064a\\u0631\\u064a\", \"orientation\": \"v\", \"showlegend\": true, \"type\": \"histogram\", \"x\": [\"CEN 600\"], \"xaxis\": \"x\", \"y\": [0.0], \"yaxis\": \"y\"}, {\"alignmentgroup\": \"True\", \"bingroup\": \"x\", \"histfunc\": \"sum\", \"hovertemplate\": \"Instructor=\\u0639\\u0628\\u062f\\u0627\\u0644\\u0645\\u0644\\u0643 \\u0628\\u0634\\u064a\\u0631 \\u0627\\u0644\\u0631\\u062d\\u0627\\u0644<br>Course=%{x}<br>sum of Score=%{y}<extra></extra>\", \"legendgroup\": \"\\u0639\\u0628\\u062f\\u0627\\u0644\\u0645\\u0644\\u0643 \\u0628\\u0634\\u064a\\u0631 \\u0627\\u0644\\u0631\\u062d\\u0627\\u0644\", \"marker\": {\"color\": \"#B6E880\"}, \"name\": \"\\u0639\\u0628\\u062f\\u0627\\u0644\\u0645\\u0644\\u0643 \\u0628\\u0634\\u064a\\u0631 \\u0627\\u0644\\u0631\\u062d\\u0627\\u0644\", \"offsetgroup\": \"\\u0639\\u0628\\u062f\\u0627\\u0644\\u0645\\u0644\\u0643 \\u0628\\u0634\\u064a\\u0631 \\u0627\\u0644\\u0631\\u062d\\u0627\\u0644\", \"orientation\": \"v\", \"showlegend\": true, \"type\": \"histogram\", \"x\": [\"CEN 447\"], \"xaxis\": \"x\", \"y\": [5.3], \"yaxis\": \"y\"}, {\"alignmentgroup\": \"True\", \"bingroup\": \"x\", \"histfunc\": \"sum\", \"hovertemplate\": \"Instructor=\\u0639\\u0628\\u062f\\u0627\\u0644\\u0645\\u0644\\u0643 \\u0633\\u0644\\u0645\\u0627\\u0646 \\u0639\\u0628\\u062f\\u0627\\u0644\\u0631\\u062d\\u0645\\u0646 \\u0627\\u0644\\u0633\\u0644\\u0645\\u0627\\u0646<br>Course=%{x}<br>sum of Score=%{y}<extra></extra>\", \"legendgroup\": \"\\u0639\\u0628\\u062f\\u0627\\u0644\\u0645\\u0644\\u0643 \\u0633\\u0644\\u0645\\u0627\\u0646 \\u0639\\u0628\\u062f\\u0627\\u0644\\u0631\\u062d\\u0645\\u0646 \\u0627\\u0644\\u0633\\u0644\\u0645\\u0627\\u0646\", \"marker\": {\"color\": \"#FF97FF\"}, \"name\": \"\\u0639\\u0628\\u062f\\u0627\\u0644\\u0645\\u0644\\u0643 \\u0633\\u0644\\u0645\\u0627\\u0646 \\u0639\\u0628\\u062f\\u0627\\u0644\\u0631\\u062d\\u0645\\u0646 \\u0627\\u0644\\u0633\\u0644\\u0645\\u0627\\u0646\", \"offsetgroup\": \"\\u0639\\u0628\\u062f\\u0627\\u0644\\u0645\\u0644\\u0643 \\u0633\\u0644\\u0645\\u0627\\u0646 \\u0639\\u0628\\u062f\\u0627\\u0644\\u0631\\u062d\\u0645\\u0646 \\u0627\\u0644\\u0633\\u0644\\u0645\\u0627\\u0646\", \"orientation\": \"v\", \"showlegend\": true, \"type\": \"histogram\", \"x\": [\"CSC 497\"], \"xaxis\": \"x\", \"y\": [8.0], \"yaxis\": \"y\"}, {\"alignmentgroup\": \"True\", \"bingroup\": \"x\", \"histfunc\": \"sum\", \"hovertemplate\": \"Instructor=\\u0639\\u0628\\u062f\\u0627\\u0644\\u0645\\u0646\\u0639\\u0645 \\u0645\\u062d\\u0645\\u062f\\u0639\\u0644\\u064a \\u0645\\u062d\\u0645\\u062f \\u062d\\u0633\\u0646 \\u0627\\u0631\\u062a\\u0648\\u0644\\u0649<br>Course=%{x}<br>sum of Score=%{y}<extra></extra>\", \"legendgroup\": \"\\u0639\\u0628\\u062f\\u0627\\u0644\\u0645\\u0646\\u0639\\u0645 \\u0645\\u062d\\u0645\\u062f\\u0639\\u0644\\u064a \\u0645\\u062d\\u0645\\u062f \\u062d\\u0633\\u0646 \\u0627\\u0631\\u062a\\u0648\\u0644\\u0649\", \"marker\": {\"color\": \"#FECB52\"}, \"name\": \"\\u0639\\u0628\\u062f\\u0627\\u0644\\u0645\\u0646\\u0639\\u0645 \\u0645\\u062d\\u0645\\u062f\\u0639\\u0644\\u064a \\u0645\\u062d\\u0645\\u062f \\u062d\\u0633\\u0646 \\u0627\\u0631\\u062a\\u0648\\u0644\\u0649\", \"offsetgroup\": \"\\u0639\\u0628\\u062f\\u0627\\u0644\\u0645\\u0646\\u0639\\u0645 \\u0645\\u062d\\u0645\\u062f\\u0639\\u0644\\u064a \\u0645\\u062d\\u0645\\u062f \\u062d\\u0633\\u0646 \\u0627\\u0631\\u062a\\u0648\\u0644\\u0649\", \"orientation\": \"v\", \"showlegend\": true, \"type\": \"histogram\", \"x\": [\"CSC 304\", \"CSC 339\", \"CSC 496\", \"CSC 699\"], \"xaxis\": \"x\", \"y\": [4.083333333333333, 2.8111801242236023, 2.6666666666666665, 0.0], \"yaxis\": \"y\"}, {\"alignmentgroup\": \"True\", \"bingroup\": \"x\", \"histfunc\": \"sum\", \"hovertemplate\": \"Instructor=\\u0639\\u0628\\u062f\\u0627\\u0644\\u0648\\u062f\\u0648\\u0648\\u062f \\u0639\\u0628\\u062f\\u0627\\u0644\\u0648\\u062d\\u064a\\u062f<br>Course=%{x}<br>sum of Score=%{y}<extra></extra>\", \"legendgroup\": \"\\u0639\\u0628\\u062f\\u0627\\u0644\\u0648\\u062f\\u0648\\u0648\\u062f \\u0639\\u0628\\u062f\\u0627\\u0644\\u0648\\u062d\\u064a\\u062f\", \"marker\": {\"color\": \"#636efa\"}, \"name\": \"\\u0639\\u0628\\u062f\\u0627\\u0644\\u0648\\u062f\\u0648\\u0648\\u062f \\u0639\\u0628\\u062f\\u0627\\u0644\\u0648\\u062d\\u064a\\u062f\", \"offsetgroup\": \"\\u0639\\u0628\\u062f\\u0627\\u0644\\u0648\\u062f\\u0648\\u0648\\u062f \\u0639\\u0628\\u062f\\u0627\\u0644\\u0648\\u062d\\u064a\\u062f\", \"orientation\": \"v\", \"showlegend\": true, \"type\": \"histogram\", \"x\": [\"CEN 351\", \"CEN 492\", \"CEN 493\", \"CEN 697\"], \"xaxis\": \"x\", \"y\": [2.75, 8.0, 7.0, 8.0], \"yaxis\": \"y\"}, {\"alignmentgroup\": \"True\", \"bingroup\": \"x\", \"histfunc\": \"sum\", \"hovertemplate\": \"Instructor=\\u0639\\u0642\\u064a\\u0644 \\u0645\\u062d\\u0645\\u062f \\u0645\\u0635\\u0637\\u0641\\u0649 \\u0639\\u0628\\u062f\\u0627\\u0644\\u0631\\u062d\\u0645\\u0646 \\u0627\\u0639\\u0638\\u0645<br>Course=%{x}<br>sum of Score=%{y}<extra></extra>\", \"legendgroup\": \"\\u0639\\u0642\\u064a\\u0644 \\u0645\\u062d\\u0645\\u062f \\u0645\\u0635\\u0637\\u0641\\u0649 \\u0639\\u0628\\u062f\\u0627\\u0644\\u0631\\u062d\\u0645\\u0646 \\u0627\\u0639\\u0638\\u0645\", \"marker\": {\"color\": \"#EF553B\"}, \"name\": \"\\u0639\\u0642\\u064a\\u0644 \\u0645\\u062d\\u0645\\u062f \\u0645\\u0635\\u0637\\u0641\\u0649 \\u0639\\u0628\\u062f\\u0627\\u0644\\u0631\\u062d\\u0645\\u0646 \\u0627\\u0639\\u0638\\u0645\", \"offsetgroup\": \"\\u0639\\u0642\\u064a\\u0644 \\u0645\\u062d\\u0645\\u062f \\u0645\\u0635\\u0637\\u0641\\u0649 \\u0639\\u0628\\u062f\\u0627\\u0644\\u0631\\u062d\\u0645\\u0646 \\u0627\\u0639\\u0638\\u0645\", \"orientation\": \"v\", \"showlegend\": true, \"type\": \"histogram\", \"x\": [\"CSC 281\", \"CSC 497\", \"CSC 700\"], \"xaxis\": \"x\", \"y\": [4.193247126436782, 8.0, 0.0], \"yaxis\": \"y\"}, {\"alignmentgroup\": \"True\", \"bingroup\": \"x\", \"histfunc\": \"sum\", \"hovertemplate\": \"Instructor=\\u0639\\u0645\\u0631 \\u0627\\u0628\\u0631\\u0627\\u0647\\u064a\\u0645 \\u0639\\u0628\\u062f\\u0627\\u0644\\u0644\\u0647 \\u0627\\u0644\\u0635\\u0627\\u0644\\u062d<br>Course=%{x}<br>sum of Score=%{y}<extra></extra>\", \"legendgroup\": \"\\u0639\\u0645\\u0631 \\u0627\\u0628\\u0631\\u0627\\u0647\\u064a\\u0645 \\u0639\\u0628\\u062f\\u0627\\u0644\\u0644\\u0647 \\u0627\\u0644\\u0635\\u0627\\u0644\\u062d\", \"marker\": {\"color\": \"#00cc96\"}, \"name\": \"\\u0639\\u0645\\u0631 \\u0627\\u0628\\u0631\\u0627\\u0647\\u064a\\u0645 \\u0639\\u0628\\u062f\\u0627\\u0644\\u0644\\u0647 \\u0627\\u0644\\u0635\\u0627\\u0644\\u062d\", \"offsetgroup\": \"\\u0639\\u0645\\u0631 \\u0627\\u0628\\u0631\\u0627\\u0647\\u064a\\u0645 \\u0639\\u0628\\u062f\\u0627\\u0644\\u0644\\u0647 \\u0627\\u0644\\u0635\\u0627\\u0644\\u062d\", \"orientation\": \"v\", \"showlegend\": true, \"type\": \"histogram\", \"x\": [\"CEN 999\", \"CSC 999\", \"IS 999\"], \"xaxis\": \"x\", \"y\": [0.0, 0.0, 0.0], \"yaxis\": \"y\"}, {\"alignmentgroup\": \"True\", \"bingroup\": \"x\", \"histfunc\": \"sum\", \"hovertemplate\": \"Instructor=\\u0639\\u0645\\u0631 \\u0639\\u0628\\u062f\\u0627\\u0644\\u0639\\u0632\\u064a\\u0632 \\u0645\\u062d\\u0645\\u062f \\u0627\\u0644\\u0631\\u0648\\u064a\\u0633<br>Course=%{x}<br>sum of Score=%{y}<extra></extra>\", \"legendgroup\": \"\\u0639\\u0645\\u0631 \\u0639\\u0628\\u062f\\u0627\\u0644\\u0639\\u0632\\u064a\\u0632 \\u0645\\u062d\\u0645\\u062f \\u0627\\u0644\\u0631\\u0648\\u064a\\u0633\", \"marker\": {\"color\": \"#ab63fa\"}, \"name\": \"\\u0639\\u0645\\u0631 \\u0639\\u0628\\u062f\\u0627\\u0644\\u0639\\u0632\\u064a\\u0632 \\u0645\\u062d\\u0645\\u062f \\u0627\\u0644\\u0631\\u0648\\u064a\\u0633\", \"offsetgroup\": \"\\u0639\\u0645\\u0631 \\u0639\\u0628\\u062f\\u0627\\u0644\\u0639\\u0632\\u064a\\u0632 \\u0645\\u062d\\u0645\\u062f \\u0627\\u0644\\u0631\\u0648\\u064a\\u0633\", \"orientation\": \"v\", \"showlegend\": true, \"type\": \"histogram\", \"x\": [\"IS 492\", \"IS 498\", \"IS 499\", \"IS 550\", \"IS 595\"], \"xaxis\": \"x\", \"y\": [5.114285714285714, 7.0, 7.0, 2.1, 8.0], \"yaxis\": \"y\"}, {\"alignmentgroup\": \"True\", \"bingroup\": \"x\", \"histfunc\": \"sum\", \"hovertemplate\": \"Instructor=\\u0639\\u064a\\u0633\\u0649 \\u0627\\u062d\\u0645\\u062f \\u0646\\u0627\\u0635\\u0631 \\u0627\\u0644\\u063a\\u0646\\u064a\\u0645<br>Course=%{x}<br>sum of Score=%{y}<extra></extra>\", \"legendgroup\": \"\\u0639\\u064a\\u0633\\u0649 \\u0627\\u062d\\u0645\\u062f \\u0646\\u0627\\u0635\\u0631 \\u0627\\u0644\\u063a\\u0646\\u064a\\u0645\", \"marker\": {\"color\": \"#FFA15A\"}, \"name\": \"\\u0639\\u064a\\u0633\\u0649 \\u0627\\u062d\\u0645\\u062f \\u0646\\u0627\\u0635\\u0631 \\u0627\\u0644\\u063a\\u0646\\u064a\\u0645\", \"offsetgroup\": \"\\u0639\\u064a\\u0633\\u0649 \\u0627\\u062d\\u0645\\u062f \\u0646\\u0627\\u0635\\u0631 \\u0627\\u0644\\u063a\\u0646\\u064a\\u0645\", \"orientation\": \"v\", \"showlegend\": true, \"type\": \"histogram\", \"x\": [\"CEN 318\", \"CEN 390\"], \"xaxis\": \"x\", \"y\": [2.230769230769231, 4.711538461538462], \"yaxis\": \"y\"}, {\"alignmentgroup\": \"True\", \"bingroup\": \"x\", \"histfunc\": \"sum\", \"hovertemplate\": \"Instructor=\\u063a\\u0645 \\u0645\\u062d\\u0645\\u062f<br>Course=%{x}<br>sum of Score=%{y}<extra></extra>\", \"legendgroup\": \"\\u063a\\u0645 \\u0645\\u062d\\u0645\\u062f\", \"marker\": {\"color\": \"#19d3f3\"}, \"name\": \"\\u063a\\u0645 \\u0645\\u062d\\u0645\\u062f\", \"offsetgroup\": \"\\u063a\\u0645 \\u0645\\u062d\\u0645\\u062f\", \"orientation\": \"v\", \"showlegend\": true, \"type\": \"histogram\", \"x\": [\"CEN 460\", \"CEN 492\", \"CEN 596\", \"CEN 696\", \"CEN 700\"], \"xaxis\": \"x\", \"y\": [5.361111111111111, 8.0, 0.0, 8.0, 0.0], \"yaxis\": \"y\"}, {\"alignmentgroup\": \"True\", \"bingroup\": \"x\", \"histfunc\": \"sum\", \"hovertemplate\": \"Instructor=\\u0641\\u0636\\u0644 \\u0627\\u0645\\u064a\\u0646 \\u062d\\u0645\\u064a\\u062f \\u0627\\u0645\\u064a\\u0646 \\u0635\\u0648\\u0641\\u064a<br>Course=%{x}<br>sum of Score=%{y}<extra></extra>\", \"legendgroup\": \"\\u0641\\u0636\\u0644 \\u0627\\u0645\\u064a\\u0646 \\u062d\\u0645\\u064a\\u062f \\u0627\\u0645\\u064a\\u0646 \\u0635\\u0648\\u0641\\u064a\", \"marker\": {\"color\": \"#FF6692\"}, \"name\": \"\\u0641\\u0636\\u0644 \\u0627\\u0645\\u064a\\u0646 \\u062d\\u0645\\u064a\\u062f \\u0627\\u0645\\u064a\\u0646 \\u0635\\u0648\\u0641\\u064a\", \"offsetgroup\": \"\\u0641\\u0636\\u0644 \\u0627\\u0645\\u064a\\u0646 \\u062d\\u0645\\u064a\\u062f \\u0627\\u0645\\u064a\\u0646 \\u0635\\u0648\\u0641\\u064a\", \"orientation\": \"v\", \"showlegend\": true, \"type\": \"histogram\", \"x\": [\"SWE 444\", \"SWE 496\", \"SWE 497\", \"SWE 594\"], \"xaxis\": \"x\", \"y\": [7.684615384615384, 7.0, 8.0, 0.0], \"yaxis\": \"y\"}, {\"alignmentgroup\": \"True\", \"bingroup\": \"x\", \"histfunc\": \"sum\", \"hovertemplate\": \"Instructor=\\u0641\\u0647\\u062f \\u0639\\u0628\\u062f\\u0627\\u0644\\u0644\\u0647 \\u0645\\u062d\\u0645\\u062f \\u0627\\u0644\\u0636\\u0644\\u0639\\u0627\\u0646<br>Course=%{x}<br>sum of Score=%{y}<extra></extra>\", \"legendgroup\": \"\\u0641\\u0647\\u062f \\u0639\\u0628\\u062f\\u0627\\u0644\\u0644\\u0647 \\u0645\\u062d\\u0645\\u062f \\u0627\\u0644\\u0636\\u0644\\u0639\\u0627\\u0646\", \"marker\": {\"color\": \"#B6E880\"}, \"name\": \"\\u0641\\u0647\\u062f \\u0639\\u0628\\u062f\\u0627\\u0644\\u0644\\u0647 \\u0645\\u062d\\u0645\\u062f \\u0627\\u0644\\u0636\\u0644\\u0639\\u0627\\u0646\", \"offsetgroup\": \"\\u0641\\u0647\\u062f \\u0639\\u0628\\u062f\\u0627\\u0644\\u0644\\u0647 \\u0645\\u062d\\u0645\\u062f \\u0627\\u0644\\u0636\\u0644\\u0639\\u0627\\u0646\", \"orientation\": \"v\", \"showlegend\": true, \"type\": \"histogram\", \"x\": [\"CSC 212\", \"CSC 496\"], \"xaxis\": \"x\", \"y\": [3.1492140921409213, 8.0], \"yaxis\": \"y\"}, {\"alignmentgroup\": \"True\", \"bingroup\": \"x\", \"histfunc\": \"sum\", \"hovertemplate\": \"Instructor=\\u0641\\u0648\\u0627\\u0632 \\u0639\\u0628\\u062f\\u0627\\u0644\\u0639\\u0632\\u064a\\u0632 \\u0639\\u0628\\u062f\\u0627\\u0644\\u0644\\u0647 \\u0627\\u0644\\u0633\\u0644\\u064a\\u0645\\u0627\\u0646<br>Course=%{x}<br>sum of Score=%{y}<extra></extra>\", \"legendgroup\": \"\\u0641\\u0648\\u0627\\u0632 \\u0639\\u0628\\u062f\\u0627\\u0644\\u0639\\u0632\\u064a\\u0632 \\u0639\\u0628\\u062f\\u0627\\u0644\\u0644\\u0647 \\u0627\\u0644\\u0633\\u0644\\u064a\\u0645\\u0627\\u0646\", \"marker\": {\"color\": \"#FF97FF\"}, \"name\": \"\\u0641\\u0648\\u0627\\u0632 \\u0639\\u0628\\u062f\\u0627\\u0644\\u0639\\u0632\\u064a\\u0632 \\u0639\\u0628\\u062f\\u0627\\u0644\\u0644\\u0647 \\u0627\\u0644\\u0633\\u0644\\u064a\\u0645\\u0627\\u0646\", \"offsetgroup\": \"\\u0641\\u0648\\u0627\\u0632 \\u0639\\u0628\\u062f\\u0627\\u0644\\u0639\\u0632\\u064a\\u0632 \\u0639\\u0628\\u062f\\u0627\\u0644\\u0644\\u0647 \\u0627\\u0644\\u0633\\u0644\\u064a\\u0645\\u0627\\u0646\", \"orientation\": \"v\", \"showlegend\": true, \"type\": \"histogram\", \"x\": [\"CSC 496\"], \"xaxis\": \"x\", \"y\": [7.0], \"yaxis\": \"y\"}, {\"alignmentgroup\": \"True\", \"bingroup\": \"x\", \"histfunc\": \"sum\", \"hovertemplate\": \"Instructor=\\u0641\\u064a\\u0635\\u0644 \\u0639\\u0628\\u062f\\u0627\\u0644\\u0639\\u0632\\u064a\\u0632 \\u0639\\u0628\\u062f\\u0627\\u0644\\u0631\\u062d\\u0645\\u0646 \\u0627\\u0644\\u0645\\u0633\\u0646\\u062f<br>Course=%{x}<br>sum of Score=%{y}<extra></extra>\", \"legendgroup\": \"\\u0641\\u064a\\u0635\\u0644 \\u0639\\u0628\\u062f\\u0627\\u0644\\u0639\\u0632\\u064a\\u0632 \\u0639\\u0628\\u062f\\u0627\\u0644\\u0631\\u062d\\u0645\\u0646 \\u0627\\u0644\\u0645\\u0633\\u0646\\u062f\", \"marker\": {\"color\": \"#FECB52\"}, \"name\": \"\\u0641\\u064a\\u0635\\u0644 \\u0639\\u0628\\u062f\\u0627\\u0644\\u0639\\u0632\\u064a\\u0632 \\u0639\\u0628\\u062f\\u0627\\u0644\\u0631\\u062d\\u0645\\u0646 \\u0627\\u0644\\u0645\\u0633\\u0646\\u062f\", \"offsetgroup\": \"\\u0641\\u064a\\u0635\\u0644 \\u0639\\u0628\\u062f\\u0627\\u0644\\u0639\\u0632\\u064a\\u0632 \\u0639\\u0628\\u062f\\u0627\\u0644\\u0631\\u062d\\u0645\\u0646 \\u0627\\u0644\\u0645\\u0633\\u0646\\u062f\", \"orientation\": \"v\", \"showlegend\": true, \"type\": \"histogram\", \"x\": [\"IS 240\", \"IS 499\", \"IS 629\"], \"xaxis\": \"x\", \"y\": [3.75, 8.0, 6.5], \"yaxis\": \"y\"}, {\"alignmentgroup\": \"True\", \"bingroup\": \"x\", \"histfunc\": \"sum\", \"hovertemplate\": \"Instructor=\\u0643\\u0645\\u0627\\u0644 \\u0627\\u0644\\u062f\\u064a\\u0646 \\u062d\\u0641\\u0646\\u0627\\u0648\\u0649 \\u0627\\u062d\\u0645\\u062f \\u0647\\u0648\\u0627\\u0645<br>Course=%{x}<br>sum of Score=%{y}<extra></extra>\", \"legendgroup\": \"\\u0643\\u0645\\u0627\\u0644 \\u0627\\u0644\\u062f\\u064a\\u0646 \\u062d\\u0641\\u0646\\u0627\\u0648\\u0649 \\u0627\\u062d\\u0645\\u062f \\u0647\\u0648\\u0627\\u0645\", \"marker\": {\"color\": \"#636efa\"}, \"name\": \"\\u0643\\u0645\\u0627\\u0644 \\u0627\\u0644\\u062f\\u064a\\u0646 \\u062d\\u0641\\u0646\\u0627\\u0648\\u0649 \\u0627\\u062d\\u0645\\u062f \\u0647\\u0648\\u0627\\u0645\", \"offsetgroup\": \"\\u0643\\u0645\\u0627\\u0644 \\u0627\\u0644\\u062f\\u064a\\u0646 \\u062d\\u0641\\u0646\\u0627\\u0648\\u0649 \\u0627\\u062d\\u0645\\u062f \\u0647\\u0648\\u0627\\u0645\", \"orientation\": \"v\", \"showlegend\": true, \"type\": \"histogram\", \"x\": [\"CSC 380\", \"CSC 383\"], \"xaxis\": \"x\", \"y\": [3.9130434782608696, 3.2777777777777777], \"yaxis\": \"y\"}, {\"alignmentgroup\": \"True\", \"bingroup\": \"x\", \"histfunc\": \"sum\", \"hovertemplate\": \"Instructor=\\u0645\\u0627\\u062c\\u062f \\u0639\\u0628\\u062f\\u0627\\u0644\\u0644\\u0647 \\u0645\\u062d\\u0645\\u062f \\u0627\\u0644\\u0631\\u0633\\u064a\\u0646\\u0649<br>Course=%{x}<br>sum of Score=%{y}<extra></extra>\", \"legendgroup\": \"\\u0645\\u0627\\u062c\\u062f \\u0639\\u0628\\u062f\\u0627\\u0644\\u0644\\u0647 \\u0645\\u062d\\u0645\\u062f \\u0627\\u0644\\u0631\\u0633\\u064a\\u0646\\u0649\", \"marker\": {\"color\": \"#EF553B\"}, \"name\": \"\\u0645\\u0627\\u062c\\u062f \\u0639\\u0628\\u062f\\u0627\\u0644\\u0644\\u0647 \\u0645\\u062d\\u0645\\u062f \\u0627\\u0644\\u0631\\u0633\\u064a\\u0646\\u0649\", \"offsetgroup\": \"\\u0645\\u0627\\u062c\\u062f \\u0639\\u0628\\u062f\\u0627\\u0644\\u0644\\u0647 \\u0645\\u062d\\u0645\\u062f \\u0627\\u0644\\u0631\\u0633\\u064a\\u0646\\u0649\", \"orientation\": \"v\", \"showlegend\": true, \"type\": \"histogram\", \"x\": [\"CEN 492\", \"CEN 573\"], \"xaxis\": \"x\", \"y\": [6.0, 8.0], \"yaxis\": \"y\"}, {\"alignmentgroup\": \"True\", \"bingroup\": \"x\", \"histfunc\": \"sum\", \"hovertemplate\": \"Instructor=\\u0645\\u0627\\u062c\\u062f \\u0639\\u0628\\u062f\\u0627\\u0644\\u0644\\u0647 \\u0645\\u062d\\u0645\\u062f \\u0645\\u0642\\u0631\\u0646 \\u0627\\u0644 \\u0633\\u0639\\u0648\\u062f<br>Course=%{x}<br>sum of Score=%{y}<extra></extra>\", \"legendgroup\": \"\\u0645\\u0627\\u062c\\u062f \\u0639\\u0628\\u062f\\u0627\\u0644\\u0644\\u0647 \\u0645\\u062d\\u0645\\u062f \\u0645\\u0642\\u0631\\u0646 \\u0627\\u0644 \\u0633\\u0639\\u0648\\u062f\", \"marker\": {\"color\": \"#00cc96\"}, \"name\": \"\\u0645\\u0627\\u062c\\u062f \\u0639\\u0628\\u062f\\u0627\\u0644\\u0644\\u0647 \\u0645\\u062d\\u0645\\u062f \\u0645\\u0642\\u0631\\u0646 \\u0627\\u0644 \\u0633\\u0639\\u0648\\u062f\", \"offsetgroup\": \"\\u0645\\u0627\\u062c\\u062f \\u0639\\u0628\\u062f\\u0627\\u0644\\u0644\\u0647 \\u0645\\u062d\\u0645\\u062f \\u0645\\u0642\\u0631\\u0646 \\u0627\\u0644 \\u0633\\u0639\\u0648\\u062f\", \"orientation\": \"v\", \"showlegend\": true, \"type\": \"histogram\", \"x\": [\"IS 532\", \"IS 595\", \"IS 696\", \"IS 700\"], \"xaxis\": \"x\", \"y\": [6.0, 0.0, 8.0, 0.0], \"yaxis\": \"y\"}, {\"alignmentgroup\": \"True\", \"bingroup\": \"x\", \"histfunc\": \"sum\", \"hovertemplate\": \"Instructor=\\u0645\\u0627\\u0632\\u0646 \\u0633\\u0644\\u064a\\u0645\\u0627\\u0646 \\u062e\\u0645\\u064a\\u0633 \\u0627\\u0644\\u0633\\u0628\\u0639\\u0627\\u0646<br>Course=%{x}<br>sum of Score=%{y}<extra></extra>\", \"legendgroup\": \"\\u0645\\u0627\\u0632\\u0646 \\u0633\\u0644\\u064a\\u0645\\u0627\\u0646 \\u062e\\u0645\\u064a\\u0633 \\u0627\\u0644\\u0633\\u0628\\u0639\\u0627\\u0646\", \"marker\": {\"color\": \"#ab63fa\"}, \"name\": \"\\u0645\\u0627\\u0632\\u0646 \\u0633\\u0644\\u064a\\u0645\\u0627\\u0646 \\u062e\\u0645\\u064a\\u0633 \\u0627\\u0644\\u0633\\u0628\\u0639\\u0627\\u0646\", \"offsetgroup\": \"\\u0645\\u0627\\u0632\\u0646 \\u0633\\u0644\\u064a\\u0645\\u0627\\u0646 \\u062e\\u0645\\u064a\\u0633 \\u0627\\u0644\\u0633\\u0628\\u0639\\u0627\\u0646\", \"orientation\": \"v\", \"showlegend\": true, \"type\": \"histogram\", \"x\": [\"CEN 492\", \"CEN 570\", \"CEN 600\"], \"xaxis\": \"x\", \"y\": [6.0, 4.0, 0.0], \"yaxis\": \"y\"}, {\"alignmentgroup\": \"True\", \"bingroup\": \"x\", \"histfunc\": \"sum\", \"hovertemplate\": \"Instructor=\\u0645\\u0628\\u0627\\u0631\\u0643 \\u0631\\u0627\\u0634\\u062f \\u0639\\u0628\\u062f\\u0627\\u0644\\u0644\\u0647 \\u0627\\u0644 \\u0631\\u0634\\u0648\\u062f<br>Course=%{x}<br>sum of Score=%{y}<extra></extra>\", \"legendgroup\": \"\\u0645\\u0628\\u0627\\u0631\\u0643 \\u0631\\u0627\\u0634\\u062f \\u0639\\u0628\\u062f\\u0627\\u0644\\u0644\\u0647 \\u0627\\u0644 \\u0631\\u0634\\u0648\\u062f\", \"marker\": {\"color\": \"#FFA15A\"}, \"name\": \"\\u0645\\u0628\\u0627\\u0631\\u0643 \\u0631\\u0627\\u0634\\u062f \\u0639\\u0628\\u062f\\u0627\\u0644\\u0644\\u0647 \\u0627\\u0644 \\u0631\\u0634\\u0648\\u062f\", \"offsetgroup\": \"\\u0645\\u0628\\u0627\\u0631\\u0643 \\u0631\\u0627\\u0634\\u062f \\u0639\\u0628\\u062f\\u0627\\u0644\\u0644\\u0647 \\u0627\\u0644 \\u0631\\u0634\\u0648\\u062f\", \"orientation\": \"v\", \"showlegend\": true, \"type\": \"histogram\", \"x\": [\"SWE 485\", \"SWE 496\", \"SWE 599\"], \"xaxis\": \"x\", \"y\": [4.372093023255814, 8.0, 5.0], \"yaxis\": \"y\"}, {\"alignmentgroup\": \"True\", \"bingroup\": \"x\", \"histfunc\": \"sum\", \"hovertemplate\": \"Instructor=\\u0645\\u062c\\u0627\\u0647\\u062f \\u0645\\u064a\\u062e\\u0627\\u062a\\u064a<br>Course=%{x}<br>sum of Score=%{y}<extra></extra>\", \"legendgroup\": \"\\u0645\\u062c\\u0627\\u0647\\u062f \\u0645\\u064a\\u062e\\u0627\\u062a\\u064a\", \"marker\": {\"color\": \"#19d3f3\"}, \"name\": \"\\u0645\\u062c\\u0627\\u0647\\u062f \\u0645\\u064a\\u062e\\u0627\\u062a\\u064a\", \"offsetgroup\": \"\\u0645\\u062c\\u0627\\u0647\\u062f \\u0645\\u064a\\u062e\\u0627\\u062a\\u064a\", \"orientation\": \"v\", \"showlegend\": true, \"type\": \"histogram\", \"x\": [\"CEN 211\", \"CEN 212\", \"CEN 492\"], \"xaxis\": \"x\", \"y\": [1.1428571428571428, 2.7222222222222223, 7.0], \"yaxis\": \"y\"}, {\"alignmentgroup\": \"True\", \"bingroup\": \"x\", \"histfunc\": \"sum\", \"hovertemplate\": \"Instructor=\\u0645\\u062c\\u062f\\u0644 \\u0633\\u0644\\u0637\\u0627\\u0646 \\u0645\\u062c\\u062f\\u0644 \\u0628\\u0646 \\u0633\\u0641\\u0631\\u0627\\u0646<br>Course=%{x}<br>sum of Score=%{y}<extra></extra>\", \"legendgroup\": \"\\u0645\\u062c\\u062f\\u0644 \\u0633\\u0644\\u0637\\u0627\\u0646 \\u0645\\u062c\\u062f\\u0644 \\u0628\\u0646 \\u0633\\u0641\\u0631\\u0627\\u0646\", \"marker\": {\"color\": \"#FF6692\"}, \"name\": \"\\u0645\\u062c\\u062f\\u0644 \\u0633\\u0644\\u0637\\u0627\\u0646 \\u0645\\u062c\\u062f\\u0644 \\u0628\\u0646 \\u0633\\u0641\\u0631\\u0627\\u0646\", \"offsetgroup\": \"\\u0645\\u062c\\u062f\\u0644 \\u0633\\u0644\\u0637\\u0627\\u0646 \\u0645\\u062c\\u062f\\u0644 \\u0628\\u0646 \\u0633\\u0641\\u0631\\u0627\\u0646\", \"orientation\": \"v\", \"showlegend\": true, \"type\": \"histogram\", \"x\": [\"CSC 227\", \"CSC 496\", \"CSC 566\"], \"xaxis\": \"x\", \"y\": [4.333333333333333, 8.0, 7.5], \"yaxis\": \"y\"}, {\"alignmentgroup\": \"True\", \"bingroup\": \"x\", \"histfunc\": \"sum\", \"hovertemplate\": \"Instructor=\\u0645\\u062d\\u0633\\u0646 \\u062d\\u0645\\u0627\\u062f\\u064a \\u0627\\u0644\\u062f\\u0646\\u0642\\u064a\\u0631<br>Course=%{x}<br>sum of Score=%{y}<extra></extra>\", \"legendgroup\": \"\\u0645\\u062d\\u0633\\u0646 \\u062d\\u0645\\u0627\\u062f\\u064a \\u0627\\u0644\\u062f\\u0646\\u0642\\u064a\\u0631\", \"marker\": {\"color\": \"#B6E880\"}, \"name\": \"\\u0645\\u062d\\u0633\\u0646 \\u062d\\u0645\\u0627\\u062f\\u064a \\u0627\\u0644\\u062f\\u0646\\u0642\\u064a\\u0631\", \"offsetgroup\": \"\\u0645\\u062d\\u0633\\u0646 \\u062d\\u0645\\u0627\\u062f\\u064a \\u0627\\u0644\\u062f\\u0646\\u0642\\u064a\\u0631\", \"orientation\": \"v\", \"showlegend\": true, \"type\": \"histogram\", \"x\": [\"SWE 312\", \"SWE 496\", \"SWE 594\"], \"xaxis\": \"x\", \"y\": [3.9594861660079053, 8.0, 0.0], \"yaxis\": \"y\"}, {\"alignmentgroup\": \"True\", \"bingroup\": \"x\", \"histfunc\": \"sum\", \"hovertemplate\": \"Instructor=\\u0645\\u062d\\u0645\\u062f \\u0627\\u0644\\u0628\\u0634\\u064a\\u0631 \\u0639\\u0628\\u062f\\u0627\\u0644\\u0643\\u0631\\u064a\\u0645 \\u0645\\u0646\\u0627\\u0639\\u064a<br>Course=%{x}<br>sum of Score=%{y}<extra></extra>\", \"legendgroup\": \"\\u0645\\u062d\\u0645\\u062f \\u0627\\u0644\\u0628\\u0634\\u064a\\u0631 \\u0639\\u0628\\u062f\\u0627\\u0644\\u0643\\u0631\\u064a\\u0645 \\u0645\\u0646\\u0627\\u0639\\u064a\", \"marker\": {\"color\": \"#FF97FF\"}, \"name\": \"\\u0645\\u062d\\u0645\\u062f \\u0627\\u0644\\u0628\\u0634\\u064a\\u0631 \\u0639\\u0628\\u062f\\u0627\\u0644\\u0643\\u0631\\u064a\\u0645 \\u0645\\u0646\\u0627\\u0639\\u064a\", \"offsetgroup\": \"\\u0645\\u062d\\u0645\\u062f \\u0627\\u0644\\u0628\\u0634\\u064a\\u0631 \\u0639\\u0628\\u062f\\u0627\\u0644\\u0643\\u0631\\u064a\\u0645 \\u0645\\u0646\\u0627\\u0639\\u064a\", \"orientation\": \"v\", \"showlegend\": true, \"type\": \"histogram\", \"x\": [\"CSC 663\"], \"xaxis\": \"x\", \"y\": [6.0], \"yaxis\": \"y\"}, {\"alignmentgroup\": \"True\", \"bingroup\": \"x\", \"histfunc\": \"sum\", \"hovertemplate\": \"Instructor=\\u0645\\u062d\\u0645\\u062f \\u0627\\u0646\\u0648\\u0631 \\u062d\\u0633\\u064a\\u0646<br>Course=%{x}<br>sum of Score=%{y}<extra></extra>\", \"legendgroup\": \"\\u0645\\u062d\\u0645\\u062f \\u0627\\u0646\\u0648\\u0631 \\u062d\\u0633\\u064a\\u0646\", \"marker\": {\"color\": \"#FECB52\"}, \"name\": \"\\u0645\\u062d\\u0645\\u062f \\u0627\\u0646\\u0648\\u0631 \\u062d\\u0633\\u064a\\u0646\", \"offsetgroup\": \"\\u0645\\u062d\\u0645\\u062f \\u0627\\u0646\\u0648\\u0631 \\u062d\\u0633\\u064a\\u0646\", \"orientation\": \"v\", \"showlegend\": true, \"type\": \"histogram\", \"x\": [\"SWE 314\", \"SWE 496\", \"SWE 497\", \"SWE 543\", \"SWE 595\", \"SWE 609\"], \"xaxis\": \"x\", \"y\": [5.875, 8.0, 8.0, 3.727272727272727, 7.0, 8.0], \"yaxis\": \"y\"}, {\"alignmentgroup\": \"True\", \"bingroup\": \"x\", \"histfunc\": \"sum\", \"hovertemplate\": \"Instructor=\\u0645\\u062d\\u0645\\u062f \\u0628\\u0627\\u0633\\u0644 \\u0639\\u0628\\u062f\\u0627\\u0644\\u0642\\u0627\\u062f\\u0631 \\u0627\\u0644\\u0645\\u0643\\u064a\\u0646\\u0632\\u064a<br>Course=%{x}<br>sum of Score=%{y}<extra></extra>\", \"legendgroup\": \"\\u0645\\u062d\\u0645\\u062f \\u0628\\u0627\\u0633\\u0644 \\u0639\\u0628\\u062f\\u0627\\u0644\\u0642\\u0627\\u062f\\u0631 \\u0627\\u0644\\u0645\\u0643\\u064a\\u0646\\u0632\\u064a\", \"marker\": {\"color\": \"#636efa\"}, \"name\": \"\\u0645\\u062d\\u0645\\u062f \\u0628\\u0627\\u0633\\u0644 \\u0639\\u0628\\u062f\\u0627\\u0644\\u0642\\u0627\\u062f\\u0631 \\u0627\\u0644\\u0645\\u0643\\u064a\\u0646\\u0632\\u064a\", \"offsetgroup\": \"\\u0645\\u062d\\u0645\\u062f \\u0628\\u0627\\u0633\\u0644 \\u0639\\u0628\\u062f\\u0627\\u0644\\u0642\\u0627\\u062f\\u0631 \\u0627\\u0644\\u0645\\u0643\\u064a\\u0646\\u0632\\u064a\", \"orientation\": \"v\", \"showlegend\": true, \"type\": \"histogram\", \"x\": [\"IS 466\", \"IS 468\", \"IS 499\", \"IS 597\"], \"xaxis\": \"x\", \"y\": [4.0, 3.217391304347826, 6.166666666666666, 4.0], \"yaxis\": \"y\"}, {\"alignmentgroup\": \"True\", \"bingroup\": \"x\", \"histfunc\": \"sum\", \"hovertemplate\": \"Instructor=\\u0645\\u062d\\u0645\\u062f \\u062c\\u0627\\u0648\\u064a\\u062f \\u064a\\u0648\\u0633\\u0641<br>Course=%{x}<br>sum of Score=%{y}<extra></extra>\", \"legendgroup\": \"\\u0645\\u062d\\u0645\\u062f \\u062c\\u0627\\u0648\\u064a\\u062f \\u064a\\u0648\\u0633\\u0641\", \"marker\": {\"color\": \"#EF553B\"}, \"name\": \"\\u0645\\u062d\\u0645\\u062f \\u062c\\u0627\\u0648\\u064a\\u062f \\u064a\\u0648\\u0633\\u0641\", \"offsetgroup\": \"\\u0645\\u062d\\u0645\\u062f \\u062c\\u0627\\u0648\\u064a\\u062f \\u064a\\u0648\\u0633\\u0641\", \"orientation\": \"v\", \"showlegend\": true, \"type\": \"histogram\", \"x\": [\"CSC 111\", \"CSC 227\"], \"xaxis\": \"x\", \"y\": [3.4722222222222223, 2.7563025210084033], \"yaxis\": \"y\"}, {\"alignmentgroup\": \"True\", \"bingroup\": \"x\", \"histfunc\": \"sum\", \"hovertemplate\": \"Instructor=\\u0645\\u062d\\u0645\\u062f \\u062c\\u0645\\u0639\\u0629 \\u0641\\u064a\\u0627\\u0636 \\u0627\\u0644\\u0639\\u0646\\u0632\\u064a<br>Course=%{x}<br>sum of Score=%{y}<extra></extra>\", \"legendgroup\": \"\\u0645\\u062d\\u0645\\u062f \\u062c\\u0645\\u0639\\u0629 \\u0641\\u064a\\u0627\\u0636 \\u0627\\u0644\\u0639\\u0646\\u0632\\u064a\", \"marker\": {\"color\": \"#00cc96\"}, \"name\": \"\\u0645\\u062d\\u0645\\u062f \\u062c\\u0645\\u0639\\u0629 \\u0641\\u064a\\u0627\\u0636 \\u0627\\u0644\\u0639\\u0646\\u0632\\u064a\", \"offsetgroup\": \"\\u0645\\u062d\\u0645\\u062f \\u062c\\u0645\\u0639\\u0629 \\u0641\\u064a\\u0627\\u0636 \\u0627\\u0644\\u0639\\u0646\\u0632\\u064a\", \"orientation\": \"v\", \"showlegend\": true, \"type\": \"histogram\", \"x\": [\"CEN 448\", \"CEN 596\", \"CEN 632\"], \"xaxis\": \"x\", \"y\": [5.076923076923077, 0.0, 3.0], \"yaxis\": \"y\"}, {\"alignmentgroup\": \"True\", \"bingroup\": \"x\", \"histfunc\": \"sum\", \"hovertemplate\": \"Instructor=\\u0645\\u062d\\u0645\\u062f \\u062d\\u0633\\u064a\\u0646<br>Course=%{x}<br>sum of Score=%{y}<extra></extra>\", \"legendgroup\": \"\\u0645\\u062d\\u0645\\u062f \\u062d\\u0633\\u064a\\u0646\", \"marker\": {\"color\": \"#ab63fa\"}, \"name\": \"\\u0645\\u062d\\u0645\\u062f \\u062d\\u0633\\u064a\\u0646\", \"offsetgroup\": \"\\u0645\\u062d\\u0645\\u062f \\u062d\\u0633\\u064a\\u0646\", \"orientation\": \"v\", \"showlegend\": true, \"type\": \"histogram\", \"x\": [\"CSC 700\"], \"xaxis\": \"x\", \"y\": [0.0], \"yaxis\": \"y\"}, {\"alignmentgroup\": \"True\", \"bingroup\": \"x\", \"histfunc\": \"sum\", \"hovertemplate\": \"Instructor=\\u0645\\u062d\\u0645\\u062f \\u062d\\u0645\\u0648\\u062f \\u0633\\u0644\\u064a\\u0645\\u0627\\u0646 \\u0627\\u0644\\u0645\\u0634\\u064a\\u0642\\u062d<br>Course=%{x}<br>sum of Score=%{y}<extra></extra>\", \"legendgroup\": \"\\u0645\\u062d\\u0645\\u062f \\u062d\\u0645\\u0648\\u062f \\u0633\\u0644\\u064a\\u0645\\u0627\\u0646 \\u0627\\u0644\\u0645\\u0634\\u064a\\u0642\\u062d\", \"marker\": {\"color\": \"#FFA15A\"}, \"name\": \"\\u0645\\u062d\\u0645\\u062f \\u062d\\u0645\\u0648\\u062f \\u0633\\u0644\\u064a\\u0645\\u0627\\u0646 \\u0627\\u0644\\u0645\\u0634\\u064a\\u0642\\u062d\", \"offsetgroup\": \"\\u0645\\u062d\\u0645\\u062f \\u062d\\u0645\\u0648\\u062f \\u0633\\u0644\\u064a\\u0645\\u0627\\u0646 \\u0627\\u0644\\u0645\\u0634\\u064a\\u0642\\u062d\", \"orientation\": \"v\", \"showlegend\": true, \"type\": \"histogram\", \"x\": [\"CSC 304\", \"CSC 429\", \"CSC 489\"], \"xaxis\": \"x\", \"y\": [6.052631578947368, 4.875, 6.5625], \"yaxis\": \"y\"}, {\"alignmentgroup\": \"True\", \"bingroup\": \"x\", \"histfunc\": \"sum\", \"hovertemplate\": \"Instructor=\\u0645\\u062d\\u0645\\u062f \\u0631\\u0634\\u0648\\u062f \\u0645\\u062d\\u0645\\u062f \\u0627\\u0644\\u0633\\u0644\\u0645\\u064a<br>Course=%{x}<br>sum of Score=%{y}<extra></extra>\", \"legendgroup\": \"\\u0645\\u062d\\u0645\\u062f \\u0631\\u0634\\u0648\\u062f \\u0645\\u062d\\u0645\\u062f \\u0627\\u0644\\u0633\\u0644\\u0645\\u064a\", \"marker\": {\"color\": \"#19d3f3\"}, \"name\": \"\\u0645\\u062d\\u0645\\u062f \\u0631\\u0634\\u0648\\u062f \\u0645\\u062d\\u0645\\u062f \\u0627\\u0644\\u0633\\u0644\\u0645\\u064a\", \"offsetgroup\": \"\\u0645\\u062d\\u0645\\u062f \\u0631\\u0634\\u0648\\u062f \\u0645\\u062d\\u0645\\u062f \\u0627\\u0644\\u0633\\u0644\\u0645\\u064a\", \"orientation\": \"v\", \"showlegend\": true, \"type\": \"histogram\", \"x\": [\"CSC 212\", \"CSC 497\"], \"xaxis\": \"x\", \"y\": [3.8799871299871302, 8.0], \"yaxis\": \"y\"}, {\"alignmentgroup\": \"True\", \"bingroup\": \"x\", \"histfunc\": \"sum\", \"hovertemplate\": \"Instructor=\\u0645\\u062d\\u0645\\u062f \\u0632\\u0647\\u064a\\u0631 \\u0628\\u062f\\u064a\\u0639 \\u062d\\u0648\\u0631\\u0627\\u0646\\u0649<br>Course=%{x}<br>sum of Score=%{y}<extra></extra>\", \"legendgroup\": \"\\u0645\\u062d\\u0645\\u062f \\u0632\\u0647\\u064a\\u0631 \\u0628\\u062f\\u064a\\u0639 \\u062d\\u0648\\u0631\\u0627\\u0646\\u0649\", \"marker\": {\"color\": \"#FF6692\"}, \"name\": \"\\u0645\\u062d\\u0645\\u062f \\u0632\\u0647\\u064a\\u0631 \\u0628\\u062f\\u064a\\u0639 \\u062d\\u0648\\u0631\\u0627\\u0646\\u0649\", \"offsetgroup\": \"\\u0645\\u062d\\u0645\\u062f \\u0632\\u0647\\u064a\\u0631 \\u0628\\u062f\\u064a\\u0639 \\u062d\\u0648\\u0631\\u0627\\u0646\\u0649\", \"orientation\": \"v\", \"showlegend\": true, \"type\": \"histogram\", \"x\": [\"CEN 439\"], \"xaxis\": \"x\", \"y\": [0.9], \"yaxis\": \"y\"}, {\"alignmentgroup\": \"True\", \"bingroup\": \"x\", \"histfunc\": \"sum\", \"hovertemplate\": \"Instructor=\\u0645\\u062d\\u0645\\u062f \\u0633\\u0644\\u0645\\u0627\\u0646 \\u0639\\u0628\\u062f\\u0627\\u0644\\u0639\\u0632\\u064a\\u0632 \\u0627\\u0644\\u0631\\u0643\\u064a\\u0627\\u0646<br>Course=%{x}<br>sum of Score=%{y}<extra></extra>\", \"legendgroup\": \"\\u0645\\u062d\\u0645\\u062f \\u0633\\u0644\\u0645\\u0627\\u0646 \\u0639\\u0628\\u062f\\u0627\\u0644\\u0639\\u0632\\u064a\\u0632 \\u0627\\u0644\\u0631\\u0643\\u064a\\u0627\\u0646\", \"marker\": {\"color\": \"#B6E880\"}, \"name\": \"\\u0645\\u062d\\u0645\\u062f \\u0633\\u0644\\u0645\\u0627\\u0646 \\u0639\\u0628\\u062f\\u0627\\u0644\\u0639\\u0632\\u064a\\u0632 \\u0627\\u0644\\u0631\\u0643\\u064a\\u0627\\u0646\", \"offsetgroup\": \"\\u0645\\u062d\\u0645\\u062f \\u0633\\u0644\\u0645\\u0627\\u0646 \\u0639\\u0628\\u062f\\u0627\\u0644\\u0639\\u0632\\u064a\\u0632 \\u0627\\u0644\\u0631\\u0643\\u064a\\u0627\\u0646\", \"orientation\": \"v\", \"showlegend\": true, \"type\": \"histogram\", \"x\": [\"IS 324\", \"IS 498\", \"IS 595\"], \"xaxis\": \"x\", \"y\": [6.842293906810036, 5.0, 7.0], \"yaxis\": \"y\"}, {\"alignmentgroup\": \"True\", \"bingroup\": \"x\", \"histfunc\": \"sum\", \"hovertemplate\": \"Instructor=\\u0645\\u062d\\u0645\\u062f \\u0634\\u0627\\u0645\\u064a\\u0645 \\u062d\\u0633\\u064a\\u0646<br>Course=%{x}<br>sum of Score=%{y}<extra></extra>\", \"legendgroup\": \"\\u0645\\u062d\\u0645\\u062f \\u0634\\u0627\\u0645\\u064a\\u0645 \\u062d\\u0633\\u064a\\u0646\", \"marker\": {\"color\": \"#FF97FF\"}, \"name\": \"\\u0645\\u062d\\u0645\\u062f \\u0634\\u0627\\u0645\\u064a\\u0645 \\u062d\\u0633\\u064a\\u0646\", \"offsetgroup\": \"\\u0645\\u062d\\u0645\\u062f \\u0634\\u0627\\u0645\\u064a\\u0645 \\u062d\\u0633\\u064a\\u0646\", \"orientation\": \"v\", \"showlegend\": true, \"type\": \"histogram\", \"x\": [\"SWE 434\", \"SWE 496\", \"SWE 549\"], \"xaxis\": \"x\", \"y\": [5.477834302325581, 7.714285714285714, 4.111111111111111], \"yaxis\": \"y\"}, {\"alignmentgroup\": \"True\", \"bingroup\": \"x\", \"histfunc\": \"sum\", \"hovertemplate\": \"Instructor=\\u0645\\u062d\\u0645\\u062f \\u0634\\u0639\\u064a\\u0628 \\u0631\\u062d\\u064a\\u0645 \\u0627\\u0644\\u062f\\u064a\\u0646<br>Course=%{x}<br>sum of Score=%{y}<extra></extra>\", \"legendgroup\": \"\\u0645\\u062d\\u0645\\u062f \\u0634\\u0639\\u064a\\u0628 \\u0631\\u062d\\u064a\\u0645 \\u0627\\u0644\\u062f\\u064a\\u0646\", \"marker\": {\"color\": \"#FECB52\"}, \"name\": \"\\u0645\\u062d\\u0645\\u062f \\u0634\\u0639\\u064a\\u0628 \\u0631\\u062d\\u064a\\u0645 \\u0627\\u0644\\u062f\\u064a\\u0646\", \"offsetgroup\": \"\\u0645\\u062d\\u0645\\u062f \\u0634\\u0639\\u064a\\u0628 \\u0631\\u062d\\u064a\\u0645 \\u0627\\u0644\\u062f\\u064a\\u0646\", \"orientation\": \"v\", \"showlegend\": true, \"type\": \"histogram\", \"x\": [\"IS 201\", \"IS 498\", \"IS 592\"], \"xaxis\": \"x\", \"y\": [5.100279744732931, 8.0, 6.625], \"yaxis\": \"y\"}, {\"alignmentgroup\": \"True\", \"bingroup\": \"x\", \"histfunc\": \"sum\", \"hovertemplate\": \"Instructor=\\u0645\\u062d\\u0645\\u062f \\u0635\\u0628\\u064a\\u062d \\u0627\\u0643\\u0633\\u0648\\u0627\\u064a<br>Course=%{x}<br>sum of Score=%{y}<extra></extra>\", \"legendgroup\": \"\\u0645\\u062d\\u0645\\u062f \\u0635\\u0628\\u064a\\u062d \\u0627\\u0643\\u0633\\u0648\\u0627\\u064a\", \"marker\": {\"color\": \"#636efa\"}, \"name\": \"\\u0645\\u062d\\u0645\\u062f \\u0635\\u0628\\u064a\\u062d \\u0627\\u0643\\u0633\\u0648\\u0627\\u064a\", \"offsetgroup\": \"\\u0645\\u062d\\u0645\\u062f \\u0635\\u0628\\u064a\\u062d \\u0627\\u0643\\u0633\\u0648\\u0627\\u064a\", \"orientation\": \"v\", \"showlegend\": true, \"type\": \"histogram\", \"x\": [\"IS 482\", \"IS 597\", \"IS 700\"], \"xaxis\": \"x\", \"y\": [3.8125, 7.0, 0.0], \"yaxis\": \"y\"}, {\"alignmentgroup\": \"True\", \"bingroup\": \"x\", \"histfunc\": \"sum\", \"hovertemplate\": \"Instructor=\\u0645\\u062d\\u0645\\u062f \\u0639\\u0627\\u0645\\u0631 \\u0645\\u062d\\u0645\\u062f \\u0639\\u0631\\u0641\\u0647<br>Course=%{x}<br>sum of Score=%{y}<extra></extra>\", \"legendgroup\": \"\\u0645\\u062d\\u0645\\u062f \\u0639\\u0627\\u0645\\u0631 \\u0645\\u062d\\u0645\\u062f \\u0639\\u0631\\u0641\\u0647\", \"marker\": {\"color\": \"#EF553B\"}, \"name\": \"\\u0645\\u062d\\u0645\\u062f \\u0639\\u0627\\u0645\\u0631 \\u0645\\u062d\\u0645\\u062f \\u0639\\u0631\\u0641\\u0647\", \"offsetgroup\": \"\\u0645\\u062d\\u0645\\u062f \\u0639\\u0627\\u0645\\u0631 \\u0645\\u062d\\u0645\\u062f \\u0639\\u0631\\u0641\\u0647\", \"orientation\": \"v\", \"showlegend\": true, \"type\": \"histogram\", \"x\": [\"CEN 341\"], \"xaxis\": \"x\", \"y\": [4.25], \"yaxis\": \"y\"}, {\"alignmentgroup\": \"True\", \"bingroup\": \"x\", \"histfunc\": \"sum\", \"hovertemplate\": \"Instructor=\\u0645\\u062d\\u0645\\u062f \\u0639\\u0628\\u062f\\u0627\\u0644\\u0631\\u062d\\u0645\\u0646 \\u0645\\u062d\\u0645\\u062f \\u0627\\u0644\\u0639\\u0628\\u062f\\u0627\\u0644\\u0643\\u0631\\u064a\\u0645<br>Course=%{x}<br>sum of Score=%{y}<extra></extra>\", \"legendgroup\": \"\\u0645\\u062d\\u0645\\u062f \\u0639\\u0628\\u062f\\u0627\\u0644\\u0631\\u062d\\u0645\\u0646 \\u0645\\u062d\\u0645\\u062f \\u0627\\u0644\\u0639\\u0628\\u062f\\u0627\\u0644\\u0643\\u0631\\u064a\\u0645\", \"marker\": {\"color\": \"#00cc96\"}, \"name\": \"\\u0645\\u062d\\u0645\\u062f \\u0639\\u0628\\u062f\\u0627\\u0644\\u0631\\u062d\\u0645\\u0646 \\u0645\\u062d\\u0645\\u062f \\u0627\\u0644\\u0639\\u0628\\u062f\\u0627\\u0644\\u0643\\u0631\\u064a\\u0645\", \"offsetgroup\": \"\\u0645\\u062d\\u0645\\u062f \\u0639\\u0628\\u062f\\u0627\\u0644\\u0631\\u062d\\u0645\\u0646 \\u0645\\u062d\\u0645\\u062f \\u0627\\u0644\\u0639\\u0628\\u062f\\u0627\\u0644\\u0643\\u0631\\u064a\\u0645\", \"orientation\": \"v\", \"showlegend\": true, \"type\": \"histogram\", \"x\": [\"CSC 453\", \"CSC 496\", \"CSC 497\", \"CSC 999\"], \"xaxis\": \"x\", \"y\": [6.075231481481481, 7.0, 7.75, 0.0], \"yaxis\": \"y\"}, {\"alignmentgroup\": \"True\", \"bingroup\": \"x\", \"histfunc\": \"sum\", \"hovertemplate\": \"Instructor=\\u0645\\u062d\\u0645\\u062f \\u0639\\u0628\\u062f\\u0627\\u0644\\u0639\\u0632\\u064a\\u0632 \\u0645\\u062d\\u0645\\u062f \\u0627\\u0644\\u062d\\u0633\\u064a\\u0646<br>Course=%{x}<br>sum of Score=%{y}<extra></extra>\", \"legendgroup\": \"\\u0645\\u062d\\u0645\\u062f \\u0639\\u0628\\u062f\\u0627\\u0644\\u0639\\u0632\\u064a\\u0632 \\u0645\\u062d\\u0645\\u062f \\u0627\\u0644\\u062d\\u0633\\u064a\\u0646\", \"marker\": {\"color\": \"#ab63fa\"}, \"name\": \"\\u0645\\u062d\\u0645\\u062f \\u0639\\u0628\\u062f\\u0627\\u0644\\u0639\\u0632\\u064a\\u0632 \\u0645\\u062d\\u0645\\u062f \\u0627\\u0644\\u062d\\u0633\\u064a\\u0646\", \"offsetgroup\": \"\\u0645\\u062d\\u0645\\u062f \\u0639\\u0628\\u062f\\u0627\\u0644\\u0639\\u0632\\u064a\\u0632 \\u0645\\u062d\\u0645\\u062f \\u0627\\u0644\\u062d\\u0633\\u064a\\u0646\", \"orientation\": \"v\", \"showlegend\": true, \"type\": \"histogram\", \"x\": [\"IS 498\"], \"xaxis\": \"x\", \"y\": [7.5], \"yaxis\": \"y\"}, {\"alignmentgroup\": \"True\", \"bingroup\": \"x\", \"histfunc\": \"sum\", \"hovertemplate\": \"Instructor=\\u0645\\u062d\\u0645\\u062f \\u0639\\u0628\\u062f\\u0627\\u0644\\u0644\\u0647 \\u0627\\u0644\\u0648\\u062f\\u0648\\u062f<br>Course=%{x}<br>sum of Score=%{y}<extra></extra>\", \"legendgroup\": \"\\u0645\\u062d\\u0645\\u062f \\u0639\\u0628\\u062f\\u0627\\u0644\\u0644\\u0647 \\u0627\\u0644\\u0648\\u062f\\u0648\\u062f\", \"marker\": {\"color\": \"#FFA15A\"}, \"name\": \"\\u0645\\u062d\\u0645\\u062f \\u0639\\u0628\\u062f\\u0627\\u0644\\u0644\\u0647 \\u0627\\u0644\\u0648\\u062f\\u0648\\u062f\", \"offsetgroup\": \"\\u0645\\u062d\\u0645\\u062f \\u0639\\u0628\\u062f\\u0627\\u0644\\u0644\\u0647 \\u0627\\u0644\\u0648\\u062f\\u0648\\u062f\", \"orientation\": \"v\", \"showlegend\": true, \"type\": \"histogram\", \"x\": [\"SWE 444\", \"SWE 482\", \"SWE 496\", \"SWE 497\", \"SWE 594\", \"SWE 602\"], \"xaxis\": \"x\", \"y\": [6.3125, 6.071969696969697, 8.0, 8.0, 0.0, 7.666666666666667], \"yaxis\": \"y\"}, {\"alignmentgroup\": \"True\", \"bingroup\": \"x\", \"histfunc\": \"sum\", \"hovertemplate\": \"Instructor=\\u0645\\u062d\\u0645\\u062f \\u0639\\u0628\\u062f\\u0627\\u0644\\u0644\\u0647 \\u0633\\u0639\\u062f \\u0627\\u0644\\u0639\\u0648\\u064a\\u062f<br>Course=%{x}<br>sum of Score=%{y}<extra></extra>\", \"legendgroup\": \"\\u0645\\u062d\\u0645\\u062f \\u0639\\u0628\\u062f\\u0627\\u0644\\u0644\\u0647 \\u0633\\u0639\\u062f \\u0627\\u0644\\u0639\\u0648\\u064a\\u062f\", \"marker\": {\"color\": \"#19d3f3\"}, \"name\": \"\\u0645\\u062d\\u0645\\u062f \\u0639\\u0628\\u062f\\u0627\\u0644\\u0644\\u0647 \\u0633\\u0639\\u062f \\u0627\\u0644\\u0639\\u0648\\u064a\\u062f\", \"offsetgroup\": \"\\u0645\\u062d\\u0645\\u062f \\u0639\\u0628\\u062f\\u0627\\u0644\\u0644\\u0647 \\u0633\\u0639\\u062f \\u0627\\u0644\\u0639\\u0648\\u064a\\u062f\", \"orientation\": \"v\", \"showlegend\": true, \"type\": \"histogram\", \"x\": [\"SWE 211\", \"SWE 496\"], \"xaxis\": \"x\", \"y\": [3.0629629629629633, 7.8], \"yaxis\": \"y\"}, {\"alignmentgroup\": \"True\", \"bingroup\": \"x\", \"histfunc\": \"sum\", \"hovertemplate\": \"Instructor=\\u0645\\u062d\\u0645\\u062f \\u0639\\u0628\\u062f\\u0627\\u0644\\u0644\\u0647 \\u0645\\u062d\\u0645\\u062f \\u0627\\u0644\\u0646\\u0639\\u064a\\u0645<br>Course=%{x}<br>sum of Score=%{y}<extra></extra>\", \"legendgroup\": \"\\u0645\\u062d\\u0645\\u062f \\u0639\\u0628\\u062f\\u0627\\u0644\\u0644\\u0647 \\u0645\\u062d\\u0645\\u062f \\u0627\\u0644\\u0646\\u0639\\u064a\\u0645\", \"marker\": {\"color\": \"#FF6692\"}, \"name\": \"\\u0645\\u062d\\u0645\\u062f \\u0639\\u0628\\u062f\\u0627\\u0644\\u0644\\u0647 \\u0645\\u062d\\u0645\\u062f \\u0627\\u0644\\u0646\\u0639\\u064a\\u0645\", \"offsetgroup\": \"\\u0645\\u062d\\u0645\\u062f \\u0639\\u0628\\u062f\\u0627\\u0644\\u0644\\u0647 \\u0645\\u062d\\u0645\\u062f \\u0627\\u0644\\u0646\\u0639\\u064a\\u0645\", \"orientation\": \"v\", \"showlegend\": true, \"type\": \"histogram\", \"x\": [\"IS 424\", \"IS 499\", \"IS 699\", \"IS 700\"], \"xaxis\": \"x\", \"y\": [3.4375, 5.833333333333333, 0.0, 0.0], \"yaxis\": \"y\"}, {\"alignmentgroup\": \"True\", \"bingroup\": \"x\", \"histfunc\": \"sum\", \"hovertemplate\": \"Instructor=\\u0645\\u062d\\u0645\\u062f \\u0641\\u0647\\u062f \\u0645\\u0639\\u062c\\u0628 \\u0627\\u0644\\u062d\\u0627\\u0645\\u062f<br>Course=%{x}<br>sum of Score=%{y}<extra></extra>\", \"legendgroup\": \"\\u0645\\u062d\\u0645\\u062f \\u0641\\u0647\\u062f \\u0645\\u0639\\u062c\\u0628 \\u0627\\u0644\\u062d\\u0627\\u0645\\u062f\", \"marker\": {\"color\": \"#B6E880\"}, \"name\": \"\\u0645\\u062d\\u0645\\u062f \\u0641\\u0647\\u062f \\u0645\\u0639\\u062c\\u0628 \\u0627\\u0644\\u062d\\u0627\\u0645\\u062f\", \"offsetgroup\": \"\\u0645\\u062d\\u0645\\u062f \\u0641\\u0647\\u062f \\u0645\\u0639\\u062c\\u0628 \\u0627\\u0644\\u062d\\u0627\\u0645\\u062f\", \"orientation\": \"v\", \"showlegend\": true, \"type\": \"histogram\", \"x\": [\"SWE 497\"], \"xaxis\": \"x\", \"y\": [7.5], \"yaxis\": \"y\"}, {\"alignmentgroup\": \"True\", \"bingroup\": \"x\", \"histfunc\": \"sum\", \"hovertemplate\": \"Instructor=\\u0645\\u062d\\u0645\\u062f \\u0645\\u0627\\u0647\\u0631 \\u0635\\u062d \\u0627\\u0644\\u062f\\u064a\\u0646 \\u0627\\u0633\\u0645\\u0627\\u0639\\u064a\\u0644<br>Course=%{x}<br>sum of Score=%{y}<extra></extra>\", \"legendgroup\": \"\\u0645\\u062d\\u0645\\u062f \\u0645\\u0627\\u0647\\u0631 \\u0635\\u062d \\u0627\\u0644\\u062f\\u064a\\u0646 \\u0627\\u0633\\u0645\\u0627\\u0639\\u064a\\u0644\", \"marker\": {\"color\": \"#FF97FF\"}, \"name\": \"\\u0645\\u062d\\u0645\\u062f \\u0645\\u0627\\u0647\\u0631 \\u0635\\u062d \\u0627\\u0644\\u062f\\u064a\\u0646 \\u0627\\u0633\\u0645\\u0627\\u0639\\u064a\\u0644\", \"offsetgroup\": \"\\u0645\\u062d\\u0645\\u062f \\u0645\\u0627\\u0647\\u0631 \\u0635\\u062d \\u0627\\u0644\\u062f\\u064a\\u0646 \\u0627\\u0633\\u0645\\u0627\\u0639\\u064a\\u0644\", \"orientation\": \"v\", \"showlegend\": true, \"type\": \"histogram\", \"x\": [\"CSC 311\", \"CSC 496\", \"CSC 497\", \"CSC 699\"], \"xaxis\": \"x\", \"y\": [2.597689075630252, 8.0, 8.0, 0.0], \"yaxis\": \"y\"}, {\"alignmentgroup\": \"True\", \"bingroup\": \"x\", \"histfunc\": \"sum\", \"hovertemplate\": \"Instructor=\\u0645\\u062d\\u0645\\u062f \\u0645\\u0647\\u062f\\u064a \\u062d\\u0633\\u0646<br>Course=%{x}<br>sum of Score=%{y}<extra></extra>\", \"legendgroup\": \"\\u0645\\u062d\\u0645\\u062f \\u0645\\u0647\\u062f\\u064a \\u062d\\u0633\\u0646\", \"marker\": {\"color\": \"#FECB52\"}, \"name\": \"\\u0645\\u062d\\u0645\\u062f \\u0645\\u0647\\u062f\\u064a \\u062d\\u0633\\u0646\", \"offsetgroup\": \"\\u0645\\u062d\\u0645\\u062f \\u0645\\u0647\\u062f\\u064a \\u062d\\u0633\\u0646\", \"orientation\": \"v\", \"showlegend\": true, \"type\": \"histogram\", \"x\": [\"IS 486\", \"IS 493\", \"IS 699\", \"IS 700\"], \"xaxis\": \"x\", \"y\": [5.0, 4.246666666666667, 0.0, 0.0], \"yaxis\": \"y\"}, {\"alignmentgroup\": \"True\", \"bingroup\": \"x\", \"histfunc\": \"sum\", \"hovertemplate\": \"Instructor=\\u0645\\u062d\\u0645\\u062f \\u0648\\u0643\\u064a\\u0644 \\u0627\\u062d\\u0645\\u062f<br>Course=%{x}<br>sum of Score=%{y}<extra></extra>\", \"legendgroup\": \"\\u0645\\u062d\\u0645\\u062f \\u0648\\u0643\\u064a\\u0644 \\u0627\\u062d\\u0645\\u062f\", \"marker\": {\"color\": \"#636efa\"}, \"name\": \"\\u0645\\u062d\\u0645\\u062f \\u0648\\u0643\\u064a\\u0644 \\u0627\\u062d\\u0645\\u062f\", \"offsetgroup\": \"\\u0645\\u062d\\u0645\\u062f \\u0648\\u0643\\u064a\\u0644 \\u0627\\u062d\\u0645\\u062f\", \"orientation\": \"v\", \"showlegend\": true, \"type\": \"histogram\", \"x\": [\"CSC 220\"], \"xaxis\": \"x\", \"y\": [4.609756097560975], \"yaxis\": \"y\"}, {\"alignmentgroup\": \"True\", \"bingroup\": \"x\", \"histfunc\": \"sum\", \"hovertemplate\": \"Instructor=\\u0645\\u062d\\u0645\\u062f\\u0633\\u064a\\u0641 \\u0627\\u0633\\u0645 \\u0645\\u062d\\u0645\\u062f \\u0646\\u0638\\u0627\\u0645 \\u0627\\u0644\\u062f\\u064a\\u0646<br>Course=%{x}<br>sum of Score=%{y}<extra></extra>\", \"legendgroup\": \"\\u0645\\u062d\\u0645\\u062f\\u0633\\u064a\\u0641 \\u0627\\u0633\\u0645 \\u0645\\u062d\\u0645\\u062f \\u0646\\u0638\\u0627\\u0645 \\u0627\\u0644\\u062f\\u064a\\u0646\", \"marker\": {\"color\": \"#EF553B\"}, \"name\": \"\\u0645\\u062d\\u0645\\u062f\\u0633\\u064a\\u0641 \\u0627\\u0633\\u0645 \\u0645\\u062d\\u0645\\u062f \\u0646\\u0638\\u0627\\u0645 \\u0627\\u0644\\u062f\\u064a\\u0646\", \"offsetgroup\": \"\\u0645\\u062d\\u0645\\u062f\\u0633\\u064a\\u0641 \\u0627\\u0633\\u0645 \\u0645\\u062d\\u0645\\u062f \\u0646\\u0638\\u0627\\u0645 \\u0627\\u0644\\u062f\\u064a\\u0646\", \"orientation\": \"v\", \"showlegend\": true, \"type\": \"histogram\", \"x\": [\"CSC 220\", \"CSC 497\", \"CSC 563\"], \"xaxis\": \"x\", \"y\": [2.755555555555556, 6.333333333333333, 4.0], \"yaxis\": \"y\"}, {\"alignmentgroup\": \"True\", \"bingroup\": \"x\", \"histfunc\": \"sum\", \"hovertemplate\": \"Instructor=\\u0645\\u0631\\u0627\\u062f \\u0628\\u0646 \\u0634\\u064a\\u062e<br>Course=%{x}<br>sum of Score=%{y}<extra></extra>\", \"legendgroup\": \"\\u0645\\u0631\\u0627\\u062f \\u0628\\u0646 \\u0634\\u064a\\u062e\", \"marker\": {\"color\": \"#00cc96\"}, \"name\": \"\\u0645\\u0631\\u0627\\u062f \\u0628\\u0646 \\u0634\\u064a\\u062e\", \"offsetgroup\": \"\\u0645\\u0631\\u0627\\u062f \\u0628\\u0646 \\u0634\\u064a\\u062e\", \"orientation\": \"v\", \"showlegend\": true, \"type\": \"histogram\", \"x\": [\"IS 493\"], \"xaxis\": \"x\", \"y\": [5.176470588235294], \"yaxis\": \"y\"}, {\"alignmentgroup\": \"True\", \"bingroup\": \"x\", \"histfunc\": \"sum\", \"hovertemplate\": \"Instructor=\\u0645\\u0631\\u0627\\u062f \\u0645\\u062f\\u0646\\u064a \\u0628\\u0648\\u0634\\u0646\\u0627\\u0642<br>Course=%{x}<br>sum of Score=%{y}<extra></extra>\", \"legendgroup\": \"\\u0645\\u0631\\u0627\\u062f \\u0645\\u062f\\u0646\\u064a \\u0628\\u0648\\u0634\\u0646\\u0627\\u0642\", \"marker\": {\"color\": \"#ab63fa\"}, \"name\": \"\\u0645\\u0631\\u0627\\u062f \\u0645\\u062f\\u0646\\u064a \\u0628\\u0648\\u0634\\u0646\\u0627\\u0642\", \"offsetgroup\": \"\\u0645\\u0631\\u0627\\u062f \\u0645\\u062f\\u0646\\u064a \\u0628\\u0648\\u0634\\u0646\\u0627\\u0642\", \"orientation\": \"v\", \"showlegend\": true, \"type\": \"histogram\", \"x\": [\"CSC 111\"], \"xaxis\": \"x\", \"y\": [5.03132046416983], \"yaxis\": \"y\"}, {\"alignmentgroup\": \"True\", \"bingroup\": \"x\", \"histfunc\": \"sum\", \"hovertemplate\": \"Instructor=\\u0645\\u0631\\u0627\\u062f \\u064a\\u062e\\u0644\\u0641<br>Course=%{x}<br>sum of Score=%{y}<extra></extra>\", \"legendgroup\": \"\\u0645\\u0631\\u0627\\u062f \\u064a\\u062e\\u0644\\u0641\", \"marker\": {\"color\": \"#FFA15A\"}, \"name\": \"\\u0645\\u0631\\u0627\\u062f \\u064a\\u062e\\u0644\\u0641\", \"offsetgroup\": \"\\u0645\\u0631\\u0627\\u062f \\u064a\\u062e\\u0644\\u0641\", \"orientation\": \"v\", \"showlegend\": true, \"type\": \"histogram\", \"x\": [\"IS 498\"], \"xaxis\": \"x\", \"y\": [8.0], \"yaxis\": \"y\"}, {\"alignmentgroup\": \"True\", \"bingroup\": \"x\", \"histfunc\": \"sum\", \"hovertemplate\": \"Instructor=\\u0645\\u0633\\u0627\\u0639\\u062f \\u0639\\u0628\\u062f\\u0627\\u0644\\u0639\\u0632\\u064a\\u0632 \\u0627\\u0628\\u0631\\u0627\\u0647\\u064a\\u0645 \\u0627\\u0644\\u062d\\u0633\\u064a\\u0646<br>Course=%{x}<br>sum of Score=%{y}<extra></extra>\", \"legendgroup\": \"\\u0645\\u0633\\u0627\\u0639\\u062f \\u0639\\u0628\\u062f\\u0627\\u0644\\u0639\\u0632\\u064a\\u0632 \\u0627\\u0628\\u0631\\u0627\\u0647\\u064a\\u0645 \\u0627\\u0644\\u062d\\u0633\\u064a\\u0646\", \"marker\": {\"color\": \"#19d3f3\"}, \"name\": \"\\u0645\\u0633\\u0627\\u0639\\u062f \\u0639\\u0628\\u062f\\u0627\\u0644\\u0639\\u0632\\u064a\\u0632 \\u0627\\u0628\\u0631\\u0627\\u0647\\u064a\\u0645 \\u0627\\u0644\\u062d\\u0633\\u064a\\u0646\", \"offsetgroup\": \"\\u0645\\u0633\\u0627\\u0639\\u062f \\u0639\\u0628\\u062f\\u0627\\u0644\\u0639\\u0632\\u064a\\u0632 \\u0627\\u0628\\u0631\\u0627\\u0647\\u064a\\u0645 \\u0627\\u0644\\u062d\\u0633\\u064a\\u0646\", \"orientation\": \"v\", \"showlegend\": true, \"type\": \"histogram\", \"x\": [\"CEN 211\", \"CEN 316\", \"CEN 493\"], \"xaxis\": \"x\", \"y\": [1.5, 2.4347826086956523, 7.333333333333333], \"yaxis\": \"y\"}, {\"alignmentgroup\": \"True\", \"bingroup\": \"x\", \"histfunc\": \"sum\", \"hovertemplate\": \"Instructor=\\u0645\\u0634\\u0639\\u0644 \\u0646\\u0627\\u0635\\u0631 \\u0633\\u0639\\u062f \\u0646\\u0635\\u0628\\u0627\\u0646<br>Course=%{x}<br>sum of Score=%{y}<extra></extra>\", \"legendgroup\": \"\\u0645\\u0634\\u0639\\u0644 \\u0646\\u0627\\u0635\\u0631 \\u0633\\u0639\\u062f \\u0646\\u0635\\u0628\\u0627\\u0646\", \"marker\": {\"color\": \"#FF6692\"}, \"name\": \"\\u0645\\u0634\\u0639\\u0644 \\u0646\\u0627\\u0635\\u0631 \\u0633\\u0639\\u062f \\u0646\\u0635\\u0628\\u0627\\u0646\", \"offsetgroup\": \"\\u0645\\u0634\\u0639\\u0644 \\u0646\\u0627\\u0635\\u0631 \\u0633\\u0639\\u062f \\u0646\\u0635\\u0628\\u0627\\u0646\", \"orientation\": \"v\", \"showlegend\": true, \"type\": \"histogram\", \"x\": [\"IS 240\"], \"xaxis\": \"x\", \"y\": [4.173913043478261], \"yaxis\": \"y\"}, {\"alignmentgroup\": \"True\", \"bingroup\": \"x\", \"histfunc\": \"sum\", \"hovertemplate\": \"Instructor=\\u0645\\u0639\\u0627\\u0630 \\u0639\\u0628\\u062f\\u0627\\u0644\\u0644\\u0647 \\u0628\\u0646 \\u0633\\u0627\\u0644\\u0645 \\u0627\\u0644\\u062e\\u0644\\u0641<br>Course=%{x}<br>sum of Score=%{y}<extra></extra>\", \"legendgroup\": \"\\u0645\\u0639\\u0627\\u0630 \\u0639\\u0628\\u062f\\u0627\\u0644\\u0644\\u0647 \\u0628\\u0646 \\u0633\\u0627\\u0644\\u0645 \\u0627\\u0644\\u062e\\u0644\\u0641\", \"marker\": {\"color\": \"#B6E880\"}, \"name\": \"\\u0645\\u0639\\u0627\\u0630 \\u0639\\u0628\\u062f\\u0627\\u0644\\u0644\\u0647 \\u0628\\u0646 \\u0633\\u0627\\u0644\\u0645 \\u0627\\u0644\\u062e\\u0644\\u0641\", \"offsetgroup\": \"\\u0645\\u0639\\u0627\\u0630 \\u0639\\u0628\\u062f\\u0627\\u0644\\u0644\\u0647 \\u0628\\u0646 \\u0633\\u0627\\u0644\\u0645 \\u0627\\u0644\\u062e\\u0644\\u0641\", \"orientation\": \"v\", \"showlegend\": true, \"type\": \"histogram\", \"x\": [\"CSC 111\", \"CSC 541\"], \"xaxis\": \"x\", \"y\": [3.15015479876161, 3.0], \"yaxis\": \"y\"}, {\"alignmentgroup\": \"True\", \"bingroup\": \"x\", \"histfunc\": \"sum\", \"hovertemplate\": \"Instructor=\\u0645\\u0646\\u0635\\u0648\\u0631 \\u0639\\u0628\\u062f\\u0627\\u0644\\u0639\\u0632\\u064a\\u0632 \\u0639\\u0644\\u064a \\u0628\\u0646 \\u0632\\u0639\\u064a\\u0631<br>Course=%{x}<br>sum of Score=%{y}<extra></extra>\", \"legendgroup\": \"\\u0645\\u0646\\u0635\\u0648\\u0631 \\u0639\\u0628\\u062f\\u0627\\u0644\\u0639\\u0632\\u064a\\u0632 \\u0639\\u0644\\u064a \\u0628\\u0646 \\u0632\\u0639\\u064a\\u0631\", \"marker\": {\"color\": \"#FF97FF\"}, \"name\": \"\\u0645\\u0646\\u0635\\u0648\\u0631 \\u0639\\u0628\\u062f\\u0627\\u0644\\u0639\\u0632\\u064a\\u0632 \\u0639\\u0644\\u064a \\u0628\\u0646 \\u0632\\u0639\\u064a\\u0631\", \"offsetgroup\": \"\\u0645\\u0646\\u0635\\u0648\\u0631 \\u0639\\u0628\\u062f\\u0627\\u0644\\u0639\\u0632\\u064a\\u0632 \\u0639\\u0644\\u064a \\u0628\\u0646 \\u0632\\u0639\\u064a\\u0631\", \"orientation\": \"v\", \"showlegend\": true, \"type\": \"histogram\", \"x\": [\"CEN 316\", \"CEN 493\"], \"xaxis\": \"x\", \"y\": [0.8260869565217391, 8.0], \"yaxis\": \"y\"}, {\"alignmentgroup\": \"True\", \"bingroup\": \"x\", \"histfunc\": \"sum\", \"hovertemplate\": \"Instructor=\\u0645\\u0646\\u0635\\u0648\\u0631 \\u0645\\u062d\\u0645\\u062f \\u0639\\u0642\\u064a\\u0644 \\u0627\\u0644\\u0633\\u0644\\u064a\\u0645\\u0627\\u0646<br>Course=%{x}<br>sum of Score=%{y}<extra></extra>\", \"legendgroup\": \"\\u0645\\u0646\\u0635\\u0648\\u0631 \\u0645\\u062d\\u0645\\u062f \\u0639\\u0642\\u064a\\u0644 \\u0627\\u0644\\u0633\\u0644\\u064a\\u0645\\u0627\\u0646\", \"marker\": {\"color\": \"#FECB52\"}, \"name\": \"\\u0645\\u0646\\u0635\\u0648\\u0631 \\u0645\\u062d\\u0645\\u062f \\u0639\\u0642\\u064a\\u0644 \\u0627\\u0644\\u0633\\u0644\\u064a\\u0645\\u0627\\u0646\", \"offsetgroup\": \"\\u0645\\u0646\\u0635\\u0648\\u0631 \\u0645\\u062d\\u0645\\u062f \\u0639\\u0642\\u064a\\u0644 \\u0627\\u0644\\u0633\\u0644\\u064a\\u0645\\u0627\\u0646\", \"orientation\": \"v\", \"showlegend\": true, \"type\": \"histogram\", \"x\": [\"CEN 352\", \"CEN 492\", \"CEN 543\", \"CEN 600\", \"CEN 697\"], \"xaxis\": \"x\", \"y\": [4.181818181818182, 7.666666666666667, 3.5, 0.0, 8.0], \"yaxis\": \"y\"}, {\"alignmentgroup\": \"True\", \"bingroup\": \"x\", \"histfunc\": \"sum\", \"hovertemplate\": \"Instructor=\\u0645\\u0648\\u062f\\u0627\\u0633\\u0627\\u0631 \\u0627\\u064a\\u0648\\u0628 \\u0634\\u064a\\u062e \\u0645\\u062d\\u0645\\u062f<br>Course=%{x}<br>sum of Score=%{y}<extra></extra>\", \"legendgroup\": \"\\u0645\\u0648\\u062f\\u0627\\u0633\\u0627\\u0631 \\u0627\\u064a\\u0648\\u0628 \\u0634\\u064a\\u062e \\u0645\\u062d\\u0645\\u062f\", \"marker\": {\"color\": \"#636efa\"}, \"name\": \"\\u0645\\u0648\\u062f\\u0627\\u0633\\u0627\\u0631 \\u0627\\u064a\\u0648\\u0628 \\u0634\\u064a\\u062e \\u0645\\u062d\\u0645\\u062f\", \"offsetgroup\": \"\\u0645\\u0648\\u062f\\u0627\\u0633\\u0627\\u0631 \\u0627\\u064a\\u0648\\u0628 \\u0634\\u064a\\u062e \\u0645\\u062d\\u0645\\u062f\", \"orientation\": \"v\", \"showlegend\": true, \"type\": \"histogram\", \"x\": [\"CSC 113\", \"CSC 342\"], \"xaxis\": \"x\", \"y\": [3.0833333333333335, 3.0384615384615383], \"yaxis\": \"y\"}, {\"alignmentgroup\": \"True\", \"bingroup\": \"x\", \"histfunc\": \"sum\", \"hovertemplate\": \"Instructor=\\u0645\\u0648\\u0633\\u0649 \\u0639\\u0627\\u064a\\u0636 \\u0628\\u0627\\u062e\\u062a \\u0627\\u0644\\u0647\\u062c\\u0644\\u0647<br>Course=%{x}<br>sum of Score=%{y}<extra></extra>\", \"legendgroup\": \"\\u0645\\u0648\\u0633\\u0649 \\u0639\\u0627\\u064a\\u0636 \\u0628\\u0627\\u062e\\u062a \\u0627\\u0644\\u0647\\u062c\\u0644\\u0647\", \"marker\": {\"color\": \"#EF553B\"}, \"name\": \"\\u0645\\u0648\\u0633\\u0649 \\u0639\\u0627\\u064a\\u0636 \\u0628\\u0627\\u062e\\u062a \\u0627\\u0644\\u0647\\u062c\\u0644\\u0647\", \"offsetgroup\": \"\\u0645\\u0648\\u0633\\u0649 \\u0639\\u0627\\u064a\\u0636 \\u0628\\u0627\\u062e\\u062a \\u0627\\u0644\\u0647\\u062c\\u0644\\u0647\", \"orientation\": \"v\", \"showlegend\": true, \"type\": \"histogram\", \"x\": [\"SWE 314\"], \"xaxis\": \"x\", \"y\": [4.742857142857143], \"yaxis\": \"y\"}, {\"alignmentgroup\": \"True\", \"bingroup\": \"x\", \"histfunc\": \"sum\", \"hovertemplate\": \"Instructor=\\u0646\\u0627\\u0635\\u0631 \\u0639\\u0628\\u062f\\u0627\\u0644\\u0644\\u0647 \\u0635\\u0627\\u0644\\u062d \\u0627\\u0644\\u0633\\u062f\\u062d\\u0627\\u0646<br>Course=%{x}<br>sum of Score=%{y}<extra></extra>\", \"legendgroup\": \"\\u0646\\u0627\\u0635\\u0631 \\u0639\\u0628\\u062f\\u0627\\u0644\\u0644\\u0647 \\u0635\\u0627\\u0644\\u062d \\u0627\\u0644\\u0633\\u062f\\u062d\\u0627\\u0646\", \"marker\": {\"color\": \"#00cc96\"}, \"name\": \"\\u0646\\u0627\\u0635\\u0631 \\u0639\\u0628\\u062f\\u0627\\u0644\\u0644\\u0647 \\u0635\\u0627\\u0644\\u062d \\u0627\\u0644\\u0633\\u062f\\u062d\\u0627\\u0646\", \"offsetgroup\": \"\\u0646\\u0627\\u0635\\u0631 \\u0639\\u0628\\u062f\\u0627\\u0644\\u0644\\u0647 \\u0635\\u0627\\u0644\\u062d \\u0627\\u0644\\u0633\\u062f\\u062d\\u0627\\u0646\", \"orientation\": \"v\", \"showlegend\": true, \"type\": \"histogram\", \"x\": [\"CSC 111\", \"CSC 212\", \"CSC 497\"], \"xaxis\": \"x\", \"y\": [4.063756063756064, 3.8, 7.75], \"yaxis\": \"y\"}, {\"alignmentgroup\": \"True\", \"bingroup\": \"x\", \"histfunc\": \"sum\", \"hovertemplate\": \"Instructor=\\u0646\\u0627\\u0635\\u0631\\u0627\\u0644\\u062f\\u064a\\u0646 \\u0639\\u0628\\u062f\\u0627\\u0644\\u0644\\u0647 \\u0645\\u062d\\u0645\\u062f \\u0631\\u064a\\u0643\\u0644\\u0649<br>Course=%{x}<br>sum of Score=%{y}<extra></extra>\", \"legendgroup\": \"\\u0646\\u0627\\u0635\\u0631\\u0627\\u0644\\u062f\\u064a\\u0646 \\u0639\\u0628\\u062f\\u0627\\u0644\\u0644\\u0647 \\u0645\\u062d\\u0645\\u062f \\u0631\\u064a\\u0643\\u0644\\u0649\", \"marker\": {\"color\": \"#ab63fa\"}, \"name\": \"\\u0646\\u0627\\u0635\\u0631\\u0627\\u0644\\u062f\\u064a\\u0646 \\u0639\\u0628\\u062f\\u0627\\u0644\\u0644\\u0647 \\u0645\\u062d\\u0645\\u062f \\u0631\\u064a\\u0643\\u0644\\u0649\", \"offsetgroup\": \"\\u0646\\u0627\\u0635\\u0631\\u0627\\u0644\\u062f\\u064a\\u0646 \\u0639\\u0628\\u062f\\u0627\\u0644\\u0644\\u0647 \\u0645\\u062d\\u0645\\u062f \\u0631\\u064a\\u0643\\u0644\\u0649\", \"orientation\": \"v\", \"showlegend\": true, \"type\": \"histogram\", \"x\": [\"CEN 492\", \"CEN 700\"], \"xaxis\": \"x\", \"y\": [6.666666666666667, 0.0], \"yaxis\": \"y\"}, {\"alignmentgroup\": \"True\", \"bingroup\": \"x\", \"histfunc\": \"sum\", \"hovertemplate\": \"Instructor=\\u0646\\u0627\\u064a\\u0641 \\u0639\\u0628\\u062f\\u0627\\u0644\\u0631\\u062d\\u0645\\u0646 \\u0639\\u0628\\u062f\\u0627\\u0644\\u0644\\u0647 \\u0627\\u0644\\u0639\\u062c\\u0646<br>Course=%{x}<br>sum of Score=%{y}<extra></extra>\", \"legendgroup\": \"\\u0646\\u0627\\u064a\\u0641 \\u0639\\u0628\\u062f\\u0627\\u0644\\u0631\\u062d\\u0645\\u0646 \\u0639\\u0628\\u062f\\u0627\\u0644\\u0644\\u0647 \\u0627\\u0644\\u0639\\u062c\\u0646\", \"marker\": {\"color\": \"#FFA15A\"}, \"name\": \"\\u0646\\u0627\\u064a\\u0641 \\u0639\\u0628\\u062f\\u0627\\u0644\\u0631\\u062d\\u0645\\u0646 \\u0639\\u0628\\u062f\\u0627\\u0644\\u0644\\u0647 \\u0627\\u0644\\u0639\\u062c\\u0646\", \"offsetgroup\": \"\\u0646\\u0627\\u064a\\u0641 \\u0639\\u0628\\u062f\\u0627\\u0644\\u0631\\u062d\\u0645\\u0646 \\u0639\\u0628\\u062f\\u0627\\u0644\\u0644\\u0647 \\u0627\\u0644\\u0639\\u062c\\u0646\", \"orientation\": \"v\", \"showlegend\": true, \"type\": \"histogram\", \"x\": [\"CEN 647\"], \"xaxis\": \"x\", \"y\": [8.0], \"yaxis\": \"y\"}, {\"alignmentgroup\": \"True\", \"bingroup\": \"x\", \"histfunc\": \"sum\", \"hovertemplate\": \"Instructor=\\u0646\\u0633\\u064a\\u0645 \\u0641\\u0636\\u064a\\u0644 \\u0639\\u0645\\u0648\\u0631<br>Course=%{x}<br>sum of Score=%{y}<extra></extra>\", \"legendgroup\": \"\\u0646\\u0633\\u064a\\u0645 \\u0641\\u0636\\u064a\\u0644 \\u0639\\u0645\\u0648\\u0631\", \"marker\": {\"color\": \"#19d3f3\"}, \"name\": \"\\u0646\\u0633\\u064a\\u0645 \\u0641\\u0636\\u064a\\u0644 \\u0639\\u0645\\u0648\\u0631\", \"offsetgroup\": \"\\u0646\\u0633\\u064a\\u0645 \\u0641\\u0636\\u064a\\u0644 \\u0639\\u0645\\u0648\\u0631\", \"orientation\": \"v\", \"showlegend\": true, \"type\": \"histogram\", \"x\": [\"CEN 351\", \"CEN 453\", \"CEN 493\"], \"xaxis\": \"x\", \"y\": [2.3333333333333335, 4.4, 7.333333333333333], \"yaxis\": \"y\"}, {\"alignmentgroup\": \"True\", \"bingroup\": \"x\", \"histfunc\": \"sum\", \"hovertemplate\": \"Instructor=\\u0646\\u0648\\u0631 \\u0627\\u0644\\u062f\\u064a\\u0646 \\u0639\\u0628\\u0627\\u062f\\u064a\\u0646\\u064a<br>Course=%{x}<br>sum of Score=%{y}<extra></extra>\", \"legendgroup\": \"\\u0646\\u0648\\u0631 \\u0627\\u0644\\u062f\\u064a\\u0646 \\u0639\\u0628\\u0627\\u062f\\u064a\\u0646\\u064a\", \"marker\": {\"color\": \"#FF6692\"}, \"name\": \"\\u0646\\u0648\\u0631 \\u0627\\u0644\\u062f\\u064a\\u0646 \\u0639\\u0628\\u0627\\u062f\\u064a\\u0646\\u064a\", \"offsetgroup\": \"\\u0646\\u0648\\u0631 \\u0627\\u0644\\u062f\\u064a\\u0646 \\u0639\\u0628\\u0627\\u062f\\u064a\\u0646\\u064a\", \"orientation\": \"v\", \"showlegend\": true, \"type\": \"histogram\", \"x\": [\"SWE 497\", \"SWE 540\", \"SWE 594\", \"SWE 600\", \"SWE 601\"], \"xaxis\": \"x\", \"y\": [5.0, 5.4, 0.0, 0.0, 7.666666666666667], \"yaxis\": \"y\"}, {\"alignmentgroup\": \"True\", \"bingroup\": \"x\", \"histfunc\": \"sum\", \"hovertemplate\": \"Instructor=\\u0647\\u0634\\u0627\\u0645 \\u0627\\u062d\\u0645\\u062f \\u0637\\u0644\\u0628\\u0647 \\u0645\\u062d\\u0645\\u062f<br>Course=%{x}<br>sum of Score=%{y}<extra></extra>\", \"legendgroup\": \"\\u0647\\u0634\\u0627\\u0645 \\u0627\\u062d\\u0645\\u062f \\u0637\\u0644\\u0628\\u0647 \\u0645\\u062d\\u0645\\u062f\", \"marker\": {\"color\": \"#B6E880\"}, \"name\": \"\\u0647\\u0634\\u0627\\u0645 \\u0627\\u062d\\u0645\\u062f \\u0637\\u0644\\u0628\\u0647 \\u0645\\u062d\\u0645\\u062f\", \"offsetgroup\": \"\\u0647\\u0634\\u0627\\u0645 \\u0627\\u062d\\u0645\\u062f \\u0637\\u0644\\u0628\\u0647 \\u0645\\u062d\\u0645\\u062f\", \"orientation\": \"v\", \"showlegend\": true, \"type\": \"histogram\", \"x\": [\"CEN 456\"], \"xaxis\": \"x\", \"y\": [3.166666666666667], \"yaxis\": \"y\"}, {\"alignmentgroup\": \"True\", \"bingroup\": \"x\", \"histfunc\": \"sum\", \"hovertemplate\": \"Instructor=\\u0647\\u064a\\u0643\\u0644 \\u0647\\u064a\\u0634\\u0631\\u064a<br>Course=%{x}<br>sum of Score=%{y}<extra></extra>\", \"legendgroup\": \"\\u0647\\u064a\\u0643\\u0644 \\u0647\\u064a\\u0634\\u0631\\u064a\", \"marker\": {\"color\": \"#FF97FF\"}, \"name\": \"\\u0647\\u064a\\u0643\\u0644 \\u0647\\u064a\\u0634\\u0631\\u064a\", \"offsetgroup\": \"\\u0647\\u064a\\u0643\\u0644 \\u0647\\u064a\\u0634\\u0631\\u064a\", \"orientation\": \"v\", \"showlegend\": true, \"type\": \"histogram\", \"x\": [\"CEN 211\", \"CEN 492\", \"CEN 696\"], \"xaxis\": \"x\", \"y\": [3.6956521739130435, 7.666666666666667, 8.0], \"yaxis\": \"y\"}, {\"alignmentgroup\": \"True\", \"bingroup\": \"x\", \"histfunc\": \"sum\", \"hovertemplate\": \"Instructor=\\u0648\\u0633\\u0627\\u0645 \\u0639\\u0627\\u0637\\u0641 \\u062e\\u0627\\u0644\\u062f \\u062d\\u062a\\u0627\\u0645\\u0644\\u0647<br>Course=%{x}<br>sum of Score=%{y}<extra></extra>\", \"legendgroup\": \"\\u0648\\u0633\\u0627\\u0645 \\u0639\\u0627\\u0637\\u0641 \\u062e\\u0627\\u0644\\u062f \\u062d\\u062a\\u0627\\u0645\\u0644\\u0647\", \"marker\": {\"color\": \"#FECB52\"}, \"name\": \"\\u0648\\u0633\\u0627\\u0645 \\u0639\\u0627\\u0637\\u0641 \\u062e\\u0627\\u0644\\u062f \\u062d\\u062a\\u0627\\u0645\\u0644\\u0647\", \"offsetgroup\": \"\\u0648\\u0633\\u0627\\u0645 \\u0639\\u0627\\u0637\\u0641 \\u062e\\u0627\\u0644\\u062f \\u062d\\u062a\\u0627\\u0645\\u0644\\u0647\", \"orientation\": \"v\", \"showlegend\": true, \"type\": \"histogram\", \"x\": [\"CSC 111\"], \"xaxis\": \"x\", \"y\": [2.553361053361053], \"yaxis\": \"y\"}, {\"alignmentgroup\": \"True\", \"bingroup\": \"x\", \"histfunc\": \"sum\", \"hovertemplate\": \"Instructor=\\u0648\\u0644\\u064a\\u062f \\u062e\\u0627\\u0644\\u062f \\u0645\\u0642\\u0628\\u0644 \\u0627\\u0644\\u063a\\u0627\\u0646\\u0645<br>Course=%{x}<br>sum of Score=%{y}<extra></extra>\", \"legendgroup\": \"\\u0648\\u0644\\u064a\\u062f \\u062e\\u0627\\u0644\\u062f \\u0645\\u0642\\u0628\\u0644 \\u0627\\u0644\\u063a\\u0627\\u0646\\u0645\", \"marker\": {\"color\": \"#636efa\"}, \"name\": \"\\u0648\\u0644\\u064a\\u062f \\u062e\\u0627\\u0644\\u062f \\u0645\\u0642\\u0628\\u0644 \\u0627\\u0644\\u063a\\u0627\\u0646\\u0645\", \"offsetgroup\": \"\\u0648\\u0644\\u064a\\u062f \\u062e\\u0627\\u0644\\u062f \\u0645\\u0642\\u0628\\u0644 \\u0627\\u0644\\u063a\\u0627\\u0646\\u0645\", \"orientation\": \"v\", \"showlegend\": true, \"type\": \"histogram\", \"x\": [\"CEN 303\", \"CEN 492\"], \"xaxis\": \"x\", \"y\": [4.293181818181818, 8.0], \"yaxis\": \"y\"}, {\"alignmentgroup\": \"True\", \"bingroup\": \"x\", \"histfunc\": \"sum\", \"hovertemplate\": \"Instructor=\\u0648\\u0644\\u064a\\u062f \\u0645\\u062d\\u0645\\u062f \\u0635\\u0627\\u0644\\u062d \\u0627\\u0644\\u0635\\u0627\\u0644\\u062d<br>Course=%{x}<br>sum of Score=%{y}<extra></extra>\", \"legendgroup\": \"\\u0648\\u0644\\u064a\\u062f \\u0645\\u062d\\u0645\\u062f \\u0635\\u0627\\u0644\\u062d \\u0627\\u0644\\u0635\\u0627\\u0644\\u062d\", \"marker\": {\"color\": \"#EF553B\"}, \"name\": \"\\u0648\\u0644\\u064a\\u062f \\u0645\\u062d\\u0645\\u062f \\u0635\\u0627\\u0644\\u062d \\u0627\\u0644\\u0635\\u0627\\u0644\\u062d\", \"offsetgroup\": \"\\u0648\\u0644\\u064a\\u062f \\u0645\\u062d\\u0645\\u062f \\u0635\\u0627\\u0644\\u062d \\u0627\\u0644\\u0635\\u0627\\u0644\\u062d\", \"orientation\": \"v\", \"showlegend\": true, \"type\": \"histogram\", \"x\": [\"CSC 311\", \"CSC 496\"], \"xaxis\": \"x\", \"y\": [3.0, 8.0], \"yaxis\": \"y\"}, {\"alignmentgroup\": \"True\", \"bingroup\": \"x\", \"histfunc\": \"sum\", \"hovertemplate\": \"Instructor=\\u064a\\u0632\\u064a\\u062f \\u0627\\u0628\\u0631\\u0627\\u0647\\u064a\\u0645 \\u0639\\u0628\\u062f\\u0627\\u0644\\u0639\\u0632\\u064a\\u0632 \\u0627\\u0644\\u0639\\u0628\\u062f\\u0627\\u0644\\u0643\\u0631\\u064a\\u0645<br>Course=%{x}<br>sum of Score=%{y}<extra></extra>\", \"legendgroup\": \"\\u064a\\u0632\\u064a\\u062f \\u0627\\u0628\\u0631\\u0627\\u0647\\u064a\\u0645 \\u0639\\u0628\\u062f\\u0627\\u0644\\u0639\\u0632\\u064a\\u0632 \\u0627\\u0644\\u0639\\u0628\\u062f\\u0627\\u0644\\u0643\\u0631\\u064a\\u0645\", \"marker\": {\"color\": \"#00cc96\"}, \"name\": \"\\u064a\\u0632\\u064a\\u062f \\u0627\\u0628\\u0631\\u0627\\u0647\\u064a\\u0645 \\u0639\\u0628\\u062f\\u0627\\u0644\\u0639\\u0632\\u064a\\u0632 \\u0627\\u0644\\u0639\\u0628\\u062f\\u0627\\u0644\\u0643\\u0631\\u064a\\u0645\", \"offsetgroup\": \"\\u064a\\u0632\\u064a\\u062f \\u0627\\u0628\\u0631\\u0627\\u0647\\u064a\\u0645 \\u0639\\u0628\\u062f\\u0627\\u0644\\u0639\\u0632\\u064a\\u0632 \\u0627\\u0644\\u0639\\u0628\\u062f\\u0627\\u0644\\u0643\\u0631\\u064a\\u0645\", \"orientation\": \"v\", \"showlegend\": true, \"type\": \"histogram\", \"x\": [\"IS 335\", \"IS 499\", \"IS 597\"], \"xaxis\": \"x\", \"y\": [4.080141476880607, 8.0, 7.0], \"yaxis\": \"y\"}, {\"alignmentgroup\": \"True\", \"bingroup\": \"x\", \"histfunc\": \"sum\", \"hovertemplate\": \"Instructor=\\u064a\\u0639\\u0642\\u0648\\u0628 \\u0645\\u062d\\u0645\\u062f \\u0628\\u0639\\u0632\\u064a<br>Course=%{x}<br>sum of Score=%{y}<extra></extra>\", \"legendgroup\": \"\\u064a\\u0639\\u0642\\u0648\\u0628 \\u0645\\u062d\\u0645\\u062f \\u0628\\u0639\\u0632\\u064a\", \"marker\": {\"color\": \"#ab63fa\"}, \"name\": \"\\u064a\\u0639\\u0642\\u0648\\u0628 \\u0645\\u062d\\u0645\\u062f \\u0628\\u0639\\u0632\\u064a\", \"offsetgroup\": \"\\u064a\\u0639\\u0642\\u0648\\u0628 \\u0645\\u062d\\u0645\\u062f \\u0628\\u0639\\u0632\\u064a\", \"orientation\": \"v\", \"showlegend\": true, \"type\": \"histogram\", \"x\": [\"CEN 455\", \"CEN 458\"], \"xaxis\": \"x\", \"y\": [3.5714285714285716, 5.117647058823529], \"yaxis\": \"y\"}, {\"alignmentgroup\": \"True\", \"bingroup\": \"x\", \"histfunc\": \"sum\", \"hovertemplate\": \"Instructor=\\u064a\\u0648\\u0633\\u0641 \\u0627\\u062d\\u0645\\u062f \\u0645\\u062d\\u0645\\u062f \\u0627\\u0644\\u0639\\u0648\\u0647\\u0644\\u0649<br>Course=%{x}<br>sum of Score=%{y}<extra></extra>\", \"legendgroup\": \"\\u064a\\u0648\\u0633\\u0641 \\u0627\\u062d\\u0645\\u062f \\u0645\\u062d\\u0645\\u062f \\u0627\\u0644\\u0639\\u0648\\u0647\\u0644\\u0649\", \"marker\": {\"color\": \"#FFA15A\"}, \"name\": \"\\u064a\\u0648\\u0633\\u0641 \\u0627\\u062d\\u0645\\u062f \\u0645\\u062d\\u0645\\u062f \\u0627\\u0644\\u0639\\u0648\\u0647\\u0644\\u0649\", \"offsetgroup\": \"\\u064a\\u0648\\u0633\\u0641 \\u0627\\u062d\\u0645\\u062f \\u0645\\u062d\\u0645\\u062f \\u0627\\u0644\\u0639\\u0648\\u0647\\u0644\\u0649\", \"orientation\": \"v\", \"showlegend\": true, \"type\": \"histogram\", \"x\": [\"CSC 281\", \"CSC 361\"], \"xaxis\": \"x\", \"y\": [4.090909090909091, 1.5806451612903225], \"yaxis\": \"y\"}],                        {\"barmode\": \"relative\", \"legend\": {\"orientation\": \"h\", \"title\": {\"text\": \"Instructor\"}, \"tracegroupgap\": 0, \"x\": -0.01, \"y\": -0.2}, \"margin\": {\"t\": 60}, \"template\": {\"data\": {\"bar\": [{\"error_x\": {\"color\": \"#f2f5fa\"}, \"error_y\": {\"color\": \"#f2f5fa\"}, \"marker\": {\"line\": {\"color\": \"rgb(17,17,17)\", \"width\": 0.5}}, \"type\": \"bar\"}], \"barpolar\": [{\"marker\": {\"line\": {\"color\": \"rgb(17,17,17)\", \"width\": 0.5}}, \"type\": \"barpolar\"}], \"carpet\": [{\"aaxis\": {\"endlinecolor\": \"#A2B1C6\", \"gridcolor\": \"#506784\", \"linecolor\": \"#506784\", \"minorgridcolor\": \"#506784\", \"startlinecolor\": \"#A2B1C6\"}, \"baxis\": {\"endlinecolor\": \"#A2B1C6\", \"gridcolor\": \"#506784\", \"linecolor\": \"#506784\", \"minorgridcolor\": \"#506784\", \"startlinecolor\": \"#A2B1C6\"}, \"type\": \"carpet\"}], \"choropleth\": [{\"colorbar\": {\"outlinewidth\": 0, \"ticks\": \"\"}, \"type\": \"choropleth\"}], \"contour\": [{\"colorbar\": {\"outlinewidth\": 0, \"ticks\": \"\"}, \"colorscale\": [[0.0, \"#0d0887\"], [0.1111111111111111, \"#46039f\"], [0.2222222222222222, \"#7201a8\"], [0.3333333333333333, \"#9c179e\"], [0.4444444444444444, \"#bd3786\"], [0.5555555555555556, \"#d8576b\"], [0.6666666666666666, \"#ed7953\"], [0.7777777777777778, \"#fb9f3a\"], [0.8888888888888888, \"#fdca26\"], [1.0, \"#f0f921\"]], \"type\": \"contour\"}], \"contourcarpet\": [{\"colorbar\": {\"outlinewidth\": 0, \"ticks\": \"\"}, \"type\": \"contourcarpet\"}], \"heatmap\": [{\"colorbar\": {\"outlinewidth\": 0, \"ticks\": \"\"}, \"colorscale\": [[0.0, \"#0d0887\"], [0.1111111111111111, \"#46039f\"], [0.2222222222222222, \"#7201a8\"], [0.3333333333333333, \"#9c179e\"], [0.4444444444444444, \"#bd3786\"], [0.5555555555555556, \"#d8576b\"], [0.6666666666666666, \"#ed7953\"], [0.7777777777777778, \"#fb9f3a\"], [0.8888888888888888, \"#fdca26\"], [1.0, \"#f0f921\"]], \"type\": \"heatmap\"}], \"heatmapgl\": [{\"colorbar\": {\"outlinewidth\": 0, \"ticks\": \"\"}, \"colorscale\": [[0.0, \"#0d0887\"], [0.1111111111111111, \"#46039f\"], [0.2222222222222222, \"#7201a8\"], [0.3333333333333333, \"#9c179e\"], [0.4444444444444444, \"#bd3786\"], [0.5555555555555556, \"#d8576b\"], [0.6666666666666666, \"#ed7953\"], [0.7777777777777778, \"#fb9f3a\"], [0.8888888888888888, \"#fdca26\"], [1.0, \"#f0f921\"]], \"type\": \"heatmapgl\"}], \"histogram\": [{\"marker\": {\"colorbar\": {\"outlinewidth\": 0, \"ticks\": \"\"}}, \"type\": \"histogram\"}], \"histogram2d\": [{\"colorbar\": {\"outlinewidth\": 0, \"ticks\": \"\"}, \"colorscale\": [[0.0, \"#0d0887\"], [0.1111111111111111, \"#46039f\"], [0.2222222222222222, \"#7201a8\"], [0.3333333333333333, \"#9c179e\"], [0.4444444444444444, \"#bd3786\"], [0.5555555555555556, \"#d8576b\"], [0.6666666666666666, \"#ed7953\"], [0.7777777777777778, \"#fb9f3a\"], [0.8888888888888888, \"#fdca26\"], [1.0, \"#f0f921\"]], \"type\": \"histogram2d\"}], \"histogram2dcontour\": [{\"colorbar\": {\"outlinewidth\": 0, \"ticks\": \"\"}, \"colorscale\": [[0.0, \"#0d0887\"], [0.1111111111111111, \"#46039f\"], [0.2222222222222222, \"#7201a8\"], [0.3333333333333333, \"#9c179e\"], [0.4444444444444444, \"#bd3786\"], [0.5555555555555556, \"#d8576b\"], [0.6666666666666666, \"#ed7953\"], [0.7777777777777778, \"#fb9f3a\"], [0.8888888888888888, \"#fdca26\"], [1.0, \"#f0f921\"]], \"type\": \"histogram2dcontour\"}], \"mesh3d\": [{\"colorbar\": {\"outlinewidth\": 0, \"ticks\": \"\"}, \"type\": \"mesh3d\"}], \"parcoords\": [{\"line\": {\"colorbar\": {\"outlinewidth\": 0, \"ticks\": \"\"}}, \"type\": \"parcoords\"}], \"pie\": [{\"automargin\": true, \"type\": \"pie\"}], \"scatter\": [{\"marker\": {\"line\": {\"color\": \"#283442\"}}, \"type\": \"scatter\"}], \"scatter3d\": [{\"line\": {\"colorbar\": {\"outlinewidth\": 0, \"ticks\": \"\"}}, \"marker\": {\"colorbar\": {\"outlinewidth\": 0, \"ticks\": \"\"}}, \"type\": \"scatter3d\"}], \"scattercarpet\": [{\"marker\": {\"colorbar\": {\"outlinewidth\": 0, \"ticks\": \"\"}}, \"type\": \"scattercarpet\"}], \"scattergeo\": [{\"marker\": {\"colorbar\": {\"outlinewidth\": 0, \"ticks\": \"\"}}, \"type\": \"scattergeo\"}], \"scattergl\": [{\"marker\": {\"line\": {\"color\": \"#283442\"}}, \"type\": \"scattergl\"}], \"scattermapbox\": [{\"marker\": {\"colorbar\": {\"outlinewidth\": 0, \"ticks\": \"\"}}, \"type\": \"scattermapbox\"}], \"scatterpolar\": [{\"marker\": {\"colorbar\": {\"outlinewidth\": 0, \"ticks\": \"\"}}, \"type\": \"scatterpolar\"}], \"scatterpolargl\": [{\"marker\": {\"colorbar\": {\"outlinewidth\": 0, \"ticks\": \"\"}}, \"type\": \"scatterpolargl\"}], \"scatterternary\": [{\"marker\": {\"colorbar\": {\"outlinewidth\": 0, \"ticks\": \"\"}}, \"type\": \"scatterternary\"}], \"surface\": [{\"colorbar\": {\"outlinewidth\": 0, \"ticks\": \"\"}, \"colorscale\": [[0.0, \"#0d0887\"], [0.1111111111111111, \"#46039f\"], [0.2222222222222222, \"#7201a8\"], [0.3333333333333333, \"#9c179e\"], [0.4444444444444444, \"#bd3786\"], [0.5555555555555556, \"#d8576b\"], [0.6666666666666666, \"#ed7953\"], [0.7777777777777778, \"#fb9f3a\"], [0.8888888888888888, \"#fdca26\"], [1.0, \"#f0f921\"]], \"type\": \"surface\"}], \"table\": [{\"cells\": {\"fill\": {\"color\": \"#506784\"}, \"line\": {\"color\": \"rgb(17,17,17)\"}}, \"header\": {\"fill\": {\"color\": \"#2a3f5f\"}, \"line\": {\"color\": \"rgb(17,17,17)\"}}, \"type\": \"table\"}]}, \"layout\": {\"annotationdefaults\": {\"arrowcolor\": \"#f2f5fa\", \"arrowhead\": 0, \"arrowwidth\": 1}, \"autotypenumbers\": \"strict\", \"coloraxis\": {\"colorbar\": {\"outlinewidth\": 0, \"ticks\": \"\"}}, \"colorscale\": {\"diverging\": [[0, \"#8e0152\"], [0.1, \"#c51b7d\"], [0.2, \"#de77ae\"], [0.3, \"#f1b6da\"], [0.4, \"#fde0ef\"], [0.5, \"#f7f7f7\"], [0.6, \"#e6f5d0\"], [0.7, \"#b8e186\"], [0.8, \"#7fbc41\"], [0.9, \"#4d9221\"], [1, \"#276419\"]], \"sequential\": [[0.0, \"#0d0887\"], [0.1111111111111111, \"#46039f\"], [0.2222222222222222, \"#7201a8\"], [0.3333333333333333, \"#9c179e\"], [0.4444444444444444, \"#bd3786\"], [0.5555555555555556, \"#d8576b\"], [0.6666666666666666, \"#ed7953\"], [0.7777777777777778, \"#fb9f3a\"], [0.8888888888888888, \"#fdca26\"], [1.0, \"#f0f921\"]], \"sequentialminus\": [[0.0, \"#0d0887\"], [0.1111111111111111, \"#46039f\"], [0.2222222222222222, \"#7201a8\"], [0.3333333333333333, \"#9c179e\"], [0.4444444444444444, \"#bd3786\"], [0.5555555555555556, \"#d8576b\"], [0.6666666666666666, \"#ed7953\"], [0.7777777777777778, \"#fb9f3a\"], [0.8888888888888888, \"#fdca26\"], [1.0, \"#f0f921\"]]}, \"colorway\": [\"#636efa\", \"#EF553B\", \"#00cc96\", \"#ab63fa\", \"#FFA15A\", \"#19d3f3\", \"#FF6692\", \"#B6E880\", \"#FF97FF\", \"#FECB52\"], \"font\": {\"color\": \"#f2f5fa\"}, \"geo\": {\"bgcolor\": \"rgb(17,17,17)\", \"lakecolor\": \"rgb(17,17,17)\", \"landcolor\": \"rgb(17,17,17)\", \"showlakes\": true, \"showland\": true, \"subunitcolor\": \"#506784\"}, \"hoverlabel\": {\"align\": \"left\"}, \"hovermode\": \"closest\", \"mapbox\": {\"style\": \"dark\"}, \"paper_bgcolor\": \"rgb(17,17,17)\", \"plot_bgcolor\": \"rgb(17,17,17)\", \"polar\": {\"angularaxis\": {\"gridcolor\": \"#506784\", \"linecolor\": \"#506784\", \"ticks\": \"\"}, \"bgcolor\": \"rgb(17,17,17)\", \"radialaxis\": {\"gridcolor\": \"#506784\", \"linecolor\": \"#506784\", \"ticks\": \"\"}}, \"scene\": {\"xaxis\": {\"backgroundcolor\": \"rgb(17,17,17)\", \"gridcolor\": \"#506784\", \"gridwidth\": 2, \"linecolor\": \"#506784\", \"showbackground\": true, \"ticks\": \"\", \"zerolinecolor\": \"#C8D4E3\"}, \"yaxis\": {\"backgroundcolor\": \"rgb(17,17,17)\", \"gridcolor\": \"#506784\", \"gridwidth\": 2, \"linecolor\": \"#506784\", \"showbackground\": true, \"ticks\": \"\", \"zerolinecolor\": \"#C8D4E3\"}, \"zaxis\": {\"backgroundcolor\": \"rgb(17,17,17)\", \"gridcolor\": \"#506784\", \"gridwidth\": 2, \"linecolor\": \"#506784\", \"showbackground\": true, \"ticks\": \"\", \"zerolinecolor\": \"#C8D4E3\"}}, \"shapedefaults\": {\"line\": {\"color\": \"#f2f5fa\"}}, \"sliderdefaults\": {\"bgcolor\": \"#C8D4E3\", \"bordercolor\": \"rgb(17,17,17)\", \"borderwidth\": 1, \"tickwidth\": 0}, \"ternary\": {\"aaxis\": {\"gridcolor\": \"#506784\", \"linecolor\": \"#506784\", \"ticks\": \"\"}, \"baxis\": {\"gridcolor\": \"#506784\", \"linecolor\": \"#506784\", \"ticks\": \"\"}, \"bgcolor\": \"rgb(17,17,17)\", \"caxis\": {\"gridcolor\": \"#506784\", \"linecolor\": \"#506784\", \"ticks\": \"\"}}, \"title\": {\"x\": 0.05}, \"updatemenudefaults\": {\"bgcolor\": \"#506784\", \"borderwidth\": 0}, \"xaxis\": {\"automargin\": true, \"gridcolor\": \"#283442\", \"linecolor\": \"#506784\", \"ticks\": \"\", \"title\": {\"standoff\": 15}, \"zerolinecolor\": \"#283442\", \"zerolinewidth\": 2}, \"yaxis\": {\"automargin\": true, \"gridcolor\": \"#283442\", \"linecolor\": \"#506784\", \"ticks\": \"\", \"title\": {\"standoff\": 15}, \"zerolinecolor\": \"#283442\", \"zerolinewidth\": 2}}}, \"xaxis\": {\"anchor\": \"y\", \"domain\": [0.0, 1.0], \"title\": {\"text\": \"Course\"}}, \"yaxis\": {\"anchor\": \"x\", \"domain\": [0.0, 1.0], \"title\": {\"text\": \"Score\"}}},                        {\"responsive\": true}                    ).then(function(){\n",
       "                            \n",
       "var gd = document.getElementById('02fea74c-2419-40ff-93d3-bbf18be254cd');\n",
       "var x = new MutationObserver(function (mutations, observer) {{\n",
       "        var display = window.getComputedStyle(gd).display;\n",
       "        if (!display || display === 'none') {{\n",
       "            console.log([gd, 'removed!']);\n",
       "            Plotly.purge(gd);\n",
       "            observer.disconnect();\n",
       "        }}\n",
       "}});\n",
       "\n",
       "// Listen for the removal of the full notebook cells\n",
       "var notebookContainer = gd.closest('#notebook-container');\n",
       "if (notebookContainer) {{\n",
       "    x.observe(notebookContainer, {childList: true});\n",
       "}}\n",
       "\n",
       "// Listen for the clearing of the current output cell\n",
       "var outputEl = gd.closest('.output');\n",
       "if (outputEl) {{\n",
       "    x.observe(outputEl, {childList: true});\n",
       "}}\n",
       "\n",
       "                        })                };                });            </script>        </div>"
      ]
     },
     "metadata": {},
     "output_type": "display_data"
    }
   ],
   "source": [
    "fig = px.histogram(course_instructor_scores, x=\"Course\", y=\"Score\", color=\"Instructor\", hover_data=course_instructor_scores.columns)\n",
    "\n",
    "fig.update_layout(\n",
    "    legend=dict(x=-0.01, y=-0.2),\n",
    "    legend_orientation=\"h\"\n",
    ")\n",
    "fig.update_yaxes(title=\"Score\")\n",
    "fig.write_html(\"instructor_ranking.html\")\n",
    "fig.show()\n"
   ]
  },
  {
   "cell_type": "code",
   "execution_count": null,
   "metadata": {},
   "outputs": [],
   "source": []
  }
 ],
 "metadata": {
  "kernelspec": {
   "display_name": "Python 3",
   "language": "python",
   "name": "python3"
  },
  "language_info": {
   "codemirror_mode": {
    "name": "ipython",
    "version": 3
   },
   "file_extension": ".py",
   "mimetype": "text/x-python",
   "name": "python",
   "nbconvert_exporter": "python",
   "pygments_lexer": "ipython3",
   "version": "3.8.5"
  }
 },
 "nbformat": 4,
 "nbformat_minor": 4
}
