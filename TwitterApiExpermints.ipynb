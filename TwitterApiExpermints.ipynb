{
 "cells": [
  {
   "cell_type": "code",
   "execution_count": 205,
   "metadata": {},
   "outputs": [],
   "source": [
    "import tweepy\n",
    "import pandas\n",
    "import matplotlib.pyplot as plt\n",
    "\n",
    "with open('twitterKeys.txt', 'r') as file:\n",
    "    lines = file.read().split('\\n')\n",
    "apiKey = lines[0]\n",
    "apiSecretKey =  lines[1]\n",
    "accessToken = lines[2]\n",
    "accessTokenSecret =  lines[3]"
   ]
  },
  {
   "cell_type": "code",
   "execution_count": 206,
   "metadata": {},
   "outputs": [],
   "source": [
    "auth = tweepy.AppAuthHandler(apiKey, apiSecretKey)\n",
    "api = tweepy.API(auth)\n",
    "def checkRate(rate):\n",
    "    if rate() < 1 :\n",
    "        return False\n",
    "    return True\n",
    "\n",
    "def finished(num,  cursor=None, dictionary=None):\n",
    "    #When navigating all pages\n",
    "    if num == 0:\n",
    "        if cursor[1] == 0: #Reached last page\n",
    "            return True\n",
    "        return False\n",
    "    #When navigating for set number of elements (e.g. followers)\n",
    "    if(len(dictionary.keys() < num)):\n",
    "        return False\n",
    "    return True"
   ]
  },
  {
   "cell_type": "code",
   "execution_count": 207,
   "metadata": {},
   "outputs": [],
   "source": [
    "def getFriends(user, friendNum=0):\n",
    "    user = api.get_user(user)\n",
    "    cursor = (0, -1) #Tuple of previous page and next page cursors\n",
    "    \n",
    "    friendsDict = {} #A dict of IDs to USER object(s) related which stores friends of user\n",
    "    rateFriends = lambda : api.rate_limit_status(resources=\"friends\")[\"resources\"][\"friends\"]['/friends/list'][\"remaining\"] #Gets rate for friends/list\n",
    "    \n",
    "    while(checkRate(rateFriends)):\n",
    "        friends, cursor = user.friends(count=200, cursor=cursor[1])\n",
    "        friendsDict.update( { friend._json['id'] : friend for friend in friends } )\n",
    "        if finished(friendNum, cursor=cursor, dictionary=friendsDict):\n",
    "            return friendsDict, cursor\n",
    "    print(\"Limit Rate Reached.\")\n",
    "    return friendsDict, cursor"
   ]
  },
  {
   "cell_type": "code",
   "execution_count": 208,
   "metadata": {},
   "outputs": [],
   "source": [
    "friends = getFriends(\"Uchikoshi_Eng\")"
   ]
  },
  {
   "cell_type": "code",
   "execution_count": null,
   "metadata": {},
   "outputs": [],
   "source": []
  }
 ],
 "metadata": {
  "kernelspec": {
   "display_name": "Python 3",
   "language": "python",
   "name": "python3"
  },
  "language_info": {
   "codemirror_mode": {
    "name": "ipython",
    "version": 3
   },
   "file_extension": ".py",
   "mimetype": "text/x-python",
   "name": "python",
   "nbconvert_exporter": "python",
   "pygments_lexer": "ipython3",
   "version": "3.6.0"
  }
 },
 "nbformat": 4,
 "nbformat_minor": 4
}
