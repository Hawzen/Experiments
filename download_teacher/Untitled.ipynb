{
 "cells": [
  {
   "cell_type": "code",
   "execution_count": 92,
   "metadata": {},
   "outputs": [
    {
     "name": "stdout",
     "output_type": "stream",
     "text": [
      "Requirement already satisfied: PyPDF2 in c:\\softwarez\\anaconda\\lib\\site-packages (1.26.0)\n",
      "Note: you may need to restart the kernel to use updated packages.\n"
     ]
    }
   ],
   "source": [
    "%pip install PyPDF2 "
   ]
  },
  {
   "cell_type": "code",
   "execution_count": 95,
   "metadata": {},
   "outputs": [],
   "source": [
    "from functools import reduce\n",
    "import requests\n",
    "import io\n",
    "import os \n",
    "from time import sleep\n",
    "import random \n",
    "\n",
    "import pandas as pd\n",
    "from bs4 import BeautifulSoup\n",
    "from PyPDF2 import PdfFileReader"
   ]
  },
  {
   "cell_type": "code",
   "execution_count": 109,
   "metadata": {},
   "outputs": [],
   "source": [
    "courses = \"https://faculty.ksu.edu.sa/wesam/courses\"\n",
    "\n",
    "def get_all_hrefs_from_courses_page(url):\n",
    "    read = requests.get(url)\n",
    "    html_content = read.content\n",
    "    soup = BeautifulSoup (html_content,\"html.parser\")\n",
    "    return list(\"https://faculty.ksu.edu.sa\" + link.get(\"href\") for link in soup.find_all(\"a\", href=True) if \"course\" in link.get(\"href\") or \"page\" in link.get(\"href\"))\n",
    "\n",
    "\n",
    "def find_table_hyperlinks(url):\n",
    "#     url = \"https://faculty.ksu.edu.sa/wesam/course/198603\"\n",
    "    try:\n",
    "        read = requests.get(url)\n",
    "        html_content = read.content\n",
    "        soup = BeautifulSoup (html_content,\"html.parser\")\n",
    "        table = soup.find('table')\n",
    "    except:\n",
    "        sleep(random.random() * 4)\n",
    "        return find_table_hyperlinks(url)\n",
    "    \n",
    "    links = []\n",
    "    if table is None:\n",
    "        return []\n",
    "    for tr in table.findAll(\"tr\"):\n",
    "        trs = tr.findAll(\"td\")\n",
    "        for each in trs:\n",
    "            try:\n",
    "                link = each.find('a')['href']\n",
    "                links.append(link)\n",
    "            except:\n",
    "                pass\n",
    "    return (soup.find(attrs={\"class\": \"node-title\"}).text, links)\n",
    "\n",
    "\n",
    "def download_file(url, local_prefex=\"\"):\n",
    "    try:\n",
    "        sleep(random.random() * random.random() * random.random() * 7)\n",
    "        local_filename = local_prefex + url.split('/')[-1]\n",
    "        with requests.get(url, stream=True) as r:\n",
    "            r.raise_for_status()\n",
    "            with open(local_filename, 'wb') as f:\n",
    "                for chunk in r.iter_content(chunk_size=8192): \n",
    "                    f.write(chunk)\n",
    "    except:\n",
    "        download_file(url, local_prefex)"
   ]
  },
  {
   "cell_type": "code",
   "execution_count": 110,
   "metadata": {},
   "outputs": [],
   "source": [
    "files = []\n",
    "for hyperlink in hyperlinks:    \n",
    "    files.append(find_table_hyperlinks(hyperlink))"
   ]
  },
  {
   "cell_type": "code",
   "execution_count": null,
   "metadata": {},
   "outputs": [],
   "source": [
    "try:\n",
    "        os.mkdir(\"data\")\n",
    "except:\n",
    "        pass\n",
    "for file_list in reversed(files):\n",
    "    if not file_list:\n",
    "        continue\n",
    "    name, urls = file_list\n",
    "    try:\n",
    "        os.mkdir(f\"data/{name}\")\n",
    "    except:\n",
    "        pass\n",
    "    for url in urls:\n",
    "        download_file(url, f\"data/{name}/\")"
   ]
  },
  {
   "cell_type": "code",
   "execution_count": null,
   "metadata": {},
   "outputs": [],
   "source": []
  }
 ],
 "metadata": {
  "kernelspec": {
   "display_name": "Python 3",
   "language": "python",
   "name": "python3"
  },
  "language_info": {
   "codemirror_mode": {
    "name": "ipython",
    "version": 3
   },
   "file_extension": ".py",
   "mimetype": "text/x-python",
   "name": "python",
   "nbconvert_exporter": "python",
   "pygments_lexer": "ipython3",
   "version": "3.8.5"
  }
 },
 "nbformat": 4,
 "nbformat_minor": 4
}
