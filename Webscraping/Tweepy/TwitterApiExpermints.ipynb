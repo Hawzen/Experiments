{
 "cells": [
  {
   "cell_type": "code",
   "execution_count": 1,
   "metadata": {},
   "outputs": [],
   "source": [
    "import tweepy\n",
    "import pandas\n",
    "import matplotlib.pyplot as plt\n",
    "\n",
    "with open('twitterKeys.txt', 'r') as file:\n",
    "    lines = file.read().split('\\n')\n",
    "apiKey = lines[0]\n",
    "apiSecretKey =  lines[1]\n",
    "accessToken = lines[2]\n",
    "accessTokenSecret =  lines[3]"
   ]
  },
  {
   "cell_type": "code",
   "execution_count": 2,
   "metadata": {},
   "outputs": [],
   "source": [
    "auth = tweepy.OAuthHandler(apiKey, apiSecretKey)\n",
    "auth.set_access_token(accessToken, accessTokenSecret)\n",
    "api = tweepy.API(auth)"
   ]
  },
  {
   "cell_type": "code",
   "execution_count": 3,
   "metadata": {},
   "outputs": [],
   "source": [
    "class TwitterApiMethods():\n",
    "    \n",
    "    def checkRate(rate):\n",
    "        if rate() < 1 :\n",
    "            return False\n",
    "        return True\n",
    "\n",
    "    def finished(this, num,  cursor, dictionary):\n",
    "        \"\"\"Returns a boolean that signfies weather we reached that element we want or not\n",
    "        num represents the number of elements we want to cover (0 means all)\"\"\"\n",
    "        #When navigating all pages\n",
    "        if num == 0:\n",
    "            if cursor[1] == 0: #Reached last page\n",
    "                return True\n",
    "            return False\n",
    "        #When navigating for set number of elements (e.g. followers)\n",
    "        if(len(dictionary.keys()) < num):\n",
    "            return False\n",
    "        return True"
   ]
  },
  {
   "cell_type": "code",
   "execution_count": 4,
   "metadata": {},
   "outputs": [],
   "source": [
    "class Getter(TwitterApiMethods):\n",
    "\n",
    "    def __init__(self, api):\n",
    "        self.api = api\n",
    "    \n",
    "    def getFriends(self, userName, friendNum=0, cursor=(0, -1)):\n",
    "        #Returns a dict with key IDs to USER objects which store the input users' friends,\n",
    "        #In case it stopped due to limit rate it'll also return the dictionary and a curosr \n",
    "        \n",
    "        #user = self.api.get_user(user) ?? what does this do\n",
    "\n",
    "        friendsDict = {} #A dict of IDs to USER objects related which stores friends of user\n",
    "        rateLimit = self.api.rate_limit_status(resources=\"friends\")[\"resources\"][\"friends\"]['/friends/list'][\"remaining\"] #Gets rate for friends/list\n",
    "        \n",
    "        for _ in range(rateLimit):\n",
    "            friends, cursor = api.friends(screen_name= userName, count=200, cursor=cursor[1])\n",
    "            friendsDict.update( { friend._json['id'] : User(friend) for friend in friends } ) \n",
    "            if self.finished( num=friendNum, cursor=cursor, dictionary=friendsDict):\n",
    "                return friendsDict\n",
    "        print(\"Limit Rate Reached.\")\n",
    "        return friendsDict, cursor\n",
    "    \n",
    "    \n",
    "    def getFOFIds(self, user):\n",
    "        \"\"\"\n",
    "        Input:\n",
    "            User: a USER object that we want to find whoose friends are\n",
    "            IdsScreenNames : a tuple of Ids and screen names that we want to test its relationship to base USER\n",
    "            \n",
    "        Output:\n",
    "            Returns a tuple of known ids\n",
    "        \"\"\"\n",
    "        self.api.friends_ids(user.json['id'], user.json['screen_name'])\n",
    "       "
   ]
  },
  {
   "cell_type": "code",
   "execution_count": 5,
   "metadata": {},
   "outputs": [],
   "source": [
    "class Target():\n",
    "    \n",
    "    def __init__(self, userName, api):\n",
    "        self.userName = userName\n",
    "        self.dictionary = {} # dictionary with IDs represnting keys and USER objects represnting values\n",
    "        self.FOFlistIds = self.dictionary.keys() #Friends of friends list of ids\n",
    "        self.getter = Getter(api)\n",
    "        self.cursor = (0, -1)\n",
    "        \n",
    "        \n",
    "    def searchFriends(self, depth=5000):\n",
    "        \"\"\"Gets friends of target and stores them in dictionary with IDs represnvcting keys and USER objects represnting values\n",
    "        If limit rate error then store what was gotten of of dict into self dictionary and store the curosr for future\"\"\"\n",
    "        output = self.getter.getFriends(userName=self.userName, friendNum=depth, cursor=self.cursor)\n",
    "        if(len(output) == 2):\n",
    "            self.dictionary.update(output[0])\n",
    "            self.FOFlistIds = list(self.dictionary.keys())\n",
    "            self.cursor = output[1]\n",
    "            return\n",
    "        self.dictionary.update(output)\n",
    "        self.FOFlistIds = self.dictionary.keys()\n",
    "    \n",
    "    def FOFAdder(self):\n",
    "        \"\"\"Goes through the dictionary of IDs : USERs and adds each USER's friends to their friendsIds list, this is useful\n",
    "        when used later to determine the intersections between friends of target and friends of friends of target\n",
    "        e.g.: target follows A and B, A follows B -> the intersection between friends of target and friends of A is B. \n",
    "        this is to be used in visualizing a map\"\"\"\n",
    "        rateLimit = api.rate_limit_status(resources=\"friends\")[\"resources\"][\"friends\"]['/friends/ids'][\"remaining\"]\n",
    "        temp = rateLimit - len(self.FOFlistIds) \n",
    "        if temp < 0:\n",
    "            self.FOFcursor = temp\n",
    "        for friendNum in range(temp):\n",
    "            user = self.dictionary[self.FOFlistIds[friendNum]]\n",
    "            user.addFriend(self.getter.getFOFIds( user )) # Warning : Max of 5000 friends\n",
    "            \n",
    "        \n",
    "class User():\n",
    "    \n",
    "    def __init__(self, user):\n",
    "        self.json = user._json\n",
    "        self.user = user\n",
    "        self.friendsIds = []\n",
    "    \n",
    "    def addFriend(self, friends):\n",
    "        map(self.friendsIds.append, friends)"
   ]
  },
  {
   "cell_type": "code",
   "execution_count": 6,
   "metadata": {},
   "outputs": [],
   "source": [
    "target = Target(\"Twitter\", api)"
   ]
  },
  {
   "cell_type": "code",
   "execution_count": 7,
   "metadata": {},
   "outputs": [
    {
     "name": "stdout",
     "output_type": "stream",
     "text": [
      "Limit Rate Reached.\n"
     ]
    }
   ],
   "source": [
    "target.searchFriends()"
   ]
  },
  {
   "cell_type": "code",
   "execution_count": 39,
   "metadata": {},
   "outputs": [],
   "source": [
    "res = api.rate_limit_status(resources=\"friends\")"
   ]
  },
  {
   "cell_type": "code",
   "execution_count": 43,
   "metadata": {},
   "outputs": [
    {
     "data": {
      "text/plain": [
       "15"
      ]
     },
     "execution_count": 43,
     "metadata": {},
     "output_type": "execute_result"
    }
   ],
   "source": [
    "res[\"resources\"][\"friends\"]['/friends/ids'][\"remaining\"]"
   ]
  }
 ],
 "metadata": {
  "kernelspec": {
   "display_name": "Python 3",
   "language": "python",
   "name": "python3"
  },
  "language_info": {
   "codemirror_mode": {
    "name": "ipython",
    "version": 3
   },
   "file_extension": ".py",
   "mimetype": "text/x-python",
   "name": "python",
   "nbconvert_exporter": "python",
   "pygments_lexer": "ipython3",
   "version": "3.6.0"
  },
  "pycharm": {
   "stem_cell": {
    "cell_type": "raw",
    "source": [],
    "metadata": {
     "collapsed": false
    }
   }
  }
 },
 "nbformat": 4,
 "nbformat_minor": 4
}