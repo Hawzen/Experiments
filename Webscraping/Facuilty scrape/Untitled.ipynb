{
 "cells": [
  {
   "cell_type": "code",
   "execution_count": 1,
   "metadata": {},
   "outputs": [],
   "source": [
    "import pandas as pd\n",
    "df = pd.read_html(\"https://ccis.ksu.edu.sa/ar/se/se-faculty-and-staff\")[0]"
   ]
  },
  {
   "cell_type": "code",
   "execution_count": 5,
   "metadata": {},
   "outputs": [],
   "source": [
    "df[\"العنوان\"] = df[\"العنوان\"].astype(str)"
   ]
  },
  {
   "cell_type": "code",
   "execution_count": 11,
   "metadata": {},
   "outputs": [
    {
     "name": "stdout",
     "output_type": "stream",
     "text": [
      "أ.د. محمد شميم حسين mshossain@KSU.EDU\n",
      "د. عاطف بن محمد العمري atif@KSU.EDU\n",
      "د. خالد بن عبد العزيز النفجان kalnafjan@KSU.EDU\n",
      "د. خالد بن ناصر المتعب muteb@KSU.EDU\n",
      "د. زكريا بن عبد الله الزأمل Zakarya@KSU.EDU\n",
      "د. زهير عيد الله شنتوف zchentouf@KSU.EDU\n",
      "د. محمد أنور حسين mahossain@KSU.EDU\n",
      "د. محمد عبد الودود mwadud@KSU.EDU\n",
      "د. نور الدين عبادني nabbadeni@KSU.EDU\n",
      "د. عبد الحميد بن عبد الله العليوي aalelaiwi@KSU.EDU\n",
      "د. محمد بن فهد الحامد mohalhamid@KSU.EDU\n",
      "د. أحمد غنيم ghoneim@KSU.EDU\n",
      "د. مبارك بن راشد آل رشود malrashoud@KSU.EDU\n",
      "د. أشرف الطيب القزدار agazdar@KSU.EDU\n",
      "د. سارة بنت سلمان المعيقل salmoaiqel@KSU.EDU\n",
      "د. عبد العزيز بن عمر السدحان alsadhan@KSU.EDU\n",
      "د. عبير هادي بن عبيد abbenabid@KSU.EDU\n",
      "د. فضل أمين حميد أمين صوفي famin@KSU.EDU\n",
      "د. محسن حمادي دنقير donguir@KSU.EDU\n",
      "د. الجوهرة بنت عبد الله القويز aalgwaiz@KSU.EDU\n",
      "د. مشاعل بنت سليمان معشي mmaashi@KSU.EDU\n",
      "د. عبير بنت سليمان الحميميدي abeer@KSU.EDU\n",
      "د. سدين بنت سليمان الحربي sadalharbi@KSU.EDU\n",
      "أ. تذر حسين أكبر خان tazhussain@KSU.EDU\n",
      "أ. سيد شاه أمان الله قوادري aquadri@KSU.EDU\n",
      "أ. محمد ناصر محمد سرور mnasir@KSU.EDU\n",
      "أ. أروى بنت محمد العامودي aalamoudi@KSU.EDU\n",
      "أ. أسماء بنت عبدالرحمن الحصين aalhussayen@KSU.EDU\n",
      "أ. بدر بن خالد الشميمري balshemaimri@KSU.EDU\n",
      "أ. بشرى بن محمد القاضي balkadhi@KSU.EDU\n",
      "أ. بيان بنت إبراهيم العريفي bialarifi@KSU.EDU\n",
      "أ. حسين بن علي الهاشمي halhashimi@KSU.EDU\n",
      "أ. روان بنت فهد العبد الرحمن ralabdulrahman@KSU.EDU\n",
      "أ. ريم بنت عبد العزيز الفايز reealfayez@KSU.EDU\n",
      "أ. سارة بنت إبراهيم القبلان salkoblan@KSU.EDU\n",
      "أ.ساره بنت عبدالرحمن الحزيمي salhozaimy@KSU.EDU\n",
      "أ. سديم بنت صالح السديس salsudais@KSU.EDU\n",
      "أ. سلطان بن محمد السراء salsarra@KSU.EDU\n",
      "أ. صبا بنت عبدالعزيز أبوعباة sabuabat@KSU.EDU\n",
      "أ. عبد العزيز بن مساعد الرشيدي aalrashidi@KSU.EDU\n",
      "أ. عبدالعزيز بن ناصر الشيبان aalshayban@KSU.EDU\n",
      "أ. عبد العزيز بن سعد العبودي aalabodi@KSU.EDU\n",
      "أ. علي بن صالح العتيبي alialotaibi@KSU.EDU\n",
      "أ. عهود بنت موسى الحربي omalharbi@KSU.EDU\n",
      "أ. فهد بن أحمد الدبيان faldebeyan@KSU.EDU\n",
      "أ. منال بنت مبارك الحماد manalhammad@KSU.EDU\n",
      "أ. منال بنت عبدالله العنيزان manalonaizan@KSU.EDU\n",
      "أ. منال بنت خالد الخنين mbinkhonain@KSU.EDU\n",
      "أ. منى بنت علي الحكمي mohakami@KSU.EDU\n",
      "أ. منيرة بنت ناصر الدليمي maldelaimi@KSU.EDU\n",
      "أ. نورة بنت أحمد الدهش naldahash@KSU.EDU\n",
      "أ. نورة بنت يوسف الزامل nyalzamel@KSU.EDU\n",
      "أ. نوره بنت ناصر العمر nnalomar@KSU.EDU\n",
      "أ. نوره بنت عبدالعزيز بن عرفج naalarfaj@KSU.EDU\n",
      "أ. نوف بنت مبارك المبارك nmalmobarak@KSU.EDU\n",
      "أ. هيلة بنت عبد العزيز المزروع halmazrou@KSU.EDU\n",
      "أ. وئام بنت عبدالمحسن الراشد wealrashed@KSU.EDU\n"
     ]
    }
   ],
   "source": [
    "for index, row in df.iterrows():\n",
    "    s = row[\"العنوان\"]\n",
    "    query = s.find(\"SA\")\n",
    "    if query != -1:\n",
    "        print(row[\"الاسم\"], s[:query-1])"
   ]
  }
 ],
 "metadata": {
  "kernelspec": {
   "display_name": "Python 3",
   "language": "python",
   "name": "python3"
  },
  "language_info": {
   "codemirror_mode": {
    "name": "ipython",
    "version": 3
   },
   "file_extension": ".py",
   "mimetype": "text/x-python",
   "name": "python",
   "nbconvert_exporter": "python",
   "pygments_lexer": "ipython3",
   "version": "3.6.0"
  }
 },
 "nbformat": 4,
 "nbformat_minor": 4
}
