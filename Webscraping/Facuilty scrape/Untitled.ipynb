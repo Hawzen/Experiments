{
 "cells": [
  {
   "cell_type": "code",
   "execution_count": 36,
   "metadata": {},
   "outputs": [],
   "source": [
    "import pandas as pd\n",
    "df = pd.read_html(\"https://ccis.ksu.edu.sa/ar/se/se-faculty-and-staff\")[0]"
   ]
  },
  {
   "cell_type": "code",
   "execution_count": 37,
   "metadata": {},
   "outputs": [],
   "source": [
    "df[\"العنوان\"] = df[\"العنوان\"].astype(str)\n",
    "df = df[df[\"العنوان\"].str.contains(\"SA\")]\n",
    "df[\"العنوان\"] = df[\"العنوان\"].str.split(' ').str[0]"
   ]
  },
  {
   "cell_type": "code",
   "execution_count": 64,
   "metadata": {},
   "outputs": [
    {
     "name": "stdout",
     "output_type": "stream",
     "text": [
      "               أ.د. محمد شميم حسين\n",
      "            د. عاطف بن محمد العمري\n",
      "     د. خالد بن عبد العزيز النفجان\n",
      "            د. خالد بن ناصر المتعب\n",
      "       د. زكريا بن عبد الله الزأمل\n",
      "            د. زهير عيد الله شنتوف\n",
      "                 د. محمد أنور حسين\n",
      "                د. محمد عبد الودود\n",
      "               د. نور الدين عبادني\n",
      " د. عبد الحميد بن عبد الله العليوي\n",
      "             د. محمد بن فهد الحامد\n",
      "                      د. أحمد غنيم\n",
      "          د. مبارك بن راشد آل رشود\n",
      "             د. أشرف الطيب القزدار\n",
      "         د. سارة بنت سلمان المعيقل\n",
      "      د. عبد العزيز بن عمر السدحان\n",
      "              د. عبير هادي بن عبيد\n",
      "        د. فضل أمين حميد أمين صوفي\n",
      "               د. محسن حمادي دنقير\n",
      "    د. الجوهرة بنت عبد الله القويز\n",
      "          د. مشاعل بنت سليمان معشي\n",
      "      د. عبير بنت سليمان الحميميدي\n",
      "         د. سدين بنت سليمان الحربي\n",
      "              أ. تذر حسين أكبر خان\n",
      "       أ. سيد شاه أمان الله قوادري\n",
      "            أ. محمد ناصر محمد سرور\n",
      "         أ. أروى بنت محمد العامودي\n",
      "     أ. أسماء بنت عبدالرحمن الحصين\n",
      "           أ. بدر بن خالد الشميمري\n",
      "            أ. بشرى بن محمد القاضي\n",
      "       أ. بيان بنت إبراهيم العريفي\n",
      "            أ. حسين بن علي الهاشمي\n",
      "      أ. روان بنت فهد العبد الرحمن\n",
      "      أ. ريم بنت عبد العزيز الفايز\n",
      "       أ. سارة بنت إبراهيم القبلان\n",
      "      أ.ساره بنت عبدالرحمن الحزيمي\n",
      "           أ. سديم بنت صالح السديس\n",
      "           أ. سلطان بن محمد السراء\n",
      "      أ. صبا بنت عبدالعزيز أبوعباة\n",
      "    أ. عبد العزيز بن مساعد الرشيدي\n",
      "      أ. عبدالعزيز بن ناصر الشيبان\n",
      "      أ. عبد العزيز بن سعد العبودي\n",
      "            أ. علي بن صالح العتيبي\n",
      "           أ. عهود بنت موسى الحربي\n",
      "            أ. فهد بن أحمد الدبيان\n",
      "          أ. منال بنت مبارك الحماد\n",
      "      أ. منال بنت عبدالله العنيزان\n",
      "           أ. منال بنت خالد الخنين\n",
      "             أ. منى بنت علي الحكمي\n",
      "         أ. منيرة بنت ناصر الدليمي\n",
      "            أ. نورة بنت أحمد الدهش\n",
      "           أ. نورة بنت يوسف الزامل\n",
      "            أ. نوره بنت ناصر العمر\n",
      "     أ. نوره بنت عبدالعزيز بن عرفج\n",
      "          أ. نوف بنت مبارك المبارك\n",
      "    أ. هيلة بنت عبد العزيز المزروع\n",
      "      أ. وئام بنت عبدالمحسن الراشد\n"
     ]
    }
   ],
   "source": [
    "print(df[\"الاسم\"].to_string(index=False))"
   ]
  },
  {
   "cell_type": "code",
   "execution_count": 63,
   "metadata": {},
   "outputs": [
    {
     "name": "stdout",
     "output_type": "stream",
     "text": [
      "      mshossain@KSU.EDU.SA\n",
      "           atif@KSU.EDU.SA\n",
      "      kalnafjan@KSU.EDU.SA\n",
      "          muteb@KSU.EDU.SA\n",
      "        Zakarya@KSU.EDU.SA\n",
      "      zchentouf@KSU.EDU.SA\n",
      "      mahossain@KSU.EDU.SA\n",
      "         mwadud@KSU.EDU.SA\n",
      "      nabbadeni@KSU.EDU.SA\n",
      "      aalelaiwi@KSU.EDU.SA\n",
      "     mohalhamid@KSU.EDU.SA\n",
      "        ghoneim@KSU.EDU.SA\n",
      "     malrashoud@KSU.EDU.SA\n",
      "        agazdar@KSU.EDU.SA\n",
      "     salmoaiqel@KSU.EDU.SA\n",
      "       alsadhan@KSU.EDU.SA\n",
      "      abbenabid@KSU.EDU.SA\n",
      "          famin@KSU.EDU.SA\n",
      "        donguir@KSU.EDU.SA\n",
      "       aalgwaiz@KSU.EDU.SA\n",
      "        mmaashi@KSU.EDU.SA\n",
      "          abeer@KSU.EDU.SA\n",
      "     sadalharbi@KSU.EDU.SA\n",
      "     tazhussain@KSU.EDU.SA\n",
      "        aquadri@KSU.EDU.SA\n",
      "         mnasir@KSU.EDU.SA\n",
      "      aalamoudi@KSU.EDU.SA\n",
      "    aalhussayen@KSU.EDU.SA\n",
      "  balshemaimri@KSU.EDU.SA​\n",
      "       balkadhi@KSU.EDU.SA\n",
      "      bialarifi@KSU.EDU.SA\n",
      "     halhashimi@KSU.EDU.SA\n",
      " ralabdulrahman@KSU.EDU.SA\n",
      "     reealfayez@KSU.EDU.SA\n",
      "      salkoblan@KSU.EDU.SA\n",
      "     salhozaimy@KSU.EDU.SA\n",
      "      salsudais@KSU.EDU.SA\n",
      "      salsarra@KSU.EDU.SA​\n",
      "       sabuabat@KSU.EDU.SA\n",
      "     aalrashidi@KSU.EDU.SA\n",
      "     aalshayban@KSU.EDU.SA\n",
      "       aalabodi@KSU.EDU.SA\n",
      "    alialotaibi@KSU.EDU.SA\n",
      "      omalharbi@KSU.EDU.SA\n",
      "     faldebeyan@KSU.EDU.SA\n",
      "    manalhammad@KSU.EDU.SA\n",
      "   manalonaizan@KSU.EDU.SA\n",
      "    mbinkhonain@KSU.EDU.SA\n",
      "       mohakami@KSU.EDU.SA\n",
      "     maldelaimi@KSU.EDU.SA\n",
      "      naldahash@KSU.EDU.SA\n",
      "      nyalzamel@KSU.EDU.SA\n",
      "       nnalomar@KSU.EDU.SA\n",
      "      naalarfaj@KSU.EDU.SA\n",
      "    nmalmobarak@KSU.EDU.SA\n",
      "      halmazrou@KSU.EDU.SA\n",
      "     wealrashed@KSU.EDU.SA\n"
     ]
    }
   ],
   "source": [
    "print(df[\"العنوان\"].to_string(index=False))"
   ]
  },
  {
   "cell_type": "code",
   "execution_count": null,
   "metadata": {},
   "outputs": [],
   "source": []
  }
 ],
 "metadata": {
  "kernelspec": {
   "display_name": "Python 3",
   "language": "python",
   "name": "python3"
  },
  "language_info": {
   "codemirror_mode": {
    "name": "ipython",
    "version": 3
   },
   "file_extension": ".py",
   "mimetype": "text/x-python",
   "name": "python",
   "nbconvert_exporter": "python",
   "pygments_lexer": "ipython3",
   "version": "3.6.0"
  }
 },
 "nbformat": 4,
 "nbformat_minor": 4
}
